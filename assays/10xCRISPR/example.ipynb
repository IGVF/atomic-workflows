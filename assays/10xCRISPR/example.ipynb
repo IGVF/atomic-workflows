{
  "cells": [
    {
      "cell_type": "markdown",
      "metadata": {
        "id": "view-in-github",
        "colab_type": "text"
      },
      "source": [
        "<a href=\"https://colab.research.google.com/github/IGVF/atomic-workflows/blob/main/assays/10xCRISPR/example.ipynb\" target=\"_parent\"><img src=\"https://colab.research.google.com/assets/colab-badge.svg\" alt=\"Open In Colab\"/></a>"
      ]
    },
    {
      "cell_type": "code",
      "execution_count": 1,
      "metadata": {
        "colab": {
          "base_uri": "https://localhost:8080/"
        },
        "id": "ERDn5QDkVicV",
        "outputId": "75878ad8-93a6-44eb-aa4f-c4c3417339a1"
      },
      "outputs": [
        {
          "output_type": "stream",
          "name": "stdout",
          "text": [
            "\u001b[K     |████████████████████████████████| 2.2 MB 7.5 MB/s \n",
            "\u001b[K     |████████████████████████████████| 25.2 MB 1.3 MB/s \n",
            "\u001b[33mWARNING: Retrying (Retry(total=4, connect=None, read=None, redirect=None, status=None)) after connection broken by 'ProtocolError('Connection aborted.', ConnectionResetError(104, 'Connection reset by peer'))': /simple/beautifulsoup4/\u001b[0m\n",
            "\u001b[K     |████████████████████████████████| 128 kB 73.6 MB/s \n",
            "\u001b[K     |████████████████████████████████| 1.6 MB 53.1 MB/s \n",
            "\u001b[K     |████████████████████████████████| 7.5 MB 7.6 MB/s \n",
            "\u001b[K     |████████████████████████████████| 96 kB 6.0 MB/s \n",
            "\u001b[K     |████████████████████████████████| 4.8 MB 43.5 MB/s \n",
            "\u001b[K     |████████████████████████████████| 45.2 MB 1.5 MB/s \n",
            "\u001b[K     |████████████████████████████████| 2.0 MB 46.0 MB/s \n",
            "\u001b[K     |████████████████████████████████| 15.1 MB 35.1 MB/s \n",
            "\u001b[K     |████████████████████████████████| 88 kB 8.5 MB/s \n",
            "\u001b[K     |████████████████████████████████| 11.2 MB 47.1 MB/s \n",
            "\u001b[K     |████████████████████████████████| 960 kB 56.2 MB/s \n",
            "\u001b[K     |████████████████████████████████| 1.1 MB 54.3 MB/s \n",
            "\u001b[K     |████████████████████████████████| 63 kB 2.2 MB/s \n",
            "\u001b[?25h  Building wheel for kb-python (setup.py) ... \u001b[?25l\u001b[?25hdone\n",
            "  Building wheel for loompy (setup.py) ... \u001b[?25l\u001b[?25hdone\n",
            "  Building wheel for ngs-tools (setup.py) ... \u001b[?25l\u001b[?25hdone\n",
            "  Building wheel for umap-learn (setup.py) ... \u001b[?25l\u001b[?25hdone\n",
            "  Building wheel for pynndescent (setup.py) ... \u001b[?25l\u001b[?25hdone\n",
            "  Building wheel for session-info (setup.py) ... \u001b[?25l\u001b[?25hdone\n"
          ]
        }
      ],
      "source": [
        "!pip install --quiet gget==0.3.11\n",
        "!pip install --quiet kb-python==0.27.3"
      ]
    },
    {
      "cell_type": "code",
      "execution_count": 2,
      "metadata": {
        "id": "enZBq7G7WKI9"
      },
      "outputs": [],
      "source": [
        "# Download example FASTQ files\n",
        "\n",
        "# CRISPR\n",
        "!curl -Ls https://github.com/IGVF/datasets/blob/main/atomic-workflows/assays/10xCRISPR/example-data/CRISPR-I1.fastq.gz?raw=true > CRISPR-I1.fastq.gz\n",
        "!curl -Ls https://github.com/IGVF/datasets/blob/main/atomic-workflows/assays/10xCRISPR/example-data/CRISPR-R1.fastq.gz?raw=true > CRISPR-R1.fastq.gz\n",
        "!curl -Ls https://github.com/IGVF/datasets/blob/main/atomic-workflows/assays/10xCRISPR/example-data/CRISPR-R2.fastq.gz?raw=true > CRISPR-R2.fastq.gz\n",
        "\n",
        "# RNA\n",
        "!curl -Ls https://github.com/IGVF/datasets/blob/main/atomic-workflows/assays/10xCRISPR/example-data/RNA-I1.fastq.gz?raw=true > RNA-I1.fastq.gz\n",
        "!curl -Ls https://github.com/IGVF/datasets/blob/main/atomic-workflows/assays/10xCRISPR/example-data/RNA-R1.fastq.gz?raw=true > RNA-R1.fastq.gz\n",
        "!curl -Ls https://github.com/IGVF/datasets/blob/main/atomic-workflows/assays/10xCRISPR/example-data/RNA-R2.fastq.gz?raw=true > RNA-R2.fastq.gz\n",
        "\n",
        "# gRNAs\n",
        "!curl -Ls https://raw.githubusercontent.com/IGVF/datasets/main/atomic-workflows/assays/10xCRISPR/example-data/feature_barcodes.txt > feature_barcodes.txt"
      ]
    },
    {
      "cell_type": "markdown",
      "source": [
        "# gRNA quantification"
      ],
      "metadata": {
        "id": "fQFylwnn1B4H"
      }
    },
    {
      "cell_type": "code",
      "source": [
        "!kb ref \\\n",
        "  -i crispr.idx \\\n",
        "  -g f2b.txt \\\n",
        "  -f1 features.fa \\\n",
        "  --workflow kite \\\n",
        "  feature_barcodes.txt"
      ],
      "metadata": {
        "id": "c-WJ1qUtzJKk",
        "outputId": "c8533f61-789f-4afc-d334-e6b18416b1b4",
        "colab": {
          "base_uri": "https://localhost:8080/"
        }
      },
      "execution_count": 5,
      "outputs": [
        {
          "output_type": "stream",
          "name": "stdout",
          "text": [
            "[2022-10-10 21:35:24,037]    INFO [ref_kite] Generating mismatch FASTA at features.fa\n",
            "[2022-10-10 21:35:24,058] WARNING [ref_kite] Detected barcodes of different lengths: 19,20\n",
            "[2022-10-10 21:35:24,098]    INFO [ref_kite] Creating transcript-to-gene mapping at f2b.txt\n",
            "[2022-10-10 21:35:24,128]    INFO [ref_kite] Indexing features.fa to crispr.idx\n"
          ]
        }
      ]
    },
    {
      "cell_type": "code",
      "execution_count": 6,
      "metadata": {
        "id": "eBe5yFPMV_cJ",
        "colab": {
          "base_uri": "https://localhost:8080/"
        },
        "outputId": "d714a605-1127-486c-dad8-f16b53144d89"
      },
      "outputs": [
        {
          "output_type": "stream",
          "name": "stdout",
          "text": [
            "[2022-10-10 21:38:21,238]    INFO [count] Using index crispr.idx to generate BUS file to CRISPR_out/ from\n",
            "[2022-10-10 21:38:21,238]    INFO [count]         CRISPR-R1.fastq.gz\n",
            "[2022-10-10 21:38:21,238]    INFO [count]         CRISPR-R2.fastq.gz\n",
            "[2022-10-10 21:38:24,661]    INFO [count] Sorting BUS file CRISPR_out/output.bus to CRISPR_out/tmp/output.s.bus\n",
            "[2022-10-10 21:38:29,786]    INFO [count] Whitelist not provided\n",
            "[2022-10-10 21:38:29,787]    INFO [count] Copying pre-packaged 10XFB whitelist to CRISPR_out/\n",
            "[2022-10-10 21:38:30,671]    INFO [count] Inspecting BUS file CRISPR_out/tmp/output.s.bus\n",
            "[2022-10-10 21:38:35,515]    INFO [count] Correcting BUS records in CRISPR_out/tmp/output.s.bus to CRISPR_out/tmp/output.s.c.bus with whitelist CRISPR_out/10x_fb_whitelist.txt\n",
            "[2022-10-10 21:38:49,282]    INFO [count] Sorting BUS file CRISPR_out/tmp/output.s.c.bus to CRISPR_out/tmp/output.s.c.s.bus\n",
            "[2022-10-10 21:38:55,020]    INFO [count] Creating 10xv3 feature-to-barcode map at CRISPR_out/\n",
            "[2022-10-10 21:39:02,635]    INFO [count] Projecting BUS file CRISPR_out/tmp/output.s.c.s.bus with map CRISPR_out/10x_feature_barcode_map.txt\n",
            "[2022-10-10 21:39:12,880]    INFO [count] Sorting BUS file CRISPR_out/tmp/output.s.c.s.p.bus to CRISPR_out/output.unfiltered.bus\n",
            "[2022-10-10 21:39:17,716]    INFO [count] Generating count matrix CRISPR_out/counts_unfiltered/cells_x_features from BUS file CRISPR_out/output.unfiltered.bus\n",
            "[2022-10-10 21:39:18,924]    INFO [count] Reading matrix CRISPR_out/counts_unfiltered/cells_x_features.mtx\n",
            "[2022-10-10 21:39:19,063]    INFO [count] Writing matrix to h5ad CRISPR_out/counts_unfiltered/adata.h5ad\n",
            "[2022-10-10 21:39:19,100]    INFO [count] Filtering with bustools\n",
            "[2022-10-10 21:39:19,100]    INFO [count] Generating whitelist CRISPR_out/filter_barcodes.txt from BUS file CRISPR_out/output.unfiltered.bus\n",
            "[2022-10-10 21:39:20,214]    INFO [count] Correcting BUS records in CRISPR_out/output.unfiltered.bus to CRISPR_out/tmp/output.unfiltered.c.bus with whitelist CRISPR_out/filter_barcodes.txt\n",
            "[2022-10-10 21:39:22,443]    INFO [count] Sorting BUS file CRISPR_out/tmp/output.unfiltered.c.bus to CRISPR_out/output.filtered.bus\n",
            "[2022-10-10 21:39:27,182]    INFO [count] Generating count matrix CRISPR_out/counts_filtered/cells_x_features from BUS file CRISPR_out/output.filtered.bus\n",
            "[2022-10-10 21:39:28,305]    INFO [count] Reading matrix CRISPR_out/counts_filtered/cells_x_features.mtx\n",
            "[2022-10-10 21:39:28,323]    INFO [count] Writing matrix to h5ad CRISPR_out/counts_filtered/adata.h5ad\n"
          ]
        }
      ],
      "source": [
        "!kb count \\\n",
        "\t--overwrite \\\n",
        "\t--h5ad \\\n",
        "\t--filter bustools \\\n",
        "\t-i crispr.idx \\\n",
        "\t-g f2b.txt \\\n",
        "\t--workflow kite:10xFB \\\n",
        "\t-x 10xv3 \\\n",
        "\t-o CRISPR_out/ \\\n",
        "\tCRISPR-R1.fastq.gz CRISPR-R2.fastq.gz"
      ]
    },
    {
      "cell_type": "markdown",
      "source": [
        "# RNA quantification"
      ],
      "metadata": {
        "id": "7KUDg3wv145Q"
      }
    },
    {
      "cell_type": "code",
      "execution_count": 3,
      "metadata": {
        "colab": {
          "base_uri": "https://localhost:8080/"
        },
        "id": "S478gQriVrfi",
        "outputId": "068f3bcc-0201-474c-94b1-309c5f462cb6"
      },
      "outputs": [
        {
          "output_type": "stream",
          "name": "stdout",
          "text": [
            "Mon Oct 10 21:28:30 2022 INFO generated new fontManager\n",
            "Mon Oct 10 21:28:38 2022 INFO Fetching reference information for homo_sapiens from Ensembl release: 104.\n",
            "{\n",
            "    \"homo_sapiens\": {\n",
            "        \"genome_dna\": {\n",
            "            \"ftp\": \"http://ftp.ensembl.org/pub/release-104/fasta/homo_sapiens/dna/Homo_sapiens.GRCh38.dna.primary_assembly.fa.gz\",\n",
            "            \"ensembl_release\": 104,\n",
            "            \"release_date\": \"2021-03-31\",\n",
            "            \"release_time\": \"10:46\",\n",
            "            \"bytes\": \"840M\"\n",
            "        },\n",
            "        \"annotation_gtf\": {\n",
            "            \"ftp\": \"http://ftp.ensembl.org/pub/release-104/gtf/homo_sapiens/Homo_sapiens.GRCh38.104.gtf.gz\",\n",
            "            \"ensembl_release\": 104,\n",
            "            \"release_date\": \"2021-03-19\",\n",
            "            \"release_time\": \"19:06\",\n",
            "            \"bytes\": \"47M\"\n",
            "        }\n",
            "    }\n",
            "}\n"
          ]
        }
      ],
      "source": [
        "!gget ref -r 104 -w dna,gtf human"
      ]
    },
    {
      "cell_type": "code",
      "execution_count": null,
      "metadata": {
        "colab": {
          "base_uri": "https://localhost:8080/"
        },
        "id": "WHMBkBj5Vwfw",
        "outputId": "49105acf-684b-4914-9a19-fc3990ae4e28"
      },
      "outputs": [
        {
          "output_type": "stream",
          "name": "stdout",
          "text": [
            "[2022-10-10 22:10:52,316]    INFO [ref] Preparing http://ftp.ensembl.org/pub/release-104/fasta/homo_sapiens/dna/Homo_sapiens.GRCh38.dna.primary_assembly.fa.gz, http://ftp.ensembl.org/pub/release-104/gtf/homo_sapiens/Homo_sapiens.GRCh38.104.gtf.gz\n",
            "[2022-10-10 22:12:49,313]    INFO [ref] Splitting genome http://ftp.ensembl.org/pub/release-104/fasta/homo_sapiens/dna/Homo_sapiens.GRCh38.dna.primary_assembly.fa.gz into cDNA at /content/tmp/tmpc7p610mi\n"
          ]
        }
      ],
      "source": [
        "!kb ref \\\n",
        "\t-i index.idx \\\n",
        "\t-g t2g.txt \\\n",
        "\t-f1 transcriptome.fa \\\n",
        "\thttp://ftp.ensembl.org/pub/release-104/fasta/homo_sapiens/dna/Homo_sapiens.GRCh38.dna.primary_assembly.fa.gz \\\n",
        "\thttp://ftp.ensembl.org/pub/release-104/gtf/homo_sapiens/Homo_sapiens.GRCh38.104.gtf.gz"
      ]
    },
    {
      "cell_type": "code",
      "source": [
        "!kb count \\\n",
        "\t-i index.idx \\\n",
        "\t-g t2g.txt \\\n",
        "\t-x 10xv3 \\\n",
        "\t-o RNA_out \\\n",
        "\t--filter \\\n",
        "\t--h5ad \\\n",
        "\tRNA-R1.fastq.gz RNA-R2.fastq.gz"
      ],
      "metadata": {
        "id": "DVXFUCt8ang7",
        "outputId": "f20f5031-8316-45fb-d72b-714123e76ed0",
        "colab": {
          "base_uri": "https://localhost:8080/"
        }
      },
      "execution_count": 8,
      "outputs": [
        {
          "output_type": "stream",
          "name": "stdout",
          "text": [
            "[2022-10-10 22:10:46,870]    INFO [count] Using index index.idx to generate BUS file to RNA_out from\n",
            "[2022-10-10 22:10:46,870]    INFO [count]         RNA-R1.fastq.gz\n",
            "[2022-10-10 22:10:46,870]    INFO [count]         RNA-R2.fastq.gz\n",
            "[2022-10-10 22:10:47,986]   ERROR [count] kallisto 0.48.0\n",
            "Generates BUS files for single-cell sequencing\n",
            "\n",
            "Usage: kallisto bus [arguments] FASTQ-files\n",
            "\n",
            "Required arguments:\n",
            "-i, --index=STRING            Filename for the kallisto index to be used for\n",
            "pseudoalignment\n",
            "-o, --output-dir=STRING       Directory to write output to\n",
            "\n",
            "Optional arguments:\n",
            "-x, --technology=STRING       Single-cell technology used\n",
            "-l, --list                    List all single-cell technologies supported\n",
            "-B, --batch=FILE              Process files listed in FILE\n",
            "-t, --threads=INT             Number of threads to use (default: 1)\n",
            "-b, --bam                     Input file is a BAM file\n",
            "-n, --num                     Output number of read in flag column (incompatible with --bam)\n",
            "-T, --tag=STRING              5′ tag sequence to identify UMI reads for certain technologies\n",
            "--fr-stranded             Strand specific reads for UMI-tagged reads, first read forward\n",
            "--rf-stranded             Strand specific reads for UMI-tagged reads, first read reverse\n",
            "--unstranded              Treat all read as non-strand-specific\n",
            "--paired                  Treat reads as paired\n",
            "--genomebam               Project pseudoalignments to genome sorted BAM file\n",
            "-g, --gtf                     GTF file for transcriptome information\n",
            "(required for --genomebam)\n",
            "-c, --chromosomes             Tab separated file with chromosome names and lengths\n",
            "(optional for --genomebam, but recommended)\n",
            "--verbose                 Print out progress information every 1M proccessed reads\n",
            "\n",
            "Error: kallisto index file not found index.idx\n",
            "Warning: you asked for 8, but only 2 cores on the machine\n",
            "[2022-10-10 22:10:47,987]   ERROR [main] An exception occurred\n",
            "Traceback (most recent call last):\n",
            "  File \"/usr/local/lib/python3.7/dist-packages/kb_python/main.py\", line 1305, in main\n",
            "    COMMAND_TO_FUNCTION[args.command](parser, args, temp_dir=temp_dir)\n",
            "  File \"/usr/local/lib/python3.7/dist-packages/kb_python/main.py\", line 578, in parse_count\n",
            "    by_name=args.gene_names\n",
            "  File \"/usr/local/lib/python3.7/dist-packages/ngs_tools/logging.py\", line 62, in inner\n",
            "    return func(*args, **kwargs)\n",
            "  File \"/usr/local/lib/python3.7/dist-packages/kb_python/count.py\", line 1045, in count\n",
            "    strand=strand,\n",
            "  File \"/usr/local/lib/python3.7/dist-packages/kb_python/validate.py\", line 116, in inner\n",
            "    results = func(*args, **kwargs)\n",
            "  File \"/usr/local/lib/python3.7/dist-packages/kb_python/count.py\", line 150, in kallisto_bus\n",
            "    run_executable(command)\n",
            "  File \"/usr/local/lib/python3.7/dist-packages/kb_python/dry/__init__.py\", line 25, in inner\n",
            "    return func(*args, **kwargs)\n",
            "  File \"/usr/local/lib/python3.7/dist-packages/kb_python/utils.py\", line 203, in run_executable\n",
            "    raise sp.CalledProcessError(p.returncode, ' '.join(command))\n",
            "subprocess.CalledProcessError: Command '/usr/local/lib/python3.7/dist-packages/kb_python/bins/linux/kallisto/kallisto bus -i index.idx -o RNA_out -x 10xv3 -t 8 RNA-R1.fastq.gz RNA-R2.fastq.gz' returned non-zero exit status 1.\n"
          ]
        }
      ]
    },
    {
      "cell_type": "code",
      "source": [],
      "metadata": {
        "id": "5FjY4eSP3pla"
      },
      "execution_count": null,
      "outputs": []
    }
  ],
  "metadata": {
    "colab": {
      "provenance": [],
      "authorship_tag": "ABX9TyMf+eCi5GgSFQvB0qLFvLEA",
      "include_colab_link": true
    },
    "kernelspec": {
      "display_name": "Python 3",
      "name": "python3"
    },
    "language_info": {
      "name": "python"
    }
  },
  "nbformat": 4,
  "nbformat_minor": 0
}