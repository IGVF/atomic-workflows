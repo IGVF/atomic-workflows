{
  "cells": [
    {
      "cell_type": "code",
      "execution_count": null,
      "metadata": {
        "colab": {
          "base_uri": "https://localhost:8080/"
        },
        "id": "ERDn5QDkVicV",
        "outputId": "49251666-84dc-487e-cc15-81670c82ed1b"
      },
      "outputs": [
        {
          "name": "stdout",
          "output_type": "stream",
          "text": [
            "\u001b[K     |████████████████████████████████| 2.2 MB 4.1 MB/s \n",
            "\u001b[K     |████████████████████████████████| 128 kB 67.3 MB/s \n",
            "\u001b[K     |████████████████████████████████| 25.2 MB 1.9 MB/s \n",
            "\u001b[K     |████████████████████████████████| 1.6 MB 49.5 MB/s \n",
            "\u001b[K     |████████████████████████████████| 7.5 MB 4.0 MB/s \n",
            "\u001b[K     |████████████████████████████████| 96 kB 5.3 MB/s \n",
            "\u001b[K     |████████████████████████████████| 4.8 MB 54.3 MB/s \n",
            "\u001b[K     |████████████████████████████████| 45.2 MB 1.5 MB/s \n",
            "\u001b[K     |████████████████████████████████| 2.0 MB 43.9 MB/s \n",
            "\u001b[K     |████████████████████████████████| 15.1 MB 38.9 MB/s \n",
            "\u001b[K     |████████████████████████████████| 88 kB 7.3 MB/s \n",
            "\u001b[K     |████████████████████████████████| 11.2 MB 23.8 MB/s \n",
            "\u001b[K     |████████████████████████████████| 959 kB 62.6 MB/s \n",
            "\u001b[K     |████████████████████████████████| 1.1 MB 55.3 MB/s \n",
            "\u001b[K     |████████████████████████████████| 63 kB 2.3 MB/s \n",
            "\u001b[?25h  Building wheel for kb-python (setup.py) ... \u001b[?25l\u001b[?25hdone\n",
            "  Building wheel for loompy (setup.py) ... \u001b[?25l\u001b[?25hdone\n",
            "  Building wheel for ngs-tools (setup.py) ... \u001b[?25l\u001b[?25hdone\n",
            "  Building wheel for umap-learn (setup.py) ... \u001b[?25l\u001b[?25hdone\n",
            "  Building wheel for pynndescent (setup.py) ... \u001b[?25l\u001b[?25hdone\n",
            "  Building wheel for session-info (setup.py) ... \u001b[?25l\u001b[?25hdone\n"
          ]
        }
      ],
      "source": [
        "!pip install --quiet gget==0.3.11\n",
        "!pip install --quiet kb-python==0.27.3"
      ]
    },
    {
      "cell_type": "code",
      "execution_count": null,
      "metadata": {
        "id": "enZBq7G7WKI9"
      },
      "outputs": [],
      "source": [
        "# Download example FASTQ files\n"
      ]
    },
    {
      "cell_type": "code",
      "execution_count": null,
      "metadata": {
        "colab": {
          "base_uri": "https://localhost:8080/"
        },
        "id": "S478gQriVrfi",
        "outputId": "fd93a5f5-6baf-4961-d146-568bdfac5cc0"
      },
      "outputs": [
        {
          "name": "stdout",
          "output_type": "stream",
          "text": [
            "Sun Sep 25 20:29:55 2022 INFO generated new fontManager\n",
            "Sun Sep 25 20:30:01 2022 INFO Fetching reference information for homo_sapiens from Ensembl release: 104.\n",
            "{\n",
            "    \"homo_sapiens\": {\n",
            "        \"genome_dna\": {\n",
            "            \"ftp\": \"http://ftp.ensembl.org/pub/release-104/fasta/homo_sapiens/dna/Homo_sapiens.GRCh38.dna.primary_assembly.fa.gz\",\n",
            "            \"ensembl_release\": 104,\n",
            "            \"release_date\": \"2021-03-31\",\n",
            "            \"release_time\": \"10:46\",\n",
            "            \"bytes\": \"840M\"\n",
            "        },\n",
            "        \"annotation_gtf\": {\n",
            "            \"ftp\": \"http://ftp.ensembl.org/pub/release-104/gtf/homo_sapiens/Homo_sapiens.GRCh38.104.gtf.gz\",\n",
            "            \"ensembl_release\": 104,\n",
            "            \"release_date\": \"2021-03-19\",\n",
            "            \"release_time\": \"19:06\",\n",
            "            \"bytes\": \"47M\"\n",
            "        }\n",
            "    }\n",
            "}\n"
          ]
        }
      ],
      "source": [
        "!gget ref -r 104 -w dna,gtf human"
      ]
    },
    {
      "cell_type": "code",
      "execution_count": null,
      "metadata": {
        "colab": {
          "background_save": true,
          "base_uri": "https://localhost:8080/"
        },
        "id": "WHMBkBj5Vwfw",
        "outputId": "f332a53a-69b6-4a0b-977a-80de9faaa653"
      },
      "outputs": [
        {
          "name": "stdout",
          "output_type": "stream",
          "text": [
            "[2022-09-25 20:30:24,725]    INFO [ref] Preparing http://ftp.ensembl.org/pub/release-104/fasta/homo_sapiens/dna/Homo_sapiens.GRCh38.dna.primary_assembly.fa.gz, http://ftp.ensembl.org/pub/release-104/gtf/homo_sapiens/Homo_sapiens.GRCh38.104.gtf.gz\n",
            "[2022-09-25 20:32:01,320]    INFO [ref] Splitting genome http://ftp.ensembl.org/pub/release-104/fasta/homo_sapiens/dna/Homo_sapiens.GRCh38.dna.primary_assembly.fa.gz into cDNA at /content/tmp/tmpvg1u5ais\n",
            "[2022-09-25 20:33:50,767]    INFO [ref] Concatenating 1 cDNAs to transcriptome.fa\n",
            "[2022-09-25 20:33:52,156]    INFO [ref] Creating transcript-to-gene mapping at t2g.txt\n",
            "[2022-09-25 20:33:55,009]    INFO [ref] Indexing transcriptome.fa to index.idx\n"
          ]
        }
      ],
      "source": [
        "!kb ref \\\n",
        "\t-i index.idx \\\n",
        "\t-g t2g.txt \\\n",
        "\t-f1 transcriptome.fa \\\n",
        "\thttp://ftp.ensembl.org/pub/release-104/fasta/homo_sapiens/dna/Homo_sapiens.GRCh38.dna.primary_assembly.fa.gz \\\n",
        "\thttp://ftp.ensembl.org/pub/release-104/gtf/homo_sapiens/Homo_sapiens.GRCh38.104.gtf.gz"
      ]
    },
    {
      "cell_type": "code",
      "execution_count": 4,
      "metadata": {
        "id": "eBe5yFPMV_cJ",
        "colab": {
          "base_uri": "https://localhost:8080/"
        },
        "outputId": "30bf4f21-83e9-452c-a60c-ebb06e3d8912"
      },
      "outputs": [
        {
          "output_type": "stream",
          "name": "stdout",
          "text": [
            "[2022-09-25 20:50:41,002]    INFO [count] Using index index.idx to generate BUS file to out from\n",
            "[2022-09-25 20:50:41,002]    INFO [count]         R1.fastq.gz\n",
            "[2022-09-25 20:50:41,002]    INFO [count]         R2.fastq.gz\n",
            "[2022-09-25 20:51:12,900]    INFO [count] Sorting BUS file out/output.bus to out/tmp/output.s.bus\n",
            "[2022-09-25 20:51:17,828]    INFO [count] Whitelist not provided\n",
            "[2022-09-25 20:51:17,828]    INFO [count] Copying pre-packaged 10XV2 whitelist to out\n",
            "[2022-09-25 20:51:17,947]    INFO [count] Inspecting BUS file out/tmp/output.s.bus\n",
            "[2022-09-25 20:51:19,461]    INFO [count] Correcting BUS records in out/tmp/output.s.bus to out/tmp/output.s.c.bus with whitelist out/10x_version2_whitelist.txt\n",
            "[2022-09-25 20:51:22,486]    INFO [count] Sorting BUS file out/tmp/output.s.c.bus to out/output.unfiltered.bus\n",
            "[2022-09-25 20:51:27,417]    INFO [count] Generating count matrix out/counts_unfiltered/cells_x_genes from BUS file out/output.unfiltered.bus\n",
            "[2022-09-25 20:51:31,820]    INFO [count] Reading matrix out/counts_unfiltered/cells_x_genes.mtx\n",
            "[2022-09-25 20:51:32,701] WARNING [count] 20055 gene IDs do not have corresponding gene names. These genes will use their gene IDs instead.\n",
            "[2022-09-25 20:51:32,729]    INFO [count] Writing matrix to h5ad out/counts_unfiltered/adata.h5ad\n",
            "[2022-09-25 20:51:32,863]    INFO [count] Filtering with bustools\n",
            "[2022-09-25 20:51:32,863]    INFO [count] Generating whitelist out/filter_barcodes.txt from BUS file out/output.unfiltered.bus\n",
            "[2022-09-25 20:51:33,979]    INFO [count] Correcting BUS records in out/output.unfiltered.bus to out/tmp/output.unfiltered.c.bus with whitelist out/filter_barcodes.txt\n",
            "[2022-09-25 20:51:36,212]    INFO [count] Sorting BUS file out/tmp/output.unfiltered.c.bus to out/output.filtered.bus\n",
            "[2022-09-25 20:51:41,151]    INFO [count] Generating count matrix out/counts_filtered/cells_x_genes from BUS file out/output.filtered.bus\n",
            "[2022-09-25 20:51:45,388]    INFO [count] Reading matrix out/counts_filtered/cells_x_genes.mtx\n",
            "[2022-09-25 20:51:46,143] WARNING [count] 20055 gene IDs do not have corresponding gene names. These genes will use their gene IDs instead.\n",
            "[2022-09-25 20:51:46,182]    INFO [count] Writing matrix to h5ad out/counts_filtered/adata.h5ad\n"
          ]
        }
      ],
      "source": [
        "!kb count \\\n",
        "\t-i index.idx \\\n",
        "\t-g t2g.txt \\\n",
        "\t-x 10xv2 \\\n",
        "\t-o out \\\n",
        "\t--filter \\\n",
        "\t--h5ad \\\n",
        "\tR1.fastq.gz R2.fastq.gz"
      ]
    },
    {
      "cell_type": "code",
      "source": [],
      "metadata": {
        "id": "DVXFUCt8ang7"
      },
      "execution_count": null,
      "outputs": []
    }
  ],
  "metadata": {
    "colab": {
      "provenance": []
    },
    "kernelspec": {
      "display_name": "Python 3",
      "name": "python3"
    },
    "language_info": {
      "name": "python"
    }
  },
  "nbformat": 4,
  "nbformat_minor": 0
}