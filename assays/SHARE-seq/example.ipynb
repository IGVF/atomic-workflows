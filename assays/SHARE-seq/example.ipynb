{
  "cells": [
    {
      "cell_type": "markdown",
      "metadata": {
        "id": "view-in-github",
        "colab_type": "text"
      },
      "source": [
        "<a href=\"https://colab.research.google.com/github/IGVF/atomic-workflows/blob/main/assays/SHARE-seq/example.ipynb\" target=\"_parent\"><img src=\"https://colab.research.google.com/assets/colab-badge.svg\" alt=\"Open In Colab\"/></a>"
      ]
    },
    {
      "cell_type": "code",
      "source": [
        "!git clone --quiet https://github.com/pachterlab/kallisto && cd kallisto && git checkout shareseq"
      ],
      "metadata": {
        "colab": {
          "base_uri": "https://localhost:8080/"
        },
        "id": "c1iq7mPqLNn4",
        "outputId": "51ff9ca7-5698-4d75-d5d1-1a336fa4d409"
      },
      "execution_count": 1,
      "outputs": [
        {
          "output_type": "stream",
          "name": "stdout",
          "text": [
            "Branch 'shareseq' set up to track remote branch 'shareseq' from 'origin'.\n",
            "Switched to a new branch 'shareseq'\n"
          ]
        }
      ]
    },
    {
      "cell_type": "code",
      "source": [
        "!apt-get -qq install autoconf"
      ],
      "metadata": {
        "id": "8CC5tu_5L4QM",
        "outputId": "998afb9e-0f7a-4645-fbdb-6e071ac1a0e8",
        "colab": {
          "base_uri": "https://localhost:8080/"
        }
      },
      "execution_count": 2,
      "outputs": [
        {
          "output_type": "stream",
          "name": "stdout",
          "text": [
            "Selecting previously unselected package libsigsegv2:amd64.\n",
            "(Reading database ... 159447 files and directories currently installed.)\n",
            "Preparing to unpack .../libsigsegv2_2.12-1_amd64.deb ...\n",
            "Unpacking libsigsegv2:amd64 (2.12-1) ...\n",
            "Selecting previously unselected package m4.\n",
            "Preparing to unpack .../archives/m4_1.4.18-1_amd64.deb ...\n",
            "Unpacking m4 (1.4.18-1) ...\n",
            "Selecting previously unselected package autoconf.\n",
            "Preparing to unpack .../autoconf_2.69-11_all.deb ...\n",
            "Unpacking autoconf (2.69-11) ...\n",
            "Selecting previously unselected package autotools-dev.\n",
            "Preparing to unpack .../autotools-dev_20180224.1_all.deb ...\n",
            "Unpacking autotools-dev (20180224.1) ...\n",
            "Selecting previously unselected package automake.\n",
            "Preparing to unpack .../automake_1%3a1.15.1-3ubuntu2_all.deb ...\n",
            "Unpacking automake (1:1.15.1-3ubuntu2) ...\n",
            "Setting up libsigsegv2:amd64 (2.12-1) ...\n",
            "Setting up m4 (1.4.18-1) ...\n",
            "Setting up autotools-dev (20180224.1) ...\n",
            "Setting up autoconf (2.69-11) ...\n",
            "Setting up automake (1:1.15.1-3ubuntu2) ...\n",
            "update-alternatives: using /usr/bin/automake-1.15 to provide /usr/bin/automake (automake) in auto mode\n",
            "Processing triggers for libc-bin (2.27-3ubuntu1.5) ...\n",
            "Processing triggers for man-db (2.8.3-2ubuntu0.1) ...\n"
          ]
        }
      ]
    },
    {
      "cell_type": "code",
      "source": [
        "!cd kallisto && mkdir build && cd build && cmake .. && make &> /dev/null"
      ],
      "metadata": {
        "colab": {
          "base_uri": "https://localhost:8080/"
        },
        "id": "UMTQtgYlLZCn",
        "outputId": "febad741-3db3-43e7-cd78-e2f7504759c9"
      },
      "execution_count": 3,
      "outputs": [
        {
          "output_type": "stream",
          "name": "stdout",
          "text": [
            "-- The C compiler identification is GNU 7.5.0\n",
            "-- The CXX compiler identification is GNU 7.5.0\n",
            "-- Detecting C compiler ABI info\n",
            "-- Detecting C compiler ABI info - done\n",
            "-- Check for working C compiler: /usr/bin/cc - skipped\n",
            "-- Detecting C compile features\n",
            "-- Detecting C compile features - done\n",
            "-- Detecting CXX compiler ABI info\n",
            "-- Detecting CXX compiler ABI info - done\n",
            "-- Check for working CXX compiler: /usr/bin/c++ - skipped\n",
            "-- Detecting CXX compile features\n",
            "-- Detecting CXX compile features - done\n",
            "\u001b[0mshared build\u001b[0m\n",
            "-- Looking for pthread.h\n",
            "-- Looking for pthread.h - found\n",
            "-- Performing Test CMAKE_HAVE_LIBC_PTHREAD\n",
            "-- Performing Test CMAKE_HAVE_LIBC_PTHREAD - Failed\n",
            "-- Looking for pthread_create in pthreads\n",
            "-- Looking for pthread_create in pthreads - not found\n",
            "-- Looking for pthread_create in pthread\n",
            "-- Looking for pthread_create in pthread - found\n",
            "-- Found Threads: TRUE  \n",
            "-- Found ZLIB: /usr/lib/x86_64-linux-gnu/libz.so (found version \"1.2.11\") \n",
            "-- Configuring done\n",
            "-- Generating done\n",
            "-- Build files have been written to: /content/kallisto/build\n"
          ]
        }
      ]
    },
    {
      "cell_type": "code",
      "execution_count": 4,
      "metadata": {
        "colab": {
          "base_uri": "https://localhost:8080/"
        },
        "id": "ERDn5QDkVicV",
        "outputId": "9a86b938-8f5a-446a-fce1-b50044f978ab"
      },
      "outputs": [
        {
          "output_type": "stream",
          "name": "stdout",
          "text": [
            "\u001b[K     |████████████████████████████████| 2.2 MB 5.4 MB/s \n",
            "\u001b[K     |████████████████████████████████| 128 kB 48.1 MB/s \n",
            "\u001b[K     |████████████████████████████████| 25.2 MB 32.7 MB/s \n",
            "\u001b[K     |████████████████████████████████| 1.6 MB 37.1 MB/s \n",
            "\u001b[K     |████████████████████████████████| 7.5 MB 5.4 MB/s \n",
            "\u001b[K     |████████████████████████████████| 96 kB 4.1 MB/s \n",
            "\u001b[K     |████████████████████████████████| 4.8 MB 37.6 MB/s \n",
            "\u001b[K     |████████████████████████████████| 45.2 MB 1.6 MB/s \n",
            "\u001b[K     |████████████████████████████████| 2.0 MB 42.1 MB/s \n",
            "\u001b[K     |████████████████████████████████| 15.1 MB 38.8 MB/s \n",
            "\u001b[K     |████████████████████████████████| 88 kB 6.7 MB/s \n",
            "\u001b[K     |████████████████████████████████| 11.2 MB 37.1 MB/s \n",
            "\u001b[K     |████████████████████████████████| 960 kB 44.5 MB/s \n",
            "\u001b[K     |████████████████████████████████| 1.1 MB 45.9 MB/s \n",
            "\u001b[K     |████████████████████████████████| 63 kB 2.0 MB/s \n",
            "\u001b[?25h  Building wheel for kb-python (setup.py) ... \u001b[?25l\u001b[?25hdone\n",
            "  Building wheel for loompy (setup.py) ... \u001b[?25l\u001b[?25hdone\n",
            "  Building wheel for ngs-tools (setup.py) ... \u001b[?25l\u001b[?25hdone\n",
            "  Building wheel for umap-learn (setup.py) ... \u001b[?25l\u001b[?25hdone\n",
            "  Building wheel for pynndescent (setup.py) ... \u001b[?25l\u001b[?25hdone\n",
            "  Building wheel for session-info (setup.py) ... \u001b[?25l\u001b[?25hdone\n"
          ]
        }
      ],
      "source": [
        "!pip install --quiet gget==0.3.11\n",
        "!pip install --quiet kb-python==0.27.3"
      ]
    },
    {
      "cell_type": "code",
      "source": [
        "# mv kallisto binary to where kb-python has access to it\n",
        "!cp kallisto/build/src/kallisto $(pip show kb-python | grep \"Location\" | cut -f2 -d\":\")/kb_python/bins/linux/kallisto/kallisto"
      ],
      "metadata": {
        "id": "-Q3SBPjhM5jz"
      },
      "execution_count": 5,
      "outputs": []
    },
    {
      "cell_type": "code",
      "execution_count": 6,
      "metadata": {
        "id": "enZBq7G7WKI9"
      },
      "outputs": [],
      "source": [
        "# Download example FASTQ files\n",
        "!curl -Ls https://github.com/IGVF/datasets/blob/main/atomic-workflows/assays/SHARE-seq/example-data/RNA-i1-min.fastq.gz?raw=true > I1.fastq.gz\n",
        "!curl -Ls https://github.com/IGVF/datasets/blob/main/atomic-workflows/assays/SHARE-seq/example-data/RNA-r1-min.fastq.gz?raw=true > R1.fastq.gz\n",
        "!curl -Ls https://github.com/IGVF/datasets/blob/main/atomic-workflows/assays/SHARE-seq/example-data/RNA-r2-min.fastq.gz?raw=true > R2.fastq.gz"
      ]
    },
    {
      "cell_type": "code",
      "source": [
        "!zcat I1.fastq.gz | head\n",
        "!zcat R2.fastq.gz | head\n",
        "!zcat R1.fastq.gz | head"
      ],
      "metadata": {
        "id": "NJFx2G1IiBOb",
        "outputId": "11d2b862-03b5-44ee-be9e-d25e18b3da86",
        "colab": {
          "base_uri": "https://localhost:8080/"
        }
      },
      "execution_count": 7,
      "outputs": [
        {
          "output_type": "stream",
          "name": "stdout",
          "text": [
            "@\n",
            "TCGGACGATCATGGGCCGAAGTACAAGTATGCAGCGCGCTCAAGCACGTGGATATTGAGGAAGTCGTACGCCGATGCGAAACATCGGCCACAGCACCTC\n",
            "+\n",
            "IIIIIIIIIIIIIIIIIIIIIIIIIIIIIIIIIIIIIIIIIIIIIIIIIIIIIIIIIIIIIIIIIIIIIIIIIIIIIIIIIIIIIIIIIIIIIIIIIII\n",
            "@\n",
            "TCGGACGATCATGGGCCAGTTCACAAGTATGCAGCGCGCTCAAGCACGTGGATAGCAGGAAAGTCGTACGCCGATGCGAAACATCGGCCACCTGAGCCA\n",
            "+\n",
            "IIIIIIIIIIIIIIIIIIIIIIIIIIIIIIIIIIIIIIIIIIIIIIIIIIIIIIIIIIIIIIIIIIIIIIIIIIIIIIIIIIIIIIIIIIIIIIIIIII\n",
            "@\n",
            "TCGGACGATCATGGGCCAGTTCACAAGTATGCAGCGCGCTCAAGCACGTGGATAGCAGGAAAGTCGTACGCCGATGCGAAACATCGGCCACCTGAGCCA\n",
            "@\n",
            "TCCGCTGCATAAAAAAAAAAAAAAAAAAAA\n",
            "+\n",
            "IIIIIIIIIIIIIIIIIIIIIIIIIIIIII\n",
            "@\n",
            "AAGCTATATCAAAAAAAAAAAAAAAAAAAA\n",
            "+\n",
            "IIIIIIIIIIIIIIIIIIIIIIIIIIIIII\n",
            "@\n",
            "TCCAAGGCAAAAAAAAAAAAAAAAAAAAAA\n",
            "@\n",
            "ACCACCGAAATCTGTGCAGAGGAGAACGC\n",
            "+\n",
            "IIIIIIIIIIIIIIIIIIIIIIIIIIIII\n",
            "@\n",
            "CGTTTTCTCTGGAAGCACTCTTAAGAACAC\n",
            "+\n",
            "IIIIIIIIIIIIIIIIIIIIIIIIIIIIII\n",
            "@\n",
            "CAGAGCTCTACAGTTTGAAAACCACTATTT\n"
          ]
        }
      ]
    },
    {
      "cell_type": "code",
      "execution_count": 8,
      "metadata": {
        "colab": {
          "base_uri": "https://localhost:8080/"
        },
        "id": "S478gQriVrfi",
        "outputId": "3bf9d7b2-fb33-44ab-d7a7-a2638b752a95"
      },
      "outputs": [
        {
          "output_type": "stream",
          "name": "stdout",
          "text": [
            "Fri Sep 30 21:43:16 2022 INFO generated new fontManager\n",
            "Fri Sep 30 21:43:22 2022 INFO Fetching reference information for homo_sapiens from Ensembl release: 104.\n",
            "{\n",
            "    \"homo_sapiens\": {\n",
            "        \"genome_dna\": {\n",
            "            \"ftp\": \"http://ftp.ensembl.org/pub/release-104/fasta/homo_sapiens/dna/Homo_sapiens.GRCh38.dna.primary_assembly.fa.gz\",\n",
            "            \"ensembl_release\": 104,\n",
            "            \"release_date\": \"2021-03-31\",\n",
            "            \"release_time\": \"10:46\",\n",
            "            \"bytes\": \"840M\"\n",
            "        },\n",
            "        \"annotation_gtf\": {\n",
            "            \"ftp\": \"http://ftp.ensembl.org/pub/release-104/gtf/homo_sapiens/Homo_sapiens.GRCh38.104.gtf.gz\",\n",
            "            \"ensembl_release\": 104,\n",
            "            \"release_date\": \"2021-03-19\",\n",
            "            \"release_time\": \"19:06\",\n",
            "            \"bytes\": \"47M\"\n",
            "        }\n",
            "    }\n",
            "}\n"
          ]
        }
      ],
      "source": [
        "!gget ref -r 104 -w dna,gtf human"
      ]
    },
    {
      "cell_type": "code",
      "execution_count": 9,
      "metadata": {
        "colab": {
          "base_uri": "https://localhost:8080/"
        },
        "id": "WHMBkBj5Vwfw",
        "outputId": "277c229c-96cf-408e-f5e8-60d802957afd"
      },
      "outputs": [
        {
          "output_type": "stream",
          "name": "stdout",
          "text": [
            "[2022-09-30 21:43:27,366]    INFO [ref] Preparing http://ftp.ensembl.org/pub/release-104/fasta/homo_sapiens/dna/Homo_sapiens.GRCh38.dna.primary_assembly.fa.gz, http://ftp.ensembl.org/pub/release-104/gtf/homo_sapiens/Homo_sapiens.GRCh38.104.gtf.gz\n",
            "[2022-09-30 21:45:16,124]    INFO [ref] Splitting genome http://ftp.ensembl.org/pub/release-104/fasta/homo_sapiens/dna/Homo_sapiens.GRCh38.dna.primary_assembly.fa.gz into cDNA at /content/tmp/tmp6e5_2kv5\n",
            "[2022-09-30 21:47:15,974]    INFO [ref] Concatenating 1 cDNAs to transcriptome.fa\n",
            "[2022-09-30 21:47:17,671]    INFO [ref] Creating transcript-to-gene mapping at t2g.txt\n",
            "[2022-09-30 21:47:21,021] WARNING [ref] Using provided k-mer length 21 instead of optimal length 31\n",
            "[2022-09-30 21:47:21,022]    INFO [ref] Indexing transcriptome.fa to index.idx\n"
          ]
        }
      ],
      "source": [
        "!kb ref \\\n",
        "\t-k 21 \\\n",
        "\t-i index.idx \\\n",
        "\t-g t2g.txt \\\n",
        "\t-f1 transcriptome.fa \\\n",
        "\thttp://ftp.ensembl.org/pub/release-104/fasta/homo_sapiens/dna/Homo_sapiens.GRCh38.dna.primary_assembly.fa.gz \\\n",
        "\thttp://ftp.ensembl.org/pub/release-104/gtf/homo_sapiens/Homo_sapiens.GRCh38.104.gtf.gz"
      ]
    },
    {
      "cell_type": "code",
      "execution_count": 10,
      "metadata": {
        "id": "eBe5yFPMV_cJ",
        "colab": {
          "base_uri": "https://localhost:8080/"
        },
        "outputId": "66268913-ac91-419b-e8be-66466938199f"
      },
      "outputs": [
        {
          "output_type": "stream",
          "name": "stdout",
          "text": [
            "[2022-09-30 21:56:18,260]    INFO [count] Using index index.idx to generate BUS file to out from\n",
            "[2022-09-30 21:56:18,260]    INFO [count]         I1.fastq.gz\n",
            "[2022-09-30 21:56:18,260]    INFO [count]         R2.fastq.gz\n",
            "[2022-09-30 21:56:18,260]    INFO [count]         R1.fastq.gz\n",
            "[2022-09-30 21:56:50,261]    INFO [count] Sorting BUS file out/output.bus to out/tmp/output.s.bus\n",
            "[2022-09-30 21:56:55,092]    INFO [count] Whitelist not provided\n",
            "[2022-09-30 21:56:55,092]    INFO [count] Generating whitelist out/whitelist.txt from BUS file out/tmp/output.s.bus\n",
            "[2022-09-30 21:56:56,204]    INFO [count] Inspecting BUS file out/tmp/output.s.bus\n",
            "[2022-09-30 21:56:57,317]    INFO [count] Correcting BUS records in out/tmp/output.s.bus to out/tmp/output.s.c.bus with whitelist out/whitelist.txt\n",
            "[2022-09-30 21:57:00,445]    INFO [count] Sorting BUS file out/tmp/output.s.c.bus to out/output.unfiltered.bus\n",
            "[2022-09-30 21:57:05,272]    INFO [count] Generating count matrix out/counts_unfiltered/cells_x_genes from BUS file out/output.unfiltered.bus\n",
            "[2022-09-30 21:57:11,114]    INFO [count] Reading matrix out/counts_unfiltered/cells_x_genes.mtx\n",
            "[2022-09-30 21:57:11,964] WARNING [count] 20055 gene IDs do not have corresponding gene names. These genes will use their gene IDs instead.\n",
            "[2022-09-30 21:57:11,995]    INFO [count] Writing matrix to h5ad out/counts_unfiltered/adata.h5ad\n",
            "[2022-09-30 21:57:12,116]    INFO [count] Filtering with bustools\n",
            "[2022-09-30 21:57:12,116]    INFO [count] Generating whitelist out/filter_barcodes.txt from BUS file out/output.unfiltered.bus\n",
            "[2022-09-30 21:57:13,233]    INFO [count] Correcting BUS records in out/output.unfiltered.bus to out/tmp/output.unfiltered.c.bus with whitelist out/filter_barcodes.txt\n",
            "[2022-09-30 21:57:16,368]    INFO [count] Sorting BUS file out/tmp/output.unfiltered.c.bus to out/output.filtered.bus\n",
            "[2022-09-30 21:57:21,216]    INFO [count] Generating count matrix out/counts_filtered/cells_x_genes from BUS file out/output.filtered.bus\n",
            "[2022-09-30 21:57:27,060]    INFO [count] Reading matrix out/counts_filtered/cells_x_genes.mtx\n",
            "[2022-09-30 21:57:27,864] WARNING [count] 20055 gene IDs do not have corresponding gene names. These genes will use their gene IDs instead.\n",
            "[2022-09-30 21:57:27,906]    INFO [count] Writing matrix to h5ad out/counts_filtered/adata.h5ad\n"
          ]
        }
      ],
      "source": [
        "!kb count \\\n",
        "\t-i index.idx \\\n",
        "\t-g t2g.txt \\\n",
        "\t-x SHARE-seq \\\n",
        "\t-o out \\\n",
        "\t--filter \\\n",
        "\t--h5ad \\\n",
        "\tI1.fastq.gz R2.fastq.gz R1.fastq.gz"
      ]
    },
    {
      "cell_type": "code",
      "source": [
        "!apt-get -qq install tree"
      ],
      "metadata": {
        "id": "Cq5QhwfaWIPs",
        "outputId": "d0233158-6cf7-4caf-ab64-60a0218165bf",
        "colab": {
          "base_uri": "https://localhost:8080/"
        }
      },
      "execution_count": 11,
      "outputs": [
        {
          "output_type": "stream",
          "name": "stdout",
          "text": [
            "Selecting previously unselected package tree.\n",
            "(Reading database ... 159732 files and directories currently installed.)\n",
            "Preparing to unpack .../tree_1.7.0-5_amd64.deb ...\n",
            "Unpacking tree (1.7.0-5) ...\n",
            "Setting up tree (1.7.0-5) ...\n",
            "Processing triggers for man-db (2.8.3-2ubuntu0.1) ...\n"
          ]
        }
      ]
    },
    {
      "cell_type": "code",
      "source": [
        "!tree out"
      ],
      "metadata": {
        "id": "TtwDZM0PWPSD",
        "outputId": "92be59f2-25bb-4466-94e9-6884d1a4db05",
        "colab": {
          "base_uri": "https://localhost:8080/"
        }
      },
      "execution_count": 12,
      "outputs": [
        {
          "output_type": "stream",
          "name": "stdout",
          "text": [
            "out\n",
            "├── counts_filtered\n",
            "│   ├── adata.h5ad\n",
            "│   ├── cells_x_genes.barcodes.txt\n",
            "│   ├── cells_x_genes.genes.txt\n",
            "│   └── cells_x_genes.mtx\n",
            "├── counts_unfiltered\n",
            "│   ├── adata.h5ad\n",
            "│   ├── cells_x_genes.barcodes.txt\n",
            "│   ├── cells_x_genes.genes.txt\n",
            "│   └── cells_x_genes.mtx\n",
            "├── filter_barcodes.txt\n",
            "├── inspect.json\n",
            "├── kb_info.json\n",
            "├── matrix.ec\n",
            "├── output.bus\n",
            "├── output.filtered.bus\n",
            "├── output.unfiltered.bus\n",
            "├── run_info.json\n",
            "├── transcripts.txt\n",
            "└── whitelist.txt\n",
            "\n",
            "2 directories, 18 files\n"
          ]
        }
      ]
    },
    {
      "cell_type": "code",
      "source": [],
      "metadata": {
        "id": "UzOt-Vb6WSGV"
      },
      "execution_count": 12,
      "outputs": []
    }
  ],
  "metadata": {
    "colab": {
      "provenance": [],
      "authorship_tag": "ABX9TyMwVTR83oGZtHnmBPARCqyY",
      "include_colab_link": true
    },
    "kernelspec": {
      "display_name": "Python 3",
      "name": "python3"
    },
    "language_info": {
      "name": "python"
    }
  },
  "nbformat": 4,
  "nbformat_minor": 0
}