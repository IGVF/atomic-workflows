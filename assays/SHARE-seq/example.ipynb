{
  "cells": [
    {
      "cell_type": "markdown",
      "metadata": {
        "id": "view-in-github",
        "colab_type": "text"
      },
      "source": [
        "<a href=\"https://colab.research.google.com/github/IGVF/atomic-workflows/blob/main/assays/SHARE-seq/example.ipynb\" target=\"_parent\"><img src=\"https://colab.research.google.com/assets/colab-badge.svg\" alt=\"Open In Colab\"/></a>"
      ]
    },
    {
      "cell_type": "code",
      "source": [
        "!git clone --quiet https://github.com/pachterlab/kallisto && cd kallisto && git checkout shareseq"
      ],
      "metadata": {
        "colab": {
          "base_uri": "https://localhost:8080/"
        },
        "id": "c1iq7mPqLNn4",
        "outputId": "7fc7f011-c498-4da6-ae3e-49699a07971d"
      },
      "execution_count": 43,
      "outputs": [
        {
          "output_type": "stream",
          "name": "stdout",
          "text": [
            "Branch 'shareseq' set up to track remote branch 'shareseq' from 'origin'.\n",
            "Switched to a new branch 'shareseq'\n"
          ]
        }
      ]
    },
    {
      "cell_type": "code",
      "source": [
        "!apt-get -qq install autoconf"
      ],
      "metadata": {
        "id": "8CC5tu_5L4QM"
      },
      "execution_count": 44,
      "outputs": []
    },
    {
      "cell_type": "code",
      "source": [
        "!cd kallisto && mkdir build && cd build && cmake .. && make &> /dev/null"
      ],
      "metadata": {
        "colab": {
          "base_uri": "https://localhost:8080/"
        },
        "id": "UMTQtgYlLZCn",
        "outputId": "c3c0ae4d-6cba-4b83-9865-7bf42f6c9a89"
      },
      "execution_count": 45,
      "outputs": [
        {
          "output_type": "stream",
          "name": "stdout",
          "text": [
            "-- The C compiler identification is GNU 7.5.0\n",
            "-- The CXX compiler identification is GNU 7.5.0\n",
            "-- Detecting C compiler ABI info\n",
            "-- Detecting C compiler ABI info - done\n",
            "-- Check for working C compiler: /usr/bin/cc - skipped\n",
            "-- Detecting C compile features\n",
            "-- Detecting C compile features - done\n",
            "-- Detecting CXX compiler ABI info\n",
            "-- Detecting CXX compiler ABI info - done\n",
            "-- Check for working CXX compiler: /usr/bin/c++ - skipped\n",
            "-- Detecting CXX compile features\n",
            "-- Detecting CXX compile features - done\n",
            "\u001b[0mshared build\u001b[0m\n",
            "-- Looking for pthread.h\n",
            "-- Looking for pthread.h - found\n",
            "-- Performing Test CMAKE_HAVE_LIBC_PTHREAD\n",
            "-- Performing Test CMAKE_HAVE_LIBC_PTHREAD - Failed\n",
            "-- Looking for pthread_create in pthreads\n",
            "-- Looking for pthread_create in pthreads - not found\n",
            "-- Looking for pthread_create in pthread\n",
            "-- Looking for pthread_create in pthread - found\n",
            "-- Found Threads: TRUE  \n",
            "-- Found ZLIB: /usr/lib/x86_64-linux-gnu/libz.so (found version \"1.2.11\") \n",
            "-- Configuring done\n",
            "-- Generating done\n",
            "-- Build files have been written to: /content/kallisto/build\n"
          ]
        }
      ]
    },
    {
      "cell_type": "code",
      "source": [
        "# mv kallisto binary to where kb-python has access to it\n",
        "!cp kallisto/build/src/kallisto $(pip show kb-python | grep \"Location\" | cut -f2 -d\":\")/kb_python/bins/linux/kallisto/kallisto"
      ],
      "metadata": {
        "id": "-Q3SBPjhM5jz"
      },
      "execution_count": 64,
      "outputs": []
    },
    {
      "cell_type": "code",
      "execution_count": 1,
      "metadata": {
        "colab": {
          "base_uri": "https://localhost:8080/"
        },
        "id": "ERDn5QDkVicV",
        "outputId": "5ee59929-5295-4505-cf49-caeef20cb1d3"
      },
      "outputs": [
        {
          "output_type": "stream",
          "name": "stdout",
          "text": [
            "\u001b[K     |████████████████████████████████| 2.2 MB 5.5 MB/s \n",
            "\u001b[K     |████████████████████████████████| 128 kB 51.9 MB/s \n",
            "\u001b[K     |████████████████████████████████| 25.2 MB 3.5 MB/s \n",
            "\u001b[K     |████████████████████████████████| 1.6 MB 45.3 MB/s \n",
            "\u001b[K     |████████████████████████████████| 7.5 MB 5.7 MB/s \n",
            "\u001b[K     |████████████████████████████████| 96 kB 5.9 MB/s \n",
            "\u001b[K     |████████████████████████████████| 4.8 MB 41.1 MB/s \n",
            "\u001b[K     |████████████████████████████████| 45.2 MB 1.6 MB/s \n",
            "\u001b[K     |████████████████████████████████| 2.0 MB 36.2 MB/s \n",
            "\u001b[K     |████████████████████████████████| 15.1 MB 19.7 MB/s \n",
            "\u001b[K     |████████████████████████████████| 88 kB 7.6 MB/s \n",
            "\u001b[K     |████████████████████████████████| 11.2 MB 42.4 MB/s \n",
            "\u001b[K     |████████████████████████████████| 959 kB 51.2 MB/s \n",
            "\u001b[K     |████████████████████████████████| 1.1 MB 69.3 MB/s \n",
            "\u001b[K     |████████████████████████████████| 63 kB 2.2 MB/s \n",
            "\u001b[?25h  Building wheel for kb-python (setup.py) ... \u001b[?25l\u001b[?25hdone\n",
            "  Building wheel for loompy (setup.py) ... \u001b[?25l\u001b[?25hdone\n",
            "  Building wheel for ngs-tools (setup.py) ... \u001b[?25l\u001b[?25hdone\n",
            "  Building wheel for umap-learn (setup.py) ... \u001b[?25l\u001b[?25hdone\n",
            "  Building wheel for pynndescent (setup.py) ... \u001b[?25l\u001b[?25hdone\n",
            "  Building wheel for session-info (setup.py) ... \u001b[?25l\u001b[?25hdone\n"
          ]
        }
      ],
      "source": [
        "!pip install --quiet gget==0.3.11\n",
        "!pip install --quiet kb-python==0.27.3"
      ]
    },
    {
      "cell_type": "code",
      "execution_count": 2,
      "metadata": {
        "id": "enZBq7G7WKI9"
      },
      "outputs": [],
      "source": [
        "# Download example FASTQ files\n",
        "!curl -Ls https://github.com/IGVF/datasets/blob/main/atomic-workflows/assays/SHARE-seq/example-data/RNA-i1-min.fastq.gz?raw=true > I1.fastq.gz\n",
        "!curl -Ls https://github.com/IGVF/datasets/blob/main/atomic-workflows/assays/SHARE-seq/example-data/RNA-r1-min.fastq.gz?raw=true > R1.fastq.gz\n",
        "!curl -Ls https://github.com/IGVF/datasets/blob/main/atomic-workflows/assays/SHARE-seq/example-data/RNA-r2-min.fastq.gz?raw=true > R2.fastq.gz"
      ]
    },
    {
      "cell_type": "code",
      "source": [
        "!zcat I1.fastq.gz | head\n",
        "!zcat R2.fastq.gz | head\n",
        "!zcat R1.fastq.gz | head"
      ],
      "metadata": {
        "id": "NJFx2G1IiBOb",
        "outputId": "de22d167-58cc-4be7-9e49-0e2fd256056e",
        "colab": {
          "base_uri": "https://localhost:8080/"
        }
      },
      "execution_count": 55,
      "outputs": [
        {
          "output_type": "stream",
          "name": "stdout",
          "text": [
            "@\n",
            "TCGGACGATCATGGGCCGAAGTACAAGTATGCAGCGCGCTCAAGCACGTGGATATTGAGGAAGTCGTACGCCGATGCGAAACATCGGCCACAGCACCTC\n",
            "+\n",
            "IIIIIIIIIIIIIIIIIIIIIIIIIIIIIIIIIIIIIIIIIIIIIIIIIIIIIIIIIIIIIIIIIIIIIIIIIIIIIIIIIIIIIIIIIIIIIIIIIII\n",
            "@\n",
            "TCGGACGATCATGGGCCAGTTCACAAGTATGCAGCGCGCTCAAGCACGTGGATAGCAGGAAAGTCGTACGCCGATGCGAAACATCGGCCACCTGAGCCA\n",
            "+\n",
            "IIIIIIIIIIIIIIIIIIIIIIIIIIIIIIIIIIIIIIIIIIIIIIIIIIIIIIIIIIIIIIIIIIIIIIIIIIIIIIIIIIIIIIIIIIIIIIIIIII\n",
            "@\n",
            "TCGGACGATCATGGGCCAGTTCACAAGTATGCAGCGCGCTCAAGCACGTGGATAGCAGGAAAGTCGTACGCCGATGCGAAACATCGGCCACCTGAGCCA\n",
            "@\n",
            "TCCGCTGCATAAAAAAAAAAAAAAAAAAAA\n",
            "+\n",
            "IIIIIIIIIIIIIIIIIIIIIIIIIIIIII\n",
            "@\n",
            "AAGCTATATCAAAAAAAAAAAAAAAAAAAA\n",
            "+\n",
            "IIIIIIIIIIIIIIIIIIIIIIIIIIIIII\n",
            "@\n",
            "TCCAAGGCAAAAAAAAAAAAAAAAAAAAAA\n",
            "@\n",
            "ACCACCGAAATCTGTGCAGAGGAGAACGC\n",
            "+\n",
            "IIIIIIIIIIIIIIIIIIIIIIIIIIIII\n",
            "@\n",
            "CGTTTTCTCTGGAAGCACTCTTAAGAACAC\n",
            "+\n",
            "IIIIIIIIIIIIIIIIIIIIIIIIIIIIII\n",
            "@\n",
            "CAGAGCTCTACAGTTTGAAAACCACTATTT\n"
          ]
        }
      ]
    },
    {
      "cell_type": "code",
      "execution_count": 4,
      "metadata": {
        "colab": {
          "base_uri": "https://localhost:8080/"
        },
        "id": "S478gQriVrfi",
        "outputId": "9ab3ff17-c0a1-4d6f-84e9-45ef7cc863c2"
      },
      "outputs": [
        {
          "output_type": "stream",
          "name": "stdout",
          "text": [
            "Wed Sep 28 21:56:11 2022 INFO generated new fontManager\n",
            "Wed Sep 28 21:56:20 2022 INFO Fetching reference information for homo_sapiens from Ensembl release: 104.\n",
            "{\n",
            "    \"homo_sapiens\": {\n",
            "        \"genome_dna\": {\n",
            "            \"ftp\": \"http://ftp.ensembl.org/pub/release-104/fasta/homo_sapiens/dna/Homo_sapiens.GRCh38.dna.primary_assembly.fa.gz\",\n",
            "            \"ensembl_release\": 104,\n",
            "            \"release_date\": \"2021-03-31\",\n",
            "            \"release_time\": \"10:46\",\n",
            "            \"bytes\": \"840M\"\n",
            "        },\n",
            "        \"annotation_gtf\": {\n",
            "            \"ftp\": \"http://ftp.ensembl.org/pub/release-104/gtf/homo_sapiens/Homo_sapiens.GRCh38.104.gtf.gz\",\n",
            "            \"ensembl_release\": 104,\n",
            "            \"release_date\": \"2021-03-19\",\n",
            "            \"release_time\": \"19:06\",\n",
            "            \"bytes\": \"47M\"\n",
            "        }\n",
            "    }\n",
            "}\n"
          ]
        }
      ],
      "source": [
        "!gget ref -r 104 -w dna,gtf human"
      ]
    },
    {
      "cell_type": "code",
      "execution_count": 51,
      "metadata": {
        "colab": {
          "base_uri": "https://localhost:8080/"
        },
        "id": "WHMBkBj5Vwfw",
        "outputId": "4aebe2af-b668-4710-af15-b87bc5682349"
      },
      "outputs": [
        {
          "output_type": "stream",
          "name": "stdout",
          "text": [
            "[2022-09-28 22:38:04,944]    INFO [ref] Preparing http://ftp.ensembl.org/pub/release-104/fasta/homo_sapiens/dna/Homo_sapiens.GRCh38.dna.primary_assembly.fa.gz, http://ftp.ensembl.org/pub/release-104/gtf/homo_sapiens/Homo_sapiens.GRCh38.104.gtf.gz\n",
            "[2022-09-28 22:39:41,663]    INFO [ref] Splitting genome http://ftp.ensembl.org/pub/release-104/fasta/homo_sapiens/dna/Homo_sapiens.GRCh38.dna.primary_assembly.fa.gz into cDNA at /content/tmp/tmpk3mwb5uu\n",
            "[2022-09-28 22:41:34,831]    INFO [ref] Concatenating 1 cDNAs to transcriptome.fa\n",
            "[2022-09-28 22:41:36,960]    INFO [ref] Creating transcript-to-gene mapping at t2g.txt\n",
            "[2022-09-28 22:41:39,924] WARNING [ref] Using provided k-mer length 21 instead of optimal length 31\n",
            "[2022-09-28 22:41:39,924]    INFO [ref] Indexing transcriptome.fa to index.idx\n"
          ]
        }
      ],
      "source": [
        "!kb ref \\\n",
        "\t-k 21 \\\n",
        "\t-i index.idx \\\n",
        "\t-g t2g.txt \\\n",
        "\t-f1 transcriptome.fa \\\n",
        "\thttp://ftp.ensembl.org/pub/release-104/fasta/homo_sapiens/dna/Homo_sapiens.GRCh38.dna.primary_assembly.fa.gz \\\n",
        "\thttp://ftp.ensembl.org/pub/release-104/gtf/homo_sapiens/Homo_sapiens.GRCh38.104.gtf.gz"
      ]
    },
    {
      "cell_type": "code",
      "execution_count": 54,
      "metadata": {
        "id": "eBe5yFPMV_cJ",
        "colab": {
          "base_uri": "https://localhost:8080/"
        },
        "outputId": "8962022e-2ba8-4c42-ee38-ec6239451381"
      },
      "outputs": [
        {
          "output_type": "stream",
          "name": "stdout",
          "text": [
            "[2022-09-28 22:53:21,820]    INFO [count] Using index index.idx to generate BUS file to out from\n",
            "[2022-09-28 22:53:21,820]    INFO [count]         I1.fastq.gz\n",
            "[2022-09-28 22:53:21,821]    INFO [count]         R2.fastq.gz\n",
            "[2022-09-28 22:53:21,821]    INFO [count]         R1.fastq.gz\n",
            "[2022-09-28 22:53:54,734]    INFO [count] Sorting BUS file out/output.bus to out/tmp/output.s.bus\n",
            "[2022-09-28 22:54:00,971]    INFO [count] Whitelist not provided\n",
            "[2022-09-28 22:54:00,971]    INFO [count] Generating whitelist out/whitelist.txt from BUS file out/tmp/output.s.bus\n",
            "[2022-09-28 22:54:02,083]    INFO [count] Inspecting BUS file out/tmp/output.s.bus\n",
            "[2022-09-28 22:54:03,194]    INFO [count] Correcting BUS records in out/tmp/output.s.bus to out/tmp/output.s.c.bus with whitelist out/whitelist.txt\n",
            "[2022-09-28 22:54:06,421]    INFO [count] Sorting BUS file out/tmp/output.s.c.bus to out/output.unfiltered.bus\n",
            "[2022-09-28 22:54:11,460]    INFO [count] Generating count matrix out/counts_unfiltered/cells_x_genes from BUS file out/output.unfiltered.bus\n",
            "[2022-09-28 22:54:17,507]    INFO [count] Reading matrix out/counts_unfiltered/cells_x_genes.mtx\n",
            "[2022-09-28 22:54:18,338] WARNING [count] 20055 gene IDs do not have corresponding gene names. These genes will use their gene IDs instead.\n",
            "[2022-09-28 22:54:18,370]    INFO [count] Writing matrix to h5ad out/counts_unfiltered/adata.h5ad\n",
            "[2022-09-28 22:54:18,493]    INFO [count] Filtering with bustools\n",
            "[2022-09-28 22:54:18,493]    INFO [count] Generating whitelist out/filter_barcodes.txt from BUS file out/output.unfiltered.bus\n",
            "[2022-09-28 22:54:19,611]    INFO [count] Correcting BUS records in out/output.unfiltered.bus to out/tmp/output.unfiltered.c.bus with whitelist out/filter_barcodes.txt\n",
            "[2022-09-28 22:54:22,860]    INFO [count] Sorting BUS file out/tmp/output.unfiltered.c.bus to out/output.filtered.bus\n",
            "[2022-09-28 22:54:27,920]    INFO [count] Generating count matrix out/counts_filtered/cells_x_genes from BUS file out/output.filtered.bus\n",
            "[2022-09-28 22:54:33,762]    INFO [count] Reading matrix out/counts_filtered/cells_x_genes.mtx\n",
            "[2022-09-28 22:54:34,515] WARNING [count] 20055 gene IDs do not have corresponding gene names. These genes will use their gene IDs instead.\n",
            "[2022-09-28 22:54:34,557]    INFO [count] Writing matrix to h5ad out/counts_filtered/adata.h5ad\n"
          ]
        }
      ],
      "source": [
        "!kb count \\\n",
        "\t-i index.idx \\\n",
        "\t-g t2g.txt \\\n",
        "\t-x SHARE-seq \\\n",
        "\t-o out \\\n",
        "\t--filter \\\n",
        "\t--h5ad \\\n",
        "\tI1.fastq.gz R2.fastq.gz R1.fastq.gz"
      ]
    },
    {
      "cell_type": "code",
      "source": [],
      "metadata": {
        "id": "cJboYSn5OG5Q"
      },
      "execution_count": null,
      "outputs": []
    }
  ],
  "metadata": {
    "colab": {
      "provenance": [],
      "authorship_tag": "ABX9TyP8ylTfsm+OSyKdQ9JOD7i6",
      "include_colab_link": true
    },
    "kernelspec": {
      "display_name": "Python 3",
      "name": "python3"
    },
    "language_info": {
      "name": "python"
    }
  },
  "nbformat": 4,
  "nbformat_minor": 0
}