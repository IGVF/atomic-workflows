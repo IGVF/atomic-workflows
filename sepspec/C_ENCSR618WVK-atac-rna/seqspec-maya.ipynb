{
 "cells": [
  {
   "cell_type": "code",
   "execution_count": null,
   "id": "f6e61d05-6ba1-4b68-aa75-338295551425",
   "metadata": {},
   "outputs": [],
   "source": [
    "# Tutorial\n",
    "# https://pachterlab.github.io/seqspec/seqspec-tool"
   ]
  },
  {
   "cell_type": "code",
   "execution_count": 1,
   "id": "f41a6e4f-01fa-4323-8dc5-289542f5811a",
   "metadata": {
    "tags": []
   },
   "outputs": [],
   "source": [
    "!seqspec format -o maya_format_01.yaml c_spec_ENCSR618WVK-maya.yaml"
   ]
  },
  {
   "cell_type": "code",
   "execution_count": 2,
   "id": "d936164d-9181-425d-9915-0d9cb991703e",
   "metadata": {
    "tags": []
   },
   "outputs": [
    {
     "name": "stdout",
     "output_type": "stream",
     "text": [
      "[error 1] None is not of type 'string' in spec['library_spec'][0]['regions'][1]['onlist']['md5']\n",
      "[error 2] None is not of type 'string' in spec['library_spec'][0]['regions'][6]['onlist']['md5']\n",
      "[error 3] None is not of type 'string' in spec['library_spec'][1]['regions'][1]['onlist']['md5']\n",
      "[error 4] None is not of type 'string' in spec['library_spec'][1]['regions'][5]['onlist']['md5']\n",
      "[error 4] name_missing.txt.gz does not exist\n",
      "[error 5] TODO.txt does not exist\n",
      "[error 6] 737K-cratac-v1.txt.gz does not exist\n",
      "[error 7] index7_onlist.txt does not exist\n",
      "[error 8] rna.R1.fastq.gz file does not exist\n",
      "[error 9] rna.I1.fastq.gz file does not exist\n",
      "[error 10] rna.R2.fastq.gz file does not exist\n",
      "[error 11] 'rna-spacer' sequence 'AGATCGGAAGAGCACACGTCTGAACTCCAGTCAC' has length 34, expected range (32, 32)\n",
      "[error 12] 'rna-truseq_read1' sequence 'AGATCGGAAGAGCACACGTCTGAACTCCAGTCAC' has length 34, expected range (32, 32)\n",
      "[error 13] 'rna-illumina_p7' sequence 'AGATCGGAAGAGCACACGTCTGAACTCCAGTCAC' has length 34, expected range (32, 32)\n",
      "[error 14] 'rna' sequence 'AATGATACGGCGACCACCGAGATCTNNNNNNNNNNNNNNNNAGATCGGAAGAGCACACGTCTGAACTCCAGTCACAGATCGGAAGAGCACACGTCTGAACTCCAGTCACXXXXXXXXXXXXXXXXXXXXXXXXXXXXXXXXXXXXXXXXXXXXXXXXXXCTGTCTCTTATACACATCTCCGAGCCCACGAGACNNNNNNNNAGATCGGAAGAGCACACGTCTGAACTCCAGTCAC' has length 235, expected range (180, 229)\n"
     ]
    }
   ],
   "source": [
    "\n",
    "# check     Validate seqspec file against specification (check that the values in the sepspec are valid)\n",
    "\n",
    "!seqspec check maya_format_01.yaml"
   ]
  },
  {
   "cell_type": "code",
   "execution_count": 4,
   "id": "e84cb8e8-cebc-4e3c-9e00-94af8e5d9391",
   "metadata": {
    "tags": []
   },
   "outputs": [
    {
     "data": {
      "text/plain": [
       "235"
      ]
     },
     "execution_count": 4,
     "metadata": {},
     "output_type": "execute_result"
    }
   ],
   "source": [
    "len('AATGATACGGCGACCACCGAGATCTNNNNNNNNNNNNNNNNAGATCGGAAGAGCACACGTCTGAACTCCAGTCACAGATCGGAAGAGCACACGTCTGAACTCCAGTCACXXXXXXXXXXXXXXXXXXXXXXXXXXXXXXXXXXXXXXXXXXXXXXXXXXCTGTCTCTTATACACATCTCCGAGCCCACGAGACNNNNNNNNAGATCGGAAGAGCACACGTCTGAACTCCAGTCAC')\n",
    "\n"
   ]
  },
  {
   "cell_type": "code",
   "execution_count": 5,
   "id": "a3589374-b1d5-46be-a447-3655c724edd0",
   "metadata": {
    "tags": []
   },
   "outputs": [
    {
     "data": {
      "text/plain": [
       "16"
      ]
     },
     "execution_count": 5,
     "metadata": {},
     "output_type": "execute_result"
    }
   ],
   "source": [
    "len('NNNNNNNNNNNNNNNN')"
   ]
  },
  {
   "cell_type": "code",
   "execution_count": 6,
   "id": "50644ad8-c8e9-4d44-aec4-6adb244beeb2",
   "metadata": {},
   "outputs": [
    {
     "name": "stdout",
     "output_type": "stream",
     "text": [
      "                                                    ┌─'rna-illumina_p5:25'\n",
      "                                                    ├─'rna-cell_barcode:16'\n",
      "                                                    ├─'rna-spacer:32'\n",
      "                                                    ├─'rna-truseq_read1:32'\n",
      "                          ┌─rna─────────────────────┤\n",
      "                          │                         ├─'rna-cDNA:50'\n",
      "                          │                         ├─'rna-truseq_read2:34'\n",
      "                          │                         ├─'rna-index7:8'\n",
      "──────────────────────────┤                         └─'rna-illumina_p7:32'\n",
      "                          │                         ┌─'atac-illumina_p5:29'\n",
      "                          │                         ├─'atac-barcode:24'\n",
      "                          │                         ├─'atac-nextera_read1:33'\n",
      "                          └─atac────────────────────┼─'atac-gdna:50'\n",
      "                                                    ├─'atac-nextera_read2:34'\n",
      "                                                    ├─'atac-index7:8'\n",
      "                                                    └─'atac-illumina_p7:24'\n"
     ]
    }
   ],
   "source": [
    "#  Display the sequence and/or library structure from seqspec file\n",
    "!seqspec print maya_format_01.yaml"
   ]
  },
  {
   "cell_type": "code",
   "execution_count": 7,
   "id": "0c471c52-9327-4323-a94a-2a0d8e0a089d",
   "metadata": {
    "tags": []
   },
   "outputs": [
    {
     "name": "stdout",
     "output_type": "stream",
     "text": [
      "@A00509:149:HW3GNDRXX:1:1101:1976:1000 2:N:0:AGGTCATA\n",
      "CAGACGCGTTTGTACGAAGGTGCT\n",
      "+\n",
      "FFFFFFFFFFFFFFFFFFFFFFFF\n",
      "@A00509:149:HW3GNDRXX:1:1101:2013:1000 2:N:0:AGGTCATA\n",
      "CAGACGCGGGCATGACTCACAAAG\n",
      "+\n",
      "FFFFFFFFFFFFFFFFFFFFFFFF\n",
      "@A00509:149:HW3GNDRXX:1:1101:2338:1000 2:N:0:AGGTCATA\n",
      "CAGACGCGAGGGTATTGGATGCAA\n",
      "\n",
      "gzip: stdout: Broken pipe\n"
     ]
    }
   ],
   "source": [
    "!zcat atac.I1.fastq.gz | head -n 10\n"
   ]
  },
  {
   "cell_type": "code",
   "execution_count": 10,
   "id": "039f82a3-6c06-4e4e-9afa-6c2fb79a1246",
   "metadata": {
    "tags": []
   },
   "outputs": [
    {
     "data": {
      "text/plain": [
       "24"
      ]
     },
     "execution_count": 10,
     "metadata": {},
     "output_type": "execute_result"
    }
   ],
   "source": [
    "len('CAGACGCGTTTGTACGAAGGTGCT')"
   ]
  },
  {
   "cell_type": "code",
   "execution_count": 8,
   "id": "af6bea19-b698-47f2-a3c2-fa8faa493723",
   "metadata": {
    "tags": []
   },
   "outputs": [
    {
     "name": "stdout",
     "output_type": "stream",
     "text": [
      "@A00509:149:HW3GNDRXX:1:1101:1976:1000 1:N:0:AGGTCATA\n",
      "TCCCAACACTTAGGAAGGCTGAGGTGGGCCGATCGCTTGAGCTCAGGCGT\n",
      "+\n",
      "FFFFFFFFFFFFFFFFFFFFFFFFFFFFFFFFFFFFFFFFFFFFFFFFFF\n",
      "@A00509:149:HW3GNDRXX:1:1101:2013:1000 1:N:0:AGGTCATA\n",
      "GCATAATGGTAGTAAAGTGGTAGCAAAATGATAGTAAAGTGATTAAACAG\n",
      "+\n",
      "FFFFFFFFFFFFFFFFFFFFFFFFFFFFFFFFFFFFFFFFFFFFFFFFFF\n",
      "@A00509:149:HW3GNDRXX:1:1101:2338:1000 1:N:0:AGGTCATA\n",
      "TCCTAATACCAACTATCTCCCTAATTGAAAACAAAATACTCAAATGGGCC\n",
      "\n",
      "gzip: stdout: Broken pipe\n"
     ]
    }
   ],
   "source": [
    "!zcat atac.R1.fastq.gz | head -n 10\n"
   ]
  },
  {
   "cell_type": "code",
   "execution_count": 12,
   "id": "9e34a8b1-6418-4c6f-a0eb-417f9f804092",
   "metadata": {
    "tags": []
   },
   "outputs": [
    {
     "data": {
      "text/plain": [
       "50"
      ]
     },
     "execution_count": 12,
     "metadata": {},
     "output_type": "execute_result"
    }
   ],
   "source": [
    "len('TCCTAATACCAACTATCTCCCTAATTGAAAACAAAATACTCAAATGGGCC')"
   ]
  },
  {
   "cell_type": "code",
   "execution_count": 13,
   "id": "9f21d85f-f33c-4108-8f4f-22d425739c05",
   "metadata": {
    "tags": []
   },
   "outputs": [
    {
     "name": "stdout",
     "output_type": "stream",
     "text": [
      "@A00509:149:HW3GNDRXX:1:1101:1976:1000 3:N:0:AGGTCATA\n",
      "TCTGCGCTCACTGCAGACTCAACCTCCCAGGCTCAAGCAATCCTCCCATT\n",
      "+\n",
      "FFFFFFFFF:FFFFFFFFFFFFFFFFFFFFFFFFFFFFFFFFFFFFFFFF\n",
      "@A00509:149:HW3GNDRXX:1:1101:2013:1000 3:N:0:AGGTCATA\n",
      "CTCTCTCTCTCTCTCTCTCTCTCTGTCACCGAGGCTACAGTGAAGTGGCA\n",
      "+\n",
      ",FFFFFFFFFFFFFFFFFFFFFFF:FFFFFFFFFFFFFFFFFFFFFF,FF\n",
      "@A00509:149:HW3GNDRXX:1:1101:2338:1000 3:N:0:AGGTCATA\n",
      "TTATACTACAAGGACAGGCCCATTTGAGTATTTTGTTTTCAATTAGGGAG\n",
      "\n",
      "gzip: stdout: Broken pipe\n"
     ]
    }
   ],
   "source": [
    "!zcat atac.R2.fastq.gz | head -n 10\n"
   ]
  },
  {
   "cell_type": "code",
   "execution_count": 14,
   "id": "795b0e25-f86c-47bc-b848-0a9000d6c5d9",
   "metadata": {
    "tags": []
   },
   "outputs": [
    {
     "data": {
      "text/plain": [
       "50"
      ]
     },
     "execution_count": 14,
     "metadata": {},
     "output_type": "execute_result"
    }
   ],
   "source": [
    "len('TTATACTACAAGGACAGGCCCATTTGAGTATTTTGTTTTCAATTAGGGAG')"
   ]
  },
  {
   "cell_type": "code",
   "execution_count": 9,
   "id": "330d3d01-29ec-48ec-a860-760d81f88311",
   "metadata": {
    "tags": []
   },
   "outputs": [
    {
     "name": "stdout",
     "output_type": "stream",
     "text": [
      "atac.I1.fastq.gz\tBarcode\tbarcode\t0\t24\n",
      "atac.R1.fastq.gz\tComplementary DNA\tgdna\t0\t50\n",
      "atac.R2.fastq.gz\tComplementary DNA\tgdna\t0\t50\n"
     ]
    }
   ],
   "source": [
    "# Identify position of elements in seqspec file. For down stream use\n",
    "!seqspec index -m atac -r atac.I1.fastq.gz,atac.R1.fastq.gz,atac.R2.fastq.gz maya_format_01.yaml\n",
    "\n"
   ]
  }
 ],
 "metadata": {
  "kernelspec": {
   "display_name": "seqspec_env",
   "language": "python",
   "name": "seqspec_env"
  },
  "language_info": {
   "codemirror_mode": {
    "name": "ipython",
    "version": 3
   },
   "file_extension": ".py",
   "mimetype": "text/x-python",
   "name": "python",
   "nbconvert_exporter": "python",
   "pygments_lexer": "ipython3",
   "version": "3.9.19"
  }
 },
 "nbformat": 4,
 "nbformat_minor": 5
}
