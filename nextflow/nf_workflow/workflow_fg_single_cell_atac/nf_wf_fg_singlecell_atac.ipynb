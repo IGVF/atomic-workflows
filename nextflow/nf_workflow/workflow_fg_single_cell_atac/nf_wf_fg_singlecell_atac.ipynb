{
 "cells": [
  {
   "cell_type": "code",
   "execution_count": 292,
   "metadata": {
    "tags": []
   },
   "outputs": [],
   "source": [
    "# start docker deamon in terminal\n",
    "# !sudo docker login\n",
    "# OR - becuase the jupyther with allow root\n",
    "# !docker login"
   ]
  },
  {
   "cell_type": "code",
   "execution_count": 293,
   "metadata": {},
   "outputs": [
    {
     "name": "stdout",
     "output_type": "stream",
     "text": [
      "Copying gs://eila-nextflow-bucket/wdl_data/no-singleton.bed.gz...\n",
      "Skipping attempt to download to filename ending with slash                      \n",
      "(../nf_data/wdl_atac_pipeline/). This typically happens when using\n",
      "gsutil to download from a subdirectory created by the Cloud Console\n",
      "(https://cloud.google.com/console)\n",
      "InvalidUrlError: Invalid destination path: ../nf_data/wdl_atac_pipeline/.\n"
     ]
    }
   ],
   "source": [
    "!gsutil cp gs://eila-nextflow-bucket/wdl_data/no-singleton.bed.gz ../nf_data/wdl_atac_pipeline/ \n"
   ]
  },
  {
   "cell_type": "code",
   "execution_count": 294,
   "metadata": {
    "tags": []
   },
   "outputs": [
    {
     "name": "stdout",
     "output_type": "stream",
     "text": [
      "/home/eila/git_igvf/atomic-workflows/nextflow/nf_workflow/workflow_fg_single_cell_atac\n"
     ]
    }
   ],
   "source": [
    "!pwd"
   ]
  },
  {
   "cell_type": "markdown",
   "metadata": {},
   "source": [
    "TODO:\n",
    "\n",
    "when running with cloud. \n",
    "if you dont need to keep the execution logs, change the cloud settings to keep it for a short while\n",
    "Check that the cache if you need to set the cache to false (especially in plot process)"
   ]
  },
  {
   "cell_type": "code",
   "execution_count": 295,
   "metadata": {
    "tags": []
   },
   "outputs": [
    {
     "name": "stdout",
     "output_type": "stream",
     "text": [
      "/home/eila/git_igvf/atomic-workflows/nextflow/hai-gcp-genomic-beb9207a40b8.json\n"
     ]
    }
   ],
   "source": [
    "import os\n",
    "json_path = os.path.join(os.path.dirname(os.path.dirname(os.getcwd())),\"hai-gcp-genomic-beb9207a40b8.json\")\n",
    "!ls $json_path"
   ]
  },
  {
   "cell_type": "code",
   "execution_count": 296,
   "metadata": {
    "tags": []
   },
   "outputs": [
    {
     "name": "stdout",
     "output_type": "stream",
     "text": [
      "Activated service account credentials for: [eila-batch@hai-gcp-genomic.iam.gserviceaccount.com]\n"
     ]
    }
   ],
   "source": [
    "# # in the command line. same env\n",
    "import os\n",
    "json_path = os.path.join(os.path.dirname(os.path.dirname(os.getcwd())),\"hai-gcp-genomic-beb9207a40b8.json\")\n",
    "os.environ['GOOGLE_APPLICATION_CREDENTIALS'] = json_path\n",
    "!gcloud auth activate-service-account eila-batch@hai-gcp-genomic.iam.gserviceaccount.com --key-file=$GOOGLE_APPLICATION_CREDENTIALS"
   ]
  },
  {
   "cell_type": "code",
   "execution_count": 297,
   "metadata": {
    "tags": []
   },
   "outputs": [
    {
     "name": "stdout",
     "output_type": "stream",
     "text": [
      "                  Credentialed Accounts\n",
      "ACTIVE  ACCOUNT\n",
      "        886987709752-compute@developer.gserviceaccount.com\n",
      "*       eila-batch@hai-gcp-genomic.iam.gserviceaccount.com\n",
      "\n",
      "To set the active account, run:\n",
      "    $ gcloud config set account `ACCOUNT`\n",
      "\n"
     ]
    },
    {
     "data": {
      "text/plain": [
       "'hai-gcp-genomic'"
      ]
     },
     "execution_count": 297,
     "metadata": {},
     "output_type": "execute_result"
    }
   ],
   "source": [
    "!gcloud auth list\n",
    "project_name = !gcloud config get-value project\n",
    "project_name = project_name[0]\n",
    "project_name\n",
    "# gcloud config set account\n"
   ]
  },
  {
   "cell_type": "code",
   "execution_count": 298,
   "metadata": {
    "tags": []
   },
   "outputs": [],
   "source": [
    "# !gsutil cp gs://eila-nextflow-bucket/work/ATAC/b3/94bc73c6d43de41d17d75cac4fbda1/no-singleton.bed.gz.tbi /home/eila/git_igvf/downloads"
   ]
  },
  {
   "cell_type": "code",
   "execution_count": 299,
   "metadata": {
    "tags": []
   },
   "outputs": [],
   "source": [
    "import os\n",
    "os.environ[\"TOWER_ACCESS_TOKEN\"] = 'eyJ0aWQiOiA4Mjk3fS5jNDNmYzA4NTg2MjAxNDQzOTAwYmUzNWEzZTY0MGMyZTc0OWE3M2Mz'\n",
    "os.environ[\"TOWER_WORKSPACE_ID\"]='247507587970818'\n"
   ]
  },
  {
   "cell_type": "code",
   "execution_count": 300,
   "metadata": {
    "tags": []
   },
   "outputs": [
    {
     "name": "stdout",
     "output_type": "stream",
     "text": [
      "eyJ0aWQiOiA4Mjk3fS5jNDNmYzA4NTg2MjAxNDQzOTAwYmUzNWEzZTY0MGMyZTc0OWE3M2Mz\n",
      "247507587970818\n"
     ]
    }
   ],
   "source": [
    "!echo $TOWER_ACCESS_TOKEN\n",
    "!echo $TOWER_WORKSPACE_ID"
   ]
  },
  {
   "cell_type": "code",
   "execution_count": 301,
   "metadata": {
    "tags": []
   },
   "outputs": [
    {
     "name": "stdout",
     "output_type": "stream",
     "text": [
      "/home/eila/git_igvf/atomic-workflows/nextflow/nf_workflow/workflow_fg_single_cell_atac\n"
     ]
    }
   ],
   "source": [
    "!pwd"
   ]
  },
  {
   "cell_type": "code",
   "execution_count": 302,
   "metadata": {
    "tags": []
   },
   "outputs": [
    {
     "data": {
      "text/plain": [
       "'/home/eila/git_igvf/atomic-workflows/nextflow/nf_workflow/workflow_fg_single_cell_atac/bin'"
      ]
     },
     "execution_count": 302,
     "metadata": {},
     "output_type": "execute_result"
    }
   ],
   "source": [
    "# !chmod +x ./bin/scrna_qc_metrics.py\n",
    "import os\n",
    "bin_fld = os.path.join(os.getcwd(),\"bin\")\n",
    "bin_fld"
   ]
  },
  {
   "cell_type": "code",
   "execution_count": 303,
   "metadata": {
    "tags": []
   },
   "outputs": [],
   "source": [
    "!chmod +x {os.path.join(bin_fld, \"atac_plot_metadata.R\")}\n",
    "!chmod +x {os.path.join(bin_fld, \"run_tabix.sh\")}\n",
    "!chmod +x {os.path.join(bin_fld, \"atac_generate_merged_barcode_metadata.sh\")}\n",
    "!chmod +x {os.path.join(bin_fld, \"create_sample_filtered_fragment_file.sh\")}\n",
    "!chmod +x {os.path.join(bin_fld, \"compute_tss_enrichment_bulk.py\")}\n",
    "!chmod +x {os.path.join(bin_fld, \"barcode_rank_functions.R\")}\n",
    "!chmod +x {os.path.join(bin_fld, \"plot_insert_size_hist.py\")}\n",
    "!chmod +x {os.path.join(bin_fld, \"compute_tss_enrichment_snapatac2.py\")}\n",
    "!chmod +x {os.path.join(bin_fld, \"add_subpool_to_chromap_output.sh\")}\n",
    "!chmod +x {os.path.join(bin_fld, \"add_subpool_to_summary_file.sh\")}\n",
    "!chmod +x {os.path.join(bin_fld, \"filter_fragments_gz_sort_bgzip_script.sh\")}\n",
    "!chmod +x {os.path.join(bin_fld, \"merge_chromap_logs.sh\")}\n",
    "!chmod +x {os.path.join(bin_fld, \"generate_insert_size_histogram_data.sh\")}\n",
    "!chmod +x {os.path.join(bin_fld, \"calculate_barcode_metadata_stats.sh\")}"
   ]
  },
  {
   "cell_type": "code",
   "execution_count": 304,
   "metadata": {
    "tags": []
   },
   "outputs": [],
   "source": [
    "# # TODO: For a new user: run these commands with your service account for the execution. I am using eila-batch@...\n",
    "\n",
    "# !gcloud projects add-iam-policy-binding hai-gcp-genomic \\\n",
    "# --member=\"serviceAccount:eila-batch@hai-gcp-genomic.iam.gserviceaccount.com\" \\\n",
    "# --role=\"roles/iam.serviceAccountUser\"\n",
    "\n",
    "# !gcloud projects add-iam-policy-binding hai-gcp-genomic \\\n",
    "# --member=\"serviceAccount:eila-batch@hai-gcp-genomic.iam.gserviceaccount.com\" \\\n",
    "# --role=\"roles/batch.jobsEditor\"\n",
    "\n",
    "# !gcloud projects add-iam-policy-binding hai-gcp-genomic \\\n",
    "# --member=\"serviceAccount:eila-batch@hai-gcp-genomic.iam.gserviceaccount.com\" \\\n",
    "# --role=\"roles/logging.viewer\"\n",
    "\n",
    "# !gcloud projects add-iam-policy-binding hai-gcp-genomic \\\n",
    "# --member=\"serviceAccount:eila-batch@hai-gcp-genomic.iam.gserviceaccount.com\" \\"
   ]
  },
  {
   "cell_type": "code",
   "execution_count": 305,
   "metadata": {
    "tags": []
   },
   "outputs": [],
   "source": [
    "# !nextflow -self-update"
   ]
  },
  {
   "cell_type": "code",
   "execution_count": 306,
   "metadata": {
    "tags": []
   },
   "outputs": [
    {
     "name": "stdout",
     "output_type": "stream",
     "text": [
      "  Version: 23.10.1 build 5891\n",
      "  Created: 12-01-2024 22:01 UTC \n",
      "  System: Linux 5.10.0-27-cloud-amd64\n",
      "  Runtime: Groovy 3.0.19 on OpenJDK 64-Bit Server VM 11.0.1-internal+0-adhoc..src\n",
      "  Encoding: UTF-8 (UTF-8)\n",
      "\n"
     ]
    }
   ],
   "source": [
    "!nextflow info"
   ]
  },
  {
   "cell_type": "code",
   "execution_count": 307,
   "metadata": {
    "tags": []
   },
   "outputs": [
    {
     "name": "stdout",
     "output_type": "stream",
     "text": [
      "/home/eila/git_igvf/atomic-workflows/nextflow/nf_data\n"
     ]
    }
   ],
   "source": [
    "import os\n",
    "\n",
    "# Get the current working directory\n",
    "current_directory = os.getcwd()\n",
    "\n",
    "# Navigate two folders above\n",
    "two_folders_above = os.path.abspath(os.path.join(current_directory, '..', '..'))\n",
    "\n",
    "nf_data_base_path = os.path.join(two_folders_above,'nf_data')\n",
    "# Print the result\n",
    "print(nf_data_base_path)\n"
   ]
  },
  {
   "cell_type": "code",
   "execution_count": 308,
   "metadata": {
    "tags": []
   },
   "outputs": [
    {
     "data": {
      "text/plain": [
       "'/home/eila/git_igvf/atomic-workflows/nextflow/nf_data'"
      ]
     },
     "execution_count": 308,
     "metadata": {},
     "output_type": "execute_result"
    }
   ],
   "source": [
    "nf_data_base_path\n"
   ]
  },
  {
   "cell_type": "code",
   "execution_count": 309,
   "metadata": {
    "tags": []
   },
   "outputs": [],
   "source": [
    "# nf_data_project=\"test_atac_pipeline\"\n",
    "nf_data_project=\"wdl_atac_pipeline\""
   ]
  },
  {
   "cell_type": "code",
   "execution_count": 310,
   "metadata": {
    "tags": []
   },
   "outputs": [
    {
     "data": {
      "text/plain": [
       "'/home/eila/git_igvf/atomic-workflows/nextflow/nf_data/wdl_atac_pipeline/vm_atac_fastqs_files.tsv'"
      ]
     },
     "execution_count": 310,
     "metadata": {},
     "output_type": "execute_result"
    }
   ],
   "source": [
    "# LOCAL\n",
    "# os.path.exists(os.path.join(nf_data_base_path,nf_data_project,\"local_atac_fastqs_files.tsv\"))\n",
    "# os.path.join(nf_data_base_path,nf_data_project,\"local_atac_fastqs_files.tsv\")\n",
    "\n",
    "# VM\n",
    "os.path.exists(os.path.join(nf_data_base_path,nf_data_project,\"vm_atac_fastqs_files.tsv\"))\n",
    "os.path.join(nf_data_base_path,nf_data_project,\"vm_atac_fastqs_files.tsv\")"
   ]
  },
  {
   "cell_type": "code",
   "execution_count": 311,
   "metadata": {
    "tags": []
   },
   "outputs": [],
   "source": [
    "\n",
    "# Write the configuration file\n",
    "with open(\"nextflow_atac.config\", \"w\") as config_file:\n",
    "    config_file.write(f\"\"\"\n",
    "manifest {{\n",
    "  description = 'A nexflow pipeline for fg single cell atac' \n",
    "  mainScript = 'nf_wf_fg_singlecell_atac.nf'\n",
    "}}\n",
    "\n",
    "profiles {{\n",
    "  google_batch_profile {{\n",
    "    workDir = 'gs://eila-nextflow-bucket/work/ATAC'\n",
    "    includeConfig 'conf/docker-google-batch.config'\n",
    "    docker.enabled = true\n",
    "    wave.enabled = true\n",
    "    fusion.enabled = true\n",
    "    process.scratch = false\n",
    "    executor = 'google-batch'\n",
    "    docker.envWhitelist=['ENV_SYNAPSE_TOKEN','TOWER_ACCESS_TOKEN']\n",
    "    google.project = '{project_name}'\n",
    "    google.location = 'us-central1'\n",
    "    google.batch.spot = true\n",
    "    google.batch.serviceAccountEmail='eila-batch@hai-gcp-genomic.iam.gserviceaccount.com'\n",
    "  }}\n",
    "}}\n",
    "\n",
    "// Define ENV_SYNAPSE_TOKEN as a parameter\n",
    "params.FASTQS_SPEC_CH = '{nf_data_base_path}/{nf_data_project}/vm_atac_fastqs_files.tsv'\n",
    "// CHROMAP\n",
    "// 6a\n",
    "params.CHROMAP_IDX='gs://eila-nextflow-bucket/test_atac_pipeline/ref.index'\n",
    "// 6b:\n",
    "// FASTA file\n",
    "params.CHROMAP_READ_LENGTH = 2000\n",
    "params.CHROMAP_BC_ERROR_THRESHOLD = 2\n",
    "params.CHROMAP_BC_PROBABILITY_THRESHOLD = 0.9\n",
    "params.CHROMAP_READ_FORMAT = 'bc:0:-1,r1:0:-1,r2:0:-1'\n",
    "params.CHROMAP_DROP_REPETITIVE_READS = 4\n",
    "params.CHROMAP_QUALITY_THRESHOLD = 0\n",
    "params.CHROMAP_MERGE_LOGS_SCRIPT = \"merge_chromap_logs.sh\"\n",
    "params.CHROMAP_FRAGMENTS_HISTOGRAM_DATA_SCRIPT='generate_insert_size_histogram_data.sh'\n",
    "params.CHROMAP_GENOME_REFERENCE_FASTA='{nf_data_base_path}/{nf_data_project}/GCA_000001405.15_GRCh38_no_alt_analysis_set.fna.gz'\n",
    "\n",
    "// CHROMAP DEBUG: load output files \n",
    "// params.chromap_filter_fragments_tsv ='{nf_data_base_path}/{nf_data_project}/chromap_out_debug/ATAC_BMMC-single-donor.atac.filter.fragments.tsv'\n",
    "// params.barcode_summary_csv ='{nf_data_base_path}/{nf_data_project}/chromap_out_debug/BMMC-single-donor.atac.align.barcode.summary.csv'\n",
    "// params.chromap_alignment_log_out = '{nf_data_base_path}/{nf_data_project}/chromap_out_debug/BMMC-single-donor.atac.align.k4.hg38.log.txt'\n",
    "\n",
    "// CHROMAP WDL DEBUG: load output files \n",
    "params.chromap_fragments_tsv ='{nf_data_base_path}/{nf_data_project}/ATAC_BMMC-single-donor.atac.filter.fragments.tsv'\n",
    "params.barcode_summary_csv ='{nf_data_base_path}/{nf_data_project}/BMMC-single-donor.atac.align.barcode.summary.csv'\n",
    "params.chromap_alignment_log_out = '{nf_data_base_path}/{nf_data_project}/BMMC-single-donor.atac.align.k4.hg38.log.txt'\n",
    "params.bgzip_subpool_chromap_fragments_tsv_out='{nf_data_base_path}/{nf_data_project}/BMMC-single-donor.atac.filter.fragments.hg38.tsv.gz'\n",
    "params.no_singleton_gz='{nf_data_base_path}/{nf_data_project}/no-singleton.bed.gz'\n",
    "// params.tbi_no_singleton_bed_gz_out='{nf_data_base_path}/{nf_data_project}/.tbi'\n",
    "\n",
    "params.TSV_ADD_SUBPOOL_SCRIPT = 'add_subpool_to_chromap_output.sh'\n",
    "params.CSV_ADD_SUBPOOL_SCRIPT = 'add_subpool_to_summary_file.sh'\n",
    "params.FILTER_FRAGMENTS_SCRIPT = 'filter_fragments_gz_sort_bgzip_script.sh'\n",
    "params.ATAC_FRAGMENTS_MIN_FRAG_CUTOFF=10\n",
    "\n",
    "// Other steps\n",
    "\n",
    "params.GENOME_GZ_GTF='http://ftp.ensembl.org/pub/release-109/gtf/homo_sapiens/Homo_sapiens.GRCh38.109.gtf.gz'\n",
    "params.ENV_SYNAPSE_TOKEN = \"nextflow secrets get SYNAPSE\".execute().text.trim()\n",
    "\n",
    "\n",
    "params.MAPQ_THRESHOLD = false\n",
    "params.BARCODE_TRANSLATE = 'path'\n",
    "params.ATAC_FRAGMENTS_CUTOFF = 4\n",
    "params.RUN_TABIX_SCRIPT='run_tabix.sh'\n",
    "params.ATAC_TSS_BASES_FLANK = 2000\n",
    "params.ATAC_TSS_COL_WITH_STRANDS_INFO = 4\n",
    "params.ATAC_TSS_SMOOTHING_WINDOW_SIZE = 20\n",
    "params.ATAC_TSS_REGION_BED_FILE='{nf_data_base_path}/{nf_data_project}/hg38.refGene.TSS.bed'\n",
    "params.ATAC_TSS_BULK_CALCULATION_SCRIPT='compute_tss_enrichment_bulk.py'\n",
    "params.ATAC_TSS_SNAPATAC2_CALCULATION_SCRIPT='compute_tss_enrichment_snapatac2.py'\n",
    "params.ATAC_TSS_SNAPATAC2_GENES_GTF='{nf_data_base_path}/{nf_data_project}/genes.gtf'\n",
    "params.ATAC_TSS_SNAPATAC2_MIN_FRAG_CUTOFF = 10\n",
    "\n",
    "params.ATAC_INSERT_SIZE_PLOT_SCRIPT='plot_insert_size_hist.py'\n",
    "\n",
    "// atac calculate_barcode_metadata_stats\n",
    "params.ATAC_SNAP_METADATA_STATS_SCRIPT='calculate_barcode_metadata_stats.sh'\n",
    "// atac plot barcode metadata\n",
    "params.ATAC_PLOT_METADATA_SCRIPT='atac_plot_metadata.R'\n",
    "params.ATAC_PLOT_METADATA_HELPER_SCRIPT='barcode_rank_functions.R'\n",
    "\n",
    "// debug file\n",
    "// params.SC_ATAC_QC_BARCODE_METADATA_FILE='{nf_data_base_path}/{nf_data_project}/barcode_metadata.txt'\n",
    "params.ATAC_QC_FRAGMENT_CUTOFF=10\n",
    "params.SC_ATAC_QC_BARCODE_OUTPUT_FILE='atac_barcode_metadata_output_file.png'\n",
    "    \n",
    "// params.SC_ATAC_BARCODE_METADATA_SCRIPT='atac_generate_merged_barcode_metadata.sh'\n",
    "// DEBUG: get the data from a file\n",
    "// params.SC_ATAC_BARCODE_METADATA_FILTERED_BARCODE_STATS='{nf_data_base_path}nf_wf_fg_singlecell/filtered_barcode_stats.csv'\n",
    "// params.SC_ATAC_BARCODE_METADATA_TSS_ENRICHMENT_BARCODE_STATS='{nf_data_base_path}nf_wf_fg_singlecell/tss_enrichment_barcode_stats.csv'\n",
    "\n",
    "// params.SC_ATAC_GENERATE_BARCODE_RANK_PLOT_PKR='PKR123'\n",
    "\n",
    "// params.SC_JOINT_CELL_BARCODE_PLOT_SCRTIP_PY='joint_cell_plotting.py'\n",
    "// params.SC_JOINT_CELL_BARCODE_PLOT_SCRTIP_R='joint_cell_plotting_density.R'\n",
    "\n",
    "// DEBUG\n",
    "\n",
    "params.CPUS_TO_USE_TSS=16\n",
    "params.CPUS_TO_USE_CHROMAP_IDX=32\n",
    "\"\"\")\n"
   ]
  },
  {
   "cell_type": "code",
   "execution_count": null,
   "metadata": {},
   "outputs": [],
   "source": []
  },
  {
   "cell_type": "code",
   "execution_count": 312,
   "metadata": {
    "tags": []
   },
   "outputs": [],
   "source": [
    "# !rm -r /Users/eilaarich-landkof-stanford/Documents/Code/git_igvf/cellatlas-scrna-seq-pipeline/nextflow/nf_workflow/workflow_fg_single_cell_atac/work\n",
    "# !rm -r /home/eila/git_igvf/cellatlas-scrna-seq-pipeline/nextflow/nf_workflow/workflow_fg_single_cell_atac/work\n",
    "# !gsutil rm -r gs://eila-nextflow-bucket/work/ATAC"
   ]
  },
  {
   "cell_type": "code",
   "execution_count": 313,
   "metadata": {
    "tags": []
   },
   "outputs": [],
   "source": [
    "# !rm .nextflow*\n",
    "\n",
    "# !ls /Users/eilaarich-landkof-stanford/Documents/Code/atomic-workflows/nextflow/nf_data/test_atac_pipeline/local_atac_fastqs_files.tsv"
   ]
  },
  {
   "cell_type": "code",
   "execution_count": null,
   "metadata": {
    "tags": []
   },
   "outputs": [
    {
     "name": "stdout",
     "output_type": "stream",
     "text": [
      "N E X T F L O W  ~  version 23.10.1\n",
      "Launching `nf_wf_fg_singlecell_atac.nf` [jovial_hilbert] DSL2 - revision: f67c3abb1f\n",
      "/home/eila/git_igvf/atomic-workflows/nextflow/nf_data/wdl_atac_pipeline/vm_atac_fastqs_files.tsv\n",
      "null\n",
      "after genome_fasta_ch\n",
      "[-        ] process > run_zcat -\u001b[K\n",
      "after run_zcat \u001b[K\n",
      "after load chrompa mapping debug\u001b[K\n",
      "\u001b[4A\n",
      "[-        ] process > run_zcat                       -\u001b[K\n",
      "[-        ] process > run_add_subpool_to_chromap_... -\u001b[K\n",
      "[-        ] process > run_bgzip_on_chromap_fragme... -\u001b[K\n",
      "[-        ] process > run_process_create_temp_sum... -\u001b[K\n",
      "[-        ] process > run_filter_aligned_fragment... -\u001b[K\n",
      "[-        ] process > run_gzip_on_genes_gtf          -\u001b[K\n",
      "[-        ] process > run_calculate_tss_enrichmen... -\u001b[K\n",
      "[-        ] process > run_barcode_metadata_stats     -\u001b[K\n",
      "after run_zcat \u001b[K\n",
      "after load chrompa mapping debug\u001b[K\n",
      "before call run_bgzip_on_chromap_fragments_output\u001b[K\n",
      "after call run_bgzip_on_chromap_fragments_output\u001b[K\n",
      "before run_add_subpool_prefix_to_summary_file\u001b[K\n",
      "after run_add_subpool_prefix_to_summary_file\u001b[K\n",
      "after run_gzip_on_genes_gtf\u001b[K\n",
      "before call run_calculate_tss_enrichment_snapatac2\u001b[K\n",
      "after call run_calculate_tss_enrichment_snapatac2\u001b[K\n",
      "before run_barcode_metadata_stats\u001b[K\n",
      "after run_barcode_metadata_stats\u001b[K\n",
      "\u001b[20A\n",
      "\u001b[32;1mMonitor the execution with Nextflow Tower using this URL: https://tower.nf/orgs/ort_eila_org/workspaces/ort_eila_wrkspc/watch/1rflEg5ZaEbefY\u001b[22;39m\u001b[K\n",
      "[-        ] process > run_zcat                       -\u001b[K\n",
      "[-        ] process > run_add_subpool_to_chromap_... -\u001b[K\n",
      "[-        ] process > run_bgzip_on_chromap_fragme... -\u001b[K\n",
      "[-        ] process > run_process_create_temp_sum... -\u001b[K\n",
      "[-        ] process > run_filter_aligned_fragment... -\u001b[K\n",
      "[-        ] process > run_gzip_on_genes_gtf          -\u001b[K\n",
      "[-        ] process > run_calculate_tss_enrichmen... -\u001b[K\n",
      "[-        ] process > run_barcode_metadata_stats     -\u001b[K\n",
      "after run_zcat \u001b[K\n",
      "after load chrompa mapping debug\u001b[K\n",
      "before call run_bgzip_on_chromap_fragments_output\u001b[K\n",
      "after call run_bgzip_on_chromap_fragments_output\u001b[K\n",
      "before run_add_subpool_prefix_to_summary_file\u001b[K\n",
      "after run_add_subpool_prefix_to_summary_file\u001b[K\n",
      "after run_gzip_on_genes_gtf\u001b[K\n",
      "before call run_calculate_tss_enrichment_snapatac2\u001b[K\n",
      "after call run_calculate_tss_enrichment_snapatac2\u001b[K\n",
      "before run_barcode_metadata_stats\u001b[K\n",
      "after run_barcode_metadata_stats\u001b[K\n",
      "\u001b[21A\n",
      "\u001b[32;1mMonitor the execution with Nextflow Tower using this URL: https://tower.nf/orgs/ort_eila_org/workspaces/ort_eila_wrkspc/watch/1rflEg5ZaEbefY\u001b[22;39m\u001b[K\n",
      "[4b/8b2ed5] process > run_zcat                       [100%] 1 of 1, cached: 1\u001b[K\n",
      "[-        ] process > run_add_subpool_to_chromap_... -\u001b[K\n",
      "[-        ] process > run_bgzip_on_chromap_fragme... -\u001b[K\n",
      "[-        ] process > run_process_create_temp_sum... -\u001b[K\n",
      "[-        ] process > run_filter_aligned_fragment... -\u001b[K\n",
      "[34/af1fe4] process > run_gzip_on_genes_gtf (1)      [100%] 1 of 1, cached: 1\u001b[K\n",
      "[-        ] process > run_calculate_tss_enrichmen... -\u001b[K\n",
      "[-        ] process > run_barcode_metadata_stats     -\u001b[K\n",
      "after run_zcat \u001b[K\n",
      "after load chrompa mapping debug\u001b[K\n",
      "before call run_bgzip_on_chromap_fragments_output\u001b[K\n",
      "after call run_bgzip_on_chromap_fragments_output\u001b[K\n",
      "before run_add_subpool_prefix_to_summary_file\u001b[K\n",
      "after run_add_subpool_prefix_to_summary_file\u001b[K\n",
      "after run_gzip_on_genes_gtf\u001b[K\n",
      "before call run_calculate_tss_enrichment_snapatac2\u001b[K\n",
      "after call run_calculate_tss_enrichment_snapatac2\u001b[K\n",
      "before run_barcode_metadata_stats\u001b[K\n",
      "after run_barcode_metadata_stats\u001b[K\n",
      "\u001b[21A\n",
      "\u001b[32;1mMonitor the execution with Nextflow Tower using this URL: https://tower.nf/orgs/ort_eila_org/workspaces/ort_eila_wrkspc/watch/1rflEg5ZaEbefY\u001b[22;39m\u001b[K\n",
      "[4b/8b2ed5] process > run_zcat                       [100%] 1 of 1, cached: 1 ✔\u001b[K\n",
      "[-        ] process > run_add_subpool_to_chromap_... -\u001b[K\n",
      "[-        ] process > run_bgzip_on_chromap_fragme... -\u001b[K\n",
      "[-        ] process > run_process_create_temp_sum... -\u001b[K\n",
      "[-        ] process > run_filter_aligned_fragment... -\u001b[K\n",
      "[34/af1fe4] process > run_gzip_on_genes_gtf (1)      [100%] 1 of 1, cached: 1 ✔\u001b[K\n",
      "[-        ] process > run_calculate_tss_enrichmen... -\u001b[K\n",
      "[-        ] process > run_barcode_metadata_stats     -\u001b[K\n",
      "after run_zcat \u001b[K\n",
      "after load chrompa mapping debug\u001b[K\n",
      "before call run_bgzip_on_chromap_fragments_output\u001b[K\n",
      "after call run_bgzip_on_chromap_fragments_output\u001b[K\n",
      "before run_add_subpool_prefix_to_summary_file\u001b[K\n",
      "after run_add_subpool_prefix_to_summary_file\u001b[K\n",
      "after run_gzip_on_genes_gtf\u001b[K\n",
      "before call run_calculate_tss_enrichment_snapatac2\u001b[K\n",
      "after call run_calculate_tss_enrichment_snapatac2\u001b[K\n",
      "before run_barcode_metadata_stats\u001b[K\n",
      "after run_barcode_metadata_stats\u001b[K\n",
      "Start run_gzip\u001b[K\n",
      "Gzip file is: genes.gtf.gz\u001b[K\n",
      "Files after processing:\u001b[K\n",
      "total 55875\u001b[K\n",
      "-rw-r--r-- 1 root root 57215195 Feb 12 00:47 genes.gtf.gz\u001b[K\n",
      "lrwxrwxrwx 1 root root      128 Feb 12 00:47 genes.gtf -> /fusion/gs/eila-nextflow-bucket/work/ATAC/stage-0cbd4d64-b857-4807-b564-11778fa2d750/41/45671d165921b1e3a885b4ea55909e/genes.gtf\u001b[K\n",
      "Finished run_gzip\u001b[K\n",
      "\u001b[K\n",
      "Start run_zcat\u001b[K\n",
      "Zcat file is: GCA_000001405.15_GRCh38_no_alt_analysis_set.fna.gz\u001b[K\n",
      "Files before processing:\u001b[K\n",
      "total 1\u001b[K\n",
      "lrwxrwxrwx 1 root root 169 Feb 12 00:47 GCA_000001405.15_GRCh38_no_alt_analysis_set.fna.gz -> /fusion/gs/eila-nextflow-bucket/work/ATAC/stage-0cbd4d64-b857-4807-b564-11778fa2d750/f2/e60f03e75862ee5ca99088aa1ad7b5/GCA_000001405.15_GRCh38_no_alt_analysis_set.fna.gz\u001b[K\n",
      "Files after processing:\u001b[K\n",
      "total 3070539\u001b[K\n",
      "-rw-r--r-- 1 root root 3144230986 Feb 12 00:47 GCA_000001405.15_GRCh38_no_alt_analysis_set.fna\u001b[K\n",
      "lrwxrwxrwx 1 root root        169 Feb 12 00:47 GCA_000001405.15_GRCh38_no_alt_analysis_set.fna.gz -> /fusion/gs/eila-nextflow-bucket/work/ATAC/stage-0cbd4d64-b857-4807-b564-11778fa2d750/f2/e60f03e75862ee5ca99088aa1ad7b5/GCA_000001405.15_GRCh38_no_alt_analysis_set.fna.gz\u001b[K\n",
      "Finished run_zcat\u001b[K\n",
      "\u001b[K\n",
      "\u001b[40A\n",
      "\u001b[32;1mMonitor the execution with Nextflow Tower using this URL: https://tower.nf/orgs/ort_eila_org/workspaces/ort_eila_wrkspc/watch/1rflEg5ZaEbefY\u001b[22;39m\u001b[K\n",
      "[4b/8b2ed5] process > run_zcat                       [100%] 1 of 1, cached: 1 ✔\u001b[K\n",
      "[-        ] process > run_add_subpool_to_chromap_... -\u001b[K\n",
      "[-        ] process > run_bgzip_on_chromap_fragme... -\u001b[K\n",
      "[07/1a8d27] process > run_process_create_temp_sum... [100%] 1 of 1, cached: 1\u001b[K\n",
      "[-        ] process > run_filter_aligned_fragment... -\u001b[K\n",
      "[34/af1fe4] process > run_gzip_on_genes_gtf (1)      [100%] 1 of 1, cached: 1 ✔\u001b[K\n",
      "[-        ] process > run_calculate_tss_enrichmen... -\u001b[K\n",
      "[-        ] process > run_barcode_metadata_stats     -\u001b[K\n",
      "after run_zcat \u001b[K\n",
      "after load chrompa mapping debug\u001b[K\n",
      "before call run_bgzip_on_chromap_fragments_output\u001b[K\n",
      "after call run_bgzip_on_chromap_fragments_output\u001b[K\n",
      "before run_add_subpool_prefix_to_summary_file\u001b[K\n",
      "after run_add_subpool_prefix_to_summary_file\u001b[K\n",
      "after run_gzip_on_genes_gtf\u001b[K\n",
      "before call run_calculate_tss_enrichment_snapatac2\u001b[K\n",
      "after call run_calculate_tss_enrichment_snapatac2\u001b[K\n",
      "before run_barcode_metadata_stats\u001b[K\n",
      "after run_barcode_metadata_stats\u001b[K\n",
      "Start run_gzip\u001b[K\n",
      "Gzip file is: genes.gtf.gz\u001b[K\n",
      "Files after processing:\u001b[K\n",
      "total 55875\u001b[K\n",
      "-rw-r--r-- 1 root root 57215195 Feb 12 00:47 genes.gtf.gz\u001b[K\n",
      "lrwxrwxrwx 1 root root      128 Feb 12 00:47 genes.gtf -> /fusion/gs/eila-nextflow-bucket/work/ATAC/stage-0cbd4d64-b857-4807-b564-11778fa2d750/41/45671d165921b1e3a885b4ea55909e/genes.gtf\u001b[K\n",
      "Finished run_gzip\u001b[K\n",
      "\u001b[K\n",
      "Start run_zcat\u001b[K\n",
      "Zcat file is: GCA_000001405.15_GRCh38_no_alt_analysis_set.fna.gz\u001b[K\n",
      "Files before processing:\u001b[K\n",
      "total 1\u001b[K\n",
      "lrwxrwxrwx 1 root root 169 Feb 12 00:47 GCA_000001405.15_GRCh38_no_alt_analysis_set.fna.gz -> /fusion/gs/eila-nextflow-bucket/work/ATAC/stage-0cbd4d64-b857-4807-b564-11778fa2d750/f2/e60f03e75862ee5ca99088aa1ad7b5/GCA_000001405.15_GRCh38_no_alt_analysis_set.fna.gz\u001b[K\n",
      "Files after processing:\u001b[K\n",
      "total 3070539\u001b[K\n",
      "-rw-r--r-- 1 root root 3144230986 Feb 12 00:47 GCA_000001405.15_GRCh38_no_alt_analysis_set.fna\u001b[K\n",
      "lrwxrwxrwx 1 root root        169 Feb 12 00:47 GCA_000001405.15_GRCh38_no_alt_analysis_set.fna.gz -> /fusion/gs/eila-nextflow-bucket/work/ATAC/stage-0cbd4d64-b857-4807-b564-11778fa2d750/f2/e60f03e75862ee5ca99088aa1ad7b5/GCA_000001405.15_GRCh38_no_alt_analysis_set.fna.gz\u001b[K\n",
      "Finished run_zcat\u001b[K\n",
      "\u001b[K\n",
      "\u001b[40A\n",
      "\u001b[32;1mMonitor the execution with Nextflow Tower using this URL: https://tower.nf/orgs/ort_eila_org/workspaces/ort_eila_wrkspc/watch/1rflEg5ZaEbefY\u001b[22;39m\u001b[K\n",
      "[4b/8b2ed5] process > run_zcat                       [100%] 1 of 1, cached: 1 ✔\u001b[K\n",
      "[6c/d1aea0] process > run_add_subpool_to_chromap_... [100%] 1 of 1, cached: 1\u001b[K\n",
      "[-        ] process > run_bgzip_on_chromap_fragme... -\u001b[K\n",
      "[07/1a8d27] process > run_process_create_temp_sum... [100%] 1 of 1, cached: 1 ✔\u001b[K\n",
      "[-        ] process > run_filter_aligned_fragment... -\u001b[K\n",
      "[34/af1fe4] process > run_gzip_on_genes_gtf (1)      [100%] 1 of 1, cached: 1 ✔\u001b[K\n",
      "[-        ] process > run_calculate_tss_enrichmen... -\u001b[K\n",
      "[-        ] process > run_barcode_metadata_stats     -\u001b[K\n",
      "after run_zcat \u001b[K\n",
      "after load chrompa mapping debug\u001b[K\n",
      "before call run_bgzip_on_chromap_fragments_output\u001b[K\n",
      "after call run_bgzip_on_chromap_fragments_output\u001b[K\n",
      "before run_add_subpool_prefix_to_summary_file\u001b[K\n",
      "after run_add_subpool_prefix_to_summary_file\u001b[K\n",
      "after run_gzip_on_genes_gtf\u001b[K\n",
      "before call run_calculate_tss_enrichment_snapatac2\u001b[K\n",
      "after call run_calculate_tss_enrichment_snapatac2\u001b[K\n",
      "before run_barcode_metadata_stats\u001b[K\n",
      "after run_barcode_metadata_stats\u001b[K\n",
      "Start run_gzip\u001b[K\n",
      "Gzip file is: genes.gtf.gz\u001b[K\n",
      "Files after processing:\u001b[K\n",
      "total 55875\u001b[K\n",
      "-rw-r--r-- 1 root root 57215195 Feb 12 00:47 genes.gtf.gz\u001b[K\n",
      "lrwxrwxrwx 1 root root      128 Feb 12 00:47 genes.gtf -> /fusion/gs/eila-nextflow-bucket/work/ATAC/stage-0cbd4d64-b857-4807-b564-11778fa2d750/41/45671d165921b1e3a885b4ea55909e/genes.gtf\u001b[K\n",
      "Finished run_gzip\u001b[K\n",
      "\u001b[K\n",
      "Start run_zcat\u001b[K\n",
      "Zcat file is: GCA_000001405.15_GRCh38_no_alt_analysis_set.fna.gz\u001b[K\n",
      "Files before processing:\u001b[K\n",
      "total 1\u001b[K\n",
      "lrwxrwxrwx 1 root root 169 Feb 12 00:47 GCA_000001405.15_GRCh38_no_alt_analysis_set.fna.gz -> /fusion/gs/eila-nextflow-bucket/work/ATAC/stage-0cbd4d64-b857-4807-b564-11778fa2d750/f2/e60f03e75862ee5ca99088aa1ad7b5/GCA_000001405.15_GRCh38_no_alt_analysis_set.fna.gz\u001b[K\n",
      "Files after processing:\u001b[K\n",
      "total 3070539\u001b[K\n",
      "-rw-r--r-- 1 root root 3144230986 Feb 12 00:47 GCA_000001405.15_GRCh38_no_alt_analysis_set.fna\u001b[K\n",
      "lrwxrwxrwx 1 root root        169 Feb 12 00:47 GCA_000001405.15_GRCh38_no_alt_analysis_set.fna.gz -> /fusion/gs/eila-nextflow-bucket/work/ATAC/stage-0cbd4d64-b857-4807-b564-11778fa2d750/f2/e60f03e75862ee5ca99088aa1ad7b5/GCA_000001405.15_GRCh38_no_alt_analysis_set.fna.gz\u001b[K\n",
      "Finished run_zcat\u001b[K\n",
      "\u001b[K\n",
      "start run_process_create_temp_summary_dict\u001b[K\n",
      "input barcode_summary_csv is BMMC-single-donor.atac.align.barcode.summary.csv\u001b[K\n",
      "------ There is NO conversion list ------\u001b[K\n",
      "temp_summary\u001b[K\n",
      "7021039 temp_summary\u001b[K\n",
      "finished run_process_create_temp_summary_dict\u001b[K\n",
      "\u001b[K\n",
      "\u001b[47A\n",
      "\u001b[32;1mMonitor the execution with Nextflow Tower using this URL: https://tower.nf/orgs/ort_eila_org/workspaces/ort_eila_wrkspc/watch/1rflEg5ZaEbefY\u001b[22;39m\u001b[K\n",
      "[4b/8b2ed5] process > run_zcat                       [100%] 1 of 1, cached: 1 ✔\u001b[K\n",
      "[6c/d1aea0] process > run_add_subpool_to_chromap_... [100%] 1 of 1, cached: 1 ✔\u001b[K\n",
      "[-        ] process > run_bgzip_on_chromap_fragme... [  0%] 0 of 1\u001b[K\n",
      "[07/1a8d27] process > run_process_create_temp_sum... [100%] 1 of 1, cached: 1 ✔\u001b[K\n",
      "[-        ] process > run_filter_aligned_fragment... -\u001b[K\n",
      "[34/af1fe4] process > run_gzip_on_genes_gtf (1)      [100%] 1 of 1, cached: 1 ✔\u001b[K\n",
      "[-        ] process > run_calculate_tss_enrichmen... -\u001b[K\n",
      "[-        ] process > run_barcode_metadata_stats     -\u001b[K\n",
      "after run_zcat \u001b[K\n",
      "after load chrompa mapping debug\u001b[K\n",
      "before call run_bgzip_on_chromap_fragments_output\u001b[K\n",
      "after call run_bgzip_on_chromap_fragments_output\u001b[K\n",
      "before run_add_subpool_prefix_to_summary_file\u001b[K\n",
      "after run_add_subpool_prefix_to_summary_file\u001b[K\n",
      "after run_gzip_on_genes_gtf\u001b[K\n",
      "before call run_calculate_tss_enrichment_snapatac2\u001b[K\n",
      "after call run_calculate_tss_enrichment_snapatac2\u001b[K\n",
      "before run_barcode_metadata_stats\u001b[K\n",
      "after run_barcode_metadata_stats\u001b[K\n",
      "Start run_gzip\u001b[K\n",
      "Gzip file is: genes.gtf.gz\u001b[K\n",
      "Files after processing:\u001b[K\n",
      "total 55875\u001b[K\n",
      "-rw-r--r-- 1 root root 57215195 Feb 12 00:47 genes.gtf.gz\u001b[K\n",
      "lrwxrwxrwx 1 root root      128 Feb 12 00:47 genes.gtf -> /fusion/gs/eila-nextflow-bucket/work/ATAC/stage-0cbd4d64-b857-4807-b564-11778fa2d750/41/45671d165921b1e3a885b4ea55909e/genes.gtf\u001b[K\n",
      "Finished run_gzip\u001b[K\n",
      "\u001b[K\n",
      "Start run_zcat\u001b[K\n",
      "Zcat file is: GCA_000001405.15_GRCh38_no_alt_analysis_set.fna.gz\u001b[K\n",
      "Files before processing:\u001b[K\n",
      "total 1\u001b[K\n",
      "lrwxrwxrwx 1 root root 169 Feb 12 00:47 GCA_000001405.15_GRCh38_no_alt_analysis_set.fna.gz -> /fusion/gs/eila-nextflow-bucket/work/ATAC/stage-0cbd4d64-b857-4807-b564-11778fa2d750/f2/e60f03e75862ee5ca99088aa1ad7b5/GCA_000001405.15_GRCh38_no_alt_analysis_set.fna.gz\u001b[K\n",
      "Files after processing:\u001b[K\n",
      "total 3070539\u001b[K\n",
      "-rw-r--r-- 1 root root 3144230986 Feb 12 00:47 GCA_000001405.15_GRCh38_no_alt_analysis_set.fna\u001b[K\n",
      "lrwxrwxrwx 1 root root        169 Feb 12 00:47 GCA_000001405.15_GRCh38_no_alt_analysis_set.fna.gz -> /fusion/gs/eila-nextflow-bucket/work/ATAC/stage-0cbd4d64-b857-4807-b564-11778fa2d750/f2/e60f03e75862ee5ca99088aa1ad7b5/GCA_000001405.15_GRCh38_no_alt_analysis_set.fna.gz\u001b[K\n",
      "Finished run_zcat\u001b[K\n",
      "\u001b[K\n",
      "start run_process_create_temp_summary_dict\u001b[K\n",
      "input barcode_summary_csv is BMMC-single-donor.atac.align.barcode.summary.csv\u001b[K\n",
      "------ There is NO conversion list ------\u001b[K\n",
      "temp_summary\u001b[K\n",
      "7021039 temp_summary\u001b[K\n",
      "finished run_process_create_temp_summary_dict\u001b[K\n",
      "\u001b[K\n",
      "------ Start run_add_subpool_to_chrompap_output ------\u001b[K\n",
      "Input chromap_fragments_tsv is ATAC_BMMC-single-donor.atac.filter.fragments.tsv\u001b[K\n",
      "Input barcode_summary_csv is BMMC-single-donor.atac.align.barcode.summary.csv\u001b[K\n",
      "Input subpool is none\u001b[K\n",
      "Input subpool_script is add_subpool_to_chromap_output.sh\u001b[K\n",
      "No subpool specified. Skipping subpool addition.\u001b[K\n",
      "------ Finished run_add_subpool_to_chrompap_output ------\u001b[K\n",
      "\u001b[K\n",
      "\u001b[55A\n",
      "\u001b[32;1mMonitor the execution with Nextflow Tower using this URL: https://tower.nf/orgs/ort_eila_org/workspaces/ort_eila_wrkspc/watch/1rflEg5ZaEbefY\u001b[22;39m\u001b[K\n",
      "executor >  google-batch (fusion enabled) (1)\u001b[K\n",
      "[4b/8b2ed5] process > run_zcat                       [100%] 1 of 1, cached: 1 ✔\u001b[K\n",
      "[6c/d1aea0] process > run_add_subpool_to_chromap_... [100%] 1 of 1, cached: 1 ✔\u001b[K\n",
      "[5a/ba4acc] process > run_bgzip_on_chromap_fragme... [  0%] 0 of 1\u001b[K\n",
      "[07/1a8d27] process > run_process_create_temp_sum... [100%] 1 of 1, cached: 1 ✔\u001b[K\n",
      "[-        ] process > run_filter_aligned_fragment... -\u001b[K\n",
      "[34/af1fe4] process > run_gzip_on_genes_gtf (1)      [100%] 1 of 1, cached: 1 ✔\u001b[K\n",
      "[-        ] process > run_calculate_tss_enrichmen... -\u001b[K\n",
      "[-        ] process > run_barcode_metadata_stats     -\u001b[K\n",
      "after run_zcat \u001b[K\n",
      "after load chrompa mapping debug\u001b[K\n",
      "before call run_bgzip_on_chromap_fragments_output\u001b[K\n",
      "after call run_bgzip_on_chromap_fragments_output\u001b[K\n",
      "before run_add_subpool_prefix_to_summary_file\u001b[K\n",
      "after run_add_subpool_prefix_to_summary_file\u001b[K\n",
      "after run_gzip_on_genes_gtf\u001b[K\n",
      "before call run_calculate_tss_enrichment_snapatac2\u001b[K\n",
      "after call run_calculate_tss_enrichment_snapatac2\u001b[K\n",
      "before run_barcode_metadata_stats\u001b[K\n",
      "after run_barcode_metadata_stats\u001b[K\n",
      "Start run_gzip\u001b[K\n",
      "Gzip file is: genes.gtf.gz\u001b[K\n",
      "Files after processing:\u001b[K\n",
      "total 55875\u001b[K\n",
      "-rw-r--r-- 1 root root 57215195 Feb 12 00:47 genes.gtf.gz\u001b[K\n",
      "lrwxrwxrwx 1 root root      128 Feb 12 00:47 genes.gtf -> /fusion/gs/eila-nextflow-bucket/work/ATAC/stage-0cbd4d64-b857-4807-b564-11778fa2d750/41/45671d165921b1e3a885b4ea55909e/genes.gtf\u001b[K\n",
      "Finished run_gzip\u001b[K\n",
      "\u001b[K\n",
      "Start run_zcat\u001b[K\n",
      "Zcat file is: GCA_000001405.15_GRCh38_no_alt_analysis_set.fna.gz\u001b[K\n",
      "Files before processing:\u001b[K\n",
      "total 1\u001b[K\n",
      "lrwxrwxrwx 1 root root 169 Feb 12 00:47 GCA_000001405.15_GRCh38_no_alt_analysis_set.fna.gz -> /fusion/gs/eila-nextflow-bucket/work/ATAC/stage-0cbd4d64-b857-4807-b564-11778fa2d750/f2/e60f03e75862ee5ca99088aa1ad7b5/GCA_000001405.15_GRCh38_no_alt_analysis_set.fna.gz\u001b[K\n",
      "Files after processing:\u001b[K\n",
      "total 3070539\u001b[K\n",
      "-rw-r--r-- 1 root root 3144230986 Feb 12 00:47 GCA_000001405.15_GRCh38_no_alt_analysis_set.fna\u001b[K\n",
      "lrwxrwxrwx 1 root root        169 Feb 12 00:47 GCA_000001405.15_GRCh38_no_alt_analysis_set.fna.gz -> /fusion/gs/eila-nextflow-bucket/work/ATAC/stage-0cbd4d64-b857-4807-b564-11778fa2d750/f2/e60f03e75862ee5ca99088aa1ad7b5/GCA_000001405.15_GRCh38_no_alt_analysis_set.fna.gz\u001b[K\n",
      "Finished run_zcat\u001b[K\n",
      "\u001b[K\n",
      "start run_process_create_temp_summary_dict\u001b[K\n",
      "input barcode_summary_csv is BMMC-single-donor.atac.align.barcode.summary.csv\u001b[K\n",
      "------ There is NO conversion list ------\u001b[K\n",
      "temp_summary\u001b[K\n",
      "7021039 temp_summary\u001b[K\n",
      "finished run_process_create_temp_summary_dict\u001b[K\n",
      "\u001b[K\n",
      "------ Start run_add_subpool_to_chrompap_output ------\u001b[K\n",
      "Input chromap_fragments_tsv is ATAC_BMMC-single-donor.atac.filter.fragments.tsv\u001b[K\n",
      "Input barcode_summary_csv is BMMC-single-donor.atac.align.barcode.summary.csv\u001b[K\n",
      "Input subpool is none\u001b[K\n",
      "Input subpool_script is add_subpool_to_chromap_output.sh\u001b[K\n",
      "No subpool specified. Skipping subpool addition.\u001b[K\n",
      "------ Finished run_add_subpool_to_chrompap_output ------\u001b[K\n",
      "\u001b[K\n",
      "\u001b[56A\n",
      "\u001b[32;1mMonitor the execution with Nextflow Tower using this URL: https://tower.nf/orgs/ort_eila_org/workspaces/ort_eila_wrkspc/watch/1rflEg5ZaEbefY\u001b[22;39m\u001b[K\n",
      "executor >  google-batch (fusion enabled) (1)\u001b[K\n",
      "[4b/8b2ed5] process > run_zcat                       [100%] 1 of 1, cached: 1 ✔\u001b[K\n",
      "[6c/d1aea0] process > run_add_subpool_to_chromap_... [100%] 1 of 1, cached: 1 ✔\u001b[K\n",
      "[5a/ba4acc] process > run_bgzip_on_chromap_fragme... [  0%] 0 of 1\u001b[K\n",
      "[07/1a8d27] process > run_process_create_temp_sum... [100%] 1 of 1, cached: 1 ✔\u001b[K\n",
      "[-        ] process > run_filter_aligned_fragment... -\u001b[K\n",
      "[34/af1fe4] process > run_gzip_on_genes_gtf (1)      [100%] 1 of 1, cached: 1 ✔\u001b[K\n",
      "[-        ] process > run_calculate_tss_enrichmen... -\u001b[K\n",
      "[-        ] process > run_barcode_metadata_stats     -\u001b[K\n",
      "\u001b[K\n",
      "\u001b[K\n",
      "\u001b[K\n",
      "\u001b[K\n",
      "\u001b[K\n",
      "\u001b[K\n",
      "\u001b[K\n",
      "\u001b[K\n",
      "\u001b[K\n",
      "\u001b[K\n",
      "\u001b[K\n",
      "\u001b[K\n",
      "\u001b[K\n",
      "\u001b[K\n",
      "\u001b[K\n",
      "\u001b[K\n",
      "\u001b[K\n",
      "\u001b[K\n",
      "\u001b[K\n",
      "\u001b[K\n",
      "\u001b[K\n",
      "\u001b[K\n",
      "\u001b[K\n",
      "\u001b[K\n",
      "\u001b[K\n",
      "\u001b[K\n",
      "\u001b[K\n",
      "\u001b[K\n",
      "\u001b[K\n",
      "\u001b[K\n",
      "\u001b[K\n",
      "\u001b[K\n",
      "\u001b[K\n",
      "\u001b[K\n",
      "\u001b[K\n",
      "\u001b[K\n",
      "\u001b[K\n",
      "\u001b[K\n",
      "\u001b[K\n",
      "\u001b[K\n",
      "\u001b[K\n",
      "\u001b[K\n",
      "\u001b[K\n",
      "\u001b[K\n",
      "\u001b[K\n",
      "\u001b[56A\n",
      "\u001b[32;1mMonitor the execution with Nextflow Tower using this URL: https://tower.nf/orgs/ort_eila_org/workspaces/ort_eila_wrkspc/watch/1rflEg5ZaEbefY\u001b[22;39m\u001b[K\n",
      "executor >  google-batch (fusion enabled) (1)\u001b[K\n",
      "[4b/8b2ed5] process > run_zcat                       [100%] 1 of 1, cached: 1 ✔\u001b[K\n",
      "[6c/d1aea0] process > run_add_subpool_to_chromap_... [100%] 1 of 1, cached: 1 ✔\u001b[K\n",
      "[5a/ba4acc] process > run_bgzip_on_chromap_fragme... [  0%] 0 of 1 ✔\u001b[K\n",
      "[07/1a8d27] process > run_process_create_temp_sum... [100%] 1 of 1, cached: 1 ✔\u001b[K\n",
      "[-        ] process > run_filter_aligned_fragment... -\u001b[K\n",
      "[34/af1fe4] process > run_gzip_on_genes_gtf (1)      [100%] 1 of 1, cached: 1 ✔\u001b[K\n",
      "[-        ] process > run_calculate_tss_enrichmen... -\u001b[K\n",
      "[-        ] process > run_barcode_metadata_stats     -\u001b[K\n",
      "Start run_bgzip_on_chromap_fragments_output\u001b[K\n",
      "Fragment file is: ATAC_BMMC-single-donor.atac.filter.fragments.tsv\u001b[K\n",
      "total 458900\u001b[K\n",
      "lrwxrwxrwx 1 root root       124 Feb 12 00:58 ATAC_BMMC-single-donor.atac.filter.fragments.tsv -> /fusion/gs/eila-nextflow-bucket/work/ATAC/6c/d1aea0b8fb133dcf799969909b6fdf/ATAC_BMMC-single-donor.atac.filter.fragments.tsv\u001b[K\n",
      "-rw-r--r-- 1 root root 469912630 Feb 12 00:58 ATAC_BMMC-single-donor.atac.filter.fragments.tsv.gz\u001b[K\n",
      "Finished run_bgzip_on_chromap_fragments_output\u001b[K\n",
      "\u001b[K\n",
      "\u001b[K\n",
      "\u001b[K\n",
      "\u001b[K\n",
      "\u001b[K\n",
      "\u001b[K\n",
      "\u001b[K\n",
      "\u001b[K\n",
      "\u001b[K\n",
      "\u001b[K\n",
      "\u001b[K\n",
      "\u001b[K\n",
      "\u001b[K\n",
      "\u001b[K\n",
      "\u001b[K\n",
      "\u001b[K\n",
      "\u001b[K\n",
      "\u001b[K\n",
      "\u001b[K\n",
      "\u001b[K\n",
      "\u001b[K\n",
      "\u001b[K\n",
      "\u001b[K\n",
      "\u001b[K\n",
      "\u001b[K\n",
      "\u001b[K\n",
      "\u001b[K\n",
      "\u001b[K\n",
      "\u001b[K\n",
      "\u001b[K\n",
      "\u001b[K\n",
      "\u001b[K\n",
      "\u001b[K\n",
      "\u001b[K\n",
      "\u001b[K\n",
      "\u001b[K\n",
      "\u001b[K\n",
      "\u001b[K\n",
      "\u001b[K\n",
      "\u001b[56A\n",
      "\u001b[32;1mMonitor the execution with Nextflow Tower using this URL: https://tower.nf/orgs/ort_eila_org/workspaces/ort_eila_wrkspc/watch/1rflEg5ZaEbefY\u001b[22;39m\u001b[K\n",
      "executor >  google-batch (fusion enabled) (1)\u001b[K\n",
      "[4b/8b2ed5] process > run_zcat                       [100%] 1 of 1, cached: 1 ✔\u001b[K\n",
      "[6c/d1aea0] process > run_add_subpool_to_chromap_... [100%] 1 of 1, cached: 1 ✔\u001b[K\n",
      "[5a/ba4acc] process > run_bgzip_on_chromap_fragme... [100%] 1 of 1 ✔\u001b[K\n",
      "[07/1a8d27] process > run_process_create_temp_sum... [100%] 1 of 1, cached: 1 ✔\u001b[K\n",
      "[-        ] process > run_filter_aligned_fragment... -\u001b[K\n",
      "[34/af1fe4] process > run_gzip_on_genes_gtf (1)      [100%] 1 of 1, cached: 1 ✔\u001b[K\n",
      "[-        ] process > run_calculate_tss_enrichmen... -\u001b[K\n",
      "[-        ] process > run_barcode_metadata_stats     -\u001b[K\n",
      "Start run_bgzip_on_chromap_fragments_output\u001b[K\n",
      "Fragment file is: ATAC_BMMC-single-donor.atac.filter.fragments.tsv\u001b[K\n",
      "total 458900\u001b[K\n",
      "lrwxrwxrwx 1 root root       124 Feb 12 00:58 ATAC_BMMC-single-donor.atac.filter.fragments.tsv -> /fusion/gs/eila-nextflow-bucket/work/ATAC/6c/d1aea0b8fb133dcf799969909b6fdf/ATAC_BMMC-single-donor.atac.filter.fragments.tsv\u001b[K\n",
      "-rw-r--r-- 1 root root 469912630 Feb 12 00:58 ATAC_BMMC-single-donor.atac.filter.fragments.tsv.gz\u001b[K\n",
      "Finished run_bgzip_on_chromap_fragments_output\u001b[K\n",
      "\u001b[K\n"
     ]
    }
   ],
   "source": [
    "!nextflow run nf_wf_fg_singlecell_atac.nf -c nextflow_atac.config -profile google_batch_profile -process.echo -with-tower -resume \n",
    "# -with-dag -resume\n",
    "\n",
    "# !nextflow run nf_wf_fg_singlecell_atac.nf -c nextflow_vm.config -profile google_batch_profile\n",
    "\n",
    "\n",
    "# !nextflow run nf_wf_fg_singlecell_atac.nf -c nextflow_vm.config -profile google_batch_profile\n",
    "# !nextflow run nf_\n",
    "# \n",
    "# wf_fg_singlecell_atac.nf -c nextflow_vm_anvil.config -profile google_batch_profile\n",
    "# !nextflow run nf_wf_fg_singlecell_atac.nf -c nextflow_local.config -profile google_batch_profile\n",
    "# !nextflow run nf_wf_fg_singlecell_atac.nf -c nextflow_local.config -profile docker_profile\n"
   ]
  },
  {
   "cell_type": "code",
   "execution_count": null,
   "metadata": {
    "tags": []
   },
   "outputs": [],
   "source": [
    "!cat .nextflow.log"
   ]
  }
 ],
 "metadata": {
  "kernelspec": {
   "display_name": "Python 3 (ipykernel)",
   "language": "python",
   "name": "python3"
  },
  "language_info": {
   "codemirror_mode": {
    "name": "ipython",
    "version": 3
   },
   "file_extension": ".py",
   "mimetype": "text/x-python",
   "name": "python",
   "nbconvert_exporter": "python",
   "pygments_lexer": "ipython3",
   "version": "3.7.12"
  }
 },
 "nbformat": 4,
 "nbformat_minor": 4
}
