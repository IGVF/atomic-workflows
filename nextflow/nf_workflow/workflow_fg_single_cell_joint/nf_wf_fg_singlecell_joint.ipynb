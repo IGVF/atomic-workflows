{
 "cells": [
  {
   "cell_type": "code",
   "execution_count": 1,
   "metadata": {
    "tags": []
   },
   "outputs": [],
   "source": [
    "# start docker deamon in terminal\n",
    "# !sudo docker login\n",
    "# OR - becuase the jupyther with allow root\n",
    "# !docker login"
   ]
  },
  {
   "cell_type": "markdown",
   "metadata": {},
   "source": [
    "TODO:\n",
    "\n",
    "when running with cloud. \n",
    "if you dont need to keep the execution logs, change the cloud settings to keep it for a short while\n",
    "Check that the cache if you need to set the cache to false (especially in plot process)"
   ]
  },
  {
   "cell_type": "code",
   "execution_count": 2,
   "metadata": {
    "tags": []
   },
   "outputs": [
    {
     "name": "stdout",
     "output_type": "stream",
     "text": [
      "/home/eila/git_igvf/atomic-workflows/nextflow/nf_workflow/workflow_fg_single_cell_joint\n"
     ]
    }
   ],
   "source": [
    "!pwd"
   ]
  },
  {
   "cell_type": "code",
   "execution_count": 3,
   "metadata": {
    "tags": []
   },
   "outputs": [],
   "source": [
    "# %%bash\n",
    "# export GOOGLE_APPLICATION_CREDENTIALS=\"/home/eila/git_igvf/cellatlas-scrna-seq-pipeline/nextflow/hai-gcp-genomic-beb9207a40b8.json\"\n",
    "# gcloud auth activate-service-account eila-batch@hai-gcp-genomic.iam.gserviceaccount.com --key-file=$GOOGLE_APPLICATION_CREDENTIALS\n"
   ]
  },
  {
   "cell_type": "code",
   "execution_count": 4,
   "metadata": {
    "tags": []
   },
   "outputs": [
    {
     "name": "stdout",
     "output_type": "stream",
     "text": [
      "                  Credentialed Accounts\n",
      "ACTIVE  ACCOUNT\n",
      "        886987709752-compute@developer.gserviceaccount.com\n",
      "*       eila-batch@hai-gcp-genomic.iam.gserviceaccount.com\n",
      "\n",
      "To set the active account, run:\n",
      "    $ gcloud config set account `ACCOUNT`\n",
      "\n"
     ]
    }
   ],
   "source": [
    "!gcloud auth list\n",
    "# !gcloud config set account eila-batch@hai-gcp-genomic.iam.gserviceaccount.com\n"
   ]
  },
  {
   "cell_type": "code",
   "execution_count": 5,
   "metadata": {},
   "outputs": [],
   "source": [
    "# in the command line. based on:\n",
    "# https://nextflow.io/blog/2023/nextflow-with-gbatch.html\n",
    "# gcloud services enable batch.googleapis.com compute.googleapis.com logging.googleapis.com\n",
    "# gcloud iam service-accounts create eila-batch\n",
    "# gcloud iam service-accounts list \n",
    "\n",
    "\n",
    "# gcloud projects add-iam-policy-binding terra-addd4c49 \\\n",
    "# --member=\"serviceAccount:pet-26869426946125b815f6b@terra-addd4c49.iam.gserviceaccount.com\" \\\n",
    "# --role=\"roles/iam.serviceAccountUser\"\n",
    "\n",
    "# $ gcloud projects add-iam-policy-binding terra-addd4c49 \\\n",
    "# --member=\"serviceAccount:pet-26869426946125b815f6b@terra-addd4c49.iam.gserviceaccount.com\" \\\n",
    "# --role=\"roles/batch.jobsEditor\"\n",
    "\n",
    "# $ gcloud projects add-iam-policy-binding terra-addd4c49 \\\n",
    "# --member=\"serviceAccount:pet-26869426946125b815f6b@terra-addd4c49.iam.gserviceaccount.com\" \\\n",
    "# --role=\"roles/logging.viewer\"\n",
    "\n",
    "# $ gcloud projects add-iam-policy-binding terra-addd4c49 \\\n",
    "# --member=\"serviceAccount:pet-26869426946125b815f6b@terra-addd4c49.iam.gserviceaccount.com\" \\\n",
    "# --role=\"roles/storage.admin\"\n"
   ]
  },
  {
   "cell_type": "code",
   "execution_count": 6,
   "metadata": {},
   "outputs": [],
   "source": [
    "import os\n",
    "# os.environ[\"TOWER_ACCESS_TOKEN\"] = 'XXX'\n",
    "os.environ[\"TOWER_ACCESS_TOKEN\"] = 'eyJ0aWQiOiA4Mjk3fS5jNDNmYzA4NTg2MjAxNDQzOTAwYmUzNWEzZTY0MGMyZTc0OWE3M2Mz'\n",
    "os.environ[\"TOWER_WORKSPACE_ID\"]='247507587970818'\n"
   ]
  },
  {
   "cell_type": "code",
   "execution_count": 7,
   "metadata": {
    "tags": []
   },
   "outputs": [
    {
     "name": "stdout",
     "output_type": "stream",
     "text": [
      "eyJ0aWQiOiA4Mjk3fS5jNDNmYzA4NTg2MjAxNDQzOTAwYmUzNWEzZTY0MGMyZTc0OWE3M2Mz\n",
      "247507587970818\n"
     ]
    }
   ],
   "source": [
    "!echo $TOWER_ACCESS_TOKEN\n",
    "!echo $TOWER_WORKSPACE_ID"
   ]
  },
  {
   "cell_type": "code",
   "execution_count": 8,
   "metadata": {
    "tags": []
   },
   "outputs": [
    {
     "data": {
      "text/plain": [
       "'/home/eila/git_igvf/atomic-workflows/nextflow/nf_workflow/workflow_fg_single_cell_joint/bin'"
      ]
     },
     "execution_count": 8,
     "metadata": {},
     "output_type": "execute_result"
    }
   ],
   "source": [
    "# !chmod +x ./bin/scrna_qc_metrics.py\n",
    "import os\n",
    "bin_fld = os.path.join(os.getcwd(),\"bin\")\n",
    "bin_fld"
   ]
  },
  {
   "cell_type": "code",
   "execution_count": 9,
   "metadata": {
    "tags": []
   },
   "outputs": [],
   "source": [
    "!chmod +x {os.path.join(bin_fld, \"joint_cell_plotting.py\")}\n",
    "!chmod +x {os.path.join(bin_fld, \"joint_cell_plotting_density.R\")}\n",
    "!chmod +x {os.path.join(bin_fld, \"write_html.py\")}\n",
    "\n"
   ]
  },
  {
   "cell_type": "code",
   "execution_count": 10,
   "metadata": {},
   "outputs": [],
   "source": [
    "# !nextflow -self-update"
   ]
  },
  {
   "cell_type": "code",
   "execution_count": 11,
   "metadata": {
    "tags": []
   },
   "outputs": [
    {
     "name": "stdout",
     "output_type": "stream",
     "text": [
      "  Version: 23.10.0 build 5889\n",
      "  Created: 15-10-2023 15:07 UTC \n",
      "  System: Linux 5.10.0-26-cloud-amd64\n",
      "  Runtime: Groovy 3.0.19 on OpenJDK 64-Bit Server VM 11.0.13+7-b1751.21\n",
      "  Encoding: UTF-8 (UTF-8)\n",
      "\n"
     ]
    }
   ],
   "source": [
    "!nextflow info"
   ]
  },
  {
   "cell_type": "code",
   "execution_count": 12,
   "metadata": {
    "tags": []
   },
   "outputs": [],
   "source": [
    "nf_data_base_path = '/home/eila/git_igvf/cellatlas-scrna-seq-pipeline/nextflow/nf_data/'\n",
    "\n",
    "# Write the configuration file\n",
    "with open(\"nextflow_vm.config\", \"w\") as config_file:\n",
    "    config_file.write(f\"\"\"\n",
    "manifest {{\n",
    "  description = 'A nexflow pipeline for fg single cell joint qc' \n",
    "  mainScript = 'nf_wf_fg_singlecell_joint.nf'\n",
    "}}\n",
    "\n",
    "profiles {{\n",
    "  google_batch_profile {{\n",
    "    workDir = 'gs://eila-nextflow-bucket/work/ATAC'\n",
    "    includeConfig 'conf/docker-google-batch.config'\n",
    "    docker.enabled = true\n",
    "    docker.envWhitelist=['ENV_SYNAPSE_TOKEN']\n",
    "    executor = 'google-batch'\n",
    "    google.project = 'hai-gcp-genomic'\n",
    "    google.location = 'us-central1'\n",
    "    google.batch.spot = false\n",
    "    google.batch.serviceAccountEmail='eila-batch@hai-gcp-genomic.iam.gserviceaccount.com'\n",
    "  }}   \n",
    "}}\n",
    "\n",
    "// Define ENV_SYNAPSE_TOKEN as a parameter\n",
    "params.SC_JOINT_CELL_BARCODE_PLOT_SCRIPT_PY='{nf_data_base_path}nf_wf_fg_singlecell/joint_cell_plotting.py'\n",
    "params.SC_JOINT_CELL_BARCODE_PLOT_RNA_METRICS='{nf_data_base_path}nf_wf_fg_singlecell/na.na'\n",
    "params.SC_JOINT_CELL_BARCODE_PLOT_ATAC_METRICS='{nf_data_base_path}nf_wf_fg_singlecell/na1.na'\n",
    "//Minimum number of UMIs/fragments required for a cell to be plotted\n",
    "params.SC_JOINT_CELL_BARCODE_PLOT_REMOVE_LOW_YIELDING_CELLS=5\n",
    "params.SC_JOINT_CELL_BARCODE_PLOT_METADATA_FILE='{nf_data_base_path}nf_wf_fg_singlecell/na2.na'\n",
    "params.SC_JOINT_CELL_BARCODE_PLOT_MIN_UMIS=5\n",
    "params.SC_JOINT_CELL_BARCODE_PLOT_MIN_GENES=5\n",
    "params.SC_JOINT_CELL_BARCODE_PLOT_MIN_TSS=5\n",
    "//Cutoff for minimum number of ATAC fragments\n",
    "params.SC_JOINT_CELL_BARCODE_PLOT_MIN_FRAGS=5\n",
    "params.SC_JOINT_CELL_BARCODE_PLOT_PKR='PKR123'\n",
    "params.SC_JOINT_CELL_BARCODE_PLOT_SCRIPT_R='{nf_data_base_path}nf_wf_fg_singlecell/joint_cell_plotting_density.R'\n",
    "\n",
    "params.SC_JOINT_CELL_BARCODE_PLOT_HTML_SCRIPT='{nf_data_base_path}nf_wf_fg_singlecell/write_html.py'\n",
    "params.SC_JOINT_CELL_BARCODE_PLOT_HTML_ATAC_METRICS='{nf_data_base_path}nf_wf_fg_singlecell/na.na'\n",
    "params.SC_JOINT_CELL_BARCODE_PLOT_HTML_RNA_METRICS='{nf_data_base_path}nf_wf_fg_singlecell/na1.na'\n",
    "params.SC_JOINT_CELL_BARCODE_PLOT_HTML_IMAGE_FILES='{nf_data_base_path}nf_wf_fg_singlecell/na2.na'\n",
    "params.SC_JOINT_CELL_BARCODE_PLOT_HTML_LOG_FILES='{nf_data_base_path}nf_wf_fg_singlecell/na3.na'\n",
    "\"\"\")\n"
   ]
  },
  {
   "cell_type": "code",
   "execution_count": 13,
   "metadata": {
    "tags": []
   },
   "outputs": [
    {
     "name": "stdout",
     "output_type": "stream",
     "text": [
      "/home/eila/git_igvf/atomic-workflows/nextflow/nf_workflow/workflow_fg_single_cell_joint\n"
     ]
    }
   ],
   "source": [
    "!pwd"
   ]
  },
  {
   "cell_type": "code",
   "execution_count": 14,
   "metadata": {
    "tags": []
   },
   "outputs": [],
   "source": [
    "# !rm -r /Users/eilaarich-landkof-stanford/Documents/Code/git_igvf/cellatlas-scrna-seq-pipeline/nextflow/nf_workflow/workflow_fg_single_cell_joint/work\n",
    "# !rm -r /home/eila/git_igvf/cellatlas-scrna-seq-pipeline/nextflow/nf_workflow/workflow_fg_single_cell_joint/work\n",
    "# !gsutil rm -r gs://eila-nextflow-bucket/work/ATAC"
   ]
  },
  {
   "cell_type": "code",
   "execution_count": 15,
   "metadata": {
    "tags": []
   },
   "outputs": [],
   "source": [
    "# !rm .nextflow*"
   ]
  },
  {
   "cell_type": "code",
   "execution_count": 16,
   "metadata": {
    "tags": []
   },
   "outputs": [],
   "source": [
    "# !ls nextflow.config"
   ]
  },
  {
   "cell_type": "code",
   "execution_count": 17,
   "metadata": {
    "tags": []
   },
   "outputs": [
    {
     "name": "stdout",
     "output_type": "stream",
     "text": [
      "[compute]\n",
      "region = us-central1\n",
      "zone = us-central1-a\n",
      "[core]\n",
      "account = eila-batch@hai-gcp-genomic.iam.gserviceaccount.com\n",
      "disable_usage_reporting = True\n",
      "project = hai-gcp-genomic\n",
      "\n",
      "Your active configuration is: [default]\n"
     ]
    }
   ],
   "source": [
    "!gcloud config list\n"
   ]
  },
  {
   "cell_type": "code",
   "execution_count": 18,
   "metadata": {
    "tags": []
   },
   "outputs": [
    {
     "name": "stdout",
     "output_type": "stream",
     "text": [
      "N E X T F L O W  ~  version 23.10.0\n",
      "Launching `nf_wf_fg_singlecell_joint.nf` [lonely_mahavira] DSL2 - revision: d926c7e73f\n",
      "Dec 18, 2023 2:53:13 AM com.google.auth.oauth2.DefaultCredentialsProvider warnAboutProblematicCredentials\n",
      "WARNING: Your application has authenticated using end user credentials from Google Cloud SDK. We recommend that most server applications use service accounts instead. If your application continues to use end user credentials from Cloud SDK, you might receive a \"quota exceeded\" or \"API not enabled\" error. For more information about service accounts, see https://cloud.google.com/docs/authentication/.\n",
      "Before calling run_joint_barcode_cell_plotting\n",
      "RNA Metrics: /home/eila/git_igvf/cellatlas-scrna-seq-pipeline/nextflow/nf_data/nf_wf_fg_singlecell/na.na\n",
      "ATAC Metrics: /home/eila/git_igvf/cellatlas-scrna-seq-pipeline/nextflow/nf_data/nf_wf_fg_singlecell/na1.na\n",
      "Uploading local `bin` scripts folder to gs://eila-nextflow-bucket/work/ATAC/tmp/f0/9075560b04665d323aba3d7d2a0c76/bin\n",
      "[-        ] process > run_joint_barcode_cell_plot... -\u001b[K\n",
      "[-        ] process > run_joint_cell_plotting_den... -\u001b[K\n",
      "[-        ] process > run_joint_metrics_html_report  -\u001b[K\n",
      "After calling run_joint_barcode_cell_plotting\u001b[K\n",
      "Before calling run_joint_cell_plotting_density\u001b[K\n",
      "After calling run_joint_cell_plotting_density\u001b[K\n",
      "Before run_joint_metrics_html_report\u001b[K\n",
      "Before run_joint_metrics_html_report\u001b[K\n",
      "After run_joint_metrics_html_report\u001b[K\n",
      "\u001b[10A\n",
      "\u001b[32;1mMonitor the execution with Nextflow Tower using this URL: https://tower.nf/orgs/ort_eila_org/workspaces/ort_eila_wrkspc/watch/2bD5jDqiWx08nP\u001b[22;39m\u001b[K\n",
      "[-        ] process > run_joint_barcode_cell_plot... -\u001b[K\n",
      "[-        ] process > run_joint_cell_plotting_den... -\u001b[K\n",
      "[-        ] process > run_joint_metrics_html_report  -\u001b[K\n",
      "After calling run_joint_barcode_cell_plotting\u001b[K\n",
      "Before calling run_joint_cell_plotting_density\u001b[K\n",
      "After calling run_joint_cell_plotting_density\u001b[K\n",
      "Before run_joint_metrics_html_report\u001b[K\n",
      "Before run_joint_metrics_html_report\u001b[K\n",
      "After run_joint_metrics_html_report\u001b[K\n",
      "\u001b[11A\n",
      "\u001b[32;1mMonitor the execution with Nextflow Tower using this URL: https://tower.nf/orgs/ort_eila_org/workspaces/ort_eila_wrkspc/watch/2bD5jDqiWx08nP\u001b[22;39m\u001b[K\n",
      "[-        ] process > run_joint_barcode_cell_plot... -\u001b[K\n",
      "[-        ] process > run_joint_cell_plotting_den... [  0%] 0 of 1\u001b[K\n",
      "[-        ] process > run_joint_metrics_html_report  -\u001b[K\n",
      "After calling run_joint_barcode_cell_plotting\u001b[K\n",
      "Before calling run_joint_cell_plotting_density\u001b[K\n",
      "After calling run_joint_cell_plotting_density\u001b[K\n",
      "Before run_joint_metrics_html_report\u001b[K\n",
      "Before run_joint_metrics_html_report\u001b[K\n",
      "After run_joint_metrics_html_report\u001b[K\n",
      "\u001b[11A\n",
      "\u001b[32;1mMonitor the execution with Nextflow Tower using this URL: https://tower.nf/orgs/ort_eila_org/workspaces/ort_eila_wrkspc/watch/2bD5jDqiWx08nP\u001b[22;39m\u001b[K\n",
      "[-        ] process > run_joint_barcode_cell_plot... [  0%] 0 of 1\u001b[K\n",
      "[-        ] process > run_joint_cell_plotting_den... [  0%] 0 of 1\u001b[K\n",
      "[-        ] process > run_joint_metrics_html_report  [  0%] 0 of 1\u001b[K\n",
      "After calling run_joint_barcode_cell_plotting\u001b[K\n",
      "Before calling run_joint_cell_plotting_density\u001b[K\n",
      "After calling run_joint_cell_plotting_density\u001b[K\n",
      "Before run_joint_metrics_html_report\u001b[K\n",
      "Before run_joint_metrics_html_report\u001b[K\n",
      "After run_joint_metrics_html_report\u001b[K\n",
      "\u001b[11A\n",
      "\u001b[32;1mMonitor the execution with Nextflow Tower using this URL: https://tower.nf/orgs/ort_eila_org/workspaces/ort_eila_wrkspc/watch/2bD5jDqiWx08nP\u001b[22;39m\u001b[K\n",
      "executor >  google-batch (1)\u001b[K\n",
      "[-        ] process > run_joint_barcode_cell_plot... [  0%] 0 of 1\u001b[K\n",
      "[df/8615d7] process > run_joint_cell_plotting_den... [  0%] 0 of 1\u001b[K\n",
      "[-        ] process > run_joint_metrics_html_report  [  0%] 0 of 1\u001b[K\n",
      "After calling run_joint_barcode_cell_plotting\u001b[K\n",
      "Before calling run_joint_cell_plotting_density\u001b[K\n",
      "After calling run_joint_cell_plotting_density\u001b[K\n",
      "Before run_joint_metrics_html_report\u001b[K\n",
      "Before run_joint_metrics_html_report\u001b[K\n",
      "After run_joint_metrics_html_report\u001b[K\n",
      "\u001b[12A\n",
      "\u001b[32;1mMonitor the execution with Nextflow Tower using this URL: https://tower.nf/orgs/ort_eila_org/workspaces/ort_eila_wrkspc/watch/2bD5jDqiWx08nP\u001b[22;39m\u001b[K\n",
      "executor >  google-batch (2)\u001b[K\n",
      "[ee/14d56a] process > run_joint_barcode_cell_plot... [  0%] 0 of 1\u001b[K\n",
      "[df/8615d7] process > run_joint_cell_plotting_den... [  0%] 0 of 1\u001b[K\n",
      "[-        ] process > run_joint_metrics_html_report  [  0%] 0 of 1\u001b[K\n",
      "After calling run_joint_barcode_cell_plotting\u001b[K\n",
      "Before calling run_joint_cell_plotting_density\u001b[K\n",
      "After calling run_joint_cell_plotting_density\u001b[K\n",
      "Before run_joint_metrics_html_report\u001b[K\n",
      "Before run_joint_metrics_html_report\u001b[K\n",
      "After run_joint_metrics_html_report\u001b[K\n",
      "\u001b[12A\n",
      "\u001b[32;1mMonitor the execution with Nextflow Tower using this URL: https://tower.nf/orgs/ort_eila_org/workspaces/ort_eila_wrkspc/watch/2bD5jDqiWx08nP\u001b[22;39m\u001b[K\n",
      "executor >  google-batch (3)\u001b[K\n",
      "[ee/14d56a] process > run_joint_barcode_cell_plot... [  0%] 0 of 1\u001b[K\n",
      "[df/8615d7] process > run_joint_cell_plotting_den... [  0%] 0 of 1\u001b[K\n",
      "[eb/ea0a12] process > run_joint_metrics_html_report  [  0%] 0 of 1\u001b[K\n",
      "After calling run_joint_barcode_cell_plotting\u001b[K\n",
      "Before calling run_joint_cell_plotting_density\u001b[K\n",
      "After calling run_joint_cell_plotting_density\u001b[K\n",
      "Before run_joint_metrics_html_report\u001b[K\n",
      "Before run_joint_metrics_html_report\u001b[K\n",
      "After run_joint_metrics_html_report\u001b[K\n",
      "\u001b[12A\n",
      "\u001b[32;1mMonitor the execution with Nextflow Tower using this URL: https://tower.nf/orgs/ort_eila_org/workspaces/ort_eila_wrkspc/watch/2bD5jDqiWx08nP\u001b[22;39m\u001b[K\n",
      "executor >  google-batch (3)\u001b[K\n",
      "[ee/14d56a] process > run_joint_barcode_cell_plot... [  0%] 0 of 1\u001b[K\n",
      "[df/8615d7] process > run_joint_cell_plotting_den... [  0%] 0 of 1\u001b[K\n",
      "[eb/ea0a12] process > run_joint_metrics_html_report  [  0%] 0 of 1\u001b[K\n",
      "\u001b[K\n",
      "\u001b[K\n",
      "\u001b[K\n",
      "\u001b[K\n",
      "\u001b[K\n",
      "\u001b[K\n",
      "\u001b[12A\n",
      "\u001b[32;1mMonitor the execution with Nextflow Tower using this URL: https://tower.nf/orgs/ort_eila_org/workspaces/ort_eila_wrkspc/watch/2bD5jDqiWx08nP\u001b[22;39m\u001b[K\n",
      "executor >  google-batch (3)\u001b[K\n",
      "[ee/14d56a] process > run_joint_barcode_cell_plot... [  0%] 0 of 1\u001b[K\n",
      "[df/8615d7] process > run_joint_cell_plotting_den... [  0%] 0 of 1\u001b[K\n",
      "[eb/ea0a12] process > run_joint_metrics_html_report  [  0%] 0 of 1\u001b[K\n",
      "\u001b[31mERROR ~ Error executing process > 'run_joint_barcode_cell_plotting'\u001b[K\n",
      "\u001b[K\n",
      "Caused by:\u001b[K\n",
      "  Process `run_joint_barcode_cell_plotting` terminated with an error exit status (1)\u001b[K\n",
      "\u001b[K\n",
      "Command executed:\u001b[K\n",
      "\u001b[K\n",
      "  # Print start of run_joint_barcode_cell_plotting\u001b[K\n",
      "  echo \"Starting run_joint_barcode_cell_plotting...\"\u001b[K\n",
      "  \u001b[K\n",
      "  # Determine the script path\u001b[K\n",
      "  script_path=$(command -v /home/eila/git_igvf/cellatlas-scrna-seq-pipeline/nextflow/nf_data/nf_wf_fg_singlecell/joint_cell_plotting.py)\u001b[K\n",
      "  echo \"Script path: $script_path\"\u001b[K\n",
      "  \u001b[K\n",
      "  echo \"Parameters:\"\u001b[K\n",
      "  echo \"- pkr: PKR123\"\u001b[K\n",
      "  echo \"- rna_metrics_file: na.na\"\u001b[K\n",
      "  echo \"- atac_metrics_file: na1.na\"\u001b[K\n",
      "  echo \"- remove_low_yielding_cells: 5\"\u001b[K\n",
      "  echo \"- barcode_metadata_file: na2.na\"\u001b[K\n",
      "  echo \"- min_umis: 5\"\u001b[K\n",
      "  echo \"- min_genes: 5\"\u001b[K\n",
      "  echo \"- min_tss: 5\"\u001b[K\n",
      "  echo \"- min_frags: 5\"\u001b[K\n",
      "  \u001b[K\n",
      "  python3 $script_path --pkr PKR123 --rna_metrics_file na.na --atac_metrics_file na1.na --remove_low_yielding_cells 5 --barcode_metadata_file na2.na --min_umis 5 --min_genes 5 --min_tss 5 --min_frags 5 --plot_file plot_file.jpg\u001b[K\n",
      "  \u001b[K\n",
      "  echo \"TODO: remove the following command\" \u001b[K\n",
      "  touch plot_file.jpg\u001b[K\n",
      "  touch joint_cell_plotting.log\u001b[K\n",
      "  # Print finish of run_joint_barcode_metadata\u001b[K\n",
      "  echo 'Finished run_joint_barcode_cell_plotting.'\u001b[K\n",
      "\u001b[K\n",
      "Command exit status:\u001b[K\n",
      "  1\u001b[K\n",
      "\u001b[K\n",
      "Command output:\u001b[K\n",
      "  Starting run_joint_barcode_cell_plotting...\u001b[K\n",
      "\u001b[K\n",
      "Work dir:\u001b[K\n",
      "  gs://eila-nextflow-bucket/work/ATAC/ee/14d56ac204906766fa5f1b13fff376\u001b[K\n",
      "\u001b[K\n",
      "Tip: you can try to figure out what's wrong by changing to the process work dir and showing the script file named `.command.sh`\u001b[K\n",
      "\u001b[K\n",
      " -- Check '.nextflow.log' file for details\u001b[39m\u001b[K\n",
      "\u001b[51A\n",
      "\u001b[32;1mMonitor the execution with Nextflow Tower using this URL: https://tower.nf/orgs/ort_eila_org/workspaces/ort_eila_wrkspc/watch/2bD5jDqiWx08nP\u001b[22;39m\u001b[K\n",
      "executor >  google-batch (3)\u001b[K\n",
      "[ee/14d56a] process > run_joint_barcode_cell_plot... [  0%] 0 of 1 ✔\u001b[K\n",
      "[df/8615d7] process > run_joint_cell_plotting_den... [  0%] 0 of 1\u001b[K\n",
      "[eb/ea0a12] process > run_joint_metrics_html_report  [  0%] 0 of 1\u001b[K\n",
      "\u001b[31mERROR ~ Error executing process > 'run_joint_barcode_cell_plotting'\u001b[K\n",
      "\u001b[K\n",
      "Caused by:\u001b[K\n",
      "  Process `run_joint_barcode_cell_plotting` terminated with an error exit status (1)\u001b[K\n",
      "\u001b[K\n",
      "Command executed:\u001b[K\n",
      "\u001b[K\n",
      "  # Print start of run_joint_barcode_cell_plotting\u001b[K\n",
      "  echo \"Starting run_joint_barcode_cell_plotting...\"\u001b[K\n",
      "  \u001b[K\n",
      "  # Determine the script path\u001b[K\n",
      "  script_path=$(command -v /home/eila/git_igvf/cellatlas-scrna-seq-pipeline/nextflow/nf_data/nf_wf_fg_singlecell/joint_cell_plotting.py)\u001b[K\n",
      "  echo \"Script path: $script_path\"\u001b[K\n",
      "  \u001b[K\n",
      "  echo \"Parameters:\"\u001b[K\n",
      "  echo \"- pkr: PKR123\"\u001b[K\n",
      "  echo \"- rna_metrics_file: na.na\"\u001b[K\n",
      "  echo \"- atac_metrics_file: na1.na\"\u001b[K\n",
      "  echo \"- remove_low_yielding_cells: 5\"\u001b[K\n",
      "  echo \"- barcode_metadata_file: na2.na\"\u001b[K\n",
      "  echo \"- min_umis: 5\"\u001b[K\n",
      "  echo \"- min_genes: 5\"\u001b[K\n",
      "  echo \"- min_tss: 5\"\u001b[K\n",
      "  echo \"- min_frags: 5\"\u001b[K\n",
      "  \u001b[K\n",
      "  python3 $script_path --pkr PKR123 --rna_metrics_file na.na --atac_metrics_file na1.na --remove_low_yielding_cells 5 --barcode_metadata_file na2.na --min_umis 5 --min_genes 5 --min_tss 5 --min_frags 5 --plot_file plot_file.jpg\u001b[K\n",
      "  \u001b[K\n",
      "  echo \"TODO: remove the following command\" \u001b[K\n",
      "  touch plot_file.jpg\u001b[K\n",
      "  touch joint_cell_plotting.log\u001b[K\n",
      "  # Print finish of run_joint_barcode_metadata\u001b[K\n",
      "  echo 'Finished run_joint_barcode_cell_plotting.'\u001b[K\n",
      "\u001b[K\n",
      "Command exit status:\u001b[K\n",
      "  1\u001b[K\n",
      "\u001b[K\n",
      "Command output:\u001b[K\n",
      "  Starting run_joint_barcode_cell_plotting...\u001b[K\n",
      "\u001b[K\n",
      "Work dir:\u001b[K\n",
      "  gs://eila-nextflow-bucket/work/ATAC/ee/14d56ac204906766fa5f1b13fff376\u001b[K\n",
      "\u001b[K\n",
      "Tip: you can try to figure out what's wrong by changing to the process work dir and showing the script file named `.command.sh`\u001b[K\n",
      "\u001b[K\n",
      " -- Check '.nextflow.log' file for details\u001b[39m\u001b[K\n",
      "\u001b[51A\n",
      "\u001b[32;1mMonitor the execution with Nextflow Tower using this URL: https://tower.nf/orgs/ort_eila_org/workspaces/ort_eila_wrkspc/watch/2bD5jDqiWx08nP\u001b[22;39m\u001b[K\n",
      "executor >  google-batch (3)\u001b[K\n",
      "[ee/14d56a] process > run_joint_barcode_cell_plot... [100%] 1 of 1, failed: 1 ✘\u001b[K\n",
      "[df/8615d7] process > run_joint_cell_plotting_den... [  0%] 0 of 1\u001b[K\n",
      "[eb/ea0a12] process > run_joint_metrics_html_report  [  0%] 0 of 1\u001b[K\n",
      "\u001b[31mERROR ~ Error executing process > 'run_joint_barcode_cell_plotting'\u001b[K\n",
      "\u001b[K\n",
      "Caused by:\u001b[K\n",
      "  Process `run_joint_barcode_cell_plotting` terminated with an error exit status (1)\u001b[K\n",
      "\u001b[K\n",
      "Command executed:\u001b[K\n",
      "\u001b[K\n",
      "  # Print start of run_joint_barcode_cell_plotting\u001b[K\n",
      "  echo \"Starting run_joint_barcode_cell_plotting...\"\u001b[K\n",
      "  \u001b[K\n",
      "  # Determine the script path\u001b[K\n",
      "  script_path=$(command -v /home/eila/git_igvf/cellatlas-scrna-seq-pipeline/nextflow/nf_data/nf_wf_fg_singlecell/joint_cell_plotting.py)\u001b[K\n",
      "  echo \"Script path: $script_path\"\u001b[K\n",
      "  \u001b[K\n",
      "  echo \"Parameters:\"\u001b[K\n",
      "  echo \"- pkr: PKR123\"\u001b[K\n",
      "  echo \"- rna_metrics_file: na.na\"\u001b[K\n",
      "  echo \"- atac_metrics_file: na1.na\"\u001b[K\n",
      "  echo \"- remove_low_yielding_cells: 5\"\u001b[K\n",
      "  echo \"- barcode_metadata_file: na2.na\"\u001b[K\n",
      "  echo \"- min_umis: 5\"\u001b[K\n",
      "  echo \"- min_genes: 5\"\u001b[K\n",
      "  echo \"- min_tss: 5\"\u001b[K\n",
      "  echo \"- min_frags: 5\"\u001b[K\n",
      "  \u001b[K\n",
      "  python3 $script_path --pkr PKR123 --rna_metrics_file na.na --atac_metrics_file na1.na --remove_low_yielding_cells 5 --barcode_metadata_file na2.na --min_umis 5 --min_genes 5 --min_tss 5 --min_frags 5 --plot_file plot_file.jpg\u001b[K\n",
      "  \u001b[K\n",
      "  echo \"TODO: remove the following command\" \u001b[K\n",
      "  touch plot_file.jpg\u001b[K\n",
      "  touch joint_cell_plotting.log\u001b[K\n",
      "  # Print finish of run_joint_barcode_metadata\u001b[K\n",
      "  echo 'Finished run_joint_barcode_cell_plotting.'\u001b[K\n",
      "\u001b[K\n",
      "Command exit status:\u001b[K\n",
      "  1\u001b[K\n",
      "\u001b[K\n",
      "Command output:\u001b[K\n",
      "  Starting run_joint_barcode_cell_plotting...\u001b[K\n",
      "\u001b[K\n",
      "Work dir:\u001b[K\n",
      "  gs://eila-nextflow-bucket/work/ATAC/ee/14d56ac204906766fa5f1b13fff376\u001b[K\n",
      "\u001b[K\n",
      "Tip: you can try to figure out what's wrong by changing to the process work dir and showing the script file named `.command.sh`\u001b[K\n",
      "\u001b[K\n",
      " -- Check '.nextflow.log' file for details\u001b[39m\u001b[K\n",
      "WARN: Killing running tasks (2)\n",
      "\n"
     ]
    }
   ],
   "source": [
    "!nextflow run nf_wf_fg_singlecell_joint.nf -c nextflow_vm.config -profile google_batch_profile -with-tower -resume\n",
    "\n",
    "# !nextflow run nf_wf_fg_singlecell_atac.nf -c nextflow_vm.config -profile google_batch_profile\n",
    "\n",
    "\n",
    "# !nextflow run nf_wf_fg_singlecell_atac.nf -c nextflow_vm.config -profile google_batch_profile\n",
    "# !nextflow run nf_wf_fg_singlecell_atac.nf -c nextflow_vm_anvil.config -profile google_batch_profile\n",
    "# !nextflow run nf_wf_fg_singlecell_atac.nf -c nextflow_local.config -profile google_batch_profile\n",
    "# !nextflow run nf_wf_fg_singlecell_atac.nf -c nextflow_local.config -profile docker_profile\n"
   ]
  },
  {
   "cell_type": "code",
   "execution_count": 19,
   "metadata": {
    "tags": []
   },
   "outputs": [
    {
     "name": "stdout",
     "output_type": "stream",
     "text": [
      "Dec-18 02:53:11.327 [main] DEBUG nextflow.cli.Launcher - $> nextflow run nf_wf_fg_singlecell_joint.nf -c nextflow_vm.config -profile google_batch_profile -with-tower -resume\n",
      "Dec-18 02:53:11.525 [main] INFO  nextflow.cli.CmdRun - N E X T F L O W  ~  version 23.10.0\n",
      "Dec-18 02:53:11.562 [main] DEBUG nextflow.plugin.PluginsFacade - Setting up plugin manager > mode=prod; embedded=false; plugins-dir=/home/eila/.nextflow/plugins; core-plugins: nf-amazon@2.1.4,nf-azure@1.3.2,nf-cloudcache@0.3.0,nf-codecommit@0.1.5,nf-console@1.0.6,nf-ga4gh@1.1.0,nf-google@1.8.3,nf-tower@1.6.3,nf-wave@1.0.0\n",
      "Dec-18 02:53:11.583 [main] INFO  o.pf4j.DefaultPluginStatusProvider - Enabled plugins: []\n",
      "Dec-18 02:53:11.586 [main] INFO  o.pf4j.DefaultPluginStatusProvider - Disabled plugins: []\n",
      "Dec-18 02:53:11.593 [main] INFO  org.pf4j.DefaultPluginManager - PF4J version 3.4.1 in 'deployment' mode\n",
      "Dec-18 02:53:11.613 [main] INFO  org.pf4j.AbstractPluginManager - No plugins\n",
      "Dec-18 02:53:11.648 [main] DEBUG nextflow.config.ConfigBuilder - User config file: /home/eila/git_igvf/atomic-workflows/nextflow/nf_workflow/workflow_fg_single_cell_joint/nextflow_vm.config\n",
      "Dec-18 02:53:11.649 [main] DEBUG nextflow.config.ConfigBuilder - Parsing config file: /home/eila/git_igvf/atomic-workflows/nextflow/nf_workflow/workflow_fg_single_cell_joint/nextflow_vm.config\n",
      "Dec-18 02:53:11.691 [main] DEBUG nextflow.config.ConfigBuilder - Applying config profile: `google_batch_profile`\n",
      "Dec-18 02:53:13.332 [main] DEBUG nextflow.config.ConfigBuilder - Available config profiles: [google_batch_profile]\n",
      "Dec-18 02:53:13.387 [main] DEBUG nextflow.cli.CmdRun - Applied DSL=2 by global default\n",
      "Dec-18 02:53:13.414 [main] INFO  nextflow.cli.CmdRun - Launching `nf_wf_fg_singlecell_joint.nf` [lonely_mahavira] DSL2 - revision: d926c7e73f\n",
      "Dec-18 02:53:13.415 [main] DEBUG nextflow.plugin.PluginsFacade - Plugins default=[nf-google@1.8.3]\n",
      "Dec-18 02:53:13.416 [main] DEBUG nextflow.plugin.PluginsFacade - Plugins resolved requirement=[nf-google@1.8.3, nf-tower@1.6.3]\n",
      "Dec-18 02:53:13.416 [main] DEBUG nextflow.plugin.PluginUpdater - Installing plugin nf-google version: 1.8.3\n",
      "Dec-18 02:53:13.441 [main] INFO  org.pf4j.AbstractPluginManager - Plugin 'nf-google@1.8.3' resolved\n",
      "Dec-18 02:53:13.441 [main] INFO  org.pf4j.AbstractPluginManager - Start plugin 'nf-google@1.8.3'\n",
      "Dec-18 02:53:13.524 [main] DEBUG nextflow.plugin.BasePlugin - Plugin started nf-google@1.8.3\n",
      "Dec-18 02:53:13.524 [main] DEBUG nextflow.plugin.PluginUpdater - Installing plugin nf-tower version: 1.6.3\n",
      "Dec-18 02:53:13.527 [main] INFO  org.pf4j.AbstractPluginManager - Plugin 'nf-tower@1.6.3' resolved\n",
      "Dec-18 02:53:13.527 [main] INFO  org.pf4j.AbstractPluginManager - Start plugin 'nf-tower@1.6.3'\n",
      "Dec-18 02:53:13.539 [main] DEBUG nextflow.plugin.BasePlugin - Plugin started nf-tower@1.6.3\n",
      "Dec-18 02:53:13.559 [main] DEBUG n.secret.LocalSecretsProvider - Secrets store: /home/eila/.nextflow/secrets/store.json\n",
      "Dec-18 02:53:13.564 [main] DEBUG nextflow.secret.SecretsLoader - Discovered secrets providers: [nextflow.secret.LocalSecretsProvider@39f5b723] - activable => nextflow.secret.LocalSecretsProvider@39f5b723\n",
      "Dec-18 02:53:13.649 [main] DEBUG nextflow.Session - Session UUID: c851f257-8461-446b-a040-9554df8550cb\n",
      "Dec-18 02:53:13.650 [main] DEBUG nextflow.Session - Run name: lonely_mahavira\n",
      "Dec-18 02:53:13.651 [main] DEBUG nextflow.Session - Executor pool size: 4\n",
      "Dec-18 02:53:13.922 [main] DEBUG nextflow.file.FilePorter - File porter settings maxRetries=3; maxTransfers=50; pollTimeout=null\n",
      "Dec-18 02:53:13.931 [main] DEBUG nextflow.util.ThreadPoolBuilder - Creating thread pool 'FileTransfer' minSize=10; maxSize=12; workQueue=LinkedBlockingQueue[10000]; allowCoreThreadTimeout=false\n",
      "Dec-18 02:53:13.938 [main] DEBUG nextflow.config.ConfigBuilder - User config file: /home/eila/git_igvf/atomic-workflows/nextflow/nf_workflow/workflow_fg_single_cell_joint/nextflow_vm.config\n",
      "Dec-18 02:53:13.938 [main] DEBUG nextflow.config.ConfigBuilder - Parsing config file: /home/eila/git_igvf/atomic-workflows/nextflow/nf_workflow/workflow_fg_single_cell_joint/nextflow_vm.config\n",
      "Dec-18 02:53:13.938 [main] DEBUG nextflow.config.ConfigBuilder - Applying config profile: `google_batch_profile`\n",
      "Dec-18 02:53:14.189 [main] DEBUG nextflow.config.ConfigBuilder - Available config profiles: [google_batch_profile]\n",
      "Dec-18 02:53:14.238 [main] DEBUG nextflow.cli.CmdRun - \n",
      "  Version: 23.10.0 build 5889\n",
      "  Created: 15-10-2023 15:07 UTC \n",
      "  System: Linux 5.10.0-26-cloud-amd64\n",
      "  Runtime: Groovy 3.0.19 on OpenJDK 64-Bit Server VM 11.0.13+7-b1751.21\n",
      "  Encoding: UTF-8 (UTF-8)\n",
      "  Process: 336328@eila-vm [10.128.0.63]\n",
      "  CPUs: 4 - Mem: 14.6 GB (8.9 GB) - Swap: 0 (0)\n",
      "Dec-18 02:53:14.299 [main] DEBUG nextflow.file.FileHelper - Can't check if specified path is NFS (1): gs://eila-nextflow-bucket/work/ATAC\n",
      "\n",
      "Dec-18 02:53:14.300 [main] DEBUG nextflow.Session - Work-dir: gs://eila-nextflow-bucket/work/ATAC [null]\n",
      "Dec-18 02:53:14.336 [main] DEBUG nextflow.executor.ExecutorFactory - Extension executors providers=[GoogleLifeSciencesExecutor, GoogleBatchExecutor]\n",
      "Dec-18 02:53:14.354 [main] DEBUG nextflow.Session - Observer factory: DefaultObserverFactory\n",
      "Dec-18 02:53:14.357 [main] DEBUG nextflow.Session - Observer factory: TowerFactory\n",
      "Dec-18 02:53:14.676 [main] DEBUG nextflow.cache.CacheFactory - Using Nextflow cache factory: nextflow.cache.DefaultCacheFactory\n",
      "Dec-18 02:53:14.690 [main] DEBUG nextflow.util.CustomThreadPool - Creating default thread pool > poolSize: 5; maxThreads: 1000\n",
      "Dec-18 02:53:14.812 [main] DEBUG nextflow.Session - Session start\n",
      "Dec-18 02:53:14.828 [main] DEBUG io.seqera.tower.plugin.TowerClient - Creating Tower observer -- endpoint=https://api.tower.nf; requestInterval=1s; aliveInterval=1m; maxRetries=5; backOffBase=3; backOffDelay=250\n",
      "Dec-18 02:53:15.984 [main] DEBUG nextflow.script.ScriptRunner - > Launching execution\n",
      "Dec-18 02:53:16.535 [main] INFO  nextflow.script.BaseScript - Before calling run_joint_barcode_cell_plotting\n",
      "Dec-18 02:53:16.596 [main] INFO  nextflow.script.BaseScript - RNA Metrics: /home/eila/git_igvf/cellatlas-scrna-seq-pipeline/nextflow/nf_data/nf_wf_fg_singlecell/na.na\n",
      "Dec-18 02:53:16.598 [main] INFO  nextflow.script.BaseScript - ATAC Metrics: /home/eila/git_igvf/cellatlas-scrna-seq-pipeline/nextflow/nf_data/nf_wf_fg_singlecell/na1.na\n",
      "Dec-18 02:53:16.684 [main] DEBUG nextflow.script.ProcessConfig - Config settings `withLabel:joint_barcode_metadata_py` matches labels `joint_barcode_metadata_py` for process with name run_joint_barcode_cell_plotting\n",
      "Dec-18 02:53:16.711 [main] DEBUG nextflow.executor.ExecutorFactory - << taskConfig executor: google-batch\n",
      "Dec-18 02:53:16.711 [main] DEBUG nextflow.executor.ExecutorFactory - >> processorType: 'google-batch'\n",
      "Dec-18 02:53:16.715 [main] DEBUG nextflow.executor.Executor - [warm up] executor > google-batch\n",
      "Dec-18 02:53:16.720 [main] DEBUG n.processor.TaskPollingMonitor - Creating task monitor for executor 'google-batch' > capacity: 1000; pollInterval: 10s; dumpInterval: 5m \n",
      "Dec-18 02:53:16.724 [main] DEBUG n.processor.TaskPollingMonitor - >>> barrier register (monitor: google-batch)\n",
      "Dec-18 02:53:16.732 [main] DEBUG nextflow.cloud.google.GoogleOpts - Google auth via application DEFAULT\n",
      "Dec-18 02:53:16.738 [main] DEBUG n.c.google.batch.GoogleBatchExecutor - [GOOGLE BATCH] Executor config=BatchConfig[googleOpts=GoogleOpts(projectId:hai-gcp-genomic, credsFile:null, location:us-central1, enableRequesterPaysBuckets:false, httpConnectTimeout:1m, httpReadTimeout:1m, credentials:UserCredentials{requestMetadata=null, temporaryAccess=null, clientId=764086051850-6qr4p6gpi6hn506pt8ejuq83di341hur.apps.googleusercontent.com, refreshToken=1//04-ZrKvCfXPa5CgYIARAAGAQSNwF-L9IrkFtcwyfUDAhTeAquw0t0utu5nMRfG-U9l5uflp_XJI0EMWlO9aPKmi0CxdbKiKRekQc, tokenServerUri=https://oauth2.googleapis.com/token, transportFactoryClassName=com.google.auth.oauth2.OAuth2Utils$DefaultHttpTransportFactory, quotaProjectId=hai-gcp-genomic})\n",
      "Dec-18 02:53:17.557 [main] INFO  n.c.google.batch.GoogleBatchExecutor - Uploading local `bin` scripts folder to gs://eila-nextflow-bucket/work/ATAC/tmp/f0/9075560b04665d323aba3d7d2a0c76/bin\n",
      "Dec-18 02:53:19.908 [main] DEBUG n.c.google.batch.client.BatchClient - [GOOGLE BATCH] Creating service client with config credentials\n",
      "Dec-18 02:53:20.689 [main] INFO  nextflow.script.BaseScript - After calling run_joint_barcode_cell_plotting\n",
      "Dec-18 02:53:20.692 [main] INFO  nextflow.script.BaseScript - Before calling run_joint_cell_plotting_density\n",
      "Dec-18 02:53:20.696 [main] DEBUG nextflow.script.ProcessConfig - Config settings `withLabel:joint_barcode_metadata_r` matches labels `joint_barcode_metadata_r` for process with name run_joint_cell_plotting_density\n",
      "Dec-18 02:53:20.699 [main] DEBUG nextflow.executor.ExecutorFactory - << taskConfig executor: google-batch\n",
      "Dec-18 02:53:20.699 [main] DEBUG nextflow.executor.ExecutorFactory - >> processorType: 'google-batch'\n",
      "Dec-18 02:53:20.705 [main] INFO  nextflow.script.BaseScript - After calling run_joint_cell_plotting_density\n",
      "Dec-18 02:53:20.706 [main] INFO  nextflow.script.BaseScript - Before run_joint_metrics_html_report\n",
      "Dec-18 02:53:20.707 [main] INFO  nextflow.script.BaseScript - Before run_joint_metrics_html_report\n",
      "Dec-18 02:53:20.710 [main] DEBUG nextflow.script.ProcessConfig - Config settings `withLabel:joint_metrics_html_report` matches labels `joint_metrics_html_report` for process with name run_joint_metrics_html_report\n",
      "Dec-18 02:53:20.713 [main] DEBUG nextflow.executor.ExecutorFactory - << taskConfig executor: google-batch\n",
      "Dec-18 02:53:20.713 [main] DEBUG nextflow.executor.ExecutorFactory - >> processorType: 'google-batch'\n",
      "Dec-18 02:53:20.720 [main] INFO  nextflow.script.BaseScript - After run_joint_metrics_html_report\n",
      "Dec-18 02:53:20.721 [main] DEBUG nextflow.Session - Workflow process names [dsl2]: run_joint_metrics_html_report, run_joint_cell_plotting_density, run_joint_barcode_cell_plotting\n",
      "Dec-18 02:53:21.265 [main] INFO  io.seqera.tower.plugin.TowerClient - Monitor the execution with Nextflow Tower using this URL: https://tower.nf/orgs/ort_eila_org/workspaces/ort_eila_wrkspc/watch/2bD5jDqiWx08nP\n",
      "Dec-18 02:53:21.266 [main] DEBUG nextflow.Session - Igniting dataflow network (3)\n",
      "Dec-18 02:53:21.268 [main] DEBUG nextflow.processor.TaskProcessor - Starting process > run_joint_barcode_cell_plotting\n",
      "Dec-18 02:53:21.271 [main] DEBUG nextflow.processor.TaskProcessor - Starting process > run_joint_cell_plotting_density\n",
      "Dec-18 02:53:21.275 [main] DEBUG nextflow.processor.TaskProcessor - Starting process > run_joint_metrics_html_report\n",
      "Dec-18 02:53:21.279 [main] DEBUG nextflow.script.ScriptRunner - Parsed script files:\n",
      "  Script_ab5790b26911b06c: /home/eila/git_igvf/atomic-workflows/nextflow/nf_workflow/workflow_fg_single_cell_joint/./../../nf_processes/nf_prcs_joint_barcode_cell_plotting.nf\n",
      "  Script_b9b93fb4efabde58: /home/eila/git_igvf/atomic-workflows/nextflow/nf_workflow/workflow_fg_single_cell_joint/./../../nf_processes/nf_prcs_joint_barcode_cell_plotting_density.nf\n",
      "  Script_0d6cf06d1adfe603: /home/eila/git_igvf/atomic-workflows/nextflow/nf_workflow/workflow_fg_single_cell_joint/nf_wf_fg_singlecell_joint.nf\n",
      "  Script_6391994ff5a2b580: /home/eila/git_igvf/atomic-workflows/nextflow/nf_workflow/workflow_fg_single_cell_joint/./../../nf_processes/nf_prcs_joint_metrics_html_report.nf\n",
      "Dec-18 02:53:21.279 [main] DEBUG nextflow.script.ScriptRunner - > Awaiting termination \n",
      "Dec-18 02:53:21.279 [main] DEBUG nextflow.Session - Session await\n",
      "Dec-18 02:53:22.580 [FileTransfer-1] DEBUG nextflow.file.FilePorter - Local cache found for foreign file /home/eila/git_igvf/cellatlas-scrna-seq-pipeline/nextflow/nf_data/nf_wf_fg_singlecell/na2.na at gs://eila-nextflow-bucket/work/ATAC/stage-c851f257-8461-446b-a040-9554df8550cb/f7/25a2769658634004bac1cf68fd37f1/na2.na\n",
      "Dec-18 02:53:22.625 [FileTransfer-2] DEBUG nextflow.file.FilePorter - Local cache found for foreign file /home/eila/git_igvf/cellatlas-scrna-seq-pipeline/nextflow/nf_data/nf_wf_fg_singlecell/na.na at gs://eila-nextflow-bucket/work/ATAC/stage-c851f257-8461-446b-a040-9554df8550cb/a3/44bb653c2d13cd5013efbdb357eaf3/na.na\n",
      "Dec-18 02:53:22.816 [FileTransfer-3] DEBUG nextflow.file.FilePorter - Local cache found for foreign file /home/eila/git_igvf/cellatlas-scrna-seq-pipeline/nextflow/nf_data/nf_wf_fg_singlecell/na1.na at gs://eila-nextflow-bucket/work/ATAC/stage-c851f257-8461-446b-a040-9554df8550cb/b6/61b72cc4dcb9c0647c89f4e37e6a9f/na1.na\n",
      "Dec-18 02:53:22.938 [FileTransfer-4] DEBUG nextflow.file.FilePorter - Local cache found for foreign file /home/eila/git_igvf/cellatlas-scrna-seq-pipeline/nextflow/nf_data/nf_wf_fg_singlecell/na3.na at gs://eila-nextflow-bucket/work/ATAC/stage-c851f257-8461-446b-a040-9554df8550cb/db/6a94b01c025a9c8de6d3af879023b7/na3.na\n",
      "Dec-18 02:53:25.773 [Task submitter] DEBUG n.c.g.batch.GoogleBatchTaskHandler - [GOOGLE BATCH] Process `run_joint_cell_plotting_density` submitted > job=nf-df8615d7-1702868003410; uid=nf-df8615d7-170286-03c1604f-9883-49990; work-dir=gs://eila-nextflow-bucket/work/ATAC/df/8615d7e524a949192145e46089f142\n",
      "Dec-18 02:53:25.773 [Task submitter] INFO  nextflow.Session - [df/8615d7] Submitted process > run_joint_cell_plotting_density\n",
      "Dec-18 02:53:26.536 [Task submitter] DEBUG n.c.g.batch.GoogleBatchTaskHandler - [GOOGLE BATCH] Process `run_joint_barcode_cell_plotting` submitted > job=nf-ee14d56a-1702868003693; uid=nf-ee14d56a-170286-2be4737b-fe1a-49cd0; work-dir=gs://eila-nextflow-bucket/work/ATAC/ee/14d56ac204906766fa5f1b13fff376\n",
      "Dec-18 02:53:26.536 [Task submitter] INFO  nextflow.Session - [ee/14d56a] Submitted process > run_joint_barcode_cell_plotting\n",
      "Dec-18 02:53:27.251 [Task submitter] DEBUG n.c.g.batch.GoogleBatchTaskHandler - [GOOGLE BATCH] Process `run_joint_metrics_html_report` submitted > job=nf-ebea0a12-1702868003830; uid=nf-ebea0a12-170286-907741f9-5fcc-4da00; work-dir=gs://eila-nextflow-bucket/work/ATAC/eb/ea0a12975aeb0b0cb9dfad7a7f4dd3\n",
      "Dec-18 02:53:27.252 [Task submitter] INFO  nextflow.Session - [eb/ea0a12] Submitted process > run_joint_metrics_html_report\n",
      "Dec-18 02:55:56.810 [Task monitor] DEBUG n.c.g.batch.GoogleBatchTaskHandler - [GOOGLE BATCH] Process `run_joint_barcode_cell_plotting` - terminated job=nf-ee14d56a-1702868003693; state=FAILED\n",
      "Dec-18 02:55:57.981 [Task monitor] DEBUG n.processor.TaskPollingMonitor - Task completed > TaskHandler[id: 3; name: run_joint_barcode_cell_plotting; status: COMPLETED; exit: 1; error: -; workDir: gs://eila-nextflow-bucket/work/ATAC/ee/14d56ac204906766fa5f1b13fff376]\n",
      "Dec-18 02:55:57.994 [Task monitor] DEBUG nextflow.processor.TaskProcessor - Handling unexpected condition for\n",
      "  task: name=run_joint_barcode_cell_plotting; work-dir=gs://eila-nextflow-bucket/work/ATAC/ee/14d56ac204906766fa5f1b13fff376\n",
      "  error [nextflow.exception.ProcessFailedException]: Process `run_joint_barcode_cell_plotting` terminated with an error exit status (1)\n",
      "Dec-18 02:55:58.081 [Task monitor] ERROR nextflow.processor.TaskProcessor - Error executing process > 'run_joint_barcode_cell_plotting'\n",
      "\n",
      "Caused by:\n",
      "  Process `run_joint_barcode_cell_plotting` terminated with an error exit status (1)\n",
      "\n",
      "Command executed:\n",
      "\n",
      "  # Print start of run_joint_barcode_cell_plotting\n",
      "  echo \"Starting run_joint_barcode_cell_plotting...\"\n",
      "  \n",
      "  # Determine the script path\n",
      "  script_path=$(command -v /home/eila/git_igvf/cellatlas-scrna-seq-pipeline/nextflow/nf_data/nf_wf_fg_singlecell/joint_cell_plotting.py)\n",
      "  echo \"Script path: $script_path\"\n",
      "  \n",
      "  echo \"Parameters:\"\n",
      "  echo \"- pkr: PKR123\"\n",
      "  echo \"- rna_metrics_file: na.na\"\n",
      "  echo \"- atac_metrics_file: na1.na\"\n",
      "  echo \"- remove_low_yielding_cells: 5\"\n",
      "  echo \"- barcode_metadata_file: na2.na\"\n",
      "  echo \"- min_umis: 5\"\n",
      "  echo \"- min_genes: 5\"\n",
      "  echo \"- min_tss: 5\"\n",
      "  echo \"- min_frags: 5\"\n",
      "  \n",
      "  python3 $script_path --pkr PKR123 --rna_metrics_file na.na --atac_metrics_file na1.na --remove_low_yielding_cells 5 --barcode_metadata_file na2.na --min_umis 5 --min_genes 5 --min_tss 5 --min_frags 5 --plot_file plot_file.jpg\n",
      "  \n",
      "  echo \"TODO: remove the following command\" \n",
      "  touch plot_file.jpg\n",
      "  touch joint_cell_plotting.log\n",
      "  # Print finish of run_joint_barcode_metadata\n",
      "  echo 'Finished run_joint_barcode_cell_plotting.'\n",
      "\n",
      "Command exit status:\n",
      "  1\n",
      "\n",
      "Command output:\n",
      "  Starting run_joint_barcode_cell_plotting...\n",
      "\n",
      "Work dir:\n",
      "  gs://eila-nextflow-bucket/work/ATAC/ee/14d56ac204906766fa5f1b13fff376\n",
      "\n",
      "Tip: you can try to figure out what's wrong by changing to the process work dir and showing the script file named `.command.sh`\n",
      "Dec-18 02:55:58.331 [Task monitor] DEBUG nextflow.Session - Session aborted -- Cause: Process `run_joint_barcode_cell_plotting` terminated with an error exit status (1)\n",
      "Dec-18 02:55:58.450 [main] DEBUG nextflow.Session - Session await > all processes finished\n",
      "Dec-18 02:55:58.451 [main] DEBUG nextflow.Session - Session await > all barriers passed\n",
      "Dec-18 02:55:58.480 [Task monitor] DEBUG n.processor.TaskPollingMonitor - <<< barrier arrives (monitor: google-batch) - terminating tasks monitor poll loop\n",
      "Dec-18 02:55:58.564 [main] WARN  n.processor.TaskPollingMonitor - Killing running tasks (2)\n",
      "Dec-18 02:55:58.590 [main] DEBUG n.trace.WorkflowStatsObserver - Workflow completed > WorkflowStats[succeededCount=0; failedCount=1; ignoredCount=0; cachedCount=0; pendingCount=0; submittedCount=2; runningCount=-2; retriesCount=0; abortedCount=2; succeedDuration=0ms; failedDuration=1.2s; cachedDuration=0ms;loadCpus=-2; loadMemory=0; peakRunning=1; peakCpus=1; peakMemory=0; ]\n",
      "Dec-18 02:55:59.081 [main] DEBUG nextflow.cache.CacheDB - Closing CacheDB done\n",
      "Dec-18 02:55:59.082 [main] INFO  org.pf4j.AbstractPluginManager - Stop plugin 'nf-tower@1.6.3'\n",
      "Dec-18 02:55:59.082 [main] DEBUG nextflow.plugin.BasePlugin - Plugin stopped nf-tower\n",
      "Dec-18 02:55:59.082 [main] INFO  org.pf4j.AbstractPluginManager - Stop plugin 'nf-google@1.8.3'\n",
      "Dec-18 02:55:59.082 [main] DEBUG nextflow.plugin.BasePlugin - Plugin stopped nf-google\n",
      "Dec-18 02:55:59.101 [main] DEBUG nextflow.script.ScriptRunner - > Execution complete -- Goodbye\n"
     ]
    }
   ],
   "source": [
    "!cat .nextflow.log"
   ]
  },
  {
   "cell_type": "code",
   "execution_count": 20,
   "metadata": {
    "tags": []
   },
   "outputs": [],
   "source": [
    "# !nextflow run nf_wf_fg_singlecell_atac.nf -c nextflow_vm.config -profile google_batch_profile -resume\n",
    "\n",
    "\n",
    "\n",
    "\n",
    "# !nextflow run nf_wf_fg_singlecell_atac.nf -c nextflow_vm.config -profile google_batch_profile -resume\n",
    "# !nextflow run nf_wf_fg_singlecell_atac.nf -c nextflow_local.config -profile google_batch_profile -resume\n",
    "# !nextflow run nf_wf_fg_singlecell_atac.nf -c nextflow_vm.config -profile google_batch_profile -resume\n",
    "# !nextflow run nf_wf_fg_singlecell_atac.nf -c nextflow.config -profile docker_profile -resume\n",
    "# !nextflow run nf_wf_fg_singlecell_atac.nf -c nextflow.config -profile google_batch_profile -resume"
   ]
  },
  {
   "cell_type": "code",
   "execution_count": null,
   "metadata": {},
   "outputs": [],
   "source": []
  }
 ],
 "metadata": {
  "kernelspec": {
   "display_name": "Python 3 (ipykernel)",
   "language": "python",
   "name": "python3"
  },
  "language_info": {
   "codemirror_mode": {
    "name": "ipython",
    "version": 3
   },
   "file_extension": ".py",
   "mimetype": "text/x-python",
   "name": "python",
   "nbconvert_exporter": "python",
   "pygments_lexer": "ipython3",
   "version": "3.7.16"
  }
 },
 "nbformat": 4,
 "nbformat_minor": 4
}
