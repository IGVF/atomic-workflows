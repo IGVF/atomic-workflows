{
 "cells": [
  {
   "cell_type": "code",
   "execution_count": 1,
   "metadata": {
    "tags": []
   },
   "outputs": [],
   "source": [
    "# start docker deamon in terminal\n",
    "# !sudo docker login\n",
    "# OR - becuase the jupyther with allow root\n",
    "# !docker login"
   ]
  },
  {
   "cell_type": "markdown",
   "metadata": {},
   "source": [
    "TODO:\n",
    "\n",
    "when running with cloud. \n",
    "if you dont need to keep the execution logs, change the cloud settings to keep it for a short while\n",
    "Check that the cache if you need to set the cache to false (especially in plot process)"
   ]
  },
  {
   "cell_type": "code",
   "execution_count": 2,
   "metadata": {
    "tags": []
   },
   "outputs": [
    {
     "name": "stdout",
     "output_type": "stream",
     "text": [
      "/home/eila/git_igvf/atomic-workflows/nextflow/nf_workflow/workflow_fg_single_cell_joint\n"
     ]
    }
   ],
   "source": [
    "!pwd"
   ]
  },
  {
   "cell_type": "code",
   "execution_count": 3,
   "metadata": {
    "tags": []
   },
   "outputs": [],
   "source": [
    "# %%bash\n",
    "# export GOOGLE_APPLICATION_CREDENTIALS=\"/home/eila/git_igvf/cellatlas-scrna-seq-pipeline/nextflow/hai-gcp-genomic-beb9207a40b8.json\"\n",
    "# gcloud auth activate-service-account eila-batch@hai-gcp-genomic.iam.gserviceaccount.com --key-file=$GOOGLE_APPLICATION_CREDENTIALS\n"
   ]
  },
  {
   "cell_type": "code",
   "execution_count": 4,
   "metadata": {
    "tags": []
   },
   "outputs": [
    {
     "name": "stdout",
     "output_type": "stream",
     "text": [
      "                  Credentialed Accounts\n",
      "ACTIVE  ACCOUNT\n",
      "        886987709752-compute@developer.gserviceaccount.com\n",
      "*       eila-batch@hai-gcp-genomic.iam.gserviceaccount.com\n",
      "\n",
      "To set the active account, run:\n",
      "    $ gcloud config set account `ACCOUNT`\n",
      "\n"
     ]
    }
   ],
   "source": [
    "!gcloud auth list\n",
    "# !gcloud config set account eila-batch@hai-gcp-genomic.iam.gserviceaccount.com\n"
   ]
  },
  {
   "cell_type": "code",
   "execution_count": 5,
   "metadata": {},
   "outputs": [],
   "source": [
    "# in the command line. based on:\n",
    "# https://nextflow.io/blog/2023/nextflow-with-gbatch.html\n",
    "# gcloud services enable batch.googleapis.com compute.googleapis.com logging.googleapis.com\n",
    "# gcloud iam service-accounts create eila-batch\n",
    "# gcloud iam service-accounts list \n",
    "\n",
    "\n",
    "# gcloud projects add-iam-policy-binding terra-addd4c49 \\\n",
    "# --member=\"serviceAccount:pet-26869426946125b815f6b@terra-addd4c49.iam.gserviceaccount.com\" \\\n",
    "# --role=\"roles/iam.serviceAccountUser\"\n",
    "\n",
    "# $ gcloud projects add-iam-policy-binding terra-addd4c49 \\\n",
    "# --member=\"serviceAccount:pet-26869426946125b815f6b@terra-addd4c49.iam.gserviceaccount.com\" \\\n",
    "# --role=\"roles/batch.jobsEditor\"\n",
    "\n",
    "# $ gcloud projects add-iam-policy-binding terra-addd4c49 \\\n",
    "# --member=\"serviceAccount:pet-26869426946125b815f6b@terra-addd4c49.iam.gserviceaccount.com\" \\\n",
    "# --role=\"roles/logging.viewer\"\n",
    "\n",
    "# $ gcloud projects add-iam-policy-binding terra-addd4c49 \\\n",
    "# --member=\"serviceAccount:pet-26869426946125b815f6b@terra-addd4c49.iam.gserviceaccount.com\" \\\n",
    "# --role=\"roles/storage.admin\"\n"
   ]
  },
  {
   "cell_type": "code",
   "execution_count": 6,
   "metadata": {},
   "outputs": [],
   "source": [
    "import os\n",
    "# os.environ[\"TOWER_ACCESS_TOKEN\"] = 'XXX'\n",
    "os.environ[\"TOWER_ACCESS_TOKEN\"] = 'eyJ0aWQiOiA4Mjk3fS5jNDNmYzA4NTg2MjAxNDQzOTAwYmUzNWEzZTY0MGMyZTc0OWE3M2Mz'\n",
    "os.environ[\"TOWER_WORKSPACE_ID\"]='247507587970818'\n"
   ]
  },
  {
   "cell_type": "code",
   "execution_count": 7,
   "metadata": {
    "tags": []
   },
   "outputs": [
    {
     "name": "stdout",
     "output_type": "stream",
     "text": [
      "eyJ0aWQiOiA4Mjk3fS5jNDNmYzA4NTg2MjAxNDQzOTAwYmUzNWEzZTY0MGMyZTc0OWE3M2Mz\n",
      "247507587970818\n"
     ]
    }
   ],
   "source": [
    "!echo $TOWER_ACCESS_TOKEN\n",
    "!echo $TOWER_WORKSPACE_ID"
   ]
  },
  {
   "cell_type": "code",
   "execution_count": 8,
   "metadata": {
    "tags": []
   },
   "outputs": [
    {
     "data": {
      "text/plain": [
       "'/home/eila/git_igvf/atomic-workflows/nextflow/nf_workflow/workflow_fg_single_cell_joint/bin'"
      ]
     },
     "execution_count": 8,
     "metadata": {},
     "output_type": "execute_result"
    }
   ],
   "source": [
    "# !chmod +x ./bin/scrna_qc_metrics.py\n",
    "import os\n",
    "bin_fld = os.path.join(os.getcwd(),\"bin\")\n",
    "bin_fld"
   ]
  },
  {
   "cell_type": "code",
   "execution_count": 9,
   "metadata": {
    "tags": []
   },
   "outputs": [],
   "source": [
    "!chmod +x {os.path.join(bin_fld, \"joint_cell_plotting.py\")}\n",
    "!chmod +x {os.path.join(bin_fld, \"joint_cell_plotting_density.R\")}\n",
    "!chmod +x {os.path.join(bin_fld, \"write_html.py\")}\n",
    "\n"
   ]
  },
  {
   "cell_type": "code",
   "execution_count": 10,
   "metadata": {},
   "outputs": [],
   "source": [
    "# !nextflow -self-update"
   ]
  },
  {
   "cell_type": "code",
   "execution_count": 11,
   "metadata": {
    "tags": []
   },
   "outputs": [
    {
     "name": "stdout",
     "output_type": "stream",
     "text": [
      "  Version: 23.10.0 build 5889\n",
      "  Created: 15-10-2023 15:07 UTC \n",
      "  System: Linux 5.10.0-26-cloud-amd64\n",
      "  Runtime: Groovy 3.0.19 on OpenJDK 64-Bit Server VM 11.0.13+7-b1751.21\n",
      "  Encoding: UTF-8 (UTF-8)\n",
      "\n"
     ]
    }
   ],
   "source": [
    "!nextflow info"
   ]
  },
  {
   "cell_type": "code",
   "execution_count": 12,
   "metadata": {
    "tags": []
   },
   "outputs": [],
   "source": [
    "nf_data_base_path = '/home/eila/git_igvf/cellatlas-scrna-seq-pipeline/nextflow/nf_data/'\n",
    "\n",
    "# Write the configuration file\n",
    "with open(\"nextflow_vm.config\", \"w\") as config_file:\n",
    "    config_file.write(f\"\"\"\n",
    "manifest {{\n",
    "  description = 'A nexflow pipeline for fg single cell joint qc' \n",
    "  mainScript = 'nf_wf_fg_singlecell_joint.nf'\n",
    "}}\n",
    "\n",
    "profiles {{\n",
    "  google_batch_profile {{\n",
    "    workDir = 'gs://eila-nextflow-bucket/work/ATAC'\n",
    "    includeConfig 'conf/docker-google-batch.config'\n",
    "    docker.enabled = true\n",
    "    docker.envWhitelist=['ENV_SYNAPSE_TOKEN']\n",
    "    executor = 'google-batch'\n",
    "    google.project = 'hai-gcp-genomic'\n",
    "    google.location = 'us-central1'\n",
    "    google.batch.spot = false\n",
    "    google.batch.serviceAccountEmail='eila-batch@hai-gcp-genomic.iam.gserviceaccount.com'\n",
    "  }}   \n",
    "}}\n",
    "\n",
    "// Define ENV_SYNAPSE_TOKEN as a parameter\n",
    "params.SC_JOINT_CELL_BARCODE_PLOT_SCRIPT_PY='joint_cell_plotting.py'\n",
    "params.SC_JOINT_CELL_BARCODE_PLOT_RNA_METRICS='{nf_data_base_path}nf_wf_fg_singlecell/na.na'\n",
    "params.SC_JOINT_CELL_BARCODE_PLOT_ATAC_METRICS='{nf_data_base_path}nf_wf_fg_singlecell/na1.na'\n",
    "//Minimum number of UMIs/fragments required for a cell to be plotted\n",
    "params.SC_JOINT_CELL_BARCODE_PLOT_REMOVE_LOW_YIELDING_CELLS=5\n",
    "params.SC_JOINT_CELL_BARCODE_PLOT_METADATA_FILE='{nf_data_base_path}nf_wf_fg_singlecell/na2.na'\n",
    "params.SC_JOINT_CELL_BARCODE_PLOT_MIN_UMIS=5\n",
    "params.SC_JOINT_CELL_BARCODE_PLOT_MIN_GENES=5\n",
    "params.SC_JOINT_CELL_BARCODE_PLOT_MIN_TSS=5\n",
    "//Cutoff for minimum number of ATAC fragments\n",
    "params.SC_JOINT_CELL_BARCODE_PLOT_MIN_FRAGS=5\n",
    "params.SC_JOINT_CELL_BARCODE_PLOT_PKR='PKR123'\n",
    "params.SC_JOINT_CELL_BARCODE_PLOT_SCRIPT_R='joint_cell_plotting_density.R'\n",
    "\n",
    "params.SC_JOINT_CELL_BARCODE_PLOT_HTML_SCRIPT='write_html.py'\n",
    "params.SC_JOINT_CELL_BARCODE_PLOT_HTML_ATAC_METRICS='{nf_data_base_path}nf_wf_fg_singlecell/na.na'\n",
    "params.SC_JOINT_CELL_BARCODE_PLOT_HTML_RNA_METRICS='{nf_data_base_path}nf_wf_fg_singlecell/na1.na'\n",
    "params.SC_JOINT_CELL_BARCODE_PLOT_HTML_IMAGE_FILES='{nf_data_base_path}nf_wf_fg_singlecell/na2.na'\n",
    "params.SC_JOINT_CELL_BARCODE_PLOT_HTML_LOG_FILES='{nf_data_base_path}nf_wf_fg_singlecell/na3.na'\n",
    "\"\"\")\n"
   ]
  },
  {
   "cell_type": "code",
   "execution_count": 13,
   "metadata": {
    "tags": []
   },
   "outputs": [
    {
     "name": "stdout",
     "output_type": "stream",
     "text": [
      "/home/eila/git_igvf/atomic-workflows/nextflow/nf_workflow/workflow_fg_single_cell_joint\n"
     ]
    }
   ],
   "source": [
    "!pwd"
   ]
  },
  {
   "cell_type": "code",
   "execution_count": 14,
   "metadata": {
    "tags": []
   },
   "outputs": [],
   "source": [
    "# !rm -r /Users/eilaarich-landkof-stanford/Documents/Code/git_igvf/cellatlas-scrna-seq-pipeline/nextflow/nf_workflow/workflow_fg_single_cell_joint/work\n",
    "# !rm -r /home/eila/git_igvf/cellatlas-scrna-seq-pipeline/nextflow/nf_workflow/workflow_fg_single_cell_joint/work\n",
    "# !gsutil rm -r gs://eila-nextflow-bucket/work/ATAC"
   ]
  },
  {
   "cell_type": "code",
   "execution_count": 15,
   "metadata": {
    "tags": []
   },
   "outputs": [],
   "source": [
    "# !rm .nextflow*"
   ]
  },
  {
   "cell_type": "code",
   "execution_count": 16,
   "metadata": {
    "tags": []
   },
   "outputs": [],
   "source": [
    "# !ls nextflow.config"
   ]
  },
  {
   "cell_type": "code",
   "execution_count": 17,
   "metadata": {
    "tags": []
   },
   "outputs": [
    {
     "name": "stdout",
     "output_type": "stream",
     "text": [
      "[compute]\n",
      "region = us-central1\n",
      "zone = us-central1-a\n",
      "[core]\n",
      "account = eila-batch@hai-gcp-genomic.iam.gserviceaccount.com\n",
      "disable_usage_reporting = True\n",
      "project = hai-gcp-genomic\n",
      "\n",
      "Your active configuration is: [default]\n"
     ]
    }
   ],
   "source": [
    "!gcloud config list\n"
   ]
  },
  {
   "cell_type": "code",
   "execution_count": null,
   "metadata": {
    "tags": []
   },
   "outputs": [
    {
     "name": "stdout",
     "output_type": "stream",
     "text": [
      "N E X T F L O W  ~  version 23.10.0\n",
      "Launching `nf_wf_fg_singlecell_joint.nf` [pensive_leavitt] DSL2 - revision: d926c7e73f\n",
      "Dec 18, 2023 3:36:55 AM com.google.auth.oauth2.DefaultCredentialsProvider warnAboutProblematicCredentials\n",
      "WARNING: Your application has authenticated using end user credentials from Google Cloud SDK. We recommend that most server applications use service accounts instead. If your application continues to use end user credentials from Cloud SDK, you might receive a \"quota exceeded\" or \"API not enabled\" error. For more information about service accounts, see https://cloud.google.com/docs/authentication/.\n",
      "Before calling run_joint_barcode_cell_plotting\n",
      "RNA Metrics: /home/eila/git_igvf/cellatlas-scrna-seq-pipeline/nextflow/nf_data/nf_wf_fg_singlecell/na.na\n",
      "ATAC Metrics: /home/eila/git_igvf/cellatlas-scrna-seq-pipeline/nextflow/nf_data/nf_wf_fg_singlecell/na1.na\n",
      "Uploading local `bin` scripts folder to gs://eila-nextflow-bucket/work/ATAC/tmp/73/13d52149fa20847c9af7aa02649f27/bin\n",
      "[-        ] process > run_joint_barcode_cell_plot... -\u001b[K\n",
      "[-        ] process > run_joint_cell_plotting_den... -\u001b[K\n",
      "[-        ] process > run_joint_metrics_html_report  -\u001b[K\n",
      "After calling run_joint_barcode_cell_plotting\u001b[K\n",
      "Before calling run_joint_cell_plotting_density\u001b[K\n",
      "After calling run_joint_cell_plotting_density\u001b[K\n",
      "Before run_joint_metrics_html_report\u001b[K\n",
      "Before run_joint_metrics_html_report\u001b[K\n",
      "After run_joint_metrics_html_report\u001b[K\n",
      "\u001b[10A\n",
      "\u001b[32;1mMonitor the execution with Nextflow Tower using this URL: https://tower.nf/orgs/ort_eila_org/workspaces/ort_eila_wrkspc/watch/4edf3Os3LVgyku\u001b[22;39m\u001b[K\n",
      "[-        ] process > run_joint_barcode_cell_plot... -\u001b[K\n",
      "[-        ] process > run_joint_cell_plotting_den... -\u001b[K\n",
      "[-        ] process > run_joint_metrics_html_report  -\u001b[K\n",
      "After calling run_joint_barcode_cell_plotting\u001b[K\n",
      "Before calling run_joint_cell_plotting_density\u001b[K\n",
      "After calling run_joint_cell_plotting_density\u001b[K\n",
      "Before run_joint_metrics_html_report\u001b[K\n",
      "Before run_joint_metrics_html_report\u001b[K\n",
      "After run_joint_metrics_html_report\u001b[K\n",
      "\u001b[11A\n",
      "\u001b[32;1mMonitor the execution with Nextflow Tower using this URL: https://tower.nf/orgs/ort_eila_org/workspaces/ort_eila_wrkspc/watch/4edf3Os3LVgyku\u001b[22;39m\u001b[K\n",
      "[9d/103233] process > run_joint_barcode_cell_plot... [100%] 1 of 1, cached: 1\u001b[K\n",
      "[-        ] process > run_joint_cell_plotting_den... -\u001b[K\n",
      "[-        ] process > run_joint_metrics_html_report  -\u001b[K\n",
      "After calling run_joint_barcode_cell_plotting\u001b[K\n",
      "Before calling run_joint_cell_plotting_density\u001b[K\n",
      "After calling run_joint_cell_plotting_density\u001b[K\n",
      "Before run_joint_metrics_html_report\u001b[K\n",
      "Before run_joint_metrics_html_report\u001b[K\n",
      "After run_joint_metrics_html_report\u001b[K\n",
      "\u001b[11A\n",
      "\u001b[32;1mMonitor the execution with Nextflow Tower using this URL: https://tower.nf/orgs/ort_eila_org/workspaces/ort_eila_wrkspc/watch/4edf3Os3LVgyku\u001b[22;39m\u001b[K\n",
      "[9d/103233] process > run_joint_barcode_cell_plot... [100%] 1 of 1, cached: 1 ✔\u001b[K\n",
      "[-        ] process > run_joint_cell_plotting_den... -\u001b[K\n",
      "[-        ] process > run_joint_metrics_html_report  -\u001b[K\n",
      "After calling run_joint_barcode_cell_plotting\u001b[K\n",
      "Before calling run_joint_cell_plotting_density\u001b[K\n",
      "After calling run_joint_cell_plotting_density\u001b[K\n",
      "Before run_joint_metrics_html_report\u001b[K\n",
      "Before run_joint_metrics_html_report\u001b[K\n",
      "After run_joint_metrics_html_report\u001b[K\n",
      "Starting run_joint_barcode_cell_plotting...\u001b[K\n",
      "Script path: /root/.nextflow-bin/joint_cell_plotting.py\u001b[K\n",
      "Parameters:\u001b[K\n",
      "- pkr: PKR123\u001b[K\n",
      "- rna_metrics_file: na.na\u001b[K\n",
      "- atac_metrics_file: na1.na\u001b[K\n",
      "- remove_low_yielding_cells: 5\u001b[K\n",
      "- barcode_metadata_file: na2.na\u001b[K\n",
      "- min_umis: 5\u001b[K\n",
      "- min_genes: 5\u001b[K\n",
      "- min_tss: 5\u001b[K\n",
      "- min_frags: 5\u001b[K\n",
      "TODO:heck if this log is part of the html\u001b[K\n",
      "TODO: uncomment all the calls\u001b[K\n",
      "TODO: remove the following command\u001b[K\n",
      "Finished run_joint_barcode_cell_plotting.\u001b[K\n",
      "\u001b[K\n",
      "\u001b[28A\n",
      "\u001b[32;1mMonitor the execution with Nextflow Tower using this URL: https://tower.nf/orgs/ort_eila_org/workspaces/ort_eila_wrkspc/watch/4edf3Os3LVgyku\u001b[22;39m\u001b[K\n",
      "[9d/103233] process > run_joint_barcode_cell_plot... [100%] 1 of 1, cached: 1 ✔\u001b[K\n",
      "[-        ] process > run_joint_cell_plotting_den... [  0%] 0 of 1\u001b[K\n",
      "[-        ] process > run_joint_metrics_html_report  [  0%] 0 of 1\u001b[K\n",
      "After calling run_joint_barcode_cell_plotting\u001b[K\n",
      "Before calling run_joint_cell_plotting_density\u001b[K\n",
      "After calling run_joint_cell_plotting_density\u001b[K\n",
      "Before run_joint_metrics_html_report\u001b[K\n",
      "Before run_joint_metrics_html_report\u001b[K\n",
      "After run_joint_metrics_html_report\u001b[K\n",
      "Starting run_joint_barcode_cell_plotting...\u001b[K\n",
      "Script path: /root/.nextflow-bin/joint_cell_plotting.py\u001b[K\n",
      "Parameters:\u001b[K\n",
      "- pkr: PKR123\u001b[K\n",
      "- rna_metrics_file: na.na\u001b[K\n",
      "- atac_metrics_file: na1.na\u001b[K\n",
      "- remove_low_yielding_cells: 5\u001b[K\n",
      "- barcode_metadata_file: na2.na\u001b[K\n",
      "- min_umis: 5\u001b[K\n",
      "- min_genes: 5\u001b[K\n",
      "- min_tss: 5\u001b[K\n",
      "- min_frags: 5\u001b[K\n",
      "TODO:heck if this log is part of the html\u001b[K\n",
      "TODO: uncomment all the calls\u001b[K\n",
      "TODO: remove the following command\u001b[K\n",
      "Finished run_joint_barcode_cell_plotting.\u001b[K\n",
      "\u001b[K\n",
      "\u001b[28A\n",
      "\u001b[32;1mMonitor the execution with Nextflow Tower using this URL: https://tower.nf/orgs/ort_eila_org/workspaces/ort_eila_wrkspc/watch/4edf3Os3LVgyku\u001b[22;39m\u001b[K\n",
      "executor >  google-batch (1)\u001b[K\n",
      "[9d/103233] process > run_joint_barcode_cell_plot... [100%] 1 of 1, cached: 1 ✔\u001b[K\n",
      "[-        ] process > run_joint_cell_plotting_den... [  0%] 0 of 1\u001b[K\n",
      "[d9/64495a] process > run_joint_metrics_html_report  [  0%] 0 of 1\u001b[K\n",
      "After calling run_joint_barcode_cell_plotting\u001b[K\n",
      "Before calling run_joint_cell_plotting_density\u001b[K\n",
      "After calling run_joint_cell_plotting_density\u001b[K\n",
      "Before run_joint_metrics_html_report\u001b[K\n",
      "Before run_joint_metrics_html_report\u001b[K\n",
      "After run_joint_metrics_html_report\u001b[K\n",
      "Starting run_joint_barcode_cell_plotting...\u001b[K\n",
      "Script path: /root/.nextflow-bin/joint_cell_plotting.py\u001b[K\n",
      "Parameters:\u001b[K\n",
      "- pkr: PKR123\u001b[K\n",
      "- rna_metrics_file: na.na\u001b[K\n",
      "- atac_metrics_file: na1.na\u001b[K\n",
      "- remove_low_yielding_cells: 5\u001b[K\n",
      "- barcode_metadata_file: na2.na\u001b[K\n",
      "- min_umis: 5\u001b[K\n",
      "- min_genes: 5\u001b[K\n",
      "- min_tss: 5\u001b[K\n",
      "- min_frags: 5\u001b[K\n",
      "TODO:heck if this log is part of the html\u001b[K\n",
      "TODO: uncomment all the calls\u001b[K\n",
      "TODO: remove the following command\u001b[K\n",
      "Finished run_joint_barcode_cell_plotting.\u001b[K\n",
      "\u001b[K\n",
      "\u001b[29A\n",
      "\u001b[32;1mMonitor the execution with Nextflow Tower using this URL: https://tower.nf/orgs/ort_eila_org/workspaces/ort_eila_wrkspc/watch/4edf3Os3LVgyku\u001b[22;39m\u001b[K\n",
      "executor >  google-batch (2)\u001b[K\n",
      "[9d/103233] process > run_joint_barcode_cell_plot... [100%] 1 of 1, cached: 1 ✔\u001b[K\n",
      "[f5/114b2f] process > run_joint_cell_plotting_den... [  0%] 0 of 1\u001b[K\n",
      "[d9/64495a] process > run_joint_metrics_html_report  [  0%] 0 of 1\u001b[K\n",
      "After calling run_joint_barcode_cell_plotting\u001b[K\n",
      "Before calling run_joint_cell_plotting_density\u001b[K\n",
      "After calling run_joint_cell_plotting_density\u001b[K\n",
      "Before run_joint_metrics_html_report\u001b[K\n",
      "Before run_joint_metrics_html_report\u001b[K\n",
      "After run_joint_metrics_html_report\u001b[K\n",
      "Starting run_joint_barcode_cell_plotting...\u001b[K\n",
      "Script path: /root/.nextflow-bin/joint_cell_plotting.py\u001b[K\n",
      "Parameters:\u001b[K\n",
      "- pkr: PKR123\u001b[K\n",
      "- rna_metrics_file: na.na\u001b[K\n",
      "- atac_metrics_file: na1.na\u001b[K\n",
      "- remove_low_yielding_cells: 5\u001b[K\n",
      "- barcode_metadata_file: na2.na\u001b[K\n",
      "- min_umis: 5\u001b[K\n",
      "- min_genes: 5\u001b[K\n",
      "- min_tss: 5\u001b[K\n",
      "- min_frags: 5\u001b[K\n",
      "TODO:heck if this log is part of the html\u001b[K\n",
      "TODO: uncomment all the calls\u001b[K\n",
      "TODO: remove the following command\u001b[K\n",
      "Finished run_joint_barcode_cell_plotting.\u001b[K\n",
      "\u001b[K\n",
      "\u001b[29A\n",
      "\u001b[32;1mMonitor the execution with Nextflow Tower using this URL: https://tower.nf/orgs/ort_eila_org/workspaces/ort_eila_wrkspc/watch/4edf3Os3LVgyku\u001b[22;39m\u001b[K\n",
      "executor >  google-batch (2)\u001b[K\n",
      "[9d/103233] process > run_joint_barcode_cell_plot... [100%] 1 of 1, cached: 1 ✔\u001b[K\n",
      "[f5/114b2f] process > run_joint_cell_plotting_den... [  0%] 0 of 1\u001b[K\n",
      "[d9/64495a] process > run_joint_metrics_html_report  [  0%] 0 of 1\u001b[K\n",
      "\u001b[K\n",
      "\u001b[K\n",
      "\u001b[K\n",
      "\u001b[K\n",
      "\u001b[K\n",
      "\u001b[K\n",
      "\u001b[K\n",
      "\u001b[K\n",
      "\u001b[K\n",
      "\u001b[K\n",
      "\u001b[K\n",
      "\u001b[K\n",
      "\u001b[K\n",
      "\u001b[K\n",
      "\u001b[K\n",
      "\u001b[K\n",
      "\u001b[K\n",
      "\u001b[K\n",
      "\u001b[K\n",
      "\u001b[K\n",
      "\u001b[K\n",
      "\u001b[K\n",
      "\u001b[K\n",
      "\u001b[29A\n",
      "\u001b[32;1mMonitor the execution with Nextflow Tower using this URL: https://tower.nf/orgs/ort_eila_org/workspaces/ort_eila_wrkspc/watch/4edf3Os3LVgyku\u001b[22;39m\u001b[K\n",
      "executor >  google-batch (2)\u001b[K\n",
      "[9d/103233] process > run_joint_barcode_cell_plot... [100%] 1 of 1, cached: 1 ✔\u001b[K\n",
      "[f5/114b2f] process > run_joint_cell_plotting_den... [  0%] 0 of 1\u001b[K\n",
      "[d9/64495a] process > run_joint_metrics_html_report  [  0%] 0 of 1 ✔\u001b[K\n",
      "Starting run_joint_metrics_html_report...\u001b[K\n",
      "Script path: /root/.nextflow-bin/write_html.py\u001b[K\n",
      "TODO: uncomment with data\u001b[K\n",
      "Arguments before calling main:\u001b[K\n",
      "Output File Name: html_report_file.html\u001b[K\n",
      "Image File List: image_list.txt\u001b[K\n",
      "Log File List: log_list.txt\u001b[K\n",
      "Output CSV Name: csv_summary_file.csv\u001b[K\n",
      "Summary Stats Text: na.na\u001b[K\n",
      "QC Vals: na1.na\u001b[K\n",
      "TODO: uncomment the main when there is a real data\u001b[K\n",
      "TODO: delete these two commands\u001b[K\n",
      "Finished run_joint_metrics_html_report.\u001b[K\n",
      "\u001b[K\n",
      "\u001b[K\n",
      "\u001b[K\n",
      "\u001b[K\n",
      "\u001b[K\n",
      "\u001b[K\n",
      "\u001b[K\n",
      "\u001b[K\n",
      "\u001b[K\n",
      "\u001b[K\n",
      "\u001b[29A\n",
      "\u001b[32;1mMonitor the execution with Nextflow Tower using this URL: https://tower.nf/orgs/ort_eila_org/workspaces/ort_eila_wrkspc/watch/4edf3Os3LVgyku\u001b[22;39m\u001b[K\n",
      "executor >  google-batch (2)\u001b[K\n",
      "[9d/103233] process > run_joint_barcode_cell_plot... [100%] 1 of 1, cached: 1 ✔\u001b[K\n",
      "[f5/114b2f] process > run_joint_cell_plotting_den... [  0%] 0 of 1\u001b[K\n",
      "[d9/64495a] process > run_joint_metrics_html_report  [100%] 1 of 1 ✔\u001b[K\n",
      "Starting run_joint_metrics_html_report...\u001b[K\n",
      "Script path: /root/.nextflow-bin/write_html.py\u001b[K\n",
      "TODO: uncomment with data\u001b[K\n",
      "Arguments before calling main:\u001b[K\n",
      "Output File Name: html_report_file.html\u001b[K\n",
      "Image File List: image_list.txt\u001b[K\n",
      "Log File List: log_list.txt\u001b[K\n",
      "Output CSV Name: csv_summary_file.csv\u001b[K\n",
      "Summary Stats Text: na.na\u001b[K\n",
      "QC Vals: na1.na\u001b[K\n",
      "TODO: uncomment the main when there is a real data\u001b[K\n",
      "TODO: delete these two commands\u001b[K\n",
      "Finished run_joint_metrics_html_report.\u001b[K\n",
      "\u001b[K\n"
     ]
    }
   ],
   "source": [
    "!nextflow run nf_wf_fg_singlecell_joint.nf -c nextflow_vm.config -profile google_batch_profile -with-tower -resume\n",
    "\n",
    "# !nextflow run nf_wf_fg_singlecell_atac.nf -c nextflow_vm.config -profile google_batch_profile\n",
    "\n",
    "\n",
    "# !nextflow run nf_wf_fg_singlecell_atac.nf -c nextflow_vm.config -profile google_batch_profile\n",
    "# !nextflow run nf_wf_fg_singlecell_atac.nf -c nextflow_vm_anvil.config -profile google_batch_profile\n",
    "# !nextflow run nf_wf_fg_singlecell_atac.nf -c nextflow_local.config -profile google_batch_profile\n",
    "# !nextflow run nf_wf_fg_singlecell_atac.nf -c nextflow_local.config -profile docker_profile\n"
   ]
  },
  {
   "cell_type": "code",
   "execution_count": null,
   "metadata": {
    "tags": []
   },
   "outputs": [],
   "source": [
    "!cat .nextflow.log"
   ]
  },
  {
   "cell_type": "code",
   "execution_count": null,
   "metadata": {},
   "outputs": [],
   "source": []
  }
 ],
 "metadata": {
  "kernelspec": {
   "display_name": "Python 3 (ipykernel)",
   "language": "python",
   "name": "python3"
  },
  "language_info": {
   "codemirror_mode": {
    "name": "ipython",
    "version": 3
   },
   "file_extension": ".py",
   "mimetype": "text/x-python",
   "name": "python",
   "nbconvert_exporter": "python",
   "pygments_lexer": "ipython3",
   "version": "3.7.16"
  }
 },
 "nbformat": 4,
 "nbformat_minor": 4
}
