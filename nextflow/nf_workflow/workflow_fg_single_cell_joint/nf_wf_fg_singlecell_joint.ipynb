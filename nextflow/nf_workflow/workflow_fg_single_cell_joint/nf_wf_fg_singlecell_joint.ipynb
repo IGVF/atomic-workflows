{
 "cells": [
  {
   "cell_type": "code",
   "execution_count": 1,
   "metadata": {
    "tags": []
   },
   "outputs": [],
   "source": [
    "# start docker deamon in terminal\n",
    "# !sudo docker login\n",
    "# OR - becuase the jupyther with allow root\n",
    "# !docker login"
   ]
  },
  {
   "cell_type": "markdown",
   "metadata": {},
   "source": [
    "TODO:\n",
    "\n",
    "when running with cloud. \n",
    "if you dont need to keep the execution logs, change the cloud settings to keep it for a short while\n",
    "Check that the cache if you need to set the cache to false (especially in plot process)"
   ]
  },
  {
   "cell_type": "code",
   "execution_count": 2,
   "metadata": {
    "tags": []
   },
   "outputs": [
    {
     "name": "stdout",
     "output_type": "stream",
     "text": [
      "/home/eila/git_igvf/cellatlas-scrna-seq-pipeline/nextflow/nf_workflow/workflow_fg_single_cell_joint\n"
     ]
    }
   ],
   "source": [
    "!pwd"
   ]
  },
  {
   "cell_type": "code",
   "execution_count": 3,
   "metadata": {
    "tags": []
   },
   "outputs": [
    {
     "name": "stdout",
     "output_type": "stream",
     "text": [
      "/home/eila/git_igvf/cellatlas-scrna-seq-pipeline/nextflow/hai-gcp-genomic-beb9207a40b8.json\n"
     ]
    }
   ],
   "source": [
    "!ls /home/eila/git_igvf/cellatlas-scrna-seq-pipeline/nextflow/hai-gcp-genomic-beb9207a40b8.json"
   ]
  },
  {
   "cell_type": "code",
   "execution_count": 4,
   "metadata": {
    "tags": []
   },
   "outputs": [],
   "source": [
    "# %%bash\n",
    "# export GOOGLE_APPLICATION_CREDENTIALS=\"/home/eila/git_igvf/cellatlas-scrna-seq-pipeline/nextflow/hai-gcp-genomic-beb9207a40b8.json\"\n",
    "# gcloud auth activate-service-account eila-batch@hai-gcp-genomic.iam.gserviceaccount.com --key-file=$GOOGLE_APPLICATION_CREDENTIALS\n"
   ]
  },
  {
   "cell_type": "code",
   "execution_count": 5,
   "metadata": {
    "tags": []
   },
   "outputs": [
    {
     "name": "stdout",
     "output_type": "stream",
     "text": [
      "                  Credentialed Accounts\n",
      "ACTIVE  ACCOUNT\n",
      "        886987709752-compute@developer.gserviceaccount.com\n",
      "*       eila-batch@hai-gcp-genomic.iam.gserviceaccount.com\n",
      "\n",
      "To set the active account, run:\n",
      "    $ gcloud config set account `ACCOUNT`\n",
      "\n"
     ]
    }
   ],
   "source": [
    "!gcloud auth list\n",
    "# !gcloud config set account eila-batch@hai-gcp-genomic.iam.gserviceaccount.com\n"
   ]
  },
  {
   "cell_type": "code",
   "execution_count": 6,
   "metadata": {},
   "outputs": [],
   "source": [
    "# in the command line. based on:\n",
    "# https://nextflow.io/blog/2023/nextflow-with-gbatch.html\n",
    "# gcloud services enable batch.googleapis.com compute.googleapis.com logging.googleapis.com\n",
    "# gcloud iam service-accounts create eila-batch\n",
    "# gcloud iam service-accounts list \n",
    "\n",
    "\n",
    "\n",
    "\n",
    "# gcloud projects add-iam-policy-binding terra-addd4c49 \\\n",
    "# --member=\"serviceAccount:pet-26869426946125b815f6b@terra-addd4c49.iam.gserviceaccount.com\" \\\n",
    "# --role=\"roles/iam.serviceAccountUser\"\n",
    "\n",
    "# $ gcloud projects add-iam-policy-binding terra-addd4c49 \\\n",
    "# --member=\"serviceAccount:pet-26869426946125b815f6b@terra-addd4c49.iam.gserviceaccount.com\" \\\n",
    "# --role=\"roles/batch.jobsEditor\"\n",
    "\n",
    "# $ gcloud projects add-iam-policy-binding terra-addd4c49 \\\n",
    "# --member=\"serviceAccount:pet-26869426946125b815f6b@terra-addd4c49.iam.gserviceaccount.com\" \\\n",
    "# --role=\"roles/logging.viewer\"\n",
    "\n",
    "# $ gcloud projects add-iam-policy-binding terra-addd4c49 \\\n",
    "# --member=\"serviceAccount:pet-26869426946125b815f6b@terra-addd4c49.iam.gserviceaccount.com\" \\\n",
    "# --role=\"roles/storage.admin\"\n"
   ]
  },
  {
   "cell_type": "code",
   "execution_count": 7,
   "metadata": {},
   "outputs": [],
   "source": [
    "import os\n",
    "# os.environ[\"TOWER_ACCESS_TOKEN\"] = 'XXX'\n",
    "os.environ[\"TOWER_ACCESS_TOKEN\"] = 'eyJ0aWQiOiA4Mjk3fS5jNDNmYzA4NTg2MjAxNDQzOTAwYmUzNWEzZTY0MGMyZTc0OWE3M2Mz'\n",
    "os.environ[\"run_seqspec_modify_atac\"] = 'eyJ0aWQiOiA4Mjk3fS5jNDNmYzA4NTg2MjAxNDQzOTAwYmUzNWEzZTY0MGMyZTc0OWE3M2Mz'\n",
    "os.environ[\"TOWER_WORKSPACE_ID\"]='247507587970818'\n"
   ]
  },
  {
   "cell_type": "code",
   "execution_count": 8,
   "metadata": {
    "tags": []
   },
   "outputs": [
    {
     "name": "stdout",
     "output_type": "stream",
     "text": [
      "eyJ0aWQiOiA4Mjk3fS5jNDNmYzA4NTg2MjAxNDQzOTAwYmUzNWEzZTY0MGMyZTc0OWE3M2Mz\n",
      "247507587970818\n"
     ]
    }
   ],
   "source": [
    "!echo $TOWER_ACCESS_TOKEN\n",
    "!echo $TOWER_WORKSPACE_ID"
   ]
  },
  {
   "cell_type": "code",
   "execution_count": 9,
   "metadata": {
    "tags": []
   },
   "outputs": [
    {
     "name": "stdout",
     "output_type": "stream",
     "text": [
      "/home/eila/git_igvf/cellatlas-scrna-seq-pipeline/nextflow/nf_workflow/workflow_fg_single_cell_joint\n"
     ]
    }
   ],
   "source": [
    "!pwd"
   ]
  },
  {
   "cell_type": "code",
   "execution_count": 10,
   "metadata": {
    "tags": []
   },
   "outputs": [
    {
     "name": "stdout",
     "output_type": "stream",
     "text": [
      "/home/eila/git_igvf/cellatlas-scrna-seq-pipeline/nextflow/nf_workflow/workflow_fg_single_cell_atac/bin/atac_barcode_and_subpool.sh\n"
     ]
    }
   ],
   "source": [
    "!ls /home/eila/git_igvf/cellatlas-scrna-seq-pipeline/nextflow/nf_workflow/workflow_fg_single_cell_atac/bin/atac_barcode_and_subpool.sh"
   ]
  },
  {
   "cell_type": "code",
   "execution_count": 11,
   "metadata": {
    "tags": []
   },
   "outputs": [
    {
     "name": "stdout",
     "output_type": "stream",
     "text": [
      "atac_barcode_and_subpool.sh\t\t plot_insert_size_hist-Copy1.py\n",
      "barcode_rank_functions.R\t\t plot_insert_size_hist.py\n",
      "compute_tss_script.py\t\t\t run_tabix.sh\n",
      "create_sample_filtered_fragment_file.sh  scrna_plot_atac_qc_metrics-Copy1.R\n",
      "generate_barcode_metadata.sh\t\t scrna_plot_atac_qc_metrics.R\n"
     ]
    }
   ],
   "source": [
    "!ls /home/eila/git_igvf/cellatlas-scrna-seq-pipeline/nextflow/nf_workflow/workflow_fg_single_cell_atac/bin/"
   ]
  },
  {
   "cell_type": "code",
   "execution_count": 12,
   "metadata": {
    "tags": []
   },
   "outputs": [],
   "source": [
    "\n",
    "!chmod +x /home/eila/git_igvf/cellatlas-scrna-seq-pipeline/nextflow/nf_workflow/workflow_fg_single_cell_joint/bin/joint_cell_plotting.py\n",
    "!chmod +x /home/eila/git_igvf/cellatlas-scrna-seq-pipeline/nextflow/nf_workflow/workflow_fg_single_cell_joint/bin/joint_cell_plotting_density.R\n",
    "!chmod +x /home/eila/git_igvf/cellatlas-scrna-seq-pipeline/nextflow/nf_workflow/workflow_fg_single_cell_joint/bin/write_html.py\n",
    "\n",
    "\n",
    "\n",
    "\n"
   ]
  },
  {
   "cell_type": "code",
   "execution_count": 13,
   "metadata": {
    "tags": []
   },
   "outputs": [
    {
     "name": "stdout",
     "output_type": "stream",
     "text": [
      "joint_cell_plotting.py\tjoint_cell_plotting_density.R  write_html.py\n"
     ]
    }
   ],
   "source": [
    "!ls /home/eila/git_igvf/cellatlas-scrna-seq-pipeline/nextflow/nf_workflow/workflow_fg_single_cell_joint/bin/\n"
   ]
  },
  {
   "cell_type": "code",
   "execution_count": 14,
   "metadata": {},
   "outputs": [],
   "source": [
    "# !nextflow -self-update"
   ]
  },
  {
   "cell_type": "code",
   "execution_count": 15,
   "metadata": {
    "tags": []
   },
   "outputs": [
    {
     "name": "stdout",
     "output_type": "stream",
     "text": [
      "  Version: 23.10.0 build 5889\n",
      "  Created: 15-10-2023 15:07 UTC \n",
      "  System: Linux 5.10.0-26-cloud-amd64\n",
      "  Runtime: Groovy 3.0.19 on OpenJDK 64-Bit Server VM 11.0.13+7-b1751.21\n",
      "  Encoding: UTF-8 (UTF-8)\n",
      "\n"
     ]
    }
   ],
   "source": [
    "!nextflow info"
   ]
  },
  {
   "cell_type": "code",
   "execution_count": 16,
   "metadata": {
    "tags": []
   },
   "outputs": [
    {
     "name": "stdout",
     "output_type": "stream",
     "text": [
      "docker\t\t\t\t   nf_data     nf_processes\n",
      "hai-gcp-genomic-beb9207a40b8.json  nf_modules  nf_workflow\n"
     ]
    }
   ],
   "source": [
    "!ls /home/eila/git_igvf/cellatlas-scrna-seq-pipeline/nextflow/"
   ]
  },
  {
   "cell_type": "code",
   "execution_count": 17,
   "metadata": {
    "tags": []
   },
   "outputs": [
    {
     "data": {
      "text/plain": [
       "'/home/eila/git_igvf/cellatlas-scrna-seq-pipeline/nextflow/nf_workflow/workflow_fg_single_cell_joint'"
      ]
     },
     "execution_count": 17,
     "metadata": {},
     "output_type": "execute_result"
    }
   ],
   "source": [
    "import os\n",
    "os.getcwd()"
   ]
  },
  {
   "cell_type": "code",
   "execution_count": 18,
   "metadata": {
    "tags": []
   },
   "outputs": [
    {
     "name": "stdout",
     "output_type": "stream",
     "text": [
      "Overwriting nextflow_vm.config\n"
     ]
    }
   ],
   "source": [
    "%%writefile nextflow_vm.config\n",
    "\n",
    "manifest {\n",
    "  description = 'A nexflow pipeline for fg single cell joint qc' \n",
    "  mainScript = 'nf_wf_fg_singlecell_joint.nf'\n",
    "}\n",
    "\n",
    "profiles {\n",
    "  \n",
    "  google_batch_profile {\n",
    "    workDir = 'gs://eila-nextflow-bucket/work/ATAC'\n",
    "    includeConfig 'conf/docker-google-batch.config'\n",
    "    docker.enabled = true\n",
    "    docker.envWhitelist=['ENV_SYNAPSE_TOKEN']\n",
    "    executor = 'google-batch'\n",
    "    google.project = 'hai-gcp-genomic'\n",
    "    google.location = 'us-central1'\n",
    "    google.batch.spot = false\n",
    "    google.batch.serviceAccountEmail='eila-batch@hai-gcp-genomic.iam.gserviceaccount.com'\n",
    "  }\n",
    "    \n",
    "}\n",
    "\n",
    "// Define ENV_SYNAPSE_TOKEN as a parameter\n",
    "\n",
    "params.SC_JOINT_CELL_BARCODE_PLOT_SCRIPT_PY='joint_cell_plotting.py'\n",
    "params.SC_JOINT_CELL_BARCODE_PLOT_RNA_METRICS='/home/eila/git_igvf/cellatlas-scrna-seq-pipeline/nextflow/nf_data/nf_wf_fg_singlecell/na.na'\n",
    "params.SC_JOINT_CELL_BARCODE_PLOT_ATAC_METRICS='/home/eila/git_igvf/cellatlas-scrna-seq-pipeline/nextflow/nf_data/nf_wf_fg_singlecell/na1.na'\n",
    "//Minimum number of UMIs/fragments required for a cell to be plotted\n",
    "params.SC_JOINT_CELL_BARCODE_PLOT_REMOVE_LOW_YIELDING_CELLS=5\n",
    "params.SC_JOINT_CELL_BARCODE_PLOT_METADATA_FILE='/home/eila/git_igvf/cellatlas-scrna-seq-pipeline/nextflow/nf_data/nf_wf_fg_singlecell/na2.na'\n",
    "params.SC_JOINT_CELL_BARCODE_PLOT_MIN_UMIS=5\n",
    "params.SC_JOINT_CELL_BARCODE_PLOT_MIN_GENES=5\n",
    "params.SC_JOINT_CELL_BARCODE_PLOT_MIN_TSS=5\n",
    "//Cutoff for minimum number of ATAC fragments\n",
    "params.SC_JOINT_CELL_BARCODE_PLOT_MIN_FRAGS=5\n",
    "params.SC_JOINT_CELL_BARCODE_PLOT_PKR='PKR123'\n",
    "params.SC_JOINT_CELL_BARCODE_PLOT_SCRIPT_R='joint_cell_plotting_density.R'\n",
    "\n",
    "\n",
    "params.SC_JOINT_CELL_BARCODE_PLOT_HTML_SCRIPT='write_html.py'\n",
    "params.SC_JOINT_CELL_BARCODE_PLOT_HTML_ATAC_METRICS='/home/eila/git_igvf/cellatlas-scrna-seq-pipeline/nextflow/nf_data/nf_wf_fg_singlecell/na.na'\n",
    "params.SC_JOINT_CELL_BARCODE_PLOT_HTML_RNA_METRICS='/home/eila/git_igvf/cellatlas-scrna-seq-pipeline/nextflow/nf_data/nf_wf_fg_singlecell/na1.na'\n",
    "params.SC_JOINT_CELL_BARCODE_PLOT_HTML_IMAGE_FILES='/home/eila/git_igvf/cellatlas-scrna-seq-pipeline/nextflow/nf_data/nf_wf_fg_singlecell/na2.na'\n",
    "params.SC_JOINT_CELL_BARCODE_PLOT_HTML_LOG_FILES='/home/eila/git_igvf/cellatlas-scrna-seq-pipeline/nextflow/nf_data/nf_wf_fg_singlecell/na3.na'\n",
    "\n",
    "    "
   ]
  },
  {
   "cell_type": "code",
   "execution_count": 19,
   "metadata": {
    "tags": []
   },
   "outputs": [
    {
     "name": "stdout",
     "output_type": "stream",
     "text": [
      "/home/eila/git_igvf/cellatlas-scrna-seq-pipeline/nextflow/nf_workflow/workflow_fg_single_cell_joint\n"
     ]
    }
   ],
   "source": [
    "!pwd"
   ]
  },
  {
   "cell_type": "code",
   "execution_count": 20,
   "metadata": {
    "tags": []
   },
   "outputs": [],
   "source": [
    "# !rm -r /Users/eilaarich-landkof-stanford/Documents/Code/git_igvf/cellatlas-scrna-seq-pipeline/nextflow/nf_workflow/workflow_fg_single_cell_joint/work\n",
    "# !rm -r /home/eila/git_igvf/cellatlas-scrna-seq-pipeline/nextflow/nf_workflow/workflow_fg_single_cell_joint/work\n",
    "# !gsutil rm -r gs://eila-nextflow-bucket/work/ATAC"
   ]
  },
  {
   "cell_type": "code",
   "execution_count": 21,
   "metadata": {
    "tags": []
   },
   "outputs": [],
   "source": [
    "# !rm .nextflow*"
   ]
  },
  {
   "cell_type": "code",
   "execution_count": 22,
   "metadata": {
    "tags": []
   },
   "outputs": [],
   "source": [
    "# !ls nextflow.config"
   ]
  },
  {
   "cell_type": "code",
   "execution_count": 23,
   "metadata": {
    "tags": []
   },
   "outputs": [
    {
     "name": "stdout",
     "output_type": "stream",
     "text": [
      "[compute]\n",
      "region = us-central1\n",
      "zone = us-central1-a\n",
      "[core]\n",
      "account = eila-batch@hai-gcp-genomic.iam.gserviceaccount.com\n",
      "disable_usage_reporting = True\n",
      "project = hai-gcp-genomic\n",
      "\n",
      "Your active configuration is: [default]\n"
     ]
    }
   ],
   "source": [
    "!gcloud config list\n"
   ]
  },
  {
   "cell_type": "code",
   "execution_count": 24,
   "metadata": {
    "tags": []
   },
   "outputs": [
    {
     "name": "stdout",
     "output_type": "stream",
     "text": [
      "N E X T F L O W  ~  version 23.10.0\n",
      "Launching `nf_wf_fg_singlecell_joint.nf` [zen_cray] DSL2 - revision: d926c7e73f\n",
      "Dec 17, 2023 9:24:59 AM com.google.auth.oauth2.DefaultCredentialsProvider warnAboutProblematicCredentials\n",
      "WARNING: Your application has authenticated using end user credentials from Google Cloud SDK. We recommend that most server applications use service accounts instead. If your application continues to use end user credentials from Cloud SDK, you might receive a \"quota exceeded\" or \"API not enabled\" error. For more information about service accounts, see https://cloud.google.com/docs/authentication/.\n",
      "Before calling run_joint_barcode_cell_plotting\n",
      "RNA Metrics: /home/eila/git_igvf/cellatlas-scrna-seq-pipeline/nextflow/nf_data/nf_wf_fg_singlecell/na.na\n",
      "ATAC Metrics: /home/eila/git_igvf/cellatlas-scrna-seq-pipeline/nextflow/nf_data/nf_wf_fg_singlecell/na1.na\n",
      "Uploading local `bin` scripts folder to gs://eila-nextflow-bucket/work/ATAC/tmp/c7/c556daa46b0a9c86f8b68927438246/bin\n",
      "[-        ] process > run_joint_barcode_cell_plot... -\u001b[K\n",
      "[-        ] process > run_joint_cell_plotting_den... -\u001b[K\n",
      "[-        ] process > run_joint_metrics_html_report  -\u001b[K\n",
      "After calling run_joint_barcode_cell_plotting\u001b[K\n",
      "Before calling run_joint_cell_plotting_density\u001b[K\n",
      "After calling run_joint_cell_plotting_density\u001b[K\n",
      "Before run_joint_metrics_html_report\u001b[K\n",
      "Before run_joint_metrics_html_report\u001b[K\n",
      "After run_joint_metrics_html_report\u001b[K\n",
      "\u001b[10A\n",
      "\u001b[32;1mMonitor the execution with Nextflow Tower using this URL: https://tower.nf/orgs/ort_eila_org/workspaces/ort_eila_wrkspc/watch/1PIeYhD9te9OzW\u001b[22;39m\u001b[K\n",
      "[-        ] process > run_joint_barcode_cell_plot... -\u001b[K\n",
      "[-        ] process > run_joint_cell_plotting_den... -\u001b[K\n",
      "[-        ] process > run_joint_metrics_html_report  -\u001b[K\n",
      "After calling run_joint_barcode_cell_plotting\u001b[K\n",
      "Before calling run_joint_cell_plotting_density\u001b[K\n",
      "After calling run_joint_cell_plotting_density\u001b[K\n",
      "Before run_joint_metrics_html_report\u001b[K\n",
      "Before run_joint_metrics_html_report\u001b[K\n",
      "After run_joint_metrics_html_report\u001b[K\n",
      "\u001b[11A\n",
      "\u001b[32;1mMonitor the execution with Nextflow Tower using this URL: https://tower.nf/orgs/ort_eila_org/workspaces/ort_eila_wrkspc/watch/1PIeYhD9te9OzW\u001b[22;39m\u001b[K\n",
      "[9d/103233] process > run_joint_barcode_cell_plot... [100%] 1 of 1, cached: 1\u001b[K\n",
      "[-        ] process > run_joint_cell_plotting_den... [  0%] 0 of 1\u001b[K\n",
      "[-        ] process > run_joint_metrics_html_report  [  0%] 0 of 1\u001b[K\n",
      "After calling run_joint_barcode_cell_plotting\u001b[K\n",
      "Before calling run_joint_cell_plotting_density\u001b[K\n",
      "After calling run_joint_cell_plotting_density\u001b[K\n",
      "Before run_joint_metrics_html_report\u001b[K\n",
      "Before run_joint_metrics_html_report\u001b[K\n",
      "After run_joint_metrics_html_report\u001b[K\n",
      "\u001b[11A\n",
      "\u001b[32;1mMonitor the execution with Nextflow Tower using this URL: https://tower.nf/orgs/ort_eila_org/workspaces/ort_eila_wrkspc/watch/1PIeYhD9te9OzW\u001b[22;39m\u001b[K\n",
      "[9d/103233] process > run_joint_barcode_cell_plot... [100%] 1 of 1, cached: 1 ✔\u001b[K\n",
      "[-        ] process > run_joint_cell_plotting_den... [  0%] 0 of 1\u001b[K\n",
      "[-        ] process > run_joint_metrics_html_report  [  0%] 0 of 1\u001b[K\n",
      "After calling run_joint_barcode_cell_plotting\u001b[K\n",
      "Before calling run_joint_cell_plotting_density\u001b[K\n",
      "After calling run_joint_cell_plotting_density\u001b[K\n",
      "Before run_joint_metrics_html_report\u001b[K\n",
      "Before run_joint_metrics_html_report\u001b[K\n",
      "After run_joint_metrics_html_report\u001b[K\n",
      "Starting run_joint_barcode_cell_plotting...\u001b[K\n",
      "Script path: /root/.nextflow-bin/joint_cell_plotting.py\u001b[K\n",
      "Parameters:\u001b[K\n",
      "- pkr: PKR123\u001b[K\n",
      "- rna_metrics_file: na.na\u001b[K\n",
      "- atac_metrics_file: na1.na\u001b[K\n",
      "- remove_low_yielding_cells: 5\u001b[K\n",
      "- barcode_metadata_file: na2.na\u001b[K\n",
      "- min_umis: 5\u001b[K\n",
      "- min_genes: 5\u001b[K\n",
      "- min_tss: 5\u001b[K\n",
      "- min_frags: 5\u001b[K\n",
      "TODO:heck if this log is part of the html\u001b[K\n",
      "TODO: uncomment all the calls\u001b[K\n",
      "TODO: remove the following command\u001b[K\n",
      "Finished run_joint_barcode_cell_plotting.\u001b[K\n",
      "\u001b[K\n",
      "\u001b[28A\n",
      "\u001b[32;1mMonitor the execution with Nextflow Tower using this URL: https://tower.nf/orgs/ort_eila_org/workspaces/ort_eila_wrkspc/watch/1PIeYhD9te9OzW\u001b[22;39m\u001b[K\n",
      "executor >  google-batch (1)\u001b[K\n",
      "[9d/103233] process > run_joint_barcode_cell_plot... [100%] 1 of 1, cached: 1 ✔\u001b[K\n",
      "[-        ] process > run_joint_cell_plotting_den... [  0%] 0 of 1\u001b[K\n",
      "[01/774351] process > run_joint_metrics_html_report  [  0%] 0 of 1\u001b[K\n",
      "After calling run_joint_barcode_cell_plotting\u001b[K\n",
      "Before calling run_joint_cell_plotting_density\u001b[K\n",
      "After calling run_joint_cell_plotting_density\u001b[K\n",
      "Before run_joint_metrics_html_report\u001b[K\n",
      "Before run_joint_metrics_html_report\u001b[K\n",
      "After run_joint_metrics_html_report\u001b[K\n",
      "Starting run_joint_barcode_cell_plotting...\u001b[K\n",
      "Script path: /root/.nextflow-bin/joint_cell_plotting.py\u001b[K\n",
      "Parameters:\u001b[K\n",
      "- pkr: PKR123\u001b[K\n",
      "- rna_metrics_file: na.na\u001b[K\n",
      "- atac_metrics_file: na1.na\u001b[K\n",
      "- remove_low_yielding_cells: 5\u001b[K\n",
      "- barcode_metadata_file: na2.na\u001b[K\n",
      "- min_umis: 5\u001b[K\n",
      "- min_genes: 5\u001b[K\n",
      "- min_tss: 5\u001b[K\n",
      "- min_frags: 5\u001b[K\n",
      "TODO:heck if this log is part of the html\u001b[K\n",
      "TODO: uncomment all the calls\u001b[K\n",
      "TODO: remove the following command\u001b[K\n",
      "Finished run_joint_barcode_cell_plotting.\u001b[K\n",
      "\u001b[K\n",
      "\u001b[29A\n",
      "\u001b[32;1mMonitor the execution with Nextflow Tower using this URL: https://tower.nf/orgs/ort_eila_org/workspaces/ort_eila_wrkspc/watch/1PIeYhD9te9OzW\u001b[22;39m\u001b[K\n",
      "executor >  google-batch (2)\u001b[K\n",
      "[9d/103233] process > run_joint_barcode_cell_plot... [100%] 1 of 1, cached: 1 ✔\u001b[K\n",
      "[2c/5570e9] process > run_joint_cell_plotting_den... [  0%] 0 of 1\u001b[K\n",
      "[01/774351] process > run_joint_metrics_html_report  [  0%] 0 of 1\u001b[K\n",
      "After calling run_joint_barcode_cell_plotting\u001b[K\n",
      "Before calling run_joint_cell_plotting_density\u001b[K\n",
      "After calling run_joint_cell_plotting_density\u001b[K\n",
      "Before run_joint_metrics_html_report\u001b[K\n",
      "Before run_joint_metrics_html_report\u001b[K\n",
      "After run_joint_metrics_html_report\u001b[K\n",
      "Starting run_joint_barcode_cell_plotting...\u001b[K\n",
      "Script path: /root/.nextflow-bin/joint_cell_plotting.py\u001b[K\n",
      "Parameters:\u001b[K\n",
      "- pkr: PKR123\u001b[K\n",
      "- rna_metrics_file: na.na\u001b[K\n",
      "- atac_metrics_file: na1.na\u001b[K\n",
      "- remove_low_yielding_cells: 5\u001b[K\n",
      "- barcode_metadata_file: na2.na\u001b[K\n",
      "- min_umis: 5\u001b[K\n",
      "- min_genes: 5\u001b[K\n",
      "- min_tss: 5\u001b[K\n",
      "- min_frags: 5\u001b[K\n",
      "TODO:heck if this log is part of the html\u001b[K\n",
      "TODO: uncomment all the calls\u001b[K\n",
      "TODO: remove the following command\u001b[K\n",
      "Finished run_joint_barcode_cell_plotting.\u001b[K\n",
      "\u001b[K\n",
      "\u001b[29A\n",
      "\u001b[32;1mMonitor the execution with Nextflow Tower using this URL: https://tower.nf/orgs/ort_eila_org/workspaces/ort_eila_wrkspc/watch/1PIeYhD9te9OzW\u001b[22;39m\u001b[K\n",
      "executor >  google-batch (2)\u001b[K\n",
      "[9d/103233] process > run_joint_barcode_cell_plot... [100%] 1 of 1, cached: 1 ✔\u001b[K\n",
      "[2c/5570e9] process > run_joint_cell_plotting_den... [  0%] 0 of 1\u001b[K\n",
      "[01/774351] process > run_joint_metrics_html_report  [  0%] 0 of 1\u001b[K\n",
      "\u001b[K\n",
      "\u001b[K\n",
      "\u001b[K\n",
      "\u001b[K\n",
      "\u001b[K\n",
      "\u001b[K\n",
      "\u001b[K\n",
      "\u001b[K\n",
      "\u001b[K\n",
      "\u001b[K\n",
      "\u001b[K\n",
      "\u001b[K\n",
      "\u001b[K\n",
      "\u001b[K\n",
      "\u001b[K\n",
      "\u001b[K\n",
      "\u001b[K\n",
      "\u001b[K\n",
      "\u001b[K\n",
      "\u001b[K\n",
      "\u001b[K\n",
      "\u001b[K\n",
      "\u001b[K\n",
      "\u001b[29A\n",
      "\u001b[32;1mMonitor the execution with Nextflow Tower using this URL: https://tower.nf/orgs/ort_eila_org/workspaces/ort_eila_wrkspc/watch/1PIeYhD9te9OzW\u001b[22;39m\u001b[K\n",
      "executor >  google-batch (2)\u001b[K\n",
      "[9d/103233] process > run_joint_barcode_cell_plot... [100%] 1 of 1, cached: 1 ✔\u001b[K\n",
      "[2c/5570e9] process > run_joint_cell_plotting_den... [  0%] 0 of 1\u001b[K\n",
      "[01/774351] process > run_joint_metrics_html_report  [  0%] 0 of 1 ✔\u001b[K\n",
      "Starting run_joint_metrics_html_report...\u001b[K\n",
      "Script path: /root/.nextflow-bin/write_html.py\u001b[K\n",
      "TODO: uncomment with data\u001b[K\n",
      "Arguments before calling main:\u001b[K\n",
      "Output File Name: html_report_file.html\u001b[K\n",
      "Image File List: image_list.txt\u001b[K\n",
      "Log File List: log_list.txt\u001b[K\n",
      "Output CSV Name: csv_summary_file.csv\u001b[K\n",
      "Summary Stats Text: na.na\u001b[K\n",
      "QC Vals: na1.na\u001b[K\n",
      "TODO: uncomment the main when there is a real data\u001b[K\n",
      "TODO: delete these two commands\u001b[K\n",
      "Finished run_joint_metrics_html_report.\u001b[K\n",
      "\u001b[K\n",
      "\u001b[K\n",
      "\u001b[K\n",
      "\u001b[K\n",
      "\u001b[K\n",
      "\u001b[K\n",
      "\u001b[K\n",
      "\u001b[K\n",
      "\u001b[K\n",
      "\u001b[K\n",
      "\u001b[29A\n",
      "\u001b[32;1mMonitor the execution with Nextflow Tower using this URL: https://tower.nf/orgs/ort_eila_org/workspaces/ort_eila_wrkspc/watch/1PIeYhD9te9OzW\u001b[22;39m\u001b[K\n",
      "executor >  google-batch (2)\u001b[K\n",
      "[9d/103233] process > run_joint_barcode_cell_plot... [100%] 1 of 1, cached: 1 ✔\u001b[K\n",
      "[2c/5570e9] process > run_joint_cell_plotting_den... [  0%] 0 of 1\u001b[K\n",
      "[01/774351] process > run_joint_metrics_html_report  [100%] 1 of 1 ✔\u001b[K\n",
      "Starting run_joint_metrics_html_report...\u001b[K\n",
      "Script path: /root/.nextflow-bin/write_html.py\u001b[K\n",
      "TODO: uncomment with data\u001b[K\n",
      "Arguments before calling main:\u001b[K\n",
      "Output File Name: html_report_file.html\u001b[K\n",
      "Image File List: image_list.txt\u001b[K\n",
      "Log File List: log_list.txt\u001b[K\n",
      "Output CSV Name: csv_summary_file.csv\u001b[K\n",
      "Summary Stats Text: na.na\u001b[K\n",
      "QC Vals: na1.na\u001b[K\n",
      "TODO: uncomment the main when there is a real data\u001b[K\n",
      "TODO: delete these two commands\u001b[K\n",
      "Finished run_joint_metrics_html_report.\u001b[K\n",
      "\u001b[K\n",
      "\u001b[20A\n",
      "\u001b[32;1mMonitor the execution with Nextflow Tower using this URL: https://tower.nf/orgs/ort_eila_org/workspaces/ort_eila_wrkspc/watch/1PIeYhD9te9OzW\u001b[22;39m\u001b[K\n",
      "executor >  google-batch (2)\u001b[K\n",
      "[9d/103233] process > run_joint_barcode_cell_plot... [100%] 1 of 1, cached: 1 ✔\u001b[K\n",
      "[2c/5570e9] process > run_joint_cell_plotting_den... [  0%] 0 of 1\u001b[K\n",
      "[01/774351] process > run_joint_metrics_html_report  [100%] 1 of 1 ✔\u001b[K\n",
      "Starting run_joint_metrics_html_report...\u001b[K\n",
      "Script path: /root/.nextflow-bin/write_html.py\u001b[K\n",
      "TODO: uncomment with data\u001b[K\n",
      "Arguments before calling main:\u001b[K\n",
      "Output File Name: html_report_file.html\u001b[K\n",
      "Image File List: image_list.txt\u001b[K\n",
      "Log File List: log_list.txt\u001b[K\n",
      "Output CSV Name: csv_summary_file.csv\u001b[K\n",
      "Summary Stats Text: na.na\u001b[K\n",
      "QC Vals: na1.na\u001b[K\n",
      "TODO: uncomment the main when there is a real data\u001b[K\n",
      "TODO: delete these two commands\u001b[K\n",
      "Finished run_joint_metrics_html_report.\u001b[K\n",
      "\u001b[K\n",
      "\u001b[20A\n",
      "\u001b[32;1mMonitor the execution with Nextflow Tower using this URL: https://tower.nf/orgs/ort_eila_org/workspaces/ort_eila_wrkspc/watch/1PIeYhD9te9OzW\u001b[22;39m\u001b[K\n",
      "executor >  google-batch (2)\u001b[K\n",
      "[9d/103233] process > run_joint_barcode_cell_plot... [100%] 1 of 1, cached: 1 ✔\u001b[K\n",
      "[2c/5570e9] process > run_joint_cell_plotting_den... [  0%] 0 of 1 ✔\u001b[K\n",
      "[01/774351] process > run_joint_metrics_html_report  [100%] 1 of 1 ✔\u001b[K\n",
      "Starting run_joint_metrics_html_report...\u001b[K\n",
      "Script path: /root/.nextflow-bin/write_html.py\u001b[K\n",
      "TODO: uncomment with data\u001b[K\n",
      "Arguments before calling main:\u001b[K\n",
      "Output File Name: html_report_file.html\u001b[K\n",
      "Image File List: image_list.txt\u001b[K\n",
      "Log File List: log_list.txt\u001b[K\n",
      "Output CSV Name: csv_summary_file.csv\u001b[K\n",
      "Summary Stats Text: na.na\u001b[K\n",
      "QC Vals: na1.na\u001b[K\n",
      "TODO: uncomment the main when there is a real data\u001b[K\n",
      "TODO: delete these two commands\u001b[K\n",
      "Finished run_joint_metrics_html_report.\u001b[K\n",
      "\u001b[K\n",
      "Starting run_joint_cell_plotting_density...\u001b[K\n",
      "Script path: /root/.nextflow-bin/joint_cell_plotting_density.R\u001b[K\n",
      "Running R script...\u001b[K\n",
      "[1] \"All arguments: /opt/conda/envs/joint_plot_r_env/lib/R/bin/exec/R --no-echo --no-restore --file=/root/.nextflow-bin/joint_cell_plotting_density.R --args PKR123 na2.na joint_density_plot.png\"\u001b[K\n",
      "[1] \"pkr: --args\"\u001b[K\n",
      "[1] \"barcode_metadata_file: PKR123\"\u001b[K\n",
      "[1] \"plot_file: na2.na\"\u001b[K\n",
      "[1] \"TODO: uncomment generate_density_plot when I have real data\"\u001b[K\n",
      "TODO: Delete wehn you have real data \u001b[K\n",
      "Finished run_joint_cell_plotting_density.\u001b[K\n",
      "\u001b[K\n",
      "\u001b[31A\n",
      "\u001b[32;1mMonitor the execution with Nextflow Tower using this URL: https://tower.nf/orgs/ort_eila_org/workspaces/ort_eila_wrkspc/watch/1PIeYhD9te9OzW\u001b[22;39m\u001b[K\n",
      "executor >  google-batch (2)\u001b[K\n",
      "[9d/103233] process > run_joint_barcode_cell_plot... [100%] 1 of 1, cached: 1 ✔\u001b[K\n",
      "[2c/5570e9] process > run_joint_cell_plotting_den... [100%] 1 of 1 ✔\u001b[K\n",
      "[01/774351] process > run_joint_metrics_html_report  [100%] 1 of 1 ✔\u001b[K\n",
      "Starting run_joint_metrics_html_report...\u001b[K\n",
      "Script path: /root/.nextflow-bin/write_html.py\u001b[K\n",
      "TODO: uncomment with data\u001b[K\n",
      "Arguments before calling main:\u001b[K\n",
      "Output File Name: html_report_file.html\u001b[K\n",
      "Image File List: image_list.txt\u001b[K\n",
      "Log File List: log_list.txt\u001b[K\n",
      "Output CSV Name: csv_summary_file.csv\u001b[K\n",
      "Summary Stats Text: na.na\u001b[K\n",
      "QC Vals: na1.na\u001b[K\n",
      "TODO: uncomment the main when there is a real data\u001b[K\n",
      "TODO: delete these two commands\u001b[K\n",
      "Finished run_joint_metrics_html_report.\u001b[K\n",
      "\u001b[K\n",
      "Starting run_joint_cell_plotting_density...\u001b[K\n",
      "Script path: /root/.nextflow-bin/joint_cell_plotting_density.R\u001b[K\n",
      "Running R script...\u001b[K\n",
      "[1] \"All arguments: /opt/conda/envs/joint_plot_r_env/lib/R/bin/exec/R --no-echo --no-restore --file=/root/.nextflow-bin/joint_cell_plotting_density.R --args PKR123 na2.na joint_density_plot.png\"\u001b[K\n",
      "[1] \"pkr: --args\"\u001b[K\n",
      "[1] \"barcode_metadata_file: PKR123\"\u001b[K\n",
      "[1] \"plot_file: na2.na\"\u001b[K\n",
      "[1] \"TODO: uncomment generate_density_plot when I have real data\"\u001b[K\n",
      "TODO: Delete wehn you have real data \u001b[K\n",
      "Finished run_joint_cell_plotting_density.\u001b[K\n",
      "\u001b[K\n",
      "\u001b[32;1mCompleted at: 17-Dec-2023 09:28:23\n",
      "Duration    : 3m 23s\n",
      "CPU hours   : (a few seconds)\n",
      "Succeeded   : 2\n",
      "Cached      : 1\n",
      "\u001b[22;39m\u001b[K\n",
      "\n"
     ]
    }
   ],
   "source": [
    "!nextflow run nf_wf_fg_singlecell_joint.nf -c nextflow_vm.config -profile google_batch_profile -with-tower -resume\n",
    "\n",
    "# !nextflow run nf_wf_fg_singlecell_atac.nf -c nextflow_vm.config -profile google_batch_profile\n",
    "\n",
    "\n",
    "# !nextflow run nf_wf_fg_singlecell_atac.nf -c nextflow_vm.config -profile google_batch_profile\n",
    "# !nextflow run nf_wf_fg_singlecell_atac.nf -c nextflow_vm_anvil.config -profile google_batch_profile\n",
    "# !nextflow run nf_wf_fg_singlecell_atac.nf -c nextflow_local.config -profile google_batch_profile\n",
    "# !nextflow run nf_wf_fg_singlecell_atac.nf -c nextflow_local.config -profile docker_profile\n"
   ]
  },
  {
   "cell_type": "code",
   "execution_count": 25,
   "metadata": {
    "tags": []
   },
   "outputs": [
    {
     "name": "stdout",
     "output_type": "stream",
     "text": [
      "Dec-17 09:24:57.006 [main] DEBUG nextflow.cli.Launcher - $> nextflow run nf_wf_fg_singlecell_joint.nf -c nextflow_vm.config -profile google_batch_profile -with-tower -resume\n",
      "Dec-17 09:24:57.191 [main] INFO  nextflow.cli.CmdRun - N E X T F L O W  ~  version 23.10.0\n",
      "Dec-17 09:24:57.225 [main] DEBUG nextflow.plugin.PluginsFacade - Setting up plugin manager > mode=prod; embedded=false; plugins-dir=/home/eila/.nextflow/plugins; core-plugins: nf-amazon@2.1.4,nf-azure@1.3.2,nf-cloudcache@0.3.0,nf-codecommit@0.1.5,nf-console@1.0.6,nf-ga4gh@1.1.0,nf-google@1.8.3,nf-tower@1.6.3,nf-wave@1.0.0\n",
      "Dec-17 09:24:57.241 [main] INFO  o.pf4j.DefaultPluginStatusProvider - Enabled plugins: []\n",
      "Dec-17 09:24:57.242 [main] INFO  o.pf4j.DefaultPluginStatusProvider - Disabled plugins: []\n",
      "Dec-17 09:24:57.247 [main] INFO  org.pf4j.DefaultPluginManager - PF4J version 3.4.1 in 'deployment' mode\n",
      "Dec-17 09:24:57.263 [main] INFO  org.pf4j.AbstractPluginManager - No plugins\n",
      "Dec-17 09:24:57.292 [main] DEBUG nextflow.config.ConfigBuilder - User config file: /home/eila/git_igvf/cellatlas-scrna-seq-pipeline/nextflow/nf_workflow/workflow_fg_single_cell_joint/nextflow_vm.config\n",
      "Dec-17 09:24:57.293 [main] DEBUG nextflow.config.ConfigBuilder - Parsing config file: /home/eila/git_igvf/cellatlas-scrna-seq-pipeline/nextflow/nf_workflow/workflow_fg_single_cell_joint/nextflow_vm.config\n",
      "Dec-17 09:24:57.331 [main] DEBUG nextflow.config.ConfigBuilder - Applying config profile: `google_batch_profile`\n",
      "Dec-17 09:24:58.742 [main] DEBUG nextflow.config.ConfigBuilder - Available config profiles: [google_batch_profile]\n",
      "Dec-17 09:24:58.800 [main] DEBUG nextflow.cli.CmdRun - Applied DSL=2 by global default\n",
      "Dec-17 09:24:58.833 [main] INFO  nextflow.cli.CmdRun - Launching `nf_wf_fg_singlecell_joint.nf` [zen_cray] DSL2 - revision: d926c7e73f\n",
      "Dec-17 09:24:58.835 [main] DEBUG nextflow.plugin.PluginsFacade - Plugins default=[nf-google@1.8.3]\n",
      "Dec-17 09:24:58.836 [main] DEBUG nextflow.plugin.PluginsFacade - Plugins resolved requirement=[nf-google@1.8.3, nf-tower@1.6.3]\n",
      "Dec-17 09:24:58.836 [main] DEBUG nextflow.plugin.PluginUpdater - Installing plugin nf-google version: 1.8.3\n",
      "Dec-17 09:24:58.858 [main] INFO  org.pf4j.AbstractPluginManager - Plugin 'nf-google@1.8.3' resolved\n",
      "Dec-17 09:24:58.858 [main] INFO  org.pf4j.AbstractPluginManager - Start plugin 'nf-google@1.8.3'\n",
      "Dec-17 09:24:58.925 [main] DEBUG nextflow.plugin.BasePlugin - Plugin started nf-google@1.8.3\n",
      "Dec-17 09:24:58.925 [main] DEBUG nextflow.plugin.PluginUpdater - Installing plugin nf-tower version: 1.6.3\n",
      "Dec-17 09:24:58.928 [main] INFO  org.pf4j.AbstractPluginManager - Plugin 'nf-tower@1.6.3' resolved\n",
      "Dec-17 09:24:58.929 [main] INFO  org.pf4j.AbstractPluginManager - Start plugin 'nf-tower@1.6.3'\n",
      "Dec-17 09:24:58.941 [main] DEBUG nextflow.plugin.BasePlugin - Plugin started nf-tower@1.6.3\n",
      "Dec-17 09:24:58.964 [main] DEBUG n.secret.LocalSecretsProvider - Secrets store: /home/eila/.nextflow/secrets/store.json\n",
      "Dec-17 09:24:58.972 [main] DEBUG nextflow.secret.SecretsLoader - Discovered secrets providers: [nextflow.secret.LocalSecretsProvider@20a967fe] - activable => nextflow.secret.LocalSecretsProvider@20a967fe\n",
      "Dec-17 09:24:59.082 [main] DEBUG nextflow.Session - Session UUID: c851f257-8461-446b-a040-9554df8550cb\n",
      "Dec-17 09:24:59.082 [main] DEBUG nextflow.Session - Run name: zen_cray\n",
      "Dec-17 09:24:59.083 [main] DEBUG nextflow.Session - Executor pool size: 4\n",
      "Dec-17 09:24:59.480 [main] DEBUG nextflow.file.FilePorter - File porter settings maxRetries=3; maxTransfers=50; pollTimeout=null\n",
      "Dec-17 09:24:59.489 [main] DEBUG nextflow.util.ThreadPoolBuilder - Creating thread pool 'FileTransfer' minSize=10; maxSize=12; workQueue=LinkedBlockingQueue[10000]; allowCoreThreadTimeout=false\n",
      "Dec-17 09:24:59.497 [main] DEBUG nextflow.config.ConfigBuilder - User config file: /home/eila/git_igvf/cellatlas-scrna-seq-pipeline/nextflow/nf_workflow/workflow_fg_single_cell_joint/nextflow_vm.config\n",
      "Dec-17 09:24:59.497 [main] DEBUG nextflow.config.ConfigBuilder - Parsing config file: /home/eila/git_igvf/cellatlas-scrna-seq-pipeline/nextflow/nf_workflow/workflow_fg_single_cell_joint/nextflow_vm.config\n",
      "Dec-17 09:24:59.498 [main] DEBUG nextflow.config.ConfigBuilder - Applying config profile: `google_batch_profile`\n",
      "Dec-17 09:24:59.756 [main] DEBUG nextflow.config.ConfigBuilder - Available config profiles: [google_batch_profile]\n",
      "Dec-17 09:24:59.812 [main] DEBUG nextflow.cli.CmdRun - \n",
      "  Version: 23.10.0 build 5889\n",
      "  Created: 15-10-2023 15:07 UTC \n",
      "  System: Linux 5.10.0-26-cloud-amd64\n",
      "  Runtime: Groovy 3.0.19 on OpenJDK 64-Bit Server VM 11.0.13+7-b1751.21\n",
      "  Encoding: UTF-8 (UTF-8)\n",
      "  Process: 324141@eila-vm [10.128.0.63]\n",
      "  CPUs: 4 - Mem: 14.6 GB (1.2 GB) - Swap: 0 (0)\n",
      "Dec-17 09:24:59.883 [main] DEBUG nextflow.file.FileHelper - Can't check if specified path is NFS (1): gs://eila-nextflow-bucket/work/ATAC\n",
      "\n",
      "Dec-17 09:24:59.883 [main] DEBUG nextflow.Session - Work-dir: gs://eila-nextflow-bucket/work/ATAC [null]\n",
      "Dec-17 09:24:59.934 [main] DEBUG nextflow.executor.ExecutorFactory - Extension executors providers=[GoogleLifeSciencesExecutor, GoogleBatchExecutor]\n",
      "Dec-17 09:24:59.961 [main] DEBUG nextflow.Session - Observer factory: DefaultObserverFactory\n",
      "Dec-17 09:24:59.966 [main] DEBUG nextflow.Session - Observer factory: TowerFactory\n",
      "Dec-17 09:25:00.204 [main] DEBUG nextflow.cache.CacheFactory - Using Nextflow cache factory: nextflow.cache.DefaultCacheFactory\n",
      "Dec-17 09:25:00.217 [main] DEBUG nextflow.util.CustomThreadPool - Creating default thread pool > poolSize: 5; maxThreads: 1000\n",
      "Dec-17 09:25:00.337 [main] DEBUG nextflow.Session - Session start\n",
      "Dec-17 09:25:00.353 [main] DEBUG io.seqera.tower.plugin.TowerClient - Creating Tower observer -- endpoint=https://api.tower.nf; requestInterval=1s; aliveInterval=1m; maxRetries=5; backOffBase=3; backOffDelay=250\n",
      "Dec-17 09:25:01.450 [main] DEBUG nextflow.script.ScriptRunner - > Launching execution\n",
      "Dec-17 09:25:01.964 [main] INFO  nextflow.script.BaseScript - Before calling run_joint_barcode_cell_plotting\n",
      "Dec-17 09:25:01.988 [main] INFO  nextflow.script.BaseScript - RNA Metrics: /home/eila/git_igvf/cellatlas-scrna-seq-pipeline/nextflow/nf_data/nf_wf_fg_singlecell/na.na\n",
      "Dec-17 09:25:01.989 [main] INFO  nextflow.script.BaseScript - ATAC Metrics: /home/eila/git_igvf/cellatlas-scrna-seq-pipeline/nextflow/nf_data/nf_wf_fg_singlecell/na1.na\n",
      "Dec-17 09:25:02.088 [main] DEBUG nextflow.script.ProcessConfig - Config settings `withLabel:joint_barcode_metadata_py` matches labels `joint_barcode_metadata_py` for process with name run_joint_barcode_cell_plotting\n",
      "Dec-17 09:25:02.122 [main] DEBUG nextflow.executor.ExecutorFactory - << taskConfig executor: google-batch\n",
      "Dec-17 09:25:02.122 [main] DEBUG nextflow.executor.ExecutorFactory - >> processorType: 'google-batch'\n",
      "Dec-17 09:25:02.127 [main] DEBUG nextflow.executor.Executor - [warm up] executor > google-batch\n",
      "Dec-17 09:25:02.133 [main] DEBUG n.processor.TaskPollingMonitor - Creating task monitor for executor 'google-batch' > capacity: 1000; pollInterval: 10s; dumpInterval: 5m \n",
      "Dec-17 09:25:02.137 [main] DEBUG n.processor.TaskPollingMonitor - >>> barrier register (monitor: google-batch)\n",
      "Dec-17 09:25:02.153 [main] DEBUG nextflow.cloud.google.GoogleOpts - Google auth via application DEFAULT\n",
      "Dec-17 09:25:02.159 [main] DEBUG n.c.google.batch.GoogleBatchExecutor - [GOOGLE BATCH] Executor config=BatchConfig[googleOpts=GoogleOpts(projectId:hai-gcp-genomic, credsFile:null, location:us-central1, enableRequesterPaysBuckets:false, httpConnectTimeout:1m, httpReadTimeout:1m, credentials:UserCredentials{requestMetadata=null, temporaryAccess=null, clientId=764086051850-6qr4p6gpi6hn506pt8ejuq83di341hur.apps.googleusercontent.com, refreshToken=1//04-ZrKvCfXPa5CgYIARAAGAQSNwF-L9IrkFtcwyfUDAhTeAquw0t0utu5nMRfG-U9l5uflp_XJI0EMWlO9aPKmi0CxdbKiKRekQc, tokenServerUri=https://oauth2.googleapis.com/token, transportFactoryClassName=com.google.auth.oauth2.OAuth2Utils$DefaultHttpTransportFactory, quotaProjectId=hai-gcp-genomic})\n",
      "Dec-17 09:25:02.997 [main] INFO  n.c.google.batch.GoogleBatchExecutor - Uploading local `bin` scripts folder to gs://eila-nextflow-bucket/work/ATAC/tmp/c7/c556daa46b0a9c86f8b68927438246/bin\n",
      "Dec-17 09:25:05.263 [main] DEBUG n.c.google.batch.client.BatchClient - [GOOGLE BATCH] Creating service client with config credentials\n",
      "Dec-17 09:25:05.980 [main] INFO  nextflow.script.BaseScript - After calling run_joint_barcode_cell_plotting\n",
      "Dec-17 09:25:05.983 [main] INFO  nextflow.script.BaseScript - Before calling run_joint_cell_plotting_density\n",
      "Dec-17 09:25:05.986 [main] DEBUG nextflow.script.ProcessConfig - Config settings `withLabel:joint_barcode_metadata_r` matches labels `joint_barcode_metadata_r` for process with name run_joint_cell_plotting_density\n",
      "Dec-17 09:25:05.989 [main] DEBUG nextflow.executor.ExecutorFactory - << taskConfig executor: google-batch\n",
      "Dec-17 09:25:05.989 [main] DEBUG nextflow.executor.ExecutorFactory - >> processorType: 'google-batch'\n",
      "Dec-17 09:25:05.996 [main] INFO  nextflow.script.BaseScript - After calling run_joint_cell_plotting_density\n",
      "Dec-17 09:25:05.996 [main] INFO  nextflow.script.BaseScript - Before run_joint_metrics_html_report\n",
      "Dec-17 09:25:05.997 [main] INFO  nextflow.script.BaseScript - Before run_joint_metrics_html_report\n",
      "Dec-17 09:25:05.999 [main] DEBUG nextflow.script.ProcessConfig - Config settings `withLabel:joint_metrics_html_report` matches labels `joint_metrics_html_report` for process with name run_joint_metrics_html_report\n",
      "Dec-17 09:25:06.001 [main] DEBUG nextflow.executor.ExecutorFactory - << taskConfig executor: google-batch\n",
      "Dec-17 09:25:06.002 [main] DEBUG nextflow.executor.ExecutorFactory - >> processorType: 'google-batch'\n",
      "Dec-17 09:25:06.009 [main] INFO  nextflow.script.BaseScript - After run_joint_metrics_html_report\n",
      "Dec-17 09:25:06.010 [main] DEBUG nextflow.Session - Workflow process names [dsl2]: run_joint_metrics_html_report, run_joint_cell_plotting_density, run_joint_barcode_cell_plotting\n",
      "Dec-17 09:25:06.561 [main] INFO  io.seqera.tower.plugin.TowerClient - Monitor the execution with Nextflow Tower using this URL: https://tower.nf/orgs/ort_eila_org/workspaces/ort_eila_wrkspc/watch/1PIeYhD9te9OzW\n",
      "Dec-17 09:25:06.562 [main] DEBUG nextflow.Session - Igniting dataflow network (3)\n",
      "Dec-17 09:25:06.563 [main] DEBUG nextflow.processor.TaskProcessor - Starting process > run_joint_barcode_cell_plotting\n",
      "Dec-17 09:25:06.565 [main] DEBUG nextflow.processor.TaskProcessor - Starting process > run_joint_cell_plotting_density\n",
      "Dec-17 09:25:06.566 [main] DEBUG nextflow.processor.TaskProcessor - Starting process > run_joint_metrics_html_report\n",
      "Dec-17 09:25:06.567 [main] DEBUG nextflow.script.ScriptRunner - Parsed script files:\n",
      "  Script_ab5790b26911b06c: /home/eila/git_igvf/cellatlas-scrna-seq-pipeline/nextflow/nf_workflow/workflow_fg_single_cell_joint/./../../nf_processes/nf_prcs_joint_barcode_cell_plotting.nf\n",
      "  Script_b9b93fb4efabde58: /home/eila/git_igvf/cellatlas-scrna-seq-pipeline/nextflow/nf_workflow/workflow_fg_single_cell_joint/./../../nf_processes/nf_prcs_joint_barcode_cell_plotting_density.nf\n",
      "  Script_6391994ff5a2b580: /home/eila/git_igvf/cellatlas-scrna-seq-pipeline/nextflow/nf_workflow/workflow_fg_single_cell_joint/./../../nf_processes/nf_prcs_joint_metrics_html_report.nf\n",
      "  Script_0d6cf06d1adfe603: /home/eila/git_igvf/cellatlas-scrna-seq-pipeline/nextflow/nf_workflow/workflow_fg_single_cell_joint/nf_wf_fg_singlecell_joint.nf\n",
      "Dec-17 09:25:06.567 [main] DEBUG nextflow.script.ScriptRunner - > Awaiting termination \n",
      "Dec-17 09:25:06.567 [main] DEBUG nextflow.Session - Session await\n",
      "Dec-17 09:25:07.875 [FileTransfer-1] DEBUG nextflow.file.FilePorter - Local cache found for foreign file /home/eila/git_igvf/cellatlas-scrna-seq-pipeline/nextflow/nf_data/nf_wf_fg_singlecell/na2.na at gs://eila-nextflow-bucket/work/ATAC/stage-c851f257-8461-446b-a040-9554df8550cb/f7/25a2769658634004bac1cf68fd37f1/na2.na\n",
      "Dec-17 09:25:08.122 [FileTransfer-2] DEBUG nextflow.file.FilePorter - Local cache found for foreign file /home/eila/git_igvf/cellatlas-scrna-seq-pipeline/nextflow/nf_data/nf_wf_fg_singlecell/na.na at gs://eila-nextflow-bucket/work/ATAC/stage-c851f257-8461-446b-a040-9554df8550cb/a3/44bb653c2d13cd5013efbdb357eaf3/na.na\n",
      "Dec-17 09:25:08.136 [FileTransfer-3] DEBUG nextflow.file.FilePorter - Local cache found for foreign file /home/eila/git_igvf/cellatlas-scrna-seq-pipeline/nextflow/nf_data/nf_wf_fg_singlecell/na1.na at gs://eila-nextflow-bucket/work/ATAC/stage-c851f257-8461-446b-a040-9554df8550cb/b6/61b72cc4dcb9c0647c89f4e37e6a9f/na1.na\n",
      "Dec-17 09:25:08.327 [FileTransfer-4] DEBUG nextflow.file.FilePorter - Local cache found for foreign file /home/eila/git_igvf/cellatlas-scrna-seq-pipeline/nextflow/nf_data/nf_wf_fg_singlecell/na3.na at gs://eila-nextflow-bucket/work/ATAC/stage-c851f257-8461-446b-a040-9554df8550cb/db/6a94b01c025a9c8de6d3af879023b7/na3.na\n",
      "Dec-17 09:25:09.172 [Actor Thread 5] INFO  nextflow.processor.TaskProcessor - [9d/103233] Cached process > run_joint_barcode_cell_plotting\n",
      "Dec-17 09:25:11.558 [Task submitter] DEBUG n.c.g.batch.GoogleBatchTaskHandler - [GOOGLE BATCH] Process `run_joint_metrics_html_report` submitted > job=nf-01774351-1702805109233; uid=nf-01774351-170280-92ac481b-d87e-4c700; work-dir=gs://eila-nextflow-bucket/work/ATAC/01/77435130f08386029421dd1981b939\n",
      "Dec-17 09:25:11.558 [Task submitter] INFO  nextflow.Session - [01/774351] Submitted process > run_joint_metrics_html_report\n",
      "Dec-17 09:25:12.304 [Task submitter] DEBUG n.c.g.batch.GoogleBatchTaskHandler - [GOOGLE BATCH] Process `run_joint_cell_plotting_density` submitted > job=nf-2c5570e9-1702805109338; uid=nf-2c5570e9-170280-58239a2b-950d-41ff0; work-dir=gs://eila-nextflow-bucket/work/ATAC/2c/5570e9f5cb8dd829cd8b0447382005\n",
      "Dec-17 09:25:12.304 [Task submitter] INFO  nextflow.Session - [2c/5570e9] Submitted process > run_joint_cell_plotting_density\n",
      "Dec-17 09:27:52.222 [Task monitor] DEBUG n.c.g.batch.GoogleBatchTaskHandler - [GOOGLE BATCH] Process `run_joint_metrics_html_report` - terminated job=nf-01774351-1702805109233; state=SUCCEEDED\n",
      "Dec-17 09:27:52.569 [Task monitor] DEBUG n.processor.TaskPollingMonitor - Task completed > TaskHandler[id: 3; name: run_joint_metrics_html_report; status: COMPLETED; exit: 0; error: -; workDir: gs://eila-nextflow-bucket/work/ATAC/01/77435130f08386029421dd1981b939]\n",
      "Dec-17 09:28:22.230 [Task monitor] DEBUG n.c.g.batch.GoogleBatchTaskHandler - [GOOGLE BATCH] Process `run_joint_cell_plotting_density` - terminated job=nf-2c5570e9-1702805109338; state=SUCCEEDED\n",
      "Dec-17 09:28:22.540 [Task monitor] DEBUG n.processor.TaskPollingMonitor - Task completed > TaskHandler[id: 2; name: run_joint_cell_plotting_density; status: COMPLETED; exit: 0; error: -; workDir: gs://eila-nextflow-bucket/work/ATAC/2c/5570e9f5cb8dd829cd8b0447382005]\n",
      "Dec-17 09:28:22.938 [main] DEBUG nextflow.Session - Session await > all processes finished\n",
      "Dec-17 09:28:23.185 [Task monitor] DEBUG n.processor.TaskPollingMonitor - <<< barrier arrives (monitor: google-batch) - terminating tasks monitor poll loop\n",
      "Dec-17 09:28:23.185 [main] DEBUG nextflow.Session - Session await > all barriers passed\n",
      "Dec-17 09:28:23.193 [main] DEBUG n.trace.WorkflowStatsObserver - Workflow completed > WorkflowStats[succeededCount=2; failedCount=0; ignoredCount=0; cachedCount=1; pendingCount=0; submittedCount=0; runningCount=0; retriesCount=0; abortedCount=0; succeedDuration=2s; failedDuration=0ms; cachedDuration=880ms;loadCpus=0; loadMemory=0; peakRunning=1; peakCpus=1; peakMemory=0; ]\n",
      "Dec-17 09:28:23.759 [main] DEBUG nextflow.cache.CacheDB - Closing CacheDB done\n",
      "Dec-17 09:28:23.761 [main] INFO  org.pf4j.AbstractPluginManager - Stop plugin 'nf-tower@1.6.3'\n",
      "Dec-17 09:28:23.762 [main] DEBUG nextflow.plugin.BasePlugin - Plugin stopped nf-tower\n",
      "Dec-17 09:28:23.762 [main] INFO  org.pf4j.AbstractPluginManager - Stop plugin 'nf-google@1.8.3'\n",
      "Dec-17 09:28:23.762 [main] DEBUG nextflow.plugin.BasePlugin - Plugin stopped nf-google\n",
      "Dec-17 09:28:23.803 [main] DEBUG nextflow.util.ThreadPoolManager - Thread pool 'FileTransfer' shutdown completed (hard=false)\n",
      "Dec-17 09:28:23.803 [main] DEBUG nextflow.script.ScriptRunner - > Execution complete -- Goodbye\n"
     ]
    }
   ],
   "source": [
    "!cat .nextflow.log"
   ]
  },
  {
   "cell_type": "code",
   "execution_count": 26,
   "metadata": {
    "tags": []
   },
   "outputs": [],
   "source": [
    "# !nextflow run nf_wf_fg_singlecell_atac.nf -c nextflow_vm.config -profile google_batch_profile -resume\n",
    "\n",
    "\n",
    "\n",
    "\n",
    "# !nextflow run nf_wf_fg_singlecell_atac.nf -c nextflow_vm.config -profile google_batch_profile -resume\n",
    "# !nextflow run nf_wf_fg_singlecell_atac.nf -c nextflow_local.config -profile google_batch_profile -resume\n",
    "# !nextflow run nf_wf_fg_singlecell_atac.nf -c nextflow_vm.config -profile google_batch_profile -resume\n",
    "# !nextflow run nf_wf_fg_singlecell_atac.nf -c nextflow.config -profile docker_profile -resume\n",
    "# !nextflow run nf_wf_fg_singlecell_atac.nf -c nextflow.config -profile google_batch_profile -resume"
   ]
  },
  {
   "cell_type": "code",
   "execution_count": 27,
   "metadata": {
    "tags": []
   },
   "outputs": [],
   "source": [
    "# !cat .nextflow.log "
   ]
  },
  {
   "cell_type": "code",
   "execution_count": 28,
   "metadata": {
    "tags": []
   },
   "outputs": [],
   "source": [
    "# !ls /Users/eilaarich-landkof-stanford/Documents/Code/git_igvf/seqspec/specs/dogmaseq-dig/fastqs"
   ]
  },
  {
   "cell_type": "code",
   "execution_count": 29,
   "metadata": {
    "tags": []
   },
   "outputs": [],
   "source": [
    "# !nextflow run /Users/eilaarich-landkof-stanford/Documents/Code/git_igvf/cellatlas-scrna-seq-pipeline/nextflow/nf_processes/nf_prcs_print.nf"
   ]
  },
  {
   "cell_type": "code",
   "execution_count": 30,
   "metadata": {
    "tags": []
   },
   "outputs": [],
   "source": [
    "# !ls /Users/eilaarich-landkof-stanford/Documents/Code/git_igvf/cellatlas-scrna-seq-pipeline/nextflow/nf_processes/nf_prcs_print.nf"
   ]
  },
  {
   "cell_type": "code",
   "execution_count": 31,
   "metadata": {
    "tags": []
   },
   "outputs": [],
   "source": [
    "# !cat .command.out"
   ]
  },
  {
   "cell_type": "code",
   "execution_count": 32,
   "metadata": {
    "tags": []
   },
   "outputs": [],
   "source": [
    "# !nextflow run nf_wf_fg_singlecell.nf -c nextflow.config -with-docker eilalan/env_synapse:latest"
   ]
  },
  {
   "cell_type": "code",
   "execution_count": null,
   "metadata": {},
   "outputs": [],
   "source": []
  },
  {
   "cell_type": "code",
   "execution_count": null,
   "metadata": {},
   "outputs": [],
   "source": []
  }
 ],
 "metadata": {
  "kernelspec": {
   "display_name": "Python 3 (ipykernel)",
   "language": "python",
   "name": "python3"
  },
  "language_info": {
   "codemirror_mode": {
    "name": "ipython",
    "version": 3
   },
   "file_extension": ".py",
   "mimetype": "text/x-python",
   "name": "python",
   "nbconvert_exporter": "python",
   "pygments_lexer": "ipython3",
   "version": "3.7.16"
  }
 },
 "nbformat": 4,
 "nbformat_minor": 4
}
