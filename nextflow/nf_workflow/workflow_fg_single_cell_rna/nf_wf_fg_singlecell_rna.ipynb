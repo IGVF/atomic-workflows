{
 "cells": [
  {
   "cell_type": "code",
   "execution_count": 1,
   "metadata": {
    "tags": []
   },
   "outputs": [],
   "source": [
    "# start docker deamon in terminal\n",
    "# !sudo docker login\n",
    "# OR - becuase the jupyther with allow root\n",
    "# !docker login"
   ]
  },
  {
   "cell_type": "code",
   "execution_count": 2,
   "metadata": {
    "tags": []
   },
   "outputs": [
    {
     "name": "stdout",
     "output_type": "stream",
     "text": [
      "/home/eila/git_igvf/atomic-workflows/nextflow/nf_workflow/workflow_fg_single_cell_rna\n"
     ]
    }
   ],
   "source": [
    "!pwd"
   ]
  },
  {
   "cell_type": "code",
   "execution_count": 3,
   "metadata": {
    "tags": []
   },
   "outputs": [
    {
     "name": "stdout",
     "output_type": "stream",
     "text": [
      "/home/eila/git_igvf/atomic-workflows/nextflow/hai-gcp-genomic-beb9207a40b8.json\n"
     ]
    }
   ],
   "source": [
    "import os\n",
    "json_path = os.path.join(os.path.dirname(os.path.dirname(os.getcwd())),\"hai-gcp-genomic-beb9207a40b8.json\")\n",
    "!ls $json_path"
   ]
  },
  {
   "cell_type": "code",
   "execution_count": 4,
   "metadata": {
    "tags": []
   },
   "outputs": [
    {
     "name": "stdout",
     "output_type": "stream",
     "text": [
      "Activated service account credentials for: [eila-batch@hai-gcp-genomic.iam.gserviceaccount.com]\n"
     ]
    }
   ],
   "source": [
    "# # in the command line. same env\n",
    "import os\n",
    "json_path = os.path.join(os.path.dirname(os.path.dirname(os.getcwd())),\"hai-gcp-genomic-beb9207a40b8.json\")\n",
    "os.environ['GOOGLE_APPLICATION_CREDENTIALS'] = json_path\n",
    "!gcloud auth activate-service-account eila-batch@hai-gcp-genomic.iam.gserviceaccount.com --key-file=$GOOGLE_APPLICATION_CREDENTIALS"
   ]
  },
  {
   "cell_type": "code",
   "execution_count": 5,
   "metadata": {
    "tags": []
   },
   "outputs": [
    {
     "name": "stdout",
     "output_type": "stream",
     "text": [
      "                  Credentialed Accounts\n",
      "ACTIVE  ACCOUNT\n",
      "        886987709752-compute@developer.gserviceaccount.com\n",
      "*       eila-batch@hai-gcp-genomic.iam.gserviceaccount.com\n",
      "        eila@stanford.edu\n",
      "\n",
      "To set the active account, run:\n",
      "    $ gcloud config set account `ACCOUNT`\n",
      "\n"
     ]
    },
    {
     "data": {
      "text/plain": [
       "'hai-gcp-genomic'"
      ]
     },
     "execution_count": 5,
     "metadata": {},
     "output_type": "execute_result"
    }
   ],
   "source": [
    "!gcloud auth list\n",
    "project_name = !gcloud config get-value project\n",
    "project_name = project_name[0]\n",
    "project_name\n",
    "# gcloud config set account\n"
   ]
  },
  {
   "cell_type": "code",
   "execution_count": 6,
   "metadata": {
    "tags": []
   },
   "outputs": [],
   "source": [
    "import os\n",
    "os.environ[\"TOWER_ACCESS_TOKEN\"] = 'eyJ0aWQiOiA4Mjk3fS5jNDNmYzA4NTg2MjAxNDQzOTAwYmUzNWEzZTY0MGMyZTc0OWE3M2Mz'\n",
    "os.environ[\"TOWER_WORKSPACE_ID\"]='247507587970818'\n"
   ]
  },
  {
   "cell_type": "code",
   "execution_count": 7,
   "metadata": {
    "tags": []
   },
   "outputs": [
    {
     "name": "stdout",
     "output_type": "stream",
     "text": [
      "eyJ0aWQiOiA4Mjk3fS5jNDNmYzA4NTg2MjAxNDQzOTAwYmUzNWEzZTY0MGMyZTc0OWE3M2Mz\n",
      "247507587970818\n"
     ]
    }
   ],
   "source": [
    "!echo $TOWER_ACCESS_TOKEN\n",
    "!echo $TOWER_WORKSPACE_ID"
   ]
  },
  {
   "cell_type": "code",
   "execution_count": 8,
   "metadata": {
    "tags": []
   },
   "outputs": [
    {
     "data": {
      "text/plain": [
       "'/home/eila/git_igvf/atomic-workflows/nextflow/nf_workflow/workflow_fg_single_cell_rna/bin'"
      ]
     },
     "execution_count": 8,
     "metadata": {},
     "output_type": "execute_result"
    }
   ],
   "source": [
    "# !chmod +x ./bin/scrna_qc_metrics.py\n",
    "import os\n",
    "bin_fld = os.path.join(os.getcwd(),\"bin\")\n",
    "bin_fld"
   ]
  },
  {
   "cell_type": "code",
   "execution_count": 9,
   "metadata": {
    "tags": []
   },
   "outputs": [],
   "source": [
    "!chmod +x {os.path.join(bin_fld, \"scrna_qc_metrics.py\")}\n",
    "!chmod +x {os.path.join(bin_fld, \"scrna_plot_qc_metrics.R\")}\n",
    "!chmod +x {os.path.join(bin_fld, \"barcode_rank_functions.R\")}\n",
    "!chmod +x {os.path.join(bin_fld, \"cellatals_build.sh\")}\n",
    "!chmod +x {os.path.join(bin_fld, \"jq_cellatlas_json.sh\")}\n",
    "!chmod +x {os.path.join(bin_fld, \"kb_ref_with_jq_commands.sh\")}\n"
   ]
  },
  {
   "cell_type": "code",
   "execution_count": 10,
   "metadata": {
    "tags": []
   },
   "outputs": [
    {
     "name": "stdout",
     "output_type": "stream",
     "text": [
      "  Version: 23.10.1 build 5891\n",
      "  Created: 12-01-2024 22:01 UTC \n",
      "  System: Linux 5.10.0-27-cloud-amd64\n",
      "  Runtime: Groovy 3.0.19 on OpenJDK 64-Bit Server VM 11.0.1-internal+0-adhoc..src\n",
      "  Encoding: UTF-8 (UTF-8)\n",
      "\n"
     ]
    }
   ],
   "source": [
    "!nextflow info"
   ]
  },
  {
   "cell_type": "code",
   "execution_count": 11,
   "metadata": {
    "tags": []
   },
   "outputs": [
    {
     "name": "stdout",
     "output_type": "stream",
     "text": [
      "/home/eila/git_igvf/atomic-workflows/nextflow/nf_data\n"
     ]
    }
   ],
   "source": [
    "import os\n",
    "\n",
    "# Get the current working directory\n",
    "current_directory = os.getcwd()\n",
    "\n",
    "# Navigate two folders above\n",
    "two_folders_above = os.path.abspath(os.path.join(current_directory, '..', '..'))\n",
    "\n",
    "nf_data_base_path = os.path.join(two_folders_above,'nf_data')\n",
    "# Print the result\n",
    "print(nf_data_base_path)\n"
   ]
  },
  {
   "cell_type": "code",
   "execution_count": 12,
   "metadata": {
    "tags": []
   },
   "outputs": [],
   "source": [
    "# nf_data_project=\"test_atac_pipeline\"\n",
    "nf_data_project=\"wdl_rna_pipeline\""
   ]
  },
  {
   "cell_type": "code",
   "execution_count": 13,
   "metadata": {},
   "outputs": [
    {
     "data": {
      "text/plain": [
       "'/home/eila/git_igvf/atomic-workflows/nextflow/nf_data/wdl_rna_pipeline/vm_rna_input_files.tsv'"
      ]
     },
     "execution_count": 13,
     "metadata": {},
     "output_type": "execute_result"
    }
   ],
   "source": [
    "# VM\n",
    "os.path.exists(os.path.join(nf_data_base_path,nf_data_project,\"vm_atac_fastqs_files.tsv\"))\n",
    "os.path.join(nf_data_base_path,nf_data_project,\"vm_rna_input_files.tsv\")\n",
    "# /home/eila/git_igvf/atomic-workflows/nextflow/nf_data/wdl_rna_pipeline/"
   ]
  },
  {
   "cell_type": "code",
   "execution_count": 14,
   "metadata": {
    "tags": []
   },
   "outputs": [],
   "source": [
    "# !ls /home/eila/git_igvf/atomic-workflows/nextflow/nf_data/wdl_rna_pipeline/vm_rna_input_files.tsv"
   ]
  },
  {
   "cell_type": "code",
   "execution_count": 15,
   "metadata": {
    "tags": []
   },
   "outputs": [],
   "source": [
    "!cp ../../config_files/docker-google-batch.config ../workflow_fg_single_cell_rna/conf/\n"
   ]
  },
  {
   "cell_type": "code",
   "execution_count": 16,
   "metadata": {
    "tags": []
   },
   "outputs": [],
   "source": [
    "# Write the configuration file\n",
    "with open(\"nextflow_rna.config\", \"w\") as config_file:\n",
    "    config_file.write(f\"\"\"\n",
    "manifest {{\n",
    "  description = 'A nextflow pipeline for fg single cell' \n",
    "  mainScript = 'nf_wf_fg_singlecell_rna.nf'\n",
    "}}\n",
    "\n",
    "profiles {{\n",
    "  google_batch_profile {{\n",
    "    workDir = 'gs://eila-nextflow-bucket/work/RNA'\n",
    "    includeConfig 'conf/docker-google-batch.config'\n",
    "    docker.enabled = true\n",
    "    wave.enabled = true\n",
    "    fusion.enabled = true\n",
    "    process.scratch = false\n",
    "    executor = 'google-batch'\n",
    "    docker.envWhitelist=['ENV_SYNAPSE_TOKEN','TOWER_ACCESS_TOKEN']\n",
    "    google.project = '{project_name}'\n",
    "    google.location = 'us-central1'\n",
    "    google.batch.spot = true\n",
    "    google.batch.serviceAccountEmail='eila-batch@hai-gcp-genomic.iam.gserviceaccount.com'\n",
    "  }}\n",
    "}}\n",
    "\n",
    "// Define ENV_SYNAPSE_TOKEN as a parameter\n",
    "params.ORGANISM = 'human'\n",
    "params.FASTQS_SPEC_CH = '{nf_data_base_path}/{nf_data_project}/vm_rna_input_files.tsv'\n",
    "params.GENOME_FASTA_GZ = '{nf_data_base_path}/{nf_data_project}/GCA_000001405.15_GRCh38_no_alt_analysis_set.fna.gz'\n",
    "params.GENES_GTF = '{nf_data_base_path}/{nf_data_project}/genes.gtf'\n",
    "params.CELLATLAS_BUILD_SCRIPT = 'cellatals_build.sh'\n",
    "params.JQ_CELLATLAST_BUILD_JSON_SCRIPT = 'jq_cellatlas_json.sh'\n",
    "params.KB_REF_WITH_JQ_COMMANDS='kb_ref_with_jq_commands.sh'\n",
    "params.TRANSCRIPTOME_FA='{nf_data_base_path}/{nf_data_project}/transcriptome.fa'\n",
    "\n",
    "// params.GENOME_FASTA = 'http://ftp.ensembl.org/pub/release-109/fasta/homo_sapiens/dna/Homo_sapiens.GRCh38.dna.primary_assembly.fa.gz'\n",
    "// params.GENOME_GZ_GTF = 'http://ftp.ensembl.org/pub/release-109/gtf/homo_sapiens/Homo_sapiens.GRCh38.109.gtf.gz'\n",
    "// params.ENV_SYNAPSE_TOKEN = \"nextflow secrets get SYNAPSE\".execute().text.trim()\n",
    "// params.SYNAPSE_CONFIG = '{nf_data_base_path}/{nf_data_project}nf_wf_fg_singlecell/synapse.config'\n",
    "// params.SYNAPSE_IDS = '{nf_data_base_path}/{nf_data_project}/nf_wf_fg_singlecell/synapse_ids.csv'\n",
    "// params.SUBPOOL = 'no_subpool'\n",
    "params.UMI_CUTOFF = 2\n",
    "params.GENE_CUTOFF = 3\n",
    "params.SC_RNA_QC_SCRIPT = 'scrna_qc_metrics.py'\n",
    "params.SC_RNA_QC_PLOT_SCRIPT = 'scrna_plot_qc_metrics.R'\n",
    "params.SC_RNA_QC_PLOT_HELPER_SCRIPT = 'barcode_rank_functions.R'\n",
    "// params.RNA_DEBUG_QC = '{nf_data_base_path}/{nf_data_project}/nf_workflow/workflow_fg_single_cell_rna/sc_rna_qc_calculate.tsv'\n",
    "\"\"\")\n"
   ]
  },
  {
   "cell_type": "code",
   "execution_count": 17,
   "metadata": {
    "tags": []
   },
   "outputs": [],
   "source": [
    "# !rm -rf /home/eila/git_igvf/cellatlas-scrna-seq-pipeline/nextflow/nf_workflow/workflow_fg_single_cell_rna/work\n",
    "# !gsutil -m rm -r gs://eila-nextflow-bucket/work/RNA\n"
   ]
  },
  {
   "cell_type": "code",
   "execution_count": 18,
   "metadata": {
    "tags": []
   },
   "outputs": [
    {
     "name": "stdout",
     "output_type": "stream",
     "text": [
      "N E X T F L O W  ~  version 23.10.1\n",
      "Launching `nf_wf_fg_singlecell_rna.nf` [intergalactic_ride] DSL2 - revision: d687accb66\n",
      "in the RNA workflow\n",
      "[-        ] process > run_cellatlas_build         -\u001b[K\n",
      "[-        ] process > run_jq_on_cellatlas         -\u001b[K\n",
      "[-        ] process > run_kb_ref_with_jq_commands -\u001b[K\n",
      "\u001b[4A\n",
      "\u001b[32;1mMonitor the execution with Nextflow Tower using this URL: https://tower.nf/orgs/ort_eila_org/workspaces/ort_eila_wrkspc/watch/5z8Rghk4bAaWq3\u001b[22;39m\u001b[K\n",
      "[-        ] process > run_cellatlas_build         -\u001b[K\n",
      "[-        ] process > run_jq_on_cellatlas         -\u001b[K\n",
      "[-        ] process > run_kb_ref_with_jq_commands -\u001b[K\n",
      "\u001b[5A\n",
      "\u001b[32;1mMonitor the execution with Nextflow Tower using this URL: https://tower.nf/orgs/ort_eila_org/workspaces/ort_eila_wrkspc/watch/5z8Rghk4bAaWq3\u001b[22;39m\u001b[K\n",
      "[21/e6dc6f] process > run_cellatlas_build (1)     [100%] 1 of 1, cached: 1\u001b[K\n",
      "[-        ] process > run_jq_on_cellatlas         -\u001b[K\n",
      "[-        ] process > run_kb_ref_with_jq_commands -\u001b[K\n",
      "\u001b[5A\n",
      "\u001b[32;1mMonitor the execution with Nextflow Tower using this URL: https://tower.nf/orgs/ort_eila_org/workspaces/ort_eila_wrkspc/watch/5z8Rghk4bAaWq3\u001b[22;39m\u001b[K\n",
      "[21/e6dc6f] process > run_cellatlas_build (1)     [100%] 1 of 1, cached: 1 ✔\u001b[K\n",
      "[-        ] process > run_jq_on_cellatlas         -\u001b[K\n",
      "[-        ] process > run_kb_ref_with_jq_commands -\u001b[K\n",
      "calling cellatlas build\u001b[K\n",
      "Output Directory: cellatlas_out\u001b[K\n",
      "Mode: rna\u001b[K\n",
      "Spec File: bmmc_spec_igvf_rna.yaml\u001b[K\n",
      "Genome Fasta Gz: GCA_000001405.15_GRCh38_no_alt_analysis_set.fna.gz\u001b[K\n",
      "Gene GTF: genes.gtf\u001b[K\n",
      "Fastq1: BMMC_single_donor_RNA_L001_R1_corrected.fastq.gz\u001b[K\n",
      "Fastq2: BMMC_single_donor_RNA_L001_R2_corrected.fastq.gz\u001b[K\n",
      "Contents of Output Directory:\u001b[K\n",
      "cellatlas_info.json\u001b[K\n",
      "BMMC_single_donor_RNA_L001_R1_corrected.fastq.gz\u001b[K\n",
      "BMMC_single_donor_RNA_L001_R2_corrected.fastq.gz\u001b[K\n",
      "GCA_000001405.15_GRCh38_no_alt_analysis_set.fna.gz\u001b[K\n",
      "bmmc_spec_igvf_rna.yaml\u001b[K\n",
      "cellatlas_out\u001b[K\n",
      "genes.gtf\u001b[K\n",
      "sai_192_whitelist.txt\u001b[K\n",
      "\u001b[K\n",
      "\u001b[23A\n",
      "\u001b[32;1mMonitor the execution with Nextflow Tower using this URL: https://tower.nf/orgs/ort_eila_org/workspaces/ort_eila_wrkspc/watch/5z8Rghk4bAaWq3\u001b[22;39m\u001b[K\n",
      "[21/e6dc6f] process > run_cellatlas_build (1)     [100%] 1 of 1, cached: 1 ✔\u001b[K\n",
      "[31/3a5f9a] process > run_jq_on_cellatlas (1)     [100%] 1 of 1, cached: 1\u001b[K\n",
      "[-        ] process > run_kb_ref_with_jq_commands -\u001b[K\n",
      "calling cellatlas build\u001b[K\n",
      "Output Directory: cellatlas_out\u001b[K\n",
      "Mode: rna\u001b[K\n",
      "Spec File: bmmc_spec_igvf_rna.yaml\u001b[K\n",
      "Genome Fasta Gz: GCA_000001405.15_GRCh38_no_alt_analysis_set.fna.gz\u001b[K\n",
      "Gene GTF: genes.gtf\u001b[K\n",
      "Fastq1: BMMC_single_donor_RNA_L001_R1_corrected.fastq.gz\u001b[K\n",
      "Fastq2: BMMC_single_donor_RNA_L001_R2_corrected.fastq.gz\u001b[K\n",
      "Contents of Output Directory:\u001b[K\n",
      "cellatlas_info.json\u001b[K\n",
      "BMMC_single_donor_RNA_L001_R1_corrected.fastq.gz\u001b[K\n",
      "BMMC_single_donor_RNA_L001_R2_corrected.fastq.gz\u001b[K\n",
      "GCA_000001405.15_GRCh38_no_alt_analysis_set.fna.gz\u001b[K\n",
      "bmmc_spec_igvf_rna.yaml\u001b[K\n",
      "cellatlas_out\u001b[K\n",
      "genes.gtf\u001b[K\n",
      "sai_192_whitelist.txt\u001b[K\n",
      "\u001b[K\n",
      "\u001b[23A\n",
      "\u001b[32;1mMonitor the execution with Nextflow Tower using this URL: https://tower.nf/orgs/ort_eila_org/workspaces/ort_eila_wrkspc/watch/5z8Rghk4bAaWq3\u001b[22;39m\u001b[K\n",
      "[21/e6dc6f] process > run_cellatlas_build (1)     [100%] 1 of 1, cached: 1 ✔\u001b[K\n",
      "[31/3a5f9a] process > run_jq_on_cellatlas (1)     [100%] 1 of 1, cached: 1 ✔\u001b[K\n",
      "[-        ] process > run_kb_ref_with_jq_commands -\u001b[K\n",
      "calling cellatlas build\u001b[K\n",
      "Output Directory: cellatlas_out\u001b[K\n",
      "Mode: rna\u001b[K\n",
      "Spec File: bmmc_spec_igvf_rna.yaml\u001b[K\n",
      "Genome Fasta Gz: GCA_000001405.15_GRCh38_no_alt_analysis_set.fna.gz\u001b[K\n",
      "Gene GTF: genes.gtf\u001b[K\n",
      "Fastq1: BMMC_single_donor_RNA_L001_R1_corrected.fastq.gz\u001b[K\n",
      "Fastq2: BMMC_single_donor_RNA_L001_R2_corrected.fastq.gz\u001b[K\n",
      "Contents of Output Directory:\u001b[K\n",
      "cellatlas_info.json\u001b[K\n",
      "BMMC_single_donor_RNA_L001_R1_corrected.fastq.gz\u001b[K\n",
      "BMMC_single_donor_RNA_L001_R2_corrected.fastq.gz\u001b[K\n",
      "GCA_000001405.15_GRCh38_no_alt_analysis_set.fna.gz\u001b[K\n",
      "bmmc_spec_igvf_rna.yaml\u001b[K\n",
      "cellatlas_out\u001b[K\n",
      "genes.gtf\u001b[K\n",
      "sai_192_whitelist.txt\u001b[K\n",
      "\u001b[K\n",
      "calling run_jq_on_cellatlas\u001b[K\n",
      "cellatlas_info.json\u001b[K\n",
      "jq_commands.txt\u001b[K\n",
      "\u001b[K\n",
      "\u001b[27A\n",
      "\u001b[32;1mMonitor the execution with Nextflow Tower using this URL: https://tower.nf/orgs/ort_eila_org/workspaces/ort_eila_wrkspc/watch/5z8Rghk4bAaWq3\u001b[22;39m\u001b[K\n",
      "[21/e6dc6f] process > run_cellatlas_build (1)     [100%] 1 of 1, cached: 1 ✔\u001b[K\n",
      "[31/3a5f9a] process > run_jq_on_cellatlas (1)     [100%] 1 of 1, cached: 1 ✔\u001b[K\n",
      "[-        ] process > run_kb_ref_with_jq_commands [  0%] 0 of 1\u001b[K\n",
      "calling cellatlas build\u001b[K\n",
      "Output Directory: cellatlas_out\u001b[K\n",
      "Mode: rna\u001b[K\n",
      "Spec File: bmmc_spec_igvf_rna.yaml\u001b[K\n",
      "Genome Fasta Gz: GCA_000001405.15_GRCh38_no_alt_analysis_set.fna.gz\u001b[K\n",
      "Gene GTF: genes.gtf\u001b[K\n",
      "Fastq1: BMMC_single_donor_RNA_L001_R1_corrected.fastq.gz\u001b[K\n",
      "Fastq2: BMMC_single_donor_RNA_L001_R2_corrected.fastq.gz\u001b[K\n",
      "Contents of Output Directory:\u001b[K\n",
      "cellatlas_info.json\u001b[K\n",
      "BMMC_single_donor_RNA_L001_R1_corrected.fastq.gz\u001b[K\n",
      "BMMC_single_donor_RNA_L001_R2_corrected.fastq.gz\u001b[K\n",
      "GCA_000001405.15_GRCh38_no_alt_analysis_set.fna.gz\u001b[K\n",
      "bmmc_spec_igvf_rna.yaml\u001b[K\n",
      "cellatlas_out\u001b[K\n",
      "genes.gtf\u001b[K\n",
      "sai_192_whitelist.txt\u001b[K\n",
      "\u001b[K\n",
      "calling run_jq_on_cellatlas\u001b[K\n",
      "cellatlas_info.json\u001b[K\n",
      "jq_commands.txt\u001b[K\n",
      "\u001b[K\n",
      "\u001b[27A\n",
      "\u001b[32;1mMonitor the execution with Nextflow Tower using this URL: https://tower.nf/orgs/ort_eila_org/workspaces/ort_eila_wrkspc/watch/5z8Rghk4bAaWq3\u001b[22;39m\u001b[K\n",
      "executor >  google-batch (fusion enabled) (1)\u001b[K\n",
      "[21/e6dc6f] process > run_cellatlas_build (1)        [100%] 1 of 1, cached: 1 ✔\u001b[K\n",
      "[31/3a5f9a] process > run_jq_on_cellatlas (1)        [100%] 1 of 1, cached: 1 ✔\u001b[K\n",
      "[e3/d52c20] process > run_kb_ref_with_jq_commands... [  0%] 0 of 1\u001b[K\n",
      "calling cellatlas build\u001b[K\n",
      "Output Directory: cellatlas_out\u001b[K\n",
      "Mode: rna\u001b[K\n",
      "Spec File: bmmc_spec_igvf_rna.yaml\u001b[K\n",
      "Genome Fasta Gz: GCA_000001405.15_GRCh38_no_alt_analysis_set.fna.gz\u001b[K\n",
      "Gene GTF: genes.gtf\u001b[K\n",
      "Fastq1: BMMC_single_donor_RNA_L001_R1_corrected.fastq.gz\u001b[K\n",
      "Fastq2: BMMC_single_donor_RNA_L001_R2_corrected.fastq.gz\u001b[K\n",
      "Contents of Output Directory:\u001b[K\n",
      "cellatlas_info.json\u001b[K\n",
      "BMMC_single_donor_RNA_L001_R1_corrected.fastq.gz\u001b[K\n",
      "BMMC_single_donor_RNA_L001_R2_corrected.fastq.gz\u001b[K\n",
      "GCA_000001405.15_GRCh38_no_alt_analysis_set.fna.gz\u001b[K\n",
      "bmmc_spec_igvf_rna.yaml\u001b[K\n",
      "cellatlas_out\u001b[K\n",
      "genes.gtf\u001b[K\n",
      "sai_192_whitelist.txt\u001b[K\n",
      "\u001b[K\n",
      "calling run_jq_on_cellatlas\u001b[K\n",
      "cellatlas_info.json\u001b[K\n",
      "jq_commands.txt\u001b[K\n",
      "\u001b[K\n",
      "\u001b[28A\n",
      "\u001b[32;1mMonitor the execution with Nextflow Tower using this URL: https://tower.nf/orgs/ort_eila_org/workspaces/ort_eila_wrkspc/watch/5z8Rghk4bAaWq3\u001b[22;39m\u001b[K\n",
      "executor >  google-batch (fusion enabled) (1)\u001b[K\n",
      "[21/e6dc6f] process > run_cellatlas_build (1)        [100%] 1 of 1, cached: 1 ✔\u001b[K\n",
      "[31/3a5f9a] process > run_jq_on_cellatlas (1)        [100%] 1 of 1, cached: 1 ✔\u001b[K\n",
      "[e3/d52c20] process > run_kb_ref_with_jq_commands... [  0%] 0 of 1\u001b[K\n",
      "\u001b[K\n",
      "\u001b[K\n",
      "\u001b[K\n",
      "\u001b[K\n",
      "\u001b[K\n",
      "\u001b[K\n",
      "\u001b[K\n",
      "\u001b[K\n",
      "\u001b[K\n",
      "\u001b[K\n",
      "\u001b[K\n",
      "\u001b[K\n",
      "\u001b[K\n",
      "\u001b[K\n",
      "\u001b[K\n",
      "\u001b[K\n",
      "\u001b[K\n",
      "\u001b[K\n",
      "\u001b[K\n",
      "\u001b[K\n",
      "\u001b[K\n",
      "\u001b[K\n",
      "\u001b[28A\n",
      "\u001b[32;1mMonitor the execution with Nextflow Tower using this URL: https://tower.nf/orgs/ort_eila_org/workspaces/ort_eila_wrkspc/watch/5z8Rghk4bAaWq3\u001b[22;39m\u001b[K\n",
      "executor >  google-batch (fusion enabled) (1)\u001b[K\n",
      "[21/e6dc6f] process > run_cellatlas_build (1)        [100%] 1 of 1, cached: 1 ✔\u001b[K\n",
      "[31/3a5f9a] process > run_jq_on_cellatlas (1)        [100%] 1 of 1, cached: 1 ✔\u001b[K\n",
      "[e3/d52c20] process > run_kb_ref_with_jq_commands... [  0%] 0 of 1\u001b[K\n",
      "start run_kb_ref_with_jq_commands\u001b[K\n",
      "Index File: index.idx\u001b[K\n",
      "T2G File: t2g.txt\u001b[K\n",
      "Transcriptome File: transcriptome.fa\u001b[K\n",
      "Genome Fasta: GCA_000001405.15_GRCh38_no_alt_analysis_set.fna.gz\u001b[K\n",
      "Gene GTF: genes.gtf\u001b[K\n",
      "JQ Commands File: jq_commands.txt\u001b[K\n",
      "finished run_kb_ref_with_jq_commands\u001b[K\n",
      "\u001b[K\n",
      "\u001b[K\n",
      "\u001b[K\n",
      "\u001b[K\n",
      "\u001b[K\n",
      "\u001b[K\n",
      "\u001b[K\n",
      "\u001b[K\n",
      "\u001b[K\n",
      "\u001b[K\n",
      "\u001b[K\n",
      "\u001b[K\n",
      "\u001b[K\n",
      "\u001b[K\n",
      "\u001b[28A\n",
      "\u001b[32;1mMonitor the execution with Nextflow Tower using this URL: https://tower.nf/orgs/ort_eila_org/workspaces/ort_eila_wrkspc/watch/5z8Rghk4bAaWq3\u001b[22;39m\u001b[K\n",
      "executor >  google-batch (fusion enabled) (1)\u001b[K\n",
      "[21/e6dc6f] process > run_cellatlas_build (1)        [100%] 1 of 1, cached: 1 ✔\u001b[K\n",
      "[31/3a5f9a] process > run_jq_on_cellatlas (1)        [100%] 1 of 1, cached: 1 ✔\u001b[K\n",
      "[e3/d52c20] process > run_kb_ref_with_jq_commands... [  0%] 0 of 1 ✔\u001b[K\n",
      "start run_kb_ref_with_jq_commands\u001b[K\n",
      "Index File: index.idx\u001b[K\n",
      "T2G File: t2g.txt\u001b[K\n",
      "Transcriptome File: transcriptome.fa\u001b[K\n",
      "Genome Fasta: GCA_000001405.15_GRCh38_no_alt_analysis_set.fna.gz\u001b[K\n",
      "Gene GTF: genes.gtf\u001b[K\n",
      "JQ Commands File: jq_commands.txt\u001b[K\n",
      "finished run_kb_ref_with_jq_commands\u001b[K\n",
      "\u001b[K\n",
      "\u001b[15A\n",
      "\u001b[32;1mMonitor the execution with Nextflow Tower using this URL: https://tower.nf/orgs/ort_eila_org/workspaces/ort_eila_wrkspc/watch/5z8Rghk4bAaWq3\u001b[22;39m\u001b[K\n",
      "executor >  google-batch (fusion enabled) (1)\u001b[K\n",
      "[21/e6dc6f] process > run_cellatlas_build (1)        [100%] 1 of 1, cached: 1 ✔\u001b[K\n",
      "[31/3a5f9a] process > run_jq_on_cellatlas (1)        [100%] 1 of 1, cached: 1 ✔\u001b[K\n",
      "[e3/d52c20] process > run_kb_ref_with_jq_commands... [100%] 1 of 1 ✔\u001b[K\n",
      "start run_kb_ref_with_jq_commands\u001b[K\n",
      "Index File: index.idx\u001b[K\n",
      "T2G File: t2g.txt\u001b[K\n",
      "Transcriptome File: transcriptome.fa\u001b[K\n",
      "Genome Fasta: GCA_000001405.15_GRCh38_no_alt_analysis_set.fna.gz\u001b[K\n",
      "Gene GTF: genes.gtf\u001b[K\n",
      "JQ Commands File: jq_commands.txt\u001b[K\n",
      "finished run_kb_ref_with_jq_commands\u001b[K\n",
      "\u001b[K\n",
      "\u001b[32;1mCompleted at: 27-Feb-2024 02:12:23\n",
      "Duration    : 22m 43s\n",
      "CPU hours   : 0.3 (0.4% cached)\n",
      "Succeeded   : 1\n",
      "Cached      : 2\n",
      "\u001b[22;39m\u001b[K\n",
      "\n"
     ]
    }
   ],
   "source": [
    "!nextflow run nf_wf_fg_singlecell_rna.nf -c nextflow_rna.config -profile google_batch_profile -with-tower -resume\n",
    "\n",
    "# -resume \n",
    "# 8af1ba30-6606-4dfd-a851-c6d0b74bdd43\n",
    "# 8af1ba30-6606-4dfd-a851-c6d0b74bdd43\n",
    "# 8af1ba30-6606-4dfd-a851-c6d0b74bdd43\n",
    "\n",
    "\n",
    "\n",
    "# !nextflow run nf_wf_fg_singlecell_rna.nf -c nextflow_vm.config -profile docker_local -resume\n",
    "\n",
    "\n",
    "\n",
    "# !nextflow run nf_wf_fg_singlecell_rna.nf -c nextflow_vm.config -profile google_batch_profile  -with-tower\n",
    "\n",
    "# docker_local\n",
    "\n",
    "\n",
    "\n",
    "# !nextflow run nf_wf_fg_singlecell_rna.nf -c nextflow_vm.config -profile google_batch_profile\n",
    "\n",
    "\n",
    "\n",
    "\n",
    "# !nextflow run nf_wf_fg_singlecell_rna.nf -c nextflow.config -profile docker_profile\n",
    "# !nextflow run nf_wf_fg_singlecell_rna.nf -c nextflow_vm.config -profile google_batch_profile\n",
    "# !nextflow run nf_wf_fg_singlecell_rna.nf -c nextflow_vm_anvil.config -profile google_batch_profile\n",
    "# !nextflow run nf_wf_fg_singlecell_rna.nf -c nextflow_local.config -profile google_batch_profile\n",
    "# !nextflow run nf_wf_fg_singlecell_rna.nf -c nextflow_local.config -profile docker_profile"
   ]
  },
  {
   "cell_type": "code",
   "execution_count": 19,
   "metadata": {
    "tags": []
   },
   "outputs": [
    {
     "name": "stdout",
     "output_type": "stream",
     "text": [
      "Feb-27 01:49:36.868 [main] DEBUG nextflow.cli.Launcher - $> nextflow run nf_wf_fg_singlecell_rna.nf -c nextflow_rna.config -profile google_batch_profile -with-tower -resume\n",
      "Feb-27 01:49:37.026 [main] INFO  nextflow.cli.CmdRun - N E X T F L O W  ~  version 23.10.1\n",
      "Feb-27 01:49:37.059 [main] DEBUG nextflow.plugin.PluginsFacade - Setting up plugin manager > mode=prod; embedded=false; plugins-dir=/home/eila/.nextflow/plugins; core-plugins: nf-amazon@2.1.4,nf-azure@1.3.3,nf-cloudcache@0.3.0,nf-codecommit@0.1.5,nf-console@1.0.6,nf-ga4gh@1.1.0,nf-google@1.8.3,nf-tower@1.6.3,nf-wave@1.0.1\n",
      "Feb-27 01:49:37.077 [main] INFO  o.pf4j.DefaultPluginStatusProvider - Enabled plugins: []\n",
      "Feb-27 01:49:37.079 [main] INFO  o.pf4j.DefaultPluginStatusProvider - Disabled plugins: []\n",
      "Feb-27 01:49:37.084 [main] INFO  org.pf4j.DefaultPluginManager - PF4J version 3.4.1 in 'deployment' mode\n",
      "Feb-27 01:49:37.101 [main] INFO  org.pf4j.AbstractPluginManager - No plugins\n",
      "Feb-27 01:49:37.130 [main] DEBUG nextflow.config.ConfigBuilder - User config file: /home/eila/git_igvf/atomic-workflows/nextflow/nf_workflow/workflow_fg_single_cell_rna/nextflow_rna.config\n",
      "Feb-27 01:49:37.131 [main] DEBUG nextflow.config.ConfigBuilder - Parsing config file: /home/eila/git_igvf/atomic-workflows/nextflow/nf_workflow/workflow_fg_single_cell_rna/nextflow_rna.config\n",
      "Feb-27 01:49:37.164 [main] DEBUG nextflow.config.ConfigBuilder - Applying config profile: `google_batch_profile`\n",
      "Feb-27 01:49:38.551 [main] DEBUG nextflow.config.ConfigBuilder - Available config profiles: [google_batch_profile]\n",
      "Feb-27 01:49:38.619 [main] DEBUG nextflow.cli.CmdRun - Applied DSL=2 by global default\n",
      "Feb-27 01:49:38.651 [main] INFO  nextflow.cli.CmdRun - Launching `nf_wf_fg_singlecell_rna.nf` [intergalactic_ride] DSL2 - revision: d687accb66\n",
      "Feb-27 01:49:38.652 [main] DEBUG nextflow.plugin.PluginsFacade - Plugins default=[nf-google@1.8.3]\n",
      "Feb-27 01:49:38.653 [main] DEBUG nextflow.plugin.PluginsFacade - Plugins resolved requirement=[nf-google@1.8.3, nf-tower@1.6.3, nf-wave@1.0.1]\n",
      "Feb-27 01:49:38.653 [main] DEBUG nextflow.plugin.PluginUpdater - Installing plugin nf-google version: 1.8.3\n",
      "Feb-27 01:49:38.675 [main] INFO  org.pf4j.AbstractPluginManager - Plugin 'nf-google@1.8.3' resolved\n",
      "Feb-27 01:49:38.675 [main] INFO  org.pf4j.AbstractPluginManager - Start plugin 'nf-google@1.8.3'\n",
      "Feb-27 01:49:38.763 [main] DEBUG nextflow.plugin.BasePlugin - Plugin started nf-google@1.8.3\n",
      "Feb-27 01:49:38.763 [main] DEBUG nextflow.plugin.PluginUpdater - Installing plugin nf-tower version: 1.6.3\n",
      "Feb-27 01:49:38.766 [main] INFO  org.pf4j.AbstractPluginManager - Plugin 'nf-tower@1.6.3' resolved\n",
      "Feb-27 01:49:38.767 [main] INFO  org.pf4j.AbstractPluginManager - Start plugin 'nf-tower@1.6.3'\n",
      "Feb-27 01:49:38.779 [main] DEBUG nextflow.plugin.BasePlugin - Plugin started nf-tower@1.6.3\n",
      "Feb-27 01:49:38.779 [main] DEBUG nextflow.plugin.PluginUpdater - Installing plugin nf-wave version: 1.0.1\n",
      "Feb-27 01:49:38.784 [main] INFO  org.pf4j.AbstractPluginManager - Plugin 'nf-wave@1.0.1' resolved\n",
      "Feb-27 01:49:38.784 [main] INFO  org.pf4j.AbstractPluginManager - Start plugin 'nf-wave@1.0.1'\n",
      "Feb-27 01:49:38.799 [main] DEBUG nextflow.plugin.BasePlugin - Plugin started nf-wave@1.0.1\n",
      "Feb-27 01:49:38.825 [main] DEBUG n.secret.LocalSecretsProvider - Secrets store: /home/eila/.nextflow/secrets/store.json\n",
      "Feb-27 01:49:38.830 [main] DEBUG nextflow.secret.SecretsLoader - Discovered secrets providers: [nextflow.secret.LocalSecretsProvider@68dd39d2] - activable => nextflow.secret.LocalSecretsProvider@68dd39d2\n",
      "Feb-27 01:49:38.991 [main] DEBUG nextflow.Session - Session UUID: 13bc1d06-3de9-4244-a718-1f14d1aaa65a\n",
      "Feb-27 01:49:38.991 [main] DEBUG nextflow.Session - Run name: intergalactic_ride\n",
      "Feb-27 01:49:38.992 [main] DEBUG nextflow.Session - Executor pool size: 8\n",
      "Feb-27 01:49:39.324 [main] DEBUG nextflow.file.FilePorter - File porter settings maxRetries=3; maxTransfers=50; pollTimeout=null\n",
      "Feb-27 01:49:39.333 [main] DEBUG nextflow.util.ThreadPoolBuilder - Creating thread pool 'FileTransfer' minSize=10; maxSize=24; workQueue=LinkedBlockingQueue[10000]; allowCoreThreadTimeout=false\n",
      "Feb-27 01:49:39.340 [main] DEBUG nextflow.config.ConfigBuilder - User config file: /home/eila/git_igvf/atomic-workflows/nextflow/nf_workflow/workflow_fg_single_cell_rna/nextflow_rna.config\n",
      "Feb-27 01:49:39.340 [main] DEBUG nextflow.config.ConfigBuilder - Parsing config file: /home/eila/git_igvf/atomic-workflows/nextflow/nf_workflow/workflow_fg_single_cell_rna/nextflow_rna.config\n",
      "Feb-27 01:49:39.341 [main] DEBUG nextflow.config.ConfigBuilder - Applying config profile: `google_batch_profile`\n",
      "Feb-27 01:49:39.591 [main] DEBUG nextflow.config.ConfigBuilder - Available config profiles: [google_batch_profile]\n",
      "Feb-27 01:49:39.631 [main] DEBUG nextflow.cli.CmdRun - \n",
      "  Version: 23.10.1 build 5891\n",
      "  Created: 12-01-2024 22:01 UTC \n",
      "  System: Linux 5.10.0-27-cloud-amd64\n",
      "  Runtime: Groovy 3.0.19 on OpenJDK 64-Bit Server VM 11.0.1-internal+0-adhoc..src\n",
      "  Encoding: UTF-8 (UTF-8)\n",
      "  Process: 407607@eila-vm [10.128.0.63]\n",
      "  CPUs: 8 - Mem: 29.4 GB (2.4 GB) - Swap: 0 (0)\n",
      "Feb-27 01:49:39.684 [main] DEBUG nextflow.file.FileHelper - Can't check if specified path is NFS (1): gs://eila-nextflow-bucket/work/RNA\n",
      "\n",
      "Feb-27 01:49:39.684 [main] DEBUG nextflow.Session - Work-dir: gs://eila-nextflow-bucket/work/RNA [null]\n",
      "Feb-27 01:49:39.727 [main] DEBUG nextflow.executor.ExecutorFactory - Extension executors providers=[GoogleLifeSciencesExecutor, GoogleBatchExecutor]\n",
      "Feb-27 01:49:39.751 [main] DEBUG nextflow.Session - Observer factory: DefaultObserverFactory\n",
      "Feb-27 01:49:39.755 [main] DEBUG nextflow.Session - Observer factory: WaveFactory\n",
      "Feb-27 01:49:39.756 [main] DEBUG io.seqera.wave.plugin.WaveFactory - Detected Fusion enabled -- Enabling bundle project resources -- Disabling upload of remote bin directory\n",
      "Feb-27 01:49:39.788 [main] DEBUG i.s.wave.plugin.config.WaveConfig - Wave strategy not specified - using default: [container, dockerfile, conda, spack]\n",
      "Feb-27 01:49:39.801 [main] DEBUG io.seqera.wave.plugin.WaveClient - Wave config: WaveConfig(enabled:true, endpoint:https://wave.seqera.io, containerConfigUrl:[], tokensCacheMaxDuration:30m, condaOpts:CondaOpts(mambaImage=mambaorg/micromamba:1.5.1; basePackages=conda-forge::procps-ng, commands=null), spackOpts:SpackOpts(basePackages=null, commands=null), strategy:[container, dockerfile, conda, spack], bundleProjectResources:true, buildRepository:null, cacheRepository:null, retryOpts:RetryOpts(delay:450ms, maxDelay:1m 30s, maxAttempts:10, jitter:0.25), httpClientOpts:HttpOpts(), freezeMode:null)\n",
      "Feb-27 01:49:39.964 [main] DEBUG nextflow.Session - Observer factory: TowerFactory\n",
      "Feb-27 01:49:40.040 [main] DEBUG nextflow.cache.CacheFactory - Using Nextflow cache factory: nextflow.cache.DefaultCacheFactory\n",
      "Feb-27 01:49:40.057 [main] DEBUG nextflow.util.CustomThreadPool - Creating default thread pool > poolSize: 9; maxThreads: 1000\n",
      "Feb-27 01:49:40.206 [main] DEBUG nextflow.Session - Session start\n",
      "Feb-27 01:49:40.237 [main] DEBUG io.seqera.tower.plugin.TowerClient - Creating Tower observer -- endpoint=https://api.tower.nf; requestInterval=1s; aliveInterval=1m; maxRetries=5; backOffBase=3; backOffDelay=250\n",
      "Feb-27 01:49:41.159 [main] DEBUG nextflow.script.ScriptRunner - > Launching execution\n",
      "Feb-27 01:49:41.812 [main] INFO  nextflow.script.BaseScript - in the RNA workflow\n",
      "Feb-27 01:49:42.104 [main] DEBUG nextflow.script.ProcessConfig - Config settings `withLabel:cellatlas` matches labels `cellatlas` for process with name run_cellatlas_build\n",
      "Feb-27 01:49:42.114 [main] DEBUG nextflow.executor.ExecutorFactory - << taskConfig executor: google-batch\n",
      "Feb-27 01:49:42.114 [main] DEBUG nextflow.executor.ExecutorFactory - >> processorType: 'google-batch'\n",
      "Feb-27 01:49:42.118 [main] DEBUG nextflow.executor.Executor - [warm up] executor > google-batch (fusion enabled)\n",
      "Feb-27 01:49:42.130 [main] DEBUG n.processor.TaskPollingMonitor - Creating task monitor for executor 'google-batch' > capacity: 1000; pollInterval: 10s; dumpInterval: 5m \n",
      "Feb-27 01:49:42.133 [main] DEBUG n.processor.TaskPollingMonitor - >>> barrier register (monitor: google-batch)\n",
      "Feb-27 01:49:42.149 [main] DEBUG nextflow.cloud.google.GoogleOpts - Google auth via application credentials file: /home/eila/git_igvf/atomic-workflows/nextflow/hai-gcp-genomic-beb9207a40b8.json\n",
      "Feb-27 01:49:42.158 [main] DEBUG n.c.google.batch.GoogleBatchExecutor - [GOOGLE BATCH] Executor config=BatchConfig[googleOpts=GoogleOpts(projectId:hai-gcp-genomic, credsFile:/home/eila/git_igvf/atomic-workflows/nextflow/hai-gcp-genomic-beb9207a40b8.json, location:us-central1, enableRequesterPaysBuckets:false, httpConnectTimeout:1m, httpReadTimeout:1m, credentials:ServiceAccountCredentials{clientId=111364348320962814542, clientEmail=eila-batch@hai-gcp-genomic.iam.gserviceaccount.com, privateKeyId=beb9207a40b8b2085c7f48c3fcf8c2342180d471, transportFactoryClassName=com.google.auth.oauth2.OAuth2Utils$DefaultHttpTransportFactory, tokenServerUri=https://oauth2.googleapis.com/token, scopes=[https://www.googleapis.com/auth/cloud-platform], defaultScopes=[], serviceAccountUser=null, quotaProjectId=null, lifetime=3600, useJwtAccessWithScope=false, defaultRetriesEnabled=true})\n",
      "Feb-27 01:49:42.192 [main] DEBUG n.c.google.batch.client.BatchClient - [GOOGLE BATCH] Creating service client with config credentials\n",
      "Feb-27 01:49:42.967 [main] DEBUG nextflow.script.ProcessConfig - Config settings `withLabel:jq` matches labels `jq` for process with name run_jq_on_cellatlas\n",
      "Feb-27 01:49:42.979 [main] DEBUG nextflow.executor.ExecutorFactory - << taskConfig executor: google-batch\n",
      "Feb-27 01:49:42.980 [main] DEBUG nextflow.executor.ExecutorFactory - >> processorType: 'google-batch'\n",
      "Feb-27 01:49:42.988 [main] DEBUG nextflow.script.ProcessConfig - Config settings `withLabel:kb_ref_from_jq` matches labels `kb_ref_from_jq` for process with name run_kb_ref_with_jq_commands\n",
      "Feb-27 01:49:42.990 [main] DEBUG nextflow.executor.ExecutorFactory - << taskConfig executor: google-batch\n",
      "Feb-27 01:49:42.990 [main] DEBUG nextflow.executor.ExecutorFactory - >> processorType: 'google-batch'\n",
      "Feb-27 01:49:42.999 [main] DEBUG nextflow.Session - Workflow process names [dsl2]: run_jq_on_cellatlas, run_kb_count, run_cellatlas_build, run_cellatlas_build_full, run_kb_ref_with_jq_commands, run_kb_ref, run_download_kb_idx\n",
      "Feb-27 01:49:43.322 [main] INFO  io.seqera.tower.plugin.TowerClient - Monitor the execution with Nextflow Tower using this URL: https://tower.nf/orgs/ort_eila_org/workspaces/ort_eila_wrkspc/watch/5z8Rghk4bAaWq3\n",
      "Feb-27 01:49:43.325 [main] DEBUG nextflow.Session - Igniting dataflow network (7)\n",
      "Feb-27 01:49:43.342 [main] DEBUG nextflow.processor.TaskProcessor - Starting process > run_cellatlas_build\n",
      "Feb-27 01:49:43.344 [main] DEBUG nextflow.processor.TaskProcessor - Starting process > run_jq_on_cellatlas\n",
      "Feb-27 01:49:43.351 [main] DEBUG nextflow.processor.TaskProcessor - Starting process > run_kb_ref_with_jq_commands\n",
      "Feb-27 01:49:43.356 [main] DEBUG nextflow.script.ScriptRunner - Parsed script files:\n",
      "  Script_73e1d407be4ac59e: /home/eila/git_igvf/atomic-workflows/nextflow/nf_workflow/workflow_fg_single_cell_rna/./../../nf_processes/nf_prcs_kallisto_bustools.nf\n",
      "  Script_0ce1e875973ef604: /home/eila/git_igvf/atomic-workflows/nextflow/nf_workflow/workflow_fg_single_cell_rna/./../../nf_processes/nf_prcs_cellatlas_build.nf\n",
      "  Script_39b781f1e2111a2d: /home/eila/git_igvf/atomic-workflows/nextflow/nf_workflow/workflow_fg_single_cell_rna/nf_wf_fg_singlecell_rna.nf\n",
      "Feb-27 01:49:43.356 [main] DEBUG nextflow.script.ScriptRunner - > Awaiting termination \n",
      "Feb-27 01:49:43.363 [main] DEBUG nextflow.Session - Session await\n",
      "Feb-27 01:49:45.221 [FileTransfer-1] DEBUG nextflow.file.FilePorter - Local cache found for foreign file /home/eila/git_igvf/atomic-workflows/nextflow/nf_data/wdl_rna_pipeline/GCA_000001405.15_GRCh38_no_alt_analysis_set.fna.gz at gs://eila-nextflow-bucket/work/RNA/stage-13bc1d06-3de9-4244-a718-1f14d1aaa65a/a4/384c5d7429aa019ecaefcbf85f9817/GCA_000001405.15_GRCh38_no_alt_analysis_set.fna.gz\n",
      "Feb-27 01:49:45.223 [FileTransfer-2] DEBUG nextflow.file.FilePorter - Local cache found for foreign file /home/eila/git_igvf/atomic-workflows/nextflow/nf_data/wdl_rna_pipeline/genes.gtf at gs://eila-nextflow-bucket/work/RNA/stage-13bc1d06-3de9-4244-a718-1f14d1aaa65a/6d/faea09d3ad1efb033cec4f46864b23/genes.gtf\n",
      "Feb-27 01:49:45.225 [FileTransfer-3] DEBUG nextflow.file.FilePorter - Local cache found for foreign file /home/eila/git_igvf/atomic-workflows/nextflow/nf_data/wdl_rna_pipeline/BMMC_single_donor_RNA_L001_R1_corrected.fastq.gz at gs://eila-nextflow-bucket/work/RNA/stage-13bc1d06-3de9-4244-a718-1f14d1aaa65a/06/91672272f7194ddec254142da6f667/BMMC_single_donor_RNA_L001_R1_corrected.fastq.gz\n",
      "Feb-27 01:49:45.226 [FileTransfer-5] DEBUG nextflow.file.FilePorter - Local cache found for foreign file /home/eila/git_igvf/atomic-workflows/nextflow/nf_data/wdl_rna_pipeline/bmmc_spec_igvf_rna.yaml at gs://eila-nextflow-bucket/work/RNA/stage-13bc1d06-3de9-4244-a718-1f14d1aaa65a/5b/b6d292b76ce94a0446e31a65f98cdf/bmmc_spec_igvf_rna.yaml\n",
      "Feb-27 01:49:45.226 [FileTransfer-6] DEBUG nextflow.file.FilePorter - Local cache found for foreign file /home/eila/git_igvf/atomic-workflows/nextflow/nf_data/wdl_rna_pipeline/sai_192_whitelist.txt at gs://eila-nextflow-bucket/work/RNA/stage-13bc1d06-3de9-4244-a718-1f14d1aaa65a/b3/5bca84af0d58d6c3730cc0106b5dfc/sai_192_whitelist.txt\n",
      "Feb-27 01:49:45.231 [FileTransfer-4] DEBUG nextflow.file.FilePorter - Local cache found for foreign file /home/eila/git_igvf/atomic-workflows/nextflow/nf_data/wdl_rna_pipeline/BMMC_single_donor_RNA_L001_R2_corrected.fastq.gz at gs://eila-nextflow-bucket/work/RNA/stage-13bc1d06-3de9-4244-a718-1f14d1aaa65a/10/82e69a2d8dfe18fd42cd0eeb974142/BMMC_single_donor_RNA_L001_R2_corrected.fastq.gz\n",
      "Feb-27 01:49:45.251 [Actor Thread 9] DEBUG i.s.wave.plugin.config.WaveConfig - Wave strategy not specified - using default: [container, dockerfile, conda, spack]\n",
      "Feb-27 01:49:45.252 [Actor Thread 9] DEBUG io.seqera.wave.plugin.WaveClient - Wave config: WaveConfig(enabled:true, endpoint:https://wave.seqera.io, containerConfigUrl:[], tokensCacheMaxDuration:30m, condaOpts:CondaOpts(mambaImage=mambaorg/micromamba:1.5.1; basePackages=conda-forge::procps-ng, commands=null), spackOpts:SpackOpts(basePackages=null, commands=null), strategy:[container, dockerfile, conda, spack], bundleProjectResources:true, buildRepository:null, cacheRepository:null, retryOpts:RetryOpts(delay:450ms, maxDelay:1m 30s, maxAttempts:10, jitter:0.25), httpClientOpts:HttpOpts(), freezeMode:null)\n",
      "Feb-27 01:49:45.263 [Actor Thread 9] DEBUG io.seqera.wave.plugin.WaveClient - Wave assets bundle bin resources: /home/eila/git_igvf/atomic-workflows/nextflow/nf_workflow/workflow_fg_single_cell_rna/bin\n",
      "Feb-27 01:49:45.363 [Actor Thread 9] DEBUG io.seqera.wave.plugin.WaveClient - Wave request container config: https://fusionfs.seqera.io/releases/v2.2-amd64.json\n",
      "Feb-27 01:49:45.674 [Actor Thread 9] DEBUG io.seqera.wave.plugin.WaveClient - Wave container config response: [200] {\n",
      "  \"entrypoint\": [ \"/usr/bin/fusion\" ],\n",
      "  \"layers\": [\n",
      "    {\n",
      "      \"location\": \"https://fusionfs.seqera.io/releases/pkg/2/2/12/fusion-amd64.tar.gz\",\n",
      "      \"gzipDigest\": \"sha256:6ccfd8f431db2874e82e27d61b6d31b95d7dddce7e810c5f8c95438a0d03c066\",\n",
      "      \"gzipSize\": 30262575,\n",
      "      \"tarDigest\": \"sha256:60391bebe0cc5d48b0875854f0c93c0d0adc25b5007fdb1b2efc2a431cfeef6e\",\n",
      "      \"skipHashing\": true\n",
      "    }\n",
      "  ]\n",
      "}\n",
      "\n",
      "Feb-27 01:49:45.786 [Actor Thread 9] DEBUG io.seqera.wave.plugin.WaveClient - Wave request: https://wave.seqera.io/container-token; attempt=1 - request: SubmitContainerTokenRequest(towerAccessToken:eyJ0aWQiOiA4Mjk3fS5jNDNmYzA4NTg2MjAxNDQzOTAwYmUzNWEzZTY0MGMyZTc0OWE3M2Mz, towerRefreshToken:null, towerWorkspaceId:247507587970818, towerEndpoint:https://api.tower.nf, workflowId:null, containerImage:eilalan/cellatlas_env:latest, containerFile:null, containerConfig:ContainerConfig(entrypoint:[/usr/bin/fusion], cmd:null, env:null, workingDir:null, layers:[ContainerLayer[location=data:H4sIAAAAAAAA/+08a3Pb...; tarDigest=sha256:2925e1c9b46106c72e378f2b4618efc0e2b64a32a4ed48cd6ab500e668c4c81c; gzipDigest=sha256:8ebbf4bd65cf1062f3a17b8a113dc6ca1afb2fd37c35048595e0455b704e5c83; gzipSize=5488], ContainerLayer[location=https://fusionfs.seqera.io/releases/pkg/2/2/12/fusion-amd64.tar.gz; tarDigest=sha256:60391bebe0cc5d48b0875854f0c93c0d0adc25b5007fdb1b2efc2a431cfeef6e; gzipDigest=sha256:6ccfd8f431db2874e82e27d61b6d31b95d7dddce7e810c5f8c95438a0d03c066; gzipSize=30262575]]), condaFile:null, spackFile:null, containerPlatform:linux/amd64, buildRepository:null, cacheRepository:null, timestamp:2024-02-27T01:49:45.785023Z, fingerprint:e1ad2b28938abc20cc68745c633f5760, freeze:false, format:null, dryRun:false)\n",
      "Feb-27 01:49:46.427 [Actor Thread 9] DEBUG io.seqera.wave.plugin.WaveClient - Wave response: statusCode=200; body={\"containerToken\":\"47e503fa7b80\",\"targetImage\":\"wave.seqera.io/wt/47e503fa7b80/eilalan/cellatlas_env:latest\",\"expiration\":\"2024-02-28T13:49:46.373350340Z\",\"containerImage\":\"docker.io/eilalan/cellatlas_env:latest\"}\n",
      "Feb-27 01:49:48.018 [Actor Thread 9] INFO  nextflow.processor.TaskProcessor - [21/e6dc6f] Cached process > run_cellatlas_build (1)\n",
      "Feb-27 01:49:48.062 [Actor Thread 4] DEBUG io.seqera.wave.plugin.WaveClient - Wave request: https://wave.seqera.io/container-token; attempt=1 - request: SubmitContainerTokenRequest(towerAccessToken:eyJ0aWQiOiA4Mjk3fS5jNDNmYzA4NTg2MjAxNDQzOTAwYmUzNWEzZTY0MGMyZTc0OWE3M2Mz, towerRefreshToken:null, towerWorkspaceId:247507587970818, towerEndpoint:https://api.tower.nf, workflowId:null, containerImage:eilalan/utils_env:latest, containerFile:null, containerConfig:ContainerConfig(entrypoint:[/usr/bin/fusion], cmd:null, env:null, workingDir:null, layers:[ContainerLayer[location=data:H4sIAAAAAAAA/+08a3Pb...; tarDigest=sha256:2925e1c9b46106c72e378f2b4618efc0e2b64a32a4ed48cd6ab500e668c4c81c; gzipDigest=sha256:8ebbf4bd65cf1062f3a17b8a113dc6ca1afb2fd37c35048595e0455b704e5c83; gzipSize=5488], ContainerLayer[location=https://fusionfs.seqera.io/releases/pkg/2/2/12/fusion-amd64.tar.gz; tarDigest=sha256:60391bebe0cc5d48b0875854f0c93c0d0adc25b5007fdb1b2efc2a431cfeef6e; gzipDigest=sha256:6ccfd8f431db2874e82e27d61b6d31b95d7dddce7e810c5f8c95438a0d03c066; gzipSize=30262575]]), condaFile:null, spackFile:null, containerPlatform:linux/amd64, buildRepository:null, cacheRepository:null, timestamp:2024-02-27T01:49:48.061553Z, fingerprint:b84c48d8d88fb73894a2af87b6020f24, freeze:false, format:null, dryRun:false)\n",
      "Feb-27 01:49:48.171 [Actor Thread 4] DEBUG io.seqera.wave.plugin.WaveClient - Wave response: statusCode=200; body={\"containerToken\":\"976ac52bc670\",\"targetImage\":\"wave.seqera.io/wt/976ac52bc670/eilalan/utils_env:latest\",\"expiration\":\"2024-02-28T13:49:48.118639546Z\",\"containerImage\":\"docker.io/eilalan/utils_env:latest\"}\n",
      "Feb-27 01:49:48.845 [Actor Thread 4] INFO  nextflow.processor.TaskProcessor - [31/3a5f9a] Cached process > run_jq_on_cellatlas (1)\n",
      "Feb-27 01:49:49.147 [FileTransfer-7] DEBUG nextflow.file.FilePorter - Local cache found for foreign file /home/eila/git_igvf/atomic-workflows/nextflow/nf_data/wdl_rna_pipeline/transcriptome.fa at gs://eila-nextflow-bucket/work/RNA/stage-13bc1d06-3de9-4244-a718-1f14d1aaa65a/88/7b1927798140097d37b19caa9d535b/transcriptome.fa\n",
      "Feb-27 01:49:49.159 [Actor Thread 5] DEBUG io.seqera.wave.plugin.WaveClient - Wave request: https://wave.seqera.io/container-token; attempt=1 - request: SubmitContainerTokenRequest(towerAccessToken:eyJ0aWQiOiA4Mjk3fS5jNDNmYzA4NTg2MjAxNDQzOTAwYmUzNWEzZTY0MGMyZTc0OWE3M2Mz, towerRefreshToken:null, towerWorkspaceId:247507587970818, towerEndpoint:https://api.tower.nf, workflowId:null, containerImage:eilalan/kb_env:latest, containerFile:null, containerConfig:ContainerConfig(entrypoint:[/usr/bin/fusion], cmd:null, env:null, workingDir:null, layers:[ContainerLayer[location=data:H4sIAAAAAAAA/+08a3Pb...; tarDigest=sha256:2925e1c9b46106c72e378f2b4618efc0e2b64a32a4ed48cd6ab500e668c4c81c; gzipDigest=sha256:8ebbf4bd65cf1062f3a17b8a113dc6ca1afb2fd37c35048595e0455b704e5c83; gzipSize=5488], ContainerLayer[location=https://fusionfs.seqera.io/releases/pkg/2/2/12/fusion-amd64.tar.gz; tarDigest=sha256:60391bebe0cc5d48b0875854f0c93c0d0adc25b5007fdb1b2efc2a431cfeef6e; gzipDigest=sha256:6ccfd8f431db2874e82e27d61b6d31b95d7dddce7e810c5f8c95438a0d03c066; gzipSize=30262575]]), condaFile:null, spackFile:null, containerPlatform:linux/amd64, buildRepository:null, cacheRepository:null, timestamp:2024-02-27T01:49:49.158816Z, fingerprint:dae2dac851e2104f4dc97ac70b91a2c3, freeze:false, format:null, dryRun:false)\n",
      "Feb-27 01:49:49.266 [Actor Thread 5] DEBUG io.seqera.wave.plugin.WaveClient - Wave response: statusCode=200; body={\"containerToken\":\"5feb5803bc16\",\"targetImage\":\"wave.seqera.io/wt/5feb5803bc16/eilalan/kb_env:latest\",\"expiration\":\"2024-02-28T13:49:49.214451735Z\",\"containerImage\":\"docker.io/eilalan/kb_env:latest\"}\n",
      "Feb-27 01:49:50.713 [Task submitter] DEBUG n.c.g.batch.GoogleBatchTaskHandler - [GOOGLE BATCH] Process `run_kb_ref_with_jq_commands (1)` - adding local volume as fusion scratch: DiskResource(request:375 GB, type:local-ssd)\n",
      "Feb-27 01:49:52.238 [Task submitter] DEBUG n.c.g.batch.GoogleBatchTaskHandler - [GOOGLE BATCH] Process `run_kb_ref_with_jq_commands (1)` submitted > job=nf-e3d52c20-1708998589964; uid=nf-e3d52c20-170899-b14f26fb-8973-475d0; work-dir=gs://eila-nextflow-bucket/work/RNA/e3/d52c20b4d3e876407824e848a01ad3\n",
      "Feb-27 01:49:52.239 [Task submitter] INFO  nextflow.Session - [e3/d52c20] Submitted process > run_kb_ref_with_jq_commands (1)\n",
      "Feb-27 01:54:52.157 [Task monitor] DEBUG n.processor.TaskPollingMonitor - !! executor google-batch > tasks to be completed: 1 -- submitted tasks are shown below\n",
      "~> TaskHandler[id: 3; name: run_kb_ref_with_jq_commands (1); status: RUNNING; exit: -; error: -; workDir: gs://eila-nextflow-bucket/work/RNA/e3/d52c20b4d3e876407824e848a01ad3]\n",
      "Feb-27 01:59:52.178 [Task monitor] DEBUG n.processor.TaskPollingMonitor - !! executor google-batch > tasks to be completed: 1 -- submitted tasks are shown below\n",
      "~> TaskHandler[id: 3; name: run_kb_ref_with_jq_commands (1); status: RUNNING; exit: -; error: -; workDir: gs://eila-nextflow-bucket/work/RNA/e3/d52c20b4d3e876407824e848a01ad3]\n",
      "Feb-27 02:04:52.201 [Task monitor] DEBUG n.processor.TaskPollingMonitor - !! executor google-batch > tasks to be completed: 1 -- submitted tasks are shown below\n",
      "~> TaskHandler[id: 3; name: run_kb_ref_with_jq_commands (1); status: RUNNING; exit: -; error: -; workDir: gs://eila-nextflow-bucket/work/RNA/e3/d52c20b4d3e876407824e848a01ad3]\n",
      "Feb-27 02:09:52.219 [Task monitor] DEBUG n.processor.TaskPollingMonitor - !! executor google-batch > tasks to be completed: 1 -- submitted tasks are shown below\n",
      "~> TaskHandler[id: 3; name: run_kb_ref_with_jq_commands (1); status: RUNNING; exit: -; error: -; workDir: gs://eila-nextflow-bucket/work/RNA/e3/d52c20b4d3e876407824e848a01ad3]\n",
      "Feb-27 02:12:22.274 [Task monitor] DEBUG n.c.g.batch.GoogleBatchTaskHandler - [GOOGLE BATCH] Process `run_kb_ref_with_jq_commands (1)` - terminated job=nf-e3d52c20-1708998589964; state=SUCCEEDED\n",
      "Feb-27 02:12:22.557 [Task monitor] DEBUG n.processor.TaskPollingMonitor - Task completed > TaskHandler[id: 3; name: run_kb_ref_with_jq_commands (1); status: COMPLETED; exit: 0; error: -; workDir: gs://eila-nextflow-bucket/work/RNA/e3/d52c20b4d3e876407824e848a01ad3]\n",
      "Feb-27 02:12:23.091 [main] DEBUG nextflow.Session - Session await > all processes finished\n",
      "Feb-27 02:12:23.336 [Task monitor] DEBUG n.processor.TaskPollingMonitor - <<< barrier arrives (monitor: google-batch) - terminating tasks monitor poll loop\n",
      "Feb-27 02:12:23.336 [main] DEBUG nextflow.Session - Session await > all barriers passed\n",
      "Feb-27 02:12:23.351 [main] DEBUG n.trace.WorkflowStatsObserver - Workflow completed > WorkflowStats[succeededCount=1; failedCount=0; ignoredCount=0; cachedCount=2; pendingCount=0; submittedCount=0; runningCount=0; retriesCount=0; abortedCount=0; succeedDuration=19m 54s; failedDuration=0ms; cachedDuration=4.8s;loadCpus=0; loadMemory=0; peakRunning=1; peakCpus=1; peakMemory=0; ]\n",
      "Feb-27 02:12:24.179 [main] DEBUG nextflow.cache.CacheDB - Closing CacheDB done\n",
      "Feb-27 02:12:24.179 [main] INFO  org.pf4j.AbstractPluginManager - Stop plugin 'nf-wave@1.0.1'\n",
      "Feb-27 02:12:24.179 [main] DEBUG nextflow.plugin.BasePlugin - Plugin stopped nf-wave\n",
      "Feb-27 02:12:24.180 [main] INFO  org.pf4j.AbstractPluginManager - Stop plugin 'nf-tower@1.6.3'\n",
      "Feb-27 02:12:24.180 [main] DEBUG nextflow.plugin.BasePlugin - Plugin stopped nf-tower\n",
      "Feb-27 02:12:24.180 [main] INFO  org.pf4j.AbstractPluginManager - Stop plugin 'nf-google@1.8.3'\n",
      "Feb-27 02:12:24.180 [main] DEBUG nextflow.plugin.BasePlugin - Plugin stopped nf-google\n",
      "Feb-27 02:12:24.203 [main] DEBUG nextflow.util.ThreadPoolManager - Thread pool 'FileTransfer' shutdown completed (hard=false)\n",
      "Feb-27 02:12:24.204 [main] DEBUG nextflow.script.ScriptRunner - > Execution complete -- Goodbye\n"
     ]
    }
   ],
   "source": [
    "!cat .nextflow.log "
   ]
  },
  {
   "cell_type": "code",
   "execution_count": 20,
   "metadata": {
    "tags": []
   },
   "outputs": [
    {
     "name": "stdout",
     "output_type": "stream",
     "text": [
      "2024-02-27 02:12:25.043296\n"
     ]
    }
   ],
   "source": [
    "import datetime\n",
    "now = datetime.datetime.now()\n",
    "print(now)"
   ]
  },
  {
   "cell_type": "code",
   "execution_count": 21,
   "metadata": {
    "tags": []
   },
   "outputs": [],
   "source": [
    "\n",
    "# !nextflow run nf_wf_fg_singlecell_rna.nf -c nextflow_vm.config -profile google_batch_profile -with-tower -resume \n",
    "# 8af1ba30-6606-4dfd-a851-c6d0b74bdd43\n",
    "\n",
    "\n",
    "# !nextflow run nf_wf_fg_singlecell_rna.nf -c nextflow_vm.config -profile google_batch_profile -resume 886dc4ef-ff60-46d0-aecb-8f1ab56296a3\n",
    "\n",
    "# !nextflow run nf_wf_fg_singlecell_rna.nf -c nextflow_vm.config -profile google_batch_profile -resume\n",
    "\n",
    "\n",
    "# !nextflow run nf_wf_fg_singlecell_rna.nf -c nextflow_vm.config -profile docker_local\n",
    "\n",
    "\n",
    "# !nextflow run nf_wf_fg_singlecell_rna.nf -c nextflow_vm.config -profile google_batch_profile -resume\n",
    "\n",
    "\n",
    "# !nextflow run nf_wf_fg_singlecell_rna.nf -c nextflow_vm.config -profile google_batch_profile -resume\n",
    "\n",
    "\n",
    "\n",
    "# !nextflow run nf_wf_fg_singlecell_rna.nf -c nextflow_vm.config -profile docker_local -resume\n",
    "\n",
    "\n",
    "\n",
    "\n",
    "\n",
    "# !nextflow run nf_wf_fg_singlecell_rna.nf -c nextflow_vm.config -profile google_batch_profile -resume\n",
    "\n",
    "\n",
    "\n",
    "\n",
    "# !nextflow run nf_wf_fg_singlecell_rna.nf -c nextflow.config -profile docker_profile -resume\n",
    "# !nextflow run nf_wf_fg_singlecell_rna.nf -c nextflow_vm.config -profile google_batch_profile -resume\n",
    "# !nextflow run nf_wf_fg_singlecell_rna.nf -c nextflow_local.config -profile google_batch_profile -resume\n",
    "# !nextflow run nf_wf_fg_singlecell_rna.nf -c nextflow_vm.config -profile google_batch_profile -resume\n",
    "# !nextflow run nf_wf_fg_singlecell_rna.nf -c nextflow.config -profile docker_profile -resume\n",
    "# !nextflow run nf_wf_fg_singlecell_rna.nf -c nextflow.config -profile google_batch_profile -resume"
   ]
  },
  {
   "cell_type": "code",
   "execution_count": 22,
   "metadata": {
    "tags": []
   },
   "outputs": [],
   "source": [
    "# !nextflow log\n",
    "# use the session id with the resume"
   ]
  },
  {
   "cell_type": "code",
   "execution_count": 23,
   "metadata": {
    "tags": []
   },
   "outputs": [],
   "source": [
    "# !cat .nextflow.log "
   ]
  },
  {
   "cell_type": "code",
   "execution_count": 24,
   "metadata": {
    "tags": []
   },
   "outputs": [
    {
     "name": "stdout",
     "output_type": "stream",
     "text": [
      "2024-02-27 02:12:25.075570\n"
     ]
    }
   ],
   "source": [
    "import datetime\n",
    "now = datetime.datetime.now()\n",
    "print(now)"
   ]
  },
  {
   "cell_type": "code",
   "execution_count": null,
   "metadata": {},
   "outputs": [],
   "source": []
  },
  {
   "cell_type": "code",
   "execution_count": null,
   "metadata": {},
   "outputs": [],
   "source": []
  },
  {
   "cell_type": "code",
   "execution_count": null,
   "metadata": {},
   "outputs": [],
   "source": []
  }
 ],
 "metadata": {
  "kernelspec": {
   "display_name": "Python 3 (ipykernel)",
   "language": "python",
   "name": "python3"
  },
  "language_info": {
   "codemirror_mode": {
    "name": "ipython",
    "version": 3
   },
   "file_extension": ".py",
   "mimetype": "text/x-python",
   "name": "python",
   "nbconvert_exporter": "python",
   "pygments_lexer": "ipython3",
   "version": "3.7.12"
  }
 },
 "nbformat": 4,
 "nbformat_minor": 4
}
