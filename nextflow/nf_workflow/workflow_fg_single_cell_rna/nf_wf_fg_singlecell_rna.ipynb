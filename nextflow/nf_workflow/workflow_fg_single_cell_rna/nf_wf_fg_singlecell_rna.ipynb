{
 "cells": [
  {
   "cell_type": "code",
   "execution_count": 1,
   "metadata": {
    "tags": []
   },
   "outputs": [],
   "source": [
    "# start docker deamon in terminal\n",
    "# !sudo docker login\n",
    "# OR - becuase the jupyther with allow root\n",
    "# !docker login"
   ]
  },
  {
   "cell_type": "code",
   "execution_count": 2,
   "metadata": {
    "tags": []
   },
   "outputs": [
    {
     "name": "stdout",
     "output_type": "stream",
     "text": [
      "/home/eila/git_igvf/atomic-workflows/nextflow/nf_workflow/workflow_fg_single_cell_rna\n"
     ]
    }
   ],
   "source": [
    "!pwd"
   ]
  },
  {
   "cell_type": "code",
   "execution_count": 3,
   "metadata": {
    "tags": []
   },
   "outputs": [
    {
     "name": "stdout",
     "output_type": "stream",
     "text": [
      "/home/eila/git_igvf/atomic-workflows/nextflow/hai-gcp-genomic-beb9207a40b8.json\n"
     ]
    }
   ],
   "source": [
    "import os\n",
    "json_path = os.path.join(os.path.dirname(os.path.dirname(os.getcwd())),\"hai-gcp-genomic-beb9207a40b8.json\")\n",
    "!ls $json_path"
   ]
  },
  {
   "cell_type": "code",
   "execution_count": 4,
   "metadata": {
    "tags": []
   },
   "outputs": [
    {
     "name": "stdout",
     "output_type": "stream",
     "text": [
      "Activated service account credentials for: [eila-batch@hai-gcp-genomic.iam.gserviceaccount.com]\n"
     ]
    }
   ],
   "source": [
    "# # in the command line. same env\n",
    "import os\n",
    "json_path = os.path.join(os.path.dirname(os.path.dirname(os.getcwd())),\"hai-gcp-genomic-beb9207a40b8.json\")\n",
    "os.environ['GOOGLE_APPLICATION_CREDENTIALS'] = json_path\n",
    "!gcloud auth activate-service-account eila-batch@hai-gcp-genomic.iam.gserviceaccount.com --key-file=$GOOGLE_APPLICATION_CREDENTIALS"
   ]
  },
  {
   "cell_type": "code",
   "execution_count": 5,
   "metadata": {
    "tags": []
   },
   "outputs": [
    {
     "name": "stdout",
     "output_type": "stream",
     "text": [
      "                  Credentialed Accounts\n",
      "ACTIVE  ACCOUNT\n",
      "        886987709752-compute@developer.gserviceaccount.com\n",
      "*       eila-batch@hai-gcp-genomic.iam.gserviceaccount.com\n",
      "        eila@stanford.edu\n",
      "\n",
      "To set the active account, run:\n",
      "    $ gcloud config set account `ACCOUNT`\n",
      "\n"
     ]
    },
    {
     "data": {
      "text/plain": [
       "'hai-gcp-genomic'"
      ]
     },
     "execution_count": 5,
     "metadata": {},
     "output_type": "execute_result"
    }
   ],
   "source": [
    "!gcloud auth list\n",
    "project_name = !gcloud config get-value project\n",
    "project_name = project_name[0]\n",
    "project_name\n",
    "# gcloud config set account\n"
   ]
  },
  {
   "cell_type": "code",
   "execution_count": 6,
   "metadata": {
    "tags": []
   },
   "outputs": [],
   "source": [
    "import os\n",
    "os.environ[\"TOWER_ACCESS_TOKEN\"] = 'eyJ0aWQiOiA4Mjk3fS5jNDNmYzA4NTg2MjAxNDQzOTAwYmUzNWEzZTY0MGMyZTc0OWE3M2Mz'\n",
    "os.environ[\"TOWER_WORKSPACE_ID\"]='247507587970818'\n"
   ]
  },
  {
   "cell_type": "code",
   "execution_count": 7,
   "metadata": {
    "tags": []
   },
   "outputs": [
    {
     "name": "stdout",
     "output_type": "stream",
     "text": [
      "eyJ0aWQiOiA4Mjk3fS5jNDNmYzA4NTg2MjAxNDQzOTAwYmUzNWEzZTY0MGMyZTc0OWE3M2Mz\n",
      "247507587970818\n"
     ]
    }
   ],
   "source": [
    "!echo $TOWER_ACCESS_TOKEN\n",
    "!echo $TOWER_WORKSPACE_ID"
   ]
  },
  {
   "cell_type": "code",
   "execution_count": 8,
   "metadata": {
    "tags": []
   },
   "outputs": [
    {
     "data": {
      "text/plain": [
       "'/home/eila/git_igvf/atomic-workflows/nextflow/nf_workflow/workflow_fg_single_cell_rna/bin'"
      ]
     },
     "execution_count": 8,
     "metadata": {},
     "output_type": "execute_result"
    }
   ],
   "source": [
    "# !chmod +x ./bin/scrna_qc_metrics.py\n",
    "import os\n",
    "bin_fld = os.path.join(os.getcwd(),\"bin\")\n",
    "bin_fld"
   ]
  },
  {
   "cell_type": "code",
   "execution_count": 9,
   "metadata": {
    "tags": []
   },
   "outputs": [],
   "source": [
    "!chmod +x {os.path.join(bin_fld, \"scrna_qc_metrics.py\")}\n",
    "!chmod +x {os.path.join(bin_fld, \"scrna_plot_qc_metrics.R\")}\n",
    "!chmod +x {os.path.join(bin_fld, \"barcode_rank_functions.R\")}\n",
    "!chmod +x {os.path.join(bin_fld, \"cellatals_build.sh\")}\n",
    "!chmod +x {os.path.join(bin_fld, \"jq_cellatlas_json.sh\")}\n",
    "!chmod +x {os.path.join(bin_fld, \"kb_ref_with_jq_commands.sh\")}\n",
    "!chmod +x {os.path.join(bin_fld, \"retrieve_technology_from_seqspec.sh\")}\n",
    "!chmod +x {os.path.join(bin_fld, \"execute_kb_count.sh\")}\n",
    "!chmod +x {os.path.join(bin_fld, \"run_seqspec_modify.sh\")}\n"
   ]
  },
  {
   "cell_type": "code",
   "execution_count": 10,
   "metadata": {
    "tags": []
   },
   "outputs": [
    {
     "name": "stdout",
     "output_type": "stream",
     "text": [
      "  Version: 23.10.1 build 5891\n",
      "  Created: 12-01-2024 22:01 UTC \n",
      "  System: Linux 5.10.0-27-cloud-amd64\n",
      "  Runtime: Groovy 3.0.19 on OpenJDK 64-Bit Server VM 11.0.1-internal+0-adhoc..src\n",
      "  Encoding: UTF-8 (UTF-8)\n",
      "\n"
     ]
    }
   ],
   "source": [
    "!nextflow info"
   ]
  },
  {
   "cell_type": "code",
   "execution_count": 11,
   "metadata": {
    "tags": []
   },
   "outputs": [
    {
     "name": "stdout",
     "output_type": "stream",
     "text": [
      "/home/eila/git_igvf/atomic-workflows/nextflow/nf_data\n"
     ]
    }
   ],
   "source": [
    "import os\n",
    "\n",
    "# Get the current working directory\n",
    "current_directory = os.getcwd()\n",
    "\n",
    "# Navigate two folders above\n",
    "two_folders_above = os.path.abspath(os.path.join(current_directory, '..', '..'))\n",
    "\n",
    "nf_data_base_path = os.path.join(two_folders_above,'nf_data')\n",
    "# Print the result\n",
    "print(nf_data_base_path)\n"
   ]
  },
  {
   "cell_type": "code",
   "execution_count": 12,
   "metadata": {
    "tags": []
   },
   "outputs": [],
   "source": [
    "# nf_data_project=\"test_atac_pipeline\"\n",
    "# nf_data_project=\"test_rna_pipeline\"\n",
    "nf_data_project=\"wdl_rna_pipeline\""
   ]
  },
  {
   "cell_type": "code",
   "execution_count": 13,
   "metadata": {},
   "outputs": [
    {
     "data": {
      "text/plain": [
       "'/home/eila/git_igvf/atomic-workflows/nextflow/nf_data/wdl_rna_pipeline/vm_rna_input_files.tsv'"
      ]
     },
     "execution_count": 13,
     "metadata": {},
     "output_type": "execute_result"
    }
   ],
   "source": [
    "# VM\n",
    "os.path.exists(os.path.join(nf_data_base_path,nf_data_project,\"vm_atac_fastqs_files.tsv\"))\n",
    "os.path.join(nf_data_base_path,nf_data_project,\"vm_rna_input_files.tsv\")\n",
    "# /home/eila/git_igvf/atomic-workflows/nextflow/nf_data/wdl_rna_pipeline/"
   ]
  },
  {
   "cell_type": "code",
   "execution_count": 14,
   "metadata": {
    "tags": []
   },
   "outputs": [],
   "source": [
    "# !ls /home/eila/git_igvf/atomic-workflows/nextflow/nf_data/wdl_rna_pipeline/vm_rna_input_files.tsv"
   ]
  },
  {
   "cell_type": "code",
   "execution_count": 15,
   "metadata": {
    "tags": []
   },
   "outputs": [],
   "source": [
    "!cp ../../config_files/docker-google-batch.config ../workflow_fg_single_cell_rna/conf/\n"
   ]
  },
  {
   "cell_type": "code",
   "execution_count": 16,
   "metadata": {
    "tags": []
   },
   "outputs": [],
   "source": [
    "# Write the configuration file\n",
    "with open(\"nextflow_rna.config\", \"w\") as config_file:\n",
    "    config_file.write(f\"\"\"\n",
    "manifest {{\n",
    "  description = 'A nextflow pipeline for fg single cell' \n",
    "  mainScript = 'nf_wf_fg_singlecell_rna.nf'\n",
    "}}\n",
    "\n",
    "profiles {{\n",
    "  google_batch_profile {{\n",
    "    workDir = 'gs://eila-nextflow-bucket/work/RNA'\n",
    "    includeConfig 'conf/docker-google-batch.config'\n",
    "    docker.enabled = true\n",
    "    wave.enabled = true\n",
    "    fusion.enabled = true\n",
    "    process.scratch = false\n",
    "    executor = 'google-batch'\n",
    "    docker.envWhitelist=['ENV_SYNAPSE_TOKEN','TOWER_ACCESS_TOKEN']\n",
    "    google.project = '{project_name}'\n",
    "    google.location = 'us-central1'\n",
    "    google.batch.spot = true\n",
    "    google.batch.serviceAccountEmail='eila-batch@hai-gcp-genomic.iam.gserviceaccount.com'\n",
    "  }}\n",
    "}}\n",
    "\n",
    "// Define ENV_SYNAPSE_TOKEN as a parameter\n",
    "params.ORGANISM = 'human'\n",
    "params.FASTQS_SPEC_CH = '{nf_data_base_path}/{nf_data_project}/vm_rna_input_files.tsv'\n",
    "params.GENOME_FASTA_GZ = '{nf_data_base_path}/{nf_data_project}/GCA_000001405.15_GRCh38_no_alt_analysis_set.fna.gz'\n",
    "params.GENES_GTF = '{nf_data_base_path}/{nf_data_project}/genes.gtf'\n",
    "params.CELLATLAS_BUILD_SCRIPT = 'cellatals_build.sh'\n",
    "params.JQ_CELLATLAST_BUILD_JSON_SCRIPT = 'jq_cellatlas_json.sh'\n",
    "params.KB_REF_WITH_JQ_COMMANDS='kb_ref_with_jq_commands.sh'\n",
    "params.TRANSCRIPTOME_FA='{nf_data_base_path}/{nf_data_project}/transcriptome.fa'\n",
    "\n",
    "params.EXECUTE_SEQSPEC_MODIFY='run_seqspec_modify.sh'\n",
    "params.RETRIEVE_SEQSPEC_TECHNOLOGY='retrieve_technology_from_seqspec.sh'\n",
    "params.EXECUTE_KB_COUNT_RNA_SCRIPT='execute_kb_count.sh'\n",
    "params.KB_COUNT_CPUS=16\n",
    "\n",
    "\n",
    "// params.GENOME_FASTA = 'http://ftp.ensembl.org/pub/release-109/fasta/homo_sapiens/dna/Homo_sapiens.GRCh38.dna.primary_assembly.fa.gz'\n",
    "// params.GENOME_GZ_GTF = 'http://ftp.ensembl.org/pub/release-109/gtf/homo_sapiens/Homo_sapiens.GRCh38.109.gtf.gz'\n",
    "// params.ENV_SYNAPSE_TOKEN = \"nextflow secrets get SYNAPSE\".execute().text.trim()\n",
    "// params.SYNAPSE_CONFIG = '{nf_data_base_path}/{nf_data_project}nf_wf_fg_singlecell/synapse.config'\n",
    "// params.SYNAPSE_IDS = '{nf_data_base_path}/{nf_data_project}/nf_wf_fg_singlecell/synapse_ids.csv'\n",
    "// params.SUBPOOL = 'no_subpool'\n",
    "params.UMI_CUTOFF = 2\n",
    "params.GENE_CUTOFF = 3\n",
    "params.SC_RNA_QC_SCRIPT = 'scrna_qc_metrics.py'\n",
    "params.SC_RNA_QC_PLOT_SCRIPT = 'scrna_plot_qc_metrics.R'\n",
    "params.SC_RNA_QC_PLOT_HELPER_SCRIPT = 'barcode_rank_functions.R'\n",
    "// params.RNA_DEBUG_QC = '{nf_data_base_path}/{nf_data_project}/nf_workflow/workflow_fg_single_cell_rna/sc_rna_qc_calculate.tsv'\n",
    "\"\"\")\n"
   ]
  },
  {
   "cell_type": "code",
   "execution_count": 17,
   "metadata": {
    "tags": []
   },
   "outputs": [],
   "source": [
    "# !rm -rf /home/eila/git_igvf/cellatlas-scrna-seq-pipeline/nextflow/nf_workflow/workflow_fg_single_cell_rna/work\n",
    "# !gsutil -m rm -r gs://eila-nextflow-bucket/work/RNA\n"
   ]
  },
  {
   "cell_type": "code",
   "execution_count": null,
   "metadata": {
    "tags": []
   },
   "outputs": [
    {
     "name": "stdout",
     "output_type": "stream",
     "text": [
      "N E X T F L O W  ~  version 23.10.1\n",
      "Launching `nf_wf_fg_singlecell_rna.nf` [cranky_brown] DSL2 - revision: d4d554fcd0\n",
      "in the RNA workflow\n",
      "[-        ] process > run_cellatlas_build            -\u001b[K\n",
      "[-        ] process > run_jq_on_cellatlas            -\u001b[K\n",
      "[-        ] process > run_kb_ref_with_jq_commands    -\u001b[K\n",
      "[-        ] process > run_seqspec_modify_rna         -\u001b[K\n",
      "[-        ] process > run_retrieve_seqspec_techno... -\u001b[K\n",
      "[-        ] process > run_kb_count_rna               -\u001b[K\n",
      "after run_seqspec_modify_rna\u001b[K\n",
      "\u001b[8A\n",
      "\u001b[32;1mMonitor the execution with Nextflow Tower using this URL: https://tower.nf/orgs/ort_eila_org/workspaces/ort_eila_wrkspc/watch/36k9lRWHYorYvW\u001b[22;39m\u001b[K\n",
      "[-        ] process > run_cellatlas_build            -\u001b[K\n",
      "[-        ] process > run_jq_on_cellatlas            -\u001b[K\n",
      "[-        ] process > run_kb_ref_with_jq_commands    -\u001b[K\n",
      "[-        ] process > run_seqspec_modify_rna         -\u001b[K\n",
      "[-        ] process > run_retrieve_seqspec_techno... -\u001b[K\n",
      "[-        ] process > run_kb_count_rna               -\u001b[K\n",
      "after run_seqspec_modify_rna\u001b[K\n",
      "\u001b[9A\n",
      "\u001b[32;1mMonitor the execution with Nextflow Tower using this URL: https://tower.nf/orgs/ort_eila_org/workspaces/ort_eila_wrkspc/watch/36k9lRWHYorYvW\u001b[22;39m\u001b[K\n",
      "[-        ] process > run_cellatlas_build            -\u001b[K\n",
      "[-        ] process > run_jq_on_cellatlas            -\u001b[K\n",
      "[-        ] process > run_kb_ref_with_jq_commands    -\u001b[K\n",
      "[0d/1394e9] process > run_seqspec_modify_rna (1)     [100%] 1 of 1, cached: 1\u001b[K\n",
      "[-        ] process > run_retrieve_seqspec_techno... -\u001b[K\n",
      "[-        ] process > run_kb_count_rna               -\u001b[K\n",
      "after run_seqspec_modify_rna\u001b[K\n",
      "\u001b[9A\n",
      "\u001b[32;1mMonitor the execution with Nextflow Tower using this URL: https://tower.nf/orgs/ort_eila_org/workspaces/ort_eila_wrkspc/watch/36k9lRWHYorYvW\u001b[22;39m\u001b[K\n",
      "[-        ] process > run_cellatlas_build            -\u001b[K\n",
      "[-        ] process > run_jq_on_cellatlas            -\u001b[K\n",
      "[-        ] process > run_kb_ref_with_jq_commands    -\u001b[K\n",
      "[0d/1394e9] process > run_seqspec_modify_rna (1)     [100%] 1 of 1, cached: 1 ✔\u001b[K\n",
      "[-        ] process > run_retrieve_seqspec_techno... -\u001b[K\n",
      "[-        ] process > run_kb_count_rna               -\u001b[K\n",
      "after run_seqspec_modify_rna\u001b[K\n",
      "=== Start run_seqspec_modify_rna ===\u001b[K\n",
      " Input Fastq Files:\u001b[K\n",
      " R1: BMMC_single_donor_RNA_L001_R1_corrected.fastq.gz\u001b[K\n",
      " R2: BMMC_single_donor_RNA_L001_R2_corrected.fastq.gz\u001b[K\n",
      " Specification YAML: bmmc_spec_igvf_rna.yaml\u001b[K\n",
      " Whitelist File: sai_192_whitelist.txt\u001b[K\n",
      " seqspec_rna_region_id is: rna\u001b[K\n",
      "Running command: seqspec modify -m rna -o modrna1.yaml -r \"rna_R1.fastq.gz\" --region-id \"BMMC_single_donor_RNA_L001_R1_corrected.fastq.gz\" bmmc_spec_igvf_rna.yaml\u001b[K\n",
      "Running command: seqspec modify -m rna -o modrna2.yaml -r \"rna_R2.fastq.gz\" --region-id \"BMMC_single_donor_RNA_L001_R2_corrected.fastq.gz\" modrna1.yaml\u001b[K\n",
      "Running command: seqspec modify -m rna -o \"seqspec_modify_rna_file_names.yaml\" -r \"rna_R2.fastq.gz\" --region-id \"BMMC_single_donor_RNA_L001_R2_corrected.fastq.gz\" modrna2.yaml\u001b[K\n",
      "=== Finished seqspec modify rna ===\u001b[K\n",
      "\u001b[K\n",
      "\u001b[21A\n",
      "\u001b[32;1mMonitor the execution with Nextflow Tower using this URL: https://tower.nf/orgs/ort_eila_org/workspaces/ort_eila_wrkspc/watch/36k9lRWHYorYvW\u001b[22;39m\u001b[K\n",
      "[73/b4e581] process > run_cellatlas_build (1)        [100%] 1 of 1, cached: 1\u001b[K\n",
      "[-        ] process > run_jq_on_cellatlas            -\u001b[K\n",
      "[-        ] process > run_kb_ref_with_jq_commands    -\u001b[K\n",
      "[0d/1394e9] process > run_seqspec_modify_rna (1)     [100%] 1 of 1, cached: 1 ✔\u001b[K\n",
      "[-        ] process > run_retrieve_seqspec_techno... -\u001b[K\n",
      "[-        ] process > run_kb_count_rna               -\u001b[K\n",
      "after run_seqspec_modify_rna\u001b[K\n",
      "=== Start run_seqspec_modify_rna ===\u001b[K\n",
      " Input Fastq Files:\u001b[K\n",
      " R1: BMMC_single_donor_RNA_L001_R1_corrected.fastq.gz\u001b[K\n",
      " R2: BMMC_single_donor_RNA_L001_R2_corrected.fastq.gz\u001b[K\n",
      " Specification YAML: bmmc_spec_igvf_rna.yaml\u001b[K\n",
      " Whitelist File: sai_192_whitelist.txt\u001b[K\n",
      " seqspec_rna_region_id is: rna\u001b[K\n",
      "Running command: seqspec modify -m rna -o modrna1.yaml -r \"rna_R1.fastq.gz\" --region-id \"BMMC_single_donor_RNA_L001_R1_corrected.fastq.gz\" bmmc_spec_igvf_rna.yaml\u001b[K\n",
      "Running command: seqspec modify -m rna -o modrna2.yaml -r \"rna_R2.fastq.gz\" --region-id \"BMMC_single_donor_RNA_L001_R2_corrected.fastq.gz\" modrna1.yaml\u001b[K\n",
      "Running command: seqspec modify -m rna -o \"seqspec_modify_rna_file_names.yaml\" -r \"rna_R2.fastq.gz\" --region-id \"BMMC_single_donor_RNA_L001_R2_corrected.fastq.gz\" modrna2.yaml\u001b[K\n",
      "=== Finished seqspec modify rna ===\u001b[K\n",
      "\u001b[K\n",
      "\u001b[21A\n",
      "\u001b[32;1mMonitor the execution with Nextflow Tower using this URL: https://tower.nf/orgs/ort_eila_org/workspaces/ort_eila_wrkspc/watch/36k9lRWHYorYvW\u001b[22;39m\u001b[K\n",
      "[73/b4e581] process > run_cellatlas_build (1)        [100%] 1 of 1, cached: 1 ✔\u001b[K\n",
      "[-        ] process > run_jq_on_cellatlas            -\u001b[K\n",
      "[-        ] process > run_kb_ref_with_jq_commands    -\u001b[K\n",
      "[0d/1394e9] process > run_seqspec_modify_rna (1)     [100%] 1 of 1, cached: 1 ✔\u001b[K\n",
      "[-        ] process > run_retrieve_seqspec_techno... -\u001b[K\n",
      "[-        ] process > run_kb_count_rna               -\u001b[K\n",
      "after run_seqspec_modify_rna\u001b[K\n",
      "=== Start run_seqspec_modify_rna ===\u001b[K\n",
      " Input Fastq Files:\u001b[K\n",
      " R1: BMMC_single_donor_RNA_L001_R1_corrected.fastq.gz\u001b[K\n",
      " R2: BMMC_single_donor_RNA_L001_R2_corrected.fastq.gz\u001b[K\n",
      " Specification YAML: bmmc_spec_igvf_rna.yaml\u001b[K\n",
      " Whitelist File: sai_192_whitelist.txt\u001b[K\n",
      " seqspec_rna_region_id is: rna\u001b[K\n",
      "Running command: seqspec modify -m rna -o modrna1.yaml -r \"rna_R1.fastq.gz\" --region-id \"BMMC_single_donor_RNA_L001_R1_corrected.fastq.gz\" bmmc_spec_igvf_rna.yaml\u001b[K\n",
      "Running command: seqspec modify -m rna -o modrna2.yaml -r \"rna_R2.fastq.gz\" --region-id \"BMMC_single_donor_RNA_L001_R2_corrected.fastq.gz\" modrna1.yaml\u001b[K\n",
      "Running command: seqspec modify -m rna -o \"seqspec_modify_rna_file_names.yaml\" -r \"rna_R2.fastq.gz\" --region-id \"BMMC_single_donor_RNA_L001_R2_corrected.fastq.gz\" modrna2.yaml\u001b[K\n",
      "=== Finished seqspec modify rna ===\u001b[K\n",
      "\u001b[K\n",
      "calling cellatlas build\u001b[K\n",
      "Output Directory: cellatlas_out\u001b[K\n",
      "Mode: rna\u001b[K\n",
      "Spec File: bmmc_spec_igvf_rna.yaml\u001b[K\n",
      "Genome Fasta Gz: GCA_000001405.15_GRCh38_no_alt_analysis_set.fna.gz\u001b[K\n",
      "Gene GTF: genes.gtf\u001b[K\n",
      "Fastq1: BMMC_single_donor_RNA_L001_R1_corrected.fastq.gz\u001b[K\n",
      "Fastq2: BMMC_single_donor_RNA_L001_R2_corrected.fastq.gz\u001b[K\n",
      "Contents of Output Directory:\u001b[K\n",
      "cellatlas_info.json\u001b[K\n",
      "BMMC_single_donor_RNA_L001_R1_corrected.fastq.gz\u001b[K\n",
      "BMMC_single_donor_RNA_L001_R2_corrected.fastq.gz\u001b[K\n",
      "GCA_000001405.15_GRCh38_no_alt_analysis_set.fna.gz\u001b[K\n",
      "bmmc_spec_igvf_rna.yaml\u001b[K\n",
      "cellatlas_out\u001b[K\n",
      "genes.gtf\u001b[K\n",
      "sai_192_whitelist.txt\u001b[K\n",
      "\u001b[K\n",
      "\u001b[39A\n",
      "\u001b[32;1mMonitor the execution with Nextflow Tower using this URL: https://tower.nf/orgs/ort_eila_org/workspaces/ort_eila_wrkspc/watch/36k9lRWHYorYvW\u001b[22;39m\u001b[K\n",
      "[73/b4e581] process > run_cellatlas_build (1)        [100%] 1 of 1, cached: 1 ✔\u001b[K\n",
      "[-        ] process > run_jq_on_cellatlas            -\u001b[K\n",
      "[-        ] process > run_kb_ref_with_jq_commands    -\u001b[K\n",
      "[0d/1394e9] process > run_seqspec_modify_rna (1)     [100%] 1 of 1, cached: 1 ✔\u001b[K\n",
      "[-        ] process > run_retrieve_seqspec_techno... [  0%] 0 of 1\u001b[K\n",
      "[-        ] process > run_kb_count_rna               -\u001b[K\n",
      "after run_seqspec_modify_rna\u001b[K\n",
      "=== Start run_seqspec_modify_rna ===\u001b[K\n",
      " Input Fastq Files:\u001b[K\n",
      " R1: BMMC_single_donor_RNA_L001_R1_corrected.fastq.gz\u001b[K\n",
      " R2: BMMC_single_donor_RNA_L001_R2_corrected.fastq.gz\u001b[K\n",
      " Specification YAML: bmmc_spec_igvf_rna.yaml\u001b[K\n",
      " Whitelist File: sai_192_whitelist.txt\u001b[K\n",
      " seqspec_rna_region_id is: rna\u001b[K\n",
      "Running command: seqspec modify -m rna -o modrna1.yaml -r \"rna_R1.fastq.gz\" --region-id \"BMMC_single_donor_RNA_L001_R1_corrected.fastq.gz\" bmmc_spec_igvf_rna.yaml\u001b[K\n",
      "Running command: seqspec modify -m rna -o modrna2.yaml -r \"rna_R2.fastq.gz\" --region-id \"BMMC_single_donor_RNA_L001_R2_corrected.fastq.gz\" modrna1.yaml\u001b[K\n",
      "Running command: seqspec modify -m rna -o \"seqspec_modify_rna_file_names.yaml\" -r \"rna_R2.fastq.gz\" --region-id \"BMMC_single_donor_RNA_L001_R2_corrected.fastq.gz\" modrna2.yaml\u001b[K\n",
      "=== Finished seqspec modify rna ===\u001b[K\n",
      "\u001b[K\n",
      "calling cellatlas build\u001b[K\n",
      "Output Directory: cellatlas_out\u001b[K\n",
      "Mode: rna\u001b[K\n",
      "Spec File: bmmc_spec_igvf_rna.yaml\u001b[K\n",
      "Genome Fasta Gz: GCA_000001405.15_GRCh38_no_alt_analysis_set.fna.gz\u001b[K\n",
      "Gene GTF: genes.gtf\u001b[K\n",
      "Fastq1: BMMC_single_donor_RNA_L001_R1_corrected.fastq.gz\u001b[K\n",
      "Fastq2: BMMC_single_donor_RNA_L001_R2_corrected.fastq.gz\u001b[K\n",
      "Contents of Output Directory:\u001b[K\n",
      "cellatlas_info.json\u001b[K\n",
      "BMMC_single_donor_RNA_L001_R1_corrected.fastq.gz\u001b[K\n",
      "BMMC_single_donor_RNA_L001_R2_corrected.fastq.gz\u001b[K\n",
      "GCA_000001405.15_GRCh38_no_alt_analysis_set.fna.gz\u001b[K\n",
      "bmmc_spec_igvf_rna.yaml\u001b[K\n",
      "cellatlas_out\u001b[K\n",
      "genes.gtf\u001b[K\n",
      "sai_192_whitelist.txt\u001b[K\n",
      "\u001b[K\n",
      "\u001b[39A\n",
      "\u001b[32;1mMonitor the execution with Nextflow Tower using this URL: https://tower.nf/orgs/ort_eila_org/workspaces/ort_eila_wrkspc/watch/36k9lRWHYorYvW\u001b[22;39m\u001b[K\n",
      "[73/b4e581] process > run_cellatlas_build (1)        [100%] 1 of 1, cached: 1 ✔\u001b[K\n",
      "[05/862a9a] process > run_jq_on_cellatlas (1)        [100%] 1 of 1, cached: 1\u001b[K\n",
      "[-        ] process > run_kb_ref_with_jq_commands    -\u001b[K\n",
      "[0d/1394e9] process > run_seqspec_modify_rna (1)     [100%] 1 of 1, cached: 1 ✔\u001b[K\n",
      "[-        ] process > run_retrieve_seqspec_techno... [  0%] 0 of 1\u001b[K\n",
      "[-        ] process > run_kb_count_rna               -\u001b[K\n",
      "after run_seqspec_modify_rna\u001b[K\n",
      "=== Start run_seqspec_modify_rna ===\u001b[K\n",
      " Input Fastq Files:\u001b[K\n",
      " R1: BMMC_single_donor_RNA_L001_R1_corrected.fastq.gz\u001b[K\n",
      " R2: BMMC_single_donor_RNA_L001_R2_corrected.fastq.gz\u001b[K\n",
      " Specification YAML: bmmc_spec_igvf_rna.yaml\u001b[K\n",
      " Whitelist File: sai_192_whitelist.txt\u001b[K\n",
      " seqspec_rna_region_id is: rna\u001b[K\n",
      "Running command: seqspec modify -m rna -o modrna1.yaml -r \"rna_R1.fastq.gz\" --region-id \"BMMC_single_donor_RNA_L001_R1_corrected.fastq.gz\" bmmc_spec_igvf_rna.yaml\u001b[K\n",
      "Running command: seqspec modify -m rna -o modrna2.yaml -r \"rna_R2.fastq.gz\" --region-id \"BMMC_single_donor_RNA_L001_R2_corrected.fastq.gz\" modrna1.yaml\u001b[K\n",
      "Running command: seqspec modify -m rna -o \"seqspec_modify_rna_file_names.yaml\" -r \"rna_R2.fastq.gz\" --region-id \"BMMC_single_donor_RNA_L001_R2_corrected.fastq.gz\" modrna2.yaml\u001b[K\n",
      "=== Finished seqspec modify rna ===\u001b[K\n",
      "\u001b[K\n",
      "calling cellatlas build\u001b[K\n",
      "Output Directory: cellatlas_out\u001b[K\n",
      "Mode: rna\u001b[K\n",
      "Spec File: bmmc_spec_igvf_rna.yaml\u001b[K\n",
      "Genome Fasta Gz: GCA_000001405.15_GRCh38_no_alt_analysis_set.fna.gz\u001b[K\n",
      "Gene GTF: genes.gtf\u001b[K\n",
      "Fastq1: BMMC_single_donor_RNA_L001_R1_corrected.fastq.gz\u001b[K\n",
      "Fastq2: BMMC_single_donor_RNA_L001_R2_corrected.fastq.gz\u001b[K\n",
      "Contents of Output Directory:\u001b[K\n",
      "cellatlas_info.json\u001b[K\n",
      "BMMC_single_donor_RNA_L001_R1_corrected.fastq.gz\u001b[K\n",
      "BMMC_single_donor_RNA_L001_R2_corrected.fastq.gz\u001b[K\n",
      "GCA_000001405.15_GRCh38_no_alt_analysis_set.fna.gz\u001b[K\n",
      "bmmc_spec_igvf_rna.yaml\u001b[K\n",
      "cellatlas_out\u001b[K\n",
      "genes.gtf\u001b[K\n",
      "sai_192_whitelist.txt\u001b[K\n",
      "\u001b[K\n",
      "\u001b[39A\n",
      "\u001b[32;1mMonitor the execution with Nextflow Tower using this URL: https://tower.nf/orgs/ort_eila_org/workspaces/ort_eila_wrkspc/watch/36k9lRWHYorYvW\u001b[22;39m\u001b[K\n",
      "[73/b4e581] process > run_cellatlas_build (1)        [100%] 1 of 1, cached: 1 ✔\u001b[K\n",
      "[05/862a9a] process > run_jq_on_cellatlas (1)        [100%] 1 of 1, cached: 1 ✔\u001b[K\n",
      "[-        ] process > run_kb_ref_with_jq_commands    -\u001b[K\n",
      "[0d/1394e9] process > run_seqspec_modify_rna (1)     [100%] 1 of 1, cached: 1 ✔\u001b[K\n",
      "[-        ] process > run_retrieve_seqspec_techno... [  0%] 0 of 1\u001b[K\n",
      "[-        ] process > run_kb_count_rna               -\u001b[K\n",
      "after run_seqspec_modify_rna\u001b[K\n",
      "=== Start run_seqspec_modify_rna ===\u001b[K\n",
      " Input Fastq Files:\u001b[K\n",
      " R1: BMMC_single_donor_RNA_L001_R1_corrected.fastq.gz\u001b[K\n",
      " R2: BMMC_single_donor_RNA_L001_R2_corrected.fastq.gz\u001b[K\n",
      " Specification YAML: bmmc_spec_igvf_rna.yaml\u001b[K\n",
      " Whitelist File: sai_192_whitelist.txt\u001b[K\n",
      " seqspec_rna_region_id is: rna\u001b[K\n",
      "Running command: seqspec modify -m rna -o modrna1.yaml -r \"rna_R1.fastq.gz\" --region-id \"BMMC_single_donor_RNA_L001_R1_corrected.fastq.gz\" bmmc_spec_igvf_rna.yaml\u001b[K\n",
      "Running command: seqspec modify -m rna -o modrna2.yaml -r \"rna_R2.fastq.gz\" --region-id \"BMMC_single_donor_RNA_L001_R2_corrected.fastq.gz\" modrna1.yaml\u001b[K\n",
      "Running command: seqspec modify -m rna -o \"seqspec_modify_rna_file_names.yaml\" -r \"rna_R2.fastq.gz\" --region-id \"BMMC_single_donor_RNA_L001_R2_corrected.fastq.gz\" modrna2.yaml\u001b[K\n",
      "=== Finished seqspec modify rna ===\u001b[K\n",
      "\u001b[K\n",
      "calling cellatlas build\u001b[K\n",
      "Output Directory: cellatlas_out\u001b[K\n",
      "Mode: rna\u001b[K\n",
      "Spec File: bmmc_spec_igvf_rna.yaml\u001b[K\n",
      "Genome Fasta Gz: GCA_000001405.15_GRCh38_no_alt_analysis_set.fna.gz\u001b[K\n",
      "Gene GTF: genes.gtf\u001b[K\n",
      "Fastq1: BMMC_single_donor_RNA_L001_R1_corrected.fastq.gz\u001b[K\n",
      "Fastq2: BMMC_single_donor_RNA_L001_R2_corrected.fastq.gz\u001b[K\n",
      "Contents of Output Directory:\u001b[K\n",
      "cellatlas_info.json\u001b[K\n",
      "BMMC_single_donor_RNA_L001_R1_corrected.fastq.gz\u001b[K\n",
      "BMMC_single_donor_RNA_L001_R2_corrected.fastq.gz\u001b[K\n",
      "GCA_000001405.15_GRCh38_no_alt_analysis_set.fna.gz\u001b[K\n",
      "bmmc_spec_igvf_rna.yaml\u001b[K\n",
      "cellatlas_out\u001b[K\n",
      "genes.gtf\u001b[K\n",
      "sai_192_whitelist.txt\u001b[K\n",
      "\u001b[K\n",
      "calling run_jq_on_cellatlas\u001b[K\n",
      "cellatlas_info.json\u001b[K\n",
      "jq_commands.txt\u001b[K\n",
      "\u001b[K\n",
      "\u001b[43A\n",
      "\u001b[32;1mMonitor the execution with Nextflow Tower using this URL: https://tower.nf/orgs/ort_eila_org/workspaces/ort_eila_wrkspc/watch/36k9lRWHYorYvW\u001b[22;39m\u001b[K\n",
      "[73/b4e581] process > run_cellatlas_build (1)        [100%] 1 of 1, cached: 1 ✔\u001b[K\n",
      "[05/862a9a] process > run_jq_on_cellatlas (1)        [100%] 1 of 1, cached: 1 ✔\u001b[K\n",
      "[-        ] process > run_kb_ref_with_jq_commands    [  0%] 0 of 1\u001b[K\n",
      "[0d/1394e9] process > run_seqspec_modify_rna (1)     [100%] 1 of 1, cached: 1 ✔\u001b[K\n",
      "[-        ] process > run_retrieve_seqspec_techno... [  0%] 0 of 1\u001b[K\n",
      "[-        ] process > run_kb_count_rna               -\u001b[K\n",
      "after run_seqspec_modify_rna\u001b[K\n",
      "=== Start run_seqspec_modify_rna ===\u001b[K\n",
      " Input Fastq Files:\u001b[K\n",
      " R1: BMMC_single_donor_RNA_L001_R1_corrected.fastq.gz\u001b[K\n",
      " R2: BMMC_single_donor_RNA_L001_R2_corrected.fastq.gz\u001b[K\n",
      " Specification YAML: bmmc_spec_igvf_rna.yaml\u001b[K\n",
      " Whitelist File: sai_192_whitelist.txt\u001b[K\n",
      " seqspec_rna_region_id is: rna\u001b[K\n",
      "Running command: seqspec modify -m rna -o modrna1.yaml -r \"rna_R1.fastq.gz\" --region-id \"BMMC_single_donor_RNA_L001_R1_corrected.fastq.gz\" bmmc_spec_igvf_rna.yaml\u001b[K\n",
      "Running command: seqspec modify -m rna -o modrna2.yaml -r \"rna_R2.fastq.gz\" --region-id \"BMMC_single_donor_RNA_L001_R2_corrected.fastq.gz\" modrna1.yaml\u001b[K\n",
      "Running command: seqspec modify -m rna -o \"seqspec_modify_rna_file_names.yaml\" -r \"rna_R2.fastq.gz\" --region-id \"BMMC_single_donor_RNA_L001_R2_corrected.fastq.gz\" modrna2.yaml\u001b[K\n",
      "=== Finished seqspec modify rna ===\u001b[K\n",
      "\u001b[K\n",
      "calling cellatlas build\u001b[K\n",
      "Output Directory: cellatlas_out\u001b[K\n",
      "Mode: rna\u001b[K\n",
      "Spec File: bmmc_spec_igvf_rna.yaml\u001b[K\n",
      "Genome Fasta Gz: GCA_000001405.15_GRCh38_no_alt_analysis_set.fna.gz\u001b[K\n",
      "Gene GTF: genes.gtf\u001b[K\n",
      "Fastq1: BMMC_single_donor_RNA_L001_R1_corrected.fastq.gz\u001b[K\n",
      "Fastq2: BMMC_single_donor_RNA_L001_R2_corrected.fastq.gz\u001b[K\n",
      "Contents of Output Directory:\u001b[K\n",
      "cellatlas_info.json\u001b[K\n",
      "BMMC_single_donor_RNA_L001_R1_corrected.fastq.gz\u001b[K\n",
      "BMMC_single_donor_RNA_L001_R2_corrected.fastq.gz\u001b[K\n",
      "GCA_000001405.15_GRCh38_no_alt_analysis_set.fna.gz\u001b[K\n",
      "bmmc_spec_igvf_rna.yaml\u001b[K\n",
      "cellatlas_out\u001b[K\n",
      "genes.gtf\u001b[K\n",
      "sai_192_whitelist.txt\u001b[K\n",
      "\u001b[K\n",
      "calling run_jq_on_cellatlas\u001b[K\n",
      "cellatlas_info.json\u001b[K\n",
      "jq_commands.txt\u001b[K\n",
      "\u001b[K\n",
      "\u001b[43A\n",
      "\u001b[32;1mMonitor the execution with Nextflow Tower using this URL: https://tower.nf/orgs/ort_eila_org/workspaces/ort_eila_wrkspc/watch/36k9lRWHYorYvW\u001b[22;39m\u001b[K\n",
      "executor >  google-batch (fusion enabled) (1)\u001b[K\n",
      "[73/b4e581] process > run_cellatlas_build (1)        [100%] 1 of 1, cached: 1 ✔\u001b[K\n",
      "[05/862a9a] process > run_jq_on_cellatlas (1)        [100%] 1 of 1, cached: 1 ✔\u001b[K\n",
      "[-        ] process > run_kb_ref_with_jq_commands    [  0%] 0 of 1\u001b[K\n",
      "[0d/1394e9] process > run_seqspec_modify_rna (1)     [100%] 1 of 1, cached: 1 ✔\u001b[K\n",
      "[95/53ad20] process > run_retrieve_seqspec_techno... [  0%] 0 of 1\u001b[K\n",
      "[-        ] process > run_kb_count_rna               -\u001b[K\n",
      "after run_seqspec_modify_rna\u001b[K\n",
      "=== Start run_seqspec_modify_rna ===\u001b[K\n",
      " Input Fastq Files:\u001b[K\n",
      " R1: BMMC_single_donor_RNA_L001_R1_corrected.fastq.gz\u001b[K\n",
      " R2: BMMC_single_donor_RNA_L001_R2_corrected.fastq.gz\u001b[K\n",
      " Specification YAML: bmmc_spec_igvf_rna.yaml\u001b[K\n",
      " Whitelist File: sai_192_whitelist.txt\u001b[K\n",
      " seqspec_rna_region_id is: rna\u001b[K\n",
      "Running command: seqspec modify -m rna -o modrna1.yaml -r \"rna_R1.fastq.gz\" --region-id \"BMMC_single_donor_RNA_L001_R1_corrected.fastq.gz\" bmmc_spec_igvf_rna.yaml\u001b[K\n",
      "Running command: seqspec modify -m rna -o modrna2.yaml -r \"rna_R2.fastq.gz\" --region-id \"BMMC_single_donor_RNA_L001_R2_corrected.fastq.gz\" modrna1.yaml\u001b[K\n",
      "Running command: seqspec modify -m rna -o \"seqspec_modify_rna_file_names.yaml\" -r \"rna_R2.fastq.gz\" --region-id \"BMMC_single_donor_RNA_L001_R2_corrected.fastq.gz\" modrna2.yaml\u001b[K\n",
      "=== Finished seqspec modify rna ===\u001b[K\n",
      "\u001b[K\n",
      "calling cellatlas build\u001b[K\n",
      "Output Directory: cellatlas_out\u001b[K\n",
      "Mode: rna\u001b[K\n",
      "Spec File: bmmc_spec_igvf_rna.yaml\u001b[K\n",
      "Genome Fasta Gz: GCA_000001405.15_GRCh38_no_alt_analysis_set.fna.gz\u001b[K\n",
      "Gene GTF: genes.gtf\u001b[K\n",
      "Fastq1: BMMC_single_donor_RNA_L001_R1_corrected.fastq.gz\u001b[K\n",
      "Fastq2: BMMC_single_donor_RNA_L001_R2_corrected.fastq.gz\u001b[K\n",
      "Contents of Output Directory:\u001b[K\n",
      "cellatlas_info.json\u001b[K\n",
      "BMMC_single_donor_RNA_L001_R1_corrected.fastq.gz\u001b[K\n",
      "BMMC_single_donor_RNA_L001_R2_corrected.fastq.gz\u001b[K\n",
      "GCA_000001405.15_GRCh38_no_alt_analysis_set.fna.gz\u001b[K\n",
      "bmmc_spec_igvf_rna.yaml\u001b[K\n",
      "cellatlas_out\u001b[K\n",
      "genes.gtf\u001b[K\n",
      "sai_192_whitelist.txt\u001b[K\n",
      "\u001b[K\n",
      "calling run_jq_on_cellatlas\u001b[K\n",
      "cellatlas_info.json\u001b[K\n",
      "jq_commands.txt\u001b[K\n",
      "\u001b[K\n",
      "\u001b[44A\n",
      "\u001b[32;1mMonitor the execution with Nextflow Tower using this URL: https://tower.nf/orgs/ort_eila_org/workspaces/ort_eila_wrkspc/watch/36k9lRWHYorYvW\u001b[22;39m\u001b[K\n",
      "executor >  google-batch (fusion enabled) (2)\u001b[K\n",
      "[73/b4e581] process > run_cellatlas_build (1)        [100%] 1 of 1, cached: 1 ✔\u001b[K\n",
      "[05/862a9a] process > run_jq_on_cellatlas (1)        [100%] 1 of 1, cached: 1 ✔\u001b[K\n",
      "[49/8a887a] process > run_kb_ref_with_jq_commands... [  0%] 0 of 1\u001b[K\n",
      "[0d/1394e9] process > run_seqspec_modify_rna (1)     [100%] 1 of 1, cached: 1 ✔\u001b[K\n",
      "[95/53ad20] process > run_retrieve_seqspec_techno... [  0%] 0 of 1\u001b[K\n",
      "[-        ] process > run_kb_count_rna               -\u001b[K\n",
      "after run_seqspec_modify_rna\u001b[K\n",
      "=== Start run_seqspec_modify_rna ===\u001b[K\n",
      " Input Fastq Files:\u001b[K\n",
      " R1: BMMC_single_donor_RNA_L001_R1_corrected.fastq.gz\u001b[K\n",
      " R2: BMMC_single_donor_RNA_L001_R2_corrected.fastq.gz\u001b[K\n",
      " Specification YAML: bmmc_spec_igvf_rna.yaml\u001b[K\n",
      " Whitelist File: sai_192_whitelist.txt\u001b[K\n",
      " seqspec_rna_region_id is: rna\u001b[K\n",
      "Running command: seqspec modify -m rna -o modrna1.yaml -r \"rna_R1.fastq.gz\" --region-id \"BMMC_single_donor_RNA_L001_R1_corrected.fastq.gz\" bmmc_spec_igvf_rna.yaml\u001b[K\n",
      "Running command: seqspec modify -m rna -o modrna2.yaml -r \"rna_R2.fastq.gz\" --region-id \"BMMC_single_donor_RNA_L001_R2_corrected.fastq.gz\" modrna1.yaml\u001b[K\n",
      "Running command: seqspec modify -m rna -o \"seqspec_modify_rna_file_names.yaml\" -r \"rna_R2.fastq.gz\" --region-id \"BMMC_single_donor_RNA_L001_R2_corrected.fastq.gz\" modrna2.yaml\u001b[K\n",
      "=== Finished seqspec modify rna ===\u001b[K\n",
      "\u001b[K\n",
      "calling cellatlas build\u001b[K\n",
      "Output Directory: cellatlas_out\u001b[K\n",
      "Mode: rna\u001b[K\n",
      "Spec File: bmmc_spec_igvf_rna.yaml\u001b[K\n",
      "Genome Fasta Gz: GCA_000001405.15_GRCh38_no_alt_analysis_set.fna.gz\u001b[K\n",
      "Gene GTF: genes.gtf\u001b[K\n",
      "Fastq1: BMMC_single_donor_RNA_L001_R1_corrected.fastq.gz\u001b[K\n",
      "Fastq2: BMMC_single_donor_RNA_L001_R2_corrected.fastq.gz\u001b[K\n",
      "Contents of Output Directory:\u001b[K\n",
      "cellatlas_info.json\u001b[K\n",
      "BMMC_single_donor_RNA_L001_R1_corrected.fastq.gz\u001b[K\n",
      "BMMC_single_donor_RNA_L001_R2_corrected.fastq.gz\u001b[K\n",
      "GCA_000001405.15_GRCh38_no_alt_analysis_set.fna.gz\u001b[K\n",
      "bmmc_spec_igvf_rna.yaml\u001b[K\n",
      "cellatlas_out\u001b[K\n",
      "genes.gtf\u001b[K\n",
      "sai_192_whitelist.txt\u001b[K\n",
      "\u001b[K\n",
      "calling run_jq_on_cellatlas\u001b[K\n",
      "cellatlas_info.json\u001b[K\n",
      "jq_commands.txt\u001b[K\n",
      "\u001b[K\n",
      "\u001b[44A\n",
      "\u001b[32;1mMonitor the execution with Nextflow Tower using this URL: https://tower.nf/orgs/ort_eila_org/workspaces/ort_eila_wrkspc/watch/36k9lRWHYorYvW\u001b[22;39m\u001b[K\n",
      "executor >  google-batch (fusion enabled) (2)\u001b[K\n",
      "[73/b4e581] process > run_cellatlas_build (1)        [100%] 1 of 1, cached: 1 ✔\u001b[K\n",
      "[05/862a9a] process > run_jq_on_cellatlas (1)        [100%] 1 of 1, cached: 1 ✔\u001b[K\n",
      "[49/8a887a] process > run_kb_ref_with_jq_commands... [  0%] 0 of 1\u001b[K\n",
      "[0d/1394e9] process > run_seqspec_modify_rna (1)     [100%] 1 of 1, cached: 1 ✔\u001b[K\n",
      "[95/53ad20] process > run_retrieve_seqspec_techno... [  0%] 0 of 1\u001b[K\n",
      "[-        ] process > run_kb_count_rna               -\u001b[K\n",
      "\u001b[K\n",
      "\u001b[K\n",
      "\u001b[K\n",
      "\u001b[K\n",
      "\u001b[K\n",
      "\u001b[K\n",
      "\u001b[K\n",
      "\u001b[K\n",
      "\u001b[K\n",
      "\u001b[K\n",
      "\u001b[K\n",
      "\u001b[K\n",
      "\u001b[K\n",
      "\u001b[K\n",
      "\u001b[K\n",
      "\u001b[K\n",
      "\u001b[K\n",
      "\u001b[K\n",
      "\u001b[K\n",
      "\u001b[K\n",
      "\u001b[K\n",
      "\u001b[K\n",
      "\u001b[K\n",
      "\u001b[K\n",
      "\u001b[K\n",
      "\u001b[K\n",
      "\u001b[K\n",
      "\u001b[K\n",
      "\u001b[K\n",
      "\u001b[K\n",
      "\u001b[K\n",
      "\u001b[K\n",
      "\u001b[K\n",
      "\u001b[K\n",
      "\u001b[K\n",
      "\u001b[44A\n",
      "\u001b[32;1mMonitor the execution with Nextflow Tower using this URL: https://tower.nf/orgs/ort_eila_org/workspaces/ort_eila_wrkspc/watch/36k9lRWHYorYvW\u001b[22;39m\u001b[K\n",
      "executor >  google-batch (fusion enabled) (2)\u001b[K\n",
      "[73/b4e581] process > run_cellatlas_build (1)        [100%] 1 of 1, cached: 1 ✔\u001b[K\n",
      "[05/862a9a] process > run_jq_on_cellatlas (1)        [100%] 1 of 1, cached: 1 ✔\u001b[K\n",
      "[49/8a887a] process > run_kb_ref_with_jq_commands... [  0%] 0 of 1\u001b[K\n",
      "[0d/1394e9] process > run_seqspec_modify_rna (1)     [100%] 1 of 1, cached: 1 ✔\u001b[K\n",
      "[95/53ad20] process > run_retrieve_seqspec_techno... [  0%] 0 of 1 ✔\u001b[K\n",
      "[-        ] process > run_kb_count_rna               -\u001b[K\n",
      "\u001b[33m[95/53ad20] NOTE: Process `run_retrieve_seqspec_technology_rna (1)` terminated with an error exit status (1) -- Error is ignored\u001b[39m\u001b[K\n",
      "\u001b[K\n",
      "\u001b[K\n",
      "\u001b[K\n",
      "\u001b[K\n",
      "\u001b[K\n",
      "\u001b[K\n",
      "\u001b[K\n",
      "\u001b[K\n",
      "\u001b[K\n",
      "\u001b[K\n",
      "\u001b[K\n",
      "\u001b[K\n",
      "\u001b[K\n",
      "\u001b[K\n",
      "\u001b[K\n",
      "\u001b[K\n",
      "\u001b[K\n",
      "\u001b[K\n",
      "\u001b[K\n",
      "\u001b[K\n",
      "\u001b[K\n",
      "\u001b[K\n",
      "\u001b[K\n",
      "\u001b[K\n",
      "\u001b[K\n",
      "\u001b[K\n",
      "\u001b[K\n",
      "\u001b[K\n",
      "\u001b[K\n",
      "\u001b[K\n",
      "\u001b[K\n",
      "\u001b[K\n",
      "\u001b[K\n",
      "\u001b[K\n",
      "\u001b[44A\n",
      "\u001b[32;1mMonitor the execution with Nextflow Tower using this URL: https://tower.nf/orgs/ort_eila_org/workspaces/ort_eila_wrkspc/watch/36k9lRWHYorYvW\u001b[22;39m\u001b[K\n",
      "executor >  google-batch (fusion enabled) (2)\u001b[K\n",
      "[73/b4e581] process > run_cellatlas_build (1)        [100%] 1 of 1, cached: 1 ✔\u001b[K\n",
      "[05/862a9a] process > run_jq_on_cellatlas (1)        [100%] 1 of 1, cached: 1 ✔\u001b[K\n",
      "[49/8a887a] process > run_kb_ref_with_jq_commands... [  0%] 0 of 1\u001b[K\n",
      "[0d/1394e9] process > run_seqspec_modify_rna (1)     [100%] 1 of 1, cached: 1 ✔\u001b[K\n",
      "[95/53ad20] process > run_retrieve_seqspec_techno... [100%] 1 of 1, failed: 1 ✔\u001b[K\n",
      "[-        ] process > run_kb_count_rna               -\u001b[K\n",
      "\u001b[33m[95/53ad20] NOTE: Process `run_retrieve_seqspec_technology_rna (1)` terminated with an error exit status (1) -- Error is ignored\u001b[39m\u001b[K\n",
      "\u001b[10A\n",
      "\u001b[32;1mMonitor the execution with Nextflow Tower using this URL: https://tower.nf/orgs/ort_eila_org/workspaces/ort_eila_wrkspc/watch/36k9lRWHYorYvW\u001b[22;39m\u001b[K\n",
      "executor >  google-batch (fusion enabled) (2)\u001b[K\n",
      "[73/b4e581] process > run_cellatlas_build (1)        [100%] 1 of 1, cached: 1 ✔\u001b[K\n",
      "[05/862a9a] process > run_jq_on_cellatlas (1)        [100%] 1 of 1, cached: 1 ✔\u001b[K\n",
      "[49/8a887a] process > run_kb_ref_with_jq_commands... [  0%] 0 of 1\u001b[K\n",
      "[0d/1394e9] process > run_seqspec_modify_rna (1)     [100%] 1 of 1, cached: 1 ✔\u001b[K\n",
      "[95/53ad20] process > run_retrieve_seqspec_techno... [100%] 1 of 1, failed: 1 ✔\u001b[K\n",
      "[-        ] process > run_kb_count_rna               -\u001b[K\n",
      "\u001b[33m[95/53ad20] NOTE: Process `run_retrieve_seqspec_technology_rna (1)` terminated with an error exit status (1) -- Error is ignored\u001b[39m\u001b[K\n"
     ]
    }
   ],
   "source": [
    "!nextflow run nf_wf_fg_singlecell_rna.nf -c nextflow_rna.config -profile google_batch_profile -with-tower -resume\n",
    "\n",
    "# -resume \n",
    "# 8af1ba30-6606-4dfd-a851-c6d0b74bdd43\n",
    "# 8af1ba30-6606-4dfd-a851-c6d0b74bdd43\n",
    "# 8af1ba30-6606-4dfd-a851-c6d0b74bdd43\n",
    "\n",
    "\n",
    "\n",
    "# !nextflow run nf_wf_fg_singlecell_rna.nf -c nextflow_vm.config -profile docker_local -resume\n",
    "\n",
    "\n",
    "\n",
    "# !nextflow run nf_wf_fg_singlecell_rna.nf -c nextflow_vm.config -profile google_batch_profile  -with-tower\n",
    "\n",
    "# docker_local\n",
    "\n",
    "\n",
    "\n",
    "# !nextflow run nf_wf_fg_singlecell_rna.nf -c nextflow_vm.config -profile google_batch_profile\n",
    "\n",
    "\n",
    "\n",
    "\n",
    "# !nextflow run nf_wf_fg_singlecell_rna.nf -c nextflow.config -profile docker_profile\n",
    "# !nextflow run nf_wf_fg_singlecell_rna.nf -c nextflow_vm.config -profile google_batch_profile\n",
    "# !nextflow run nf_wf_fg_singlecell_rna.nf -c nextflow_vm_anvil.config -profile google_batch_profile\n",
    "# !nextflow run nf_wf_fg_singlecell_rna.nf -c nextflow_local.config -profile google_batch_profile\n",
    "# !nextflow run nf_wf_fg_singlecell_rna.nf -c nextflow_local.config -profile docker_profile"
   ]
  },
  {
   "cell_type": "code",
   "execution_count": null,
   "metadata": {
    "tags": []
   },
   "outputs": [],
   "source": [
    "!cat .nextflow.log "
   ]
  },
  {
   "cell_type": "code",
   "execution_count": null,
   "metadata": {
    "tags": []
   },
   "outputs": [],
   "source": [
    "import datetime\n",
    "now = datetime.datetime.now()\n",
    "print(now)"
   ]
  },
  {
   "cell_type": "code",
   "execution_count": null,
   "metadata": {
    "tags": []
   },
   "outputs": [],
   "source": [
    "\n",
    "# !nextflow run nf_wf_fg_singlecell_rna.nf -c nextflow_vm.config -profile google_batch_profile -with-tower -resume \n",
    "# 8af1ba30-6606-4dfd-a851-c6d0b74bdd43\n",
    "\n",
    "\n",
    "# !nextflow run nf_wf_fg_singlecell_rna.nf -c nextflow_vm.config -profile google_batch_profile -resume 886dc4ef-ff60-46d0-aecb-8f1ab56296a3\n",
    "\n",
    "# !nextflow run nf_wf_fg_singlecell_rna.nf -c nextflow_vm.config -profile google_batch_profile -resume\n",
    "\n",
    "\n",
    "# !nextflow run nf_wf_fg_singlecell_rna.nf -c nextflow_vm.config -profile docker_local\n",
    "\n",
    "\n",
    "# !nextflow run nf_wf_fg_singlecell_rna.nf -c nextflow_vm.config -profile google_batch_profile -resume\n",
    "\n",
    "\n",
    "# !nextflow run nf_wf_fg_singlecell_rna.nf -c nextflow_vm.config -profile google_batch_profile -resume\n",
    "\n",
    "\n",
    "\n",
    "# !nextflow run nf_wf_fg_singlecell_rna.nf -c nextflow_vm.config -profile docker_local -resume\n",
    "\n",
    "\n",
    "\n",
    "\n",
    "\n",
    "# !nextflow run nf_wf_fg_singlecell_rna.nf -c nextflow_vm.config -profile google_batch_profile -resume\n",
    "\n",
    "\n",
    "\n",
    "\n",
    "# !nextflow run nf_wf_fg_singlecell_rna.nf -c nextflow.config -profile docker_profile -resume\n",
    "# !nextflow run nf_wf_fg_singlecell_rna.nf -c nextflow_vm.config -profile google_batch_profile -resume\n",
    "# !nextflow run nf_wf_fg_singlecell_rna.nf -c nextflow_local.config -profile google_batch_profile -resume\n",
    "# !nextflow run nf_wf_fg_singlecell_rna.nf -c nextflow_vm.config -profile google_batch_profile -resume\n",
    "# !nextflow run nf_wf_fg_singlecell_rna.nf -c nextflow.config -profile docker_profile -resume\n",
    "# !nextflow run nf_wf_fg_singlecell_rna.nf -c nextflow.config -profile google_batch_profile -resume"
   ]
  },
  {
   "cell_type": "code",
   "execution_count": null,
   "metadata": {
    "tags": []
   },
   "outputs": [],
   "source": [
    "# !nextflow log\n",
    "# use the session id with the resume"
   ]
  },
  {
   "cell_type": "code",
   "execution_count": null,
   "metadata": {
    "tags": []
   },
   "outputs": [],
   "source": [
    "# !cat .nextflow.log "
   ]
  },
  {
   "cell_type": "code",
   "execution_count": null,
   "metadata": {
    "tags": []
   },
   "outputs": [],
   "source": [
    "import datetime\n",
    "now = datetime.datetime.now()\n",
    "print(now)"
   ]
  },
  {
   "cell_type": "code",
   "execution_count": null,
   "metadata": {},
   "outputs": [],
   "source": []
  },
  {
   "cell_type": "code",
   "execution_count": null,
   "metadata": {},
   "outputs": [],
   "source": []
  },
  {
   "cell_type": "code",
   "execution_count": null,
   "metadata": {},
   "outputs": [],
   "source": []
  }
 ],
 "metadata": {
  "kernelspec": {
   "display_name": "Python 3 (ipykernel)",
   "language": "python",
   "name": "python3"
  },
  "language_info": {
   "codemirror_mode": {
    "name": "ipython",
    "version": 3
   },
   "file_extension": ".py",
   "mimetype": "text/x-python",
   "name": "python",
   "nbconvert_exporter": "python",
   "pygments_lexer": "ipython3",
   "version": "3.7.12"
  }
 },
 "nbformat": 4,
 "nbformat_minor": 4
}
