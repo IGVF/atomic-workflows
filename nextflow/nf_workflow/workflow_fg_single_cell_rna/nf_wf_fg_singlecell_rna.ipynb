{
 "cells": [
  {
   "cell_type": "code",
   "execution_count": 1,
   "metadata": {
    "tags": []
   },
   "outputs": [],
   "source": [
    "# start docker deamon in terminal\n",
    "# !sudo docker login\n",
    "# OR - becuase the jupyther with allow root\n",
    "# !docker login"
   ]
  },
  {
   "cell_type": "code",
   "execution_count": 2,
   "metadata": {
    "tags": []
   },
   "outputs": [
    {
     "name": "stdout",
     "output_type": "stream",
     "text": [
      "/home/eila/git_igvf/atomic-workflows/nextflow/nf_workflow/workflow_fg_single_cell_rna\n"
     ]
    }
   ],
   "source": [
    "!pwd"
   ]
  },
  {
   "cell_type": "code",
   "execution_count": 3,
   "metadata": {
    "tags": []
   },
   "outputs": [
    {
     "name": "stdout",
     "output_type": "stream",
     "text": [
      "/home/eila/git_igvf/atomic-workflows/nextflow/hai-gcp-genomic-beb9207a40b8.json\n"
     ]
    }
   ],
   "source": [
    "import os\n",
    "json_path = os.path.join(os.path.dirname(os.path.dirname(os.getcwd())),\"hai-gcp-genomic-beb9207a40b8.json\")\n",
    "!ls $json_path"
   ]
  },
  {
   "cell_type": "code",
   "execution_count": 4,
   "metadata": {
    "tags": []
   },
   "outputs": [
    {
     "name": "stdout",
     "output_type": "stream",
     "text": [
      "Activated service account credentials for: [eila-batch@hai-gcp-genomic.iam.gserviceaccount.com]\n"
     ]
    }
   ],
   "source": [
    "# # in the command line. same env\n",
    "import os\n",
    "json_path = os.path.join(os.path.dirname(os.path.dirname(os.getcwd())),\"hai-gcp-genomic-beb9207a40b8.json\")\n",
    "os.environ['GOOGLE_APPLICATION_CREDENTIALS'] = json_path\n",
    "!gcloud auth activate-service-account eila-batch@hai-gcp-genomic.iam.gserviceaccount.com --key-file=$GOOGLE_APPLICATION_CREDENTIALS"
   ]
  },
  {
   "cell_type": "code",
   "execution_count": 5,
   "metadata": {
    "tags": []
   },
   "outputs": [
    {
     "name": "stdout",
     "output_type": "stream",
     "text": [
      "                  Credentialed Accounts\n",
      "ACTIVE  ACCOUNT\n",
      "        886987709752-compute@developer.gserviceaccount.com\n",
      "*       eila-batch@hai-gcp-genomic.iam.gserviceaccount.com\n",
      "        eila@stanford.edu\n",
      "\n",
      "To set the active account, run:\n",
      "    $ gcloud config set account `ACCOUNT`\n",
      "\n"
     ]
    },
    {
     "data": {
      "text/plain": [
       "'hai-gcp-genomic'"
      ]
     },
     "execution_count": 5,
     "metadata": {},
     "output_type": "execute_result"
    }
   ],
   "source": [
    "!gcloud auth list\n",
    "project_name = !gcloud config get-value project\n",
    "project_name = project_name[0]\n",
    "project_name\n",
    "# gcloud config set account\n"
   ]
  },
  {
   "cell_type": "code",
   "execution_count": 6,
   "metadata": {
    "tags": []
   },
   "outputs": [],
   "source": [
    "import os\n",
    "os.environ[\"TOWER_ACCESS_TOKEN\"] = 'eyJ0aWQiOiA4Mjk3fS5jNDNmYzA4NTg2MjAxNDQzOTAwYmUzNWEzZTY0MGMyZTc0OWE3M2Mz'\n",
    "os.environ[\"TOWER_WORKSPACE_ID\"]='247507587970818'\n"
   ]
  },
  {
   "cell_type": "code",
   "execution_count": 7,
   "metadata": {
    "tags": []
   },
   "outputs": [
    {
     "name": "stdout",
     "output_type": "stream",
     "text": [
      "eyJ0aWQiOiA4Mjk3fS5jNDNmYzA4NTg2MjAxNDQzOTAwYmUzNWEzZTY0MGMyZTc0OWE3M2Mz\n",
      "247507587970818\n"
     ]
    }
   ],
   "source": [
    "!echo $TOWER_ACCESS_TOKEN\n",
    "!echo $TOWER_WORKSPACE_ID"
   ]
  },
  {
   "cell_type": "code",
   "execution_count": 8,
   "metadata": {
    "tags": []
   },
   "outputs": [
    {
     "data": {
      "text/plain": [
       "'/home/eila/git_igvf/atomic-workflows/nextflow/nf_workflow/workflow_fg_single_cell_rna/bin'"
      ]
     },
     "execution_count": 8,
     "metadata": {},
     "output_type": "execute_result"
    }
   ],
   "source": [
    "# !chmod +x ./bin/scrna_qc_metrics.py\n",
    "import os\n",
    "bin_fld = os.path.join(os.getcwd(),\"bin\")\n",
    "bin_fld"
   ]
  },
  {
   "cell_type": "code",
   "execution_count": 9,
   "metadata": {
    "tags": []
   },
   "outputs": [],
   "source": [
    "# !chmod +x {os.path.join(bin_fld, \"scrna_qc_metrics.py\")}\n",
    "# !chmod +x {os.path.join(bin_fld, \"scrna_plot_qc_metrics.R\")}\n",
    "# !chmod +x {os.path.join(bin_fld, \"barcode_rank_functions.R\")}\n",
    "!chmod +x {os.path.join(bin_fld, \"cellatlas_build.sh\")}\n",
    "!chmod +x {os.path.join(bin_fld, \"cellatlas_create_jq_commands_txt.sh\")}\n",
    "!chmod +x {os.path.join(bin_fld, \"rna_kb_ref_with_jq_commands.sh\")}\n",
    "!chmod +x {os.path.join(bin_fld, \"seqspec_retrieve_technology.sh\")}\n",
    "!chmod +x {os.path.join(bin_fld, \"rna_kb_count_execution.sh\")}\n",
    "!chmod +x {os.path.join(bin_fld, \"seqspec_run_modify.sh\")}\n",
    "!chmod +x {os.path.join(bin_fld, \"rna_modify_kb_count_output_barcode_h5.py\")}\n",
    "!chmod +x {os.path.join(bin_fld, \"rna_modify_kb_count_cell_gene_barcode.sh\")}\n",
    "!chmod +x {os.path.join(bin_fld, \"cellatlas_jq_run_info_and_inspect.sh\")}\n"
   ]
  },
  {
   "cell_type": "code",
   "execution_count": 10,
   "metadata": {
    "tags": []
   },
   "outputs": [
    {
     "name": "stdout",
     "output_type": "stream",
     "text": [
      "  Version: 23.10.1 build 5891\n",
      "  Created: 12-01-2024 22:01 UTC \n",
      "  System: Linux 5.10.0-27-cloud-amd64\n",
      "  Runtime: Groovy 3.0.19 on OpenJDK 64-Bit Server VM 11.0.1-internal+0-adhoc..src\n",
      "  Encoding: UTF-8 (UTF-8)\n",
      "\n"
     ]
    }
   ],
   "source": [
    "!nextflow info"
   ]
  },
  {
   "cell_type": "code",
   "execution_count": 11,
   "metadata": {
    "tags": []
   },
   "outputs": [
    {
     "name": "stdout",
     "output_type": "stream",
     "text": [
      "/home/eila/git_igvf/atomic-workflows/nextflow/nf_data\n"
     ]
    }
   ],
   "source": [
    "import os\n",
    "\n",
    "# Get the current working directory\n",
    "current_directory = os.getcwd()\n",
    "\n",
    "# Navigate two folders above\n",
    "two_folders_above = os.path.abspath(os.path.join(current_directory, '..', '..'))\n",
    "\n",
    "nf_data_base_path = os.path.join(two_folders_above,'nf_data')\n",
    "# Print the result\n",
    "print(nf_data_base_path)\n"
   ]
  },
  {
   "cell_type": "code",
   "execution_count": 12,
   "metadata": {
    "tags": []
   },
   "outputs": [],
   "source": [
    "# nf_data_project=\"test_atac_pipeline\"\n",
    "# nf_data_project=\"test_rna_pipeline\"\n",
    "nf_data_project=\"wdl_rna_pipeline\""
   ]
  },
  {
   "cell_type": "code",
   "execution_count": 13,
   "metadata": {},
   "outputs": [
    {
     "data": {
      "text/plain": [
       "'/home/eila/git_igvf/atomic-workflows/nextflow/nf_data/wdl_rna_pipeline/vm_rna_input_files.tsv'"
      ]
     },
     "execution_count": 13,
     "metadata": {},
     "output_type": "execute_result"
    }
   ],
   "source": [
    "# VM\n",
    "os.path.exists(os.path.join(nf_data_base_path,nf_data_project,\"vm_atac_fastqs_files.tsv\"))\n",
    "os.path.join(nf_data_base_path,nf_data_project,\"vm_rna_input_files.tsv\")\n",
    "# /home/eila/git_igvf/atomic-workflows/nextflow/nf_data/wdl_rna_pipeline/"
   ]
  },
  {
   "cell_type": "code",
   "execution_count": 14,
   "metadata": {
    "tags": []
   },
   "outputs": [],
   "source": [
    "# !ls /home/eila/git_igvf/atomic-workflows/nextflow/nf_data/wdl_rna_pipeline/vm_rna_input_files.tsv"
   ]
  },
  {
   "cell_type": "code",
   "execution_count": 15,
   "metadata": {
    "tags": []
   },
   "outputs": [],
   "source": [
    "!cp ../../config_files/docker-google-batch.config ../workflow_fg_single_cell_rna/conf/\n"
   ]
  },
  {
   "cell_type": "code",
   "execution_count": 16,
   "metadata": {
    "tags": []
   },
   "outputs": [],
   "source": [
    "# Write the configuration file\n",
    "with open(\"nextflow_rna.config\", \"w\") as config_file:\n",
    "    config_file.write(f\"\"\"\n",
    "manifest {{\n",
    "  description = 'A nextflow pipeline for fg single cell' \n",
    "  mainScript = 'nf_wf_fg_singlecell_rna.nf'\n",
    "}}\n",
    "\n",
    "profiles {{\n",
    "  google_batch_profile {{\n",
    "    workDir = 'gs://eila-nextflow-bucket/work/RNA'\n",
    "    includeConfig 'conf/docker-google-batch.config'\n",
    "    docker.enabled = true\n",
    "    wave.enabled = true\n",
    "    fusion.enabled = true\n",
    "    process.scratch = false\n",
    "    executor = 'google-batch'\n",
    "    docker.envWhitelist=['ENV_SYNAPSE_TOKEN','TOWER_ACCESS_TOKEN']\n",
    "    google.project = '{project_name}'\n",
    "    google.location = 'us-central1'\n",
    "    google.batch.spot = true\n",
    "    google.batch.serviceAccountEmail='eila-batch@hai-gcp-genomic.iam.gserviceaccount.com'\n",
    "  }}\n",
    "}}\n",
    "\n",
    "// Define ENV_SYNAPSE_TOKEN as a parameter\n",
    "params.ORGANISM = 'human'\n",
    "params.FASTQS_SPEC_CH = '{nf_data_base_path}/{nf_data_project}/vm_rna_input_files.tsv'\n",
    "params.GENOME_FASTA_GZ = '{nf_data_base_path}/{nf_data_project}/GCA_000001405.15_GRCh38_no_alt_analysis_set.fna.gz'\n",
    "params.GENES_GTF = '{nf_data_base_path}/{nf_data_project}/genes.gtf'\n",
    "params.CELLATLAS_BUILD_SCRIPT = 'cellatlas_build.sh'\n",
    "params.JQ_CELLATLAS_BUILD_JSON_SCRIPT = 'cellatlas_create_jq_commands_txt.sh'\n",
    "params.KB_REF_WITH_JQ_COMMANDS='rna_kb_ref_with_jq_commands.sh'\n",
    "params.TRANSCRIPTOME_FA='{nf_data_base_path}/{nf_data_project}/transcriptome.fa'\n",
    "\n",
    "params.EXECUTE_SEQSPEC_MODIFY='seqspec_run_modify.sh'\n",
    "params.RETRIEVE_SEQSPEC_TECHNOLOGY='seqspec_retrieve_technology.sh'\n",
    "params.EXECUTE_KB_COUNT_RNA_SCRIPT='rna_kb_count_execution.sh'\n",
    "params.KB_COUNT_CPUS=16\n",
    "//Debug until I have a complete seqspec\n",
    "params.KB_COUNT_TECHNOLGY_FILE_DEBUG='{nf_data_base_path}/{nf_data_project}/technology_file.txt'\n",
    "\n",
    "// STEP 7\n",
    "\n",
    "params.RNA_MODIFY_KB_COUNT_H5AD_WITH_SUBPOOL='rna_modify_kb_count_output_barcode_h5.py'\n",
    "params.RNA_MODIFY_CELL_GENE_WITH_SUBPOOL='rna_modify_kb_count_cell_gene_barcode.sh'\n",
    "// DEBUG\n",
    "params.adata_out_h5ad_debug='{nf_data_base_path}/{nf_data_project}/out/counts_unfiltered/adata.h5ad'\n",
    "params.kb_count_run_info_json_debug='{nf_data_base_path}/{nf_data_project}/out/run_info.json'\n",
    "params.kb_count_inspect_json_debug='{nf_data_base_path}/{nf_data_project}/out/inspect.json'\n",
    "params.cells_x_genes_barcodes_out_debug='{nf_data_base_path}/{nf_data_project}/out/counts_unfiltered/cells_x_genes.barcodes.txt'\n",
    "// STEP 8\n",
    "params.RNA_JQ_CELLATLAS_OUTPUT_TO_LOG='cellatlas_jq_run_info_and_inspect.sh'\n",
    "params.LOG_FILE_NAME='BMMC-single-donor.rna.log.hg38.txt'\n",
    "// params.GENOME_FASTA = 'http://ftp.ensembl.org/pub/release-109/fasta/homo_sapiens/dna/Homo_sapiens.GRCh38.dna.primary_assembly.fa.gz'\n",
    "// params.GENOME_GZ_GTF = 'http://ftp.ensembl.org/pub/release-109/gtf/homo_sapiens/Homo_sapiens.GRCh38.109.gtf.gz'\n",
    "// params.ENV_SYNAPSE_TOKEN = \"nextflow secrets get SYNAPSE\".execute().text.trim()\n",
    "// params.SYNAPSE_CONFIG = '{nf_data_base_path}/{nf_data_project}nf_wf_fg_singlecell/synapse.config'\n",
    "// params.SYNAPSE_IDS = '{nf_data_base_path}/{nf_data_project}/nf_wf_fg_singlecell/synapse_ids.csv'\n",
    "// params.SUBPOOL = 'no_subpool'\n",
    "// params.UMI_CUTOFF = 2\n",
    "// params.GENE_CUTOFF = 3\n",
    "// params.SC_RNA_QC_SCRIPT = 'scrna_qc_metrics.py'\n",
    "// params.SC_RNA_QC_PLOT_SCRIPT = 'scrna_plot_qc_metrics.R'\n",
    "// params.SC_RNA_QC_PLOT_HELPER_SCRIPT = 'barcode_rank_functions.R'\n",
    "// params.RNA_DEBUG_QC = '{nf_data_base_path}/{nf_data_project}/nf_workflow/workflow_fg_single_cell_rna/sc_rna_qc_calculate.tsv'\n",
    "\"\"\")\n"
   ]
  },
  {
   "cell_type": "code",
   "execution_count": 17,
   "metadata": {
    "tags": []
   },
   "outputs": [],
   "source": [
    "# !rm -r /home/eila/git_igvf/atomic-workflows/nextflow/nf_data/wdl_rna_pipeline/out"
   ]
  },
  {
   "cell_type": "code",
   "execution_count": 18,
   "metadata": {
    "tags": []
   },
   "outputs": [],
   "source": [
    "# !rm -r /home/eila/git_igvf/atomic-workflows/nextflow/nf_data/wdl_rna_pipeline/out/"
   ]
  },
  {
   "cell_type": "code",
   "execution_count": 19,
   "metadata": {
    "tags": []
   },
   "outputs": [],
   "source": [
    "# !mv /home/eila/git_igvf/atomic-workflows/nextflow/nf_data/test_rna_pipeline/out /home/eila/git_igvf/atomic-workflows/nextflow/nf_data/wdl_rna_pipeline/"
   ]
  },
  {
   "cell_type": "code",
   "execution_count": 20,
   "metadata": {
    "tags": []
   },
   "outputs": [],
   "source": [
    "# !ls /home/eila/git_igvf/atomic-workflows/nextflow/nf_data/wdl_rna_pipeline\n",
    "# file:///home/eila/git_igvf/atomic-workflows/nextflow/nf_data/wdl_rna_pipeline/out/counts_unfiltered/adata.h5ad "
   ]
  },
  {
   "cell_type": "code",
   "execution_count": 21,
   "metadata": {
    "tags": []
   },
   "outputs": [],
   "source": [
    "# !rm -rf /home/eila/git_igvf/cellatlas-scrna-seq-pipeline/nextflow/nf_workflow/workflow_fg_single_cell_rna/work\n",
    "# !gsutil -m rm -r gs://eila-nextflow-bucket/work/RNA\n"
   ]
  },
  {
   "cell_type": "code",
   "execution_count": 22,
   "metadata": {
    "tags": []
   },
   "outputs": [
    {
     "name": "stdout",
     "output_type": "stream",
     "text": [
      "N E X T F L O W  ~  version 23.10.1\n",
      "Launching `nf_wf_fg_singlecell_rna.nf` [focused_borg] DSL2 - revision: 542c54ee0a\n",
      "in the RNA workflow\n",
      "[-        ] process > run_cellatlas_build         -\u001b[K\n",
      "[-        ] process > run_jq_on_cellatlas         -\u001b[K\n",
      "[-        ] process > run_kb_ref_with_jq_commands -\u001b[K\n",
      "[-        ] process > run_seqspec_modify_rna      -\u001b[K\n",
      "after run_seqspec_modify_rna\u001b[K\n",
      "Calling run_add_subpool_to_rna_kb_cout_outputs with the following inputs:\u001b[K\n",
      "params.RNA_MODIFY_KB_COUNT_H5AD_WITH_SUBPOOL: rna_modify_kb_count_output_barcode_h5.py\u001b[K\n",
      "params.RNA_MODIFY_CELL_GENE_WITH_SUBPOOL: rna_modify_kb_count_cell_gene_barcode.sh\u001b[K\n",
      "adata_out_h5ad: DataflowVariable(value=null)\u001b[K\n",
      "cells_x_genes_barcodes_out: DataflowVariable(value=null)\u001b[K\n",
      "\u001b[11A\n",
      "[-        ] process > run_cellatlas_build            -\u001b[K\n",
      "[-        ] process > run_jq_on_cellatlas            -\u001b[K\n",
      "[-        ] process > run_kb_ref_with_jq_commands    -\u001b[K\n",
      "[-        ] process > run_seqspec_modify_rna         -\u001b[K\n",
      "[-        ] process > run_add_subpool_to_rna_kb_c... -\u001b[K\n",
      "after run_seqspec_modify_rna\u001b[K\n",
      "Calling run_add_subpool_to_rna_kb_cout_outputs with the following inputs:\u001b[K\n",
      "params.RNA_MODIFY_KB_COUNT_H5AD_WITH_SUBPOOL: rna_modify_kb_count_output_barcode_h5.py\u001b[K\n",
      "params.RNA_MODIFY_CELL_GENE_WITH_SUBPOOL: rna_modify_kb_count_cell_gene_barcode.sh\u001b[K\n",
      "adata_out_h5ad: DataflowVariable(value=null)\u001b[K\n",
      "cells_x_genes_barcodes_out: DataflowVariable(value=null)\u001b[K\n",
      "\u001b[12A\n",
      "\u001b[32;1mMonitor the execution with Nextflow Tower using this URL: https://tower.nf/orgs/ort_eila_org/workspaces/ort_eila_wrkspc/watch/3FbYIWnrq57EW6\u001b[22;39m\u001b[K\n",
      "[-        ] process > run_cellatlas_build            -\u001b[K\n",
      "[-        ] process > run_jq_on_cellatlas            -\u001b[K\n",
      "[-        ] process > run_kb_ref_with_jq_commands    -\u001b[K\n",
      "[-        ] process > run_seqspec_modify_rna         -\u001b[K\n",
      "[-        ] process > run_add_subpool_to_rna_kb_c... -\u001b[K\n",
      "after run_seqspec_modify_rna\u001b[K\n",
      "Calling run_add_subpool_to_rna_kb_cout_outputs with the following inputs:\u001b[K\n",
      "params.RNA_MODIFY_KB_COUNT_H5AD_WITH_SUBPOOL: rna_modify_kb_count_output_barcode_h5.py\u001b[K\n",
      "params.RNA_MODIFY_CELL_GENE_WITH_SUBPOOL: rna_modify_kb_count_cell_gene_barcode.sh\u001b[K\n",
      "adata_out_h5ad: DataflowVariable(value=null)\u001b[K\n",
      "cells_x_genes_barcodes_out: DataflowVariable(value=null)\u001b[K\n",
      "\u001b[13A\n",
      "\u001b[32;1mMonitor the execution with Nextflow Tower using this URL: https://tower.nf/orgs/ort_eila_org/workspaces/ort_eila_wrkspc/watch/3FbYIWnrq57EW6\u001b[22;39m\u001b[K\n",
      "[-        ] process > run_cellatlas_build            [  0%] 0 of 1\u001b[K\n",
      "[-        ] process > run_jq_on_cellatlas            -\u001b[K\n",
      "[-        ] process > run_kb_ref_with_jq_commands    -\u001b[K\n",
      "[-        ] process > run_seqspec_modify_rna         [  0%] 0 of 1\u001b[K\n",
      "[-        ] process > run_add_subpool_to_rna_kb_c... -\u001b[K\n",
      "after run_seqspec_modify_rna\u001b[K\n",
      "Calling run_add_subpool_to_rna_kb_cout_outputs with the following inputs:\u001b[K\n",
      "params.RNA_MODIFY_KB_COUNT_H5AD_WITH_SUBPOOL: rna_modify_kb_count_output_barcode_h5.py\u001b[K\n",
      "params.RNA_MODIFY_CELL_GENE_WITH_SUBPOOL: rna_modify_kb_count_cell_gene_barcode.sh\u001b[K\n",
      "adata_out_h5ad: DataflowVariable(value=null)\u001b[K\n",
      "cells_x_genes_barcodes_out: DataflowVariable(value=null)\u001b[K\n",
      "\u001b[13A\n",
      "\u001b[32;1mMonitor the execution with Nextflow Tower using this URL: https://tower.nf/orgs/ort_eila_org/workspaces/ort_eila_wrkspc/watch/3FbYIWnrq57EW6\u001b[22;39m\u001b[K\n",
      "[-        ] process > run_cellatlas_build            [  0%] 0 of 1\u001b[K\n",
      "[-        ] process > run_jq_on_cellatlas            -\u001b[K\n",
      "[-        ] process > run_kb_ref_with_jq_commands    -\u001b[K\n",
      "[-        ] process > run_seqspec_modify_rna         [  0%] 0 of 1\u001b[K\n",
      "[-        ] process > run_add_subpool_to_rna_kb_c... [  0%] 0 of 1\u001b[K\n",
      "after run_seqspec_modify_rna\u001b[K\n",
      "Calling run_add_subpool_to_rna_kb_cout_outputs with the following inputs:\u001b[K\n",
      "params.RNA_MODIFY_KB_COUNT_H5AD_WITH_SUBPOOL: rna_modify_kb_count_output_barcode_h5.py\u001b[K\n",
      "params.RNA_MODIFY_CELL_GENE_WITH_SUBPOOL: rna_modify_kb_count_cell_gene_barcode.sh\u001b[K\n",
      "adata_out_h5ad: DataflowVariable(value=null)\u001b[K\n",
      "cells_x_genes_barcodes_out: DataflowVariable(value=null)\u001b[K\n",
      "\u001b[13A\n",
      "\u001b[32;1mMonitor the execution with Nextflow Tower using this URL: https://tower.nf/orgs/ort_eila_org/workspaces/ort_eila_wrkspc/watch/3FbYIWnrq57EW6\u001b[22;39m\u001b[K\n",
      "executor >  google-batch (fusion enabled) (1)\u001b[K\n",
      "[-        ] process > run_cellatlas_build            [  0%] 0 of 1\u001b[K\n",
      "[-        ] process > run_jq_on_cellatlas            -\u001b[K\n",
      "[-        ] process > run_kb_ref_with_jq_commands    -\u001b[K\n",
      "[5f/cfeba5] process > run_seqspec_modify_rna (1)     [  0%] 0 of 1\u001b[K\n",
      "[-        ] process > run_add_subpool_to_rna_kb_c... [  0%] 0 of 1\u001b[K\n",
      "after run_seqspec_modify_rna\u001b[K\n",
      "Calling run_add_subpool_to_rna_kb_cout_outputs with the following inputs:\u001b[K\n",
      "params.RNA_MODIFY_KB_COUNT_H5AD_WITH_SUBPOOL: rna_modify_kb_count_output_barcode_h5.py\u001b[K\n",
      "params.RNA_MODIFY_CELL_GENE_WITH_SUBPOOL: rna_modify_kb_count_cell_gene_barcode.sh\u001b[K\n",
      "adata_out_h5ad: DataflowVariable(value=null)\u001b[K\n",
      "cells_x_genes_barcodes_out: DataflowVariable(value=null)\u001b[K\n",
      "\u001b[14A\n",
      "\u001b[32;1mMonitor the execution with Nextflow Tower using this URL: https://tower.nf/orgs/ort_eila_org/workspaces/ort_eila_wrkspc/watch/3FbYIWnrq57EW6\u001b[22;39m\u001b[K\n",
      "executor >  google-batch (fusion enabled) (2)\u001b[K\n",
      "[99/87765d] process > run_cellatlas_build (1)        [  0%] 0 of 1\u001b[K\n",
      "[-        ] process > run_jq_on_cellatlas            -\u001b[K\n",
      "[-        ] process > run_kb_ref_with_jq_commands    -\u001b[K\n",
      "[5f/cfeba5] process > run_seqspec_modify_rna (1)     [  0%] 0 of 1\u001b[K\n",
      "[-        ] process > run_add_subpool_to_rna_kb_c... [  0%] 0 of 1\u001b[K\n",
      "after run_seqspec_modify_rna\u001b[K\n",
      "Calling run_add_subpool_to_rna_kb_cout_outputs with the following inputs:\u001b[K\n",
      "params.RNA_MODIFY_KB_COUNT_H5AD_WITH_SUBPOOL: rna_modify_kb_count_output_barcode_h5.py\u001b[K\n",
      "params.RNA_MODIFY_CELL_GENE_WITH_SUBPOOL: rna_modify_kb_count_cell_gene_barcode.sh\u001b[K\n",
      "adata_out_h5ad: DataflowVariable(value=null)\u001b[K\n",
      "cells_x_genes_barcodes_out: DataflowVariable(value=null)\u001b[K\n",
      "\u001b[14A\n",
      "\u001b[32;1mMonitor the execution with Nextflow Tower using this URL: https://tower.nf/orgs/ort_eila_org/workspaces/ort_eila_wrkspc/watch/3FbYIWnrq57EW6\u001b[22;39m\u001b[K\n",
      "executor >  google-batch (fusion enabled) (3)\u001b[K\n",
      "[99/87765d] process > run_cellatlas_build (1)        [  0%] 0 of 1\u001b[K\n",
      "[-        ] process > run_jq_on_cellatlas            -\u001b[K\n",
      "[-        ] process > run_kb_ref_with_jq_commands    -\u001b[K\n",
      "[5f/cfeba5] process > run_seqspec_modify_rna (1)     [  0%] 0 of 1\u001b[K\n",
      "[b5/131901] process > run_add_subpool_to_rna_kb_c... [  0%] 0 of 1\u001b[K\n",
      "after run_seqspec_modify_rna\u001b[K\n",
      "Calling run_add_subpool_to_rna_kb_cout_outputs with the following inputs:\u001b[K\n",
      "params.RNA_MODIFY_KB_COUNT_H5AD_WITH_SUBPOOL: rna_modify_kb_count_output_barcode_h5.py\u001b[K\n",
      "params.RNA_MODIFY_CELL_GENE_WITH_SUBPOOL: rna_modify_kb_count_cell_gene_barcode.sh\u001b[K\n",
      "adata_out_h5ad: DataflowVariable(value=null)\u001b[K\n",
      "cells_x_genes_barcodes_out: DataflowVariable(value=null)\u001b[K\n",
      "\u001b[14A\n",
      "\u001b[32;1mMonitor the execution with Nextflow Tower using this URL: https://tower.nf/orgs/ort_eila_org/workspaces/ort_eila_wrkspc/watch/3FbYIWnrq57EW6\u001b[22;39m\u001b[K\n",
      "executor >  google-batch (fusion enabled) (3)\u001b[K\n",
      "[99/87765d] process > run_cellatlas_build (1)        [  0%] 0 of 1\u001b[K\n",
      "[-        ] process > run_jq_on_cellatlas            -\u001b[K\n",
      "[-        ] process > run_kb_ref_with_jq_commands    -\u001b[K\n",
      "[5f/cfeba5] process > run_seqspec_modify_rna (1)     [  0%] 0 of 1\u001b[K\n",
      "[b5/131901] process > run_add_subpool_to_rna_kb_c... [  0%] 0 of 1\u001b[K\n",
      "\u001b[K\n",
      "\u001b[K\n",
      "\u001b[K\n",
      "\u001b[K\n",
      "\u001b[K\n",
      "\u001b[K\n",
      "\u001b[14A\n",
      "\u001b[32;1mMonitor the execution with Nextflow Tower using this URL: https://tower.nf/orgs/ort_eila_org/workspaces/ort_eila_wrkspc/watch/3FbYIWnrq57EW6\u001b[22;39m\u001b[K\n",
      "executor >  google-batch (fusion enabled) (3)\u001b[K\n",
      "[99/87765d] process > run_cellatlas_build (1)        [  0%] 0 of 1\u001b[K\n",
      "[-        ] process > run_jq_on_cellatlas            -\u001b[K\n",
      "[-        ] process > run_kb_ref_with_jq_commands    -\u001b[K\n",
      "[5f/cfeba5] process > run_seqspec_modify_rna (1)     [  0%] 0 of 1 ✔\u001b[K\n",
      "[b5/131901] process > run_add_subpool_to_rna_kb_c... [  0%] 0 of 1\u001b[K\n",
      "=== Start run_seqspec_modify_rna ===\u001b[K\n",
      " Input Fastq Files:\u001b[K\n",
      " R1: BMMC_single_donor_RNA_L001_R1_corrected.fastq.gz\u001b[K\n",
      " R2: BMMC_single_donor_RNA_L001_R2_corrected.fastq.gz\u001b[K\n",
      " Specification YAML: bmmc_spec_igvf_rna.yaml\u001b[K\n",
      " Whitelist File: sai_192_whitelist.txt\u001b[K\n",
      " seqspec_rna_region_id is: rna\u001b[K\n",
      "Running command: seqspec modify -m rna -o modrna1.yaml -r \"rna_R1.fastq.gz\" --region-id \"BMMC_single_donor_RNA_L001_R1_corrected.fastq.gz\" bmmc_spec_igvf_rna.yaml\u001b[K\n",
      "Running command: seqspec modify -m rna -o modrna2.yaml -r \"rna_R2.fastq.gz\" --region-id \"BMMC_single_donor_RNA_L001_R2_corrected.fastq.gz\" modrna1.yaml\u001b[K\n",
      "Running command: seqspec modify -m rna -o \"seqspec_modify_rna_file_names.yaml\" -r \"rna_R2.fastq.gz\" --region-id \"BMMC_single_donor_RNA_L001_R2_corrected.fastq.gz\" modrna2.yaml\u001b[K\n",
      "=== Finished seqspec modify rna ===\u001b[K\n",
      "\u001b[K\n",
      "\u001b[20A\n",
      "\u001b[32;1mMonitor the execution with Nextflow Tower using this URL: https://tower.nf/orgs/ort_eila_org/workspaces/ort_eila_wrkspc/watch/3FbYIWnrq57EW6\u001b[22;39m\u001b[K\n",
      "executor >  google-batch (fusion enabled) (3)\u001b[K\n",
      "[99/87765d] process > run_cellatlas_build (1)        [  0%] 0 of 1\u001b[K\n",
      "[-        ] process > run_jq_on_cellatlas            -\u001b[K\n",
      "[-        ] process > run_kb_ref_with_jq_commands    -\u001b[K\n",
      "[5f/cfeba5] process > run_seqspec_modify_rna (1)     [100%] 1 of 1 ✔\u001b[K\n",
      "[b5/131901] process > run_add_subpool_to_rna_kb_c... [  0%] 0 of 1\u001b[K\n",
      "=== Start run_seqspec_modify_rna ===\u001b[K\n",
      " Input Fastq Files:\u001b[K\n",
      " R1: BMMC_single_donor_RNA_L001_R1_corrected.fastq.gz\u001b[K\n",
      " R2: BMMC_single_donor_RNA_L001_R2_corrected.fastq.gz\u001b[K\n",
      " Specification YAML: bmmc_spec_igvf_rna.yaml\u001b[K\n",
      " Whitelist File: sai_192_whitelist.txt\u001b[K\n",
      " seqspec_rna_region_id is: rna\u001b[K\n",
      "Running command: seqspec modify -m rna -o modrna1.yaml -r \"rna_R1.fastq.gz\" --region-id \"BMMC_single_donor_RNA_L001_R1_corrected.fastq.gz\" bmmc_spec_igvf_rna.yaml\u001b[K\n",
      "Running command: seqspec modify -m rna -o modrna2.yaml -r \"rna_R2.fastq.gz\" --region-id \"BMMC_single_donor_RNA_L001_R2_corrected.fastq.gz\" modrna1.yaml\u001b[K\n",
      "Running command: seqspec modify -m rna -o \"seqspec_modify_rna_file_names.yaml\" -r \"rna_R2.fastq.gz\" --region-id \"BMMC_single_donor_RNA_L001_R2_corrected.fastq.gz\" modrna2.yaml\u001b[K\n",
      "=== Finished seqspec modify rna ===\u001b[K\n",
      "\u001b[K\n",
      "\u001b[20A\n",
      "\u001b[32;1mMonitor the execution with Nextflow Tower using this URL: https://tower.nf/orgs/ort_eila_org/workspaces/ort_eila_wrkspc/watch/3FbYIWnrq57EW6\u001b[22;39m\u001b[K\n",
      "executor >  google-batch (fusion enabled) (3)\u001b[K\n",
      "[99/87765d] process > run_cellatlas_build (1)        [  0%] 0 of 1\u001b[K\n",
      "[-        ] process > run_jq_on_cellatlas            -\u001b[K\n",
      "[-        ] process > run_kb_ref_with_jq_commands    -\u001b[K\n",
      "[5f/cfeba5] process > run_seqspec_modify_rna (1)     [100%] 1 of 1 ✔\u001b[K\n",
      "[b5/131901] process > run_add_subpool_to_rna_kb_c... [  0%] 0 of 1\u001b[K\n",
      "=== Start run_seqspec_modify_rna ===\u001b[K\n",
      " Input Fastq Files:\u001b[K\n",
      " R1: BMMC_single_donor_RNA_L001_R1_corrected.fastq.gz\u001b[K\n",
      " R2: BMMC_single_donor_RNA_L001_R2_corrected.fastq.gz\u001b[K\n",
      " Specification YAML: bmmc_spec_igvf_rna.yaml\u001b[K\n",
      " Whitelist File: sai_192_whitelist.txt\u001b[K\n",
      " seqspec_rna_region_id is: rna\u001b[K\n",
      "Running command: seqspec modify -m rna -o modrna1.yaml -r \"rna_R1.fastq.gz\" --region-id \"BMMC_single_donor_RNA_L001_R1_corrected.fastq.gz\" bmmc_spec_igvf_rna.yaml\u001b[K\n",
      "Running command: seqspec modify -m rna -o modrna2.yaml -r \"rna_R2.fastq.gz\" --region-id \"BMMC_single_donor_RNA_L001_R2_corrected.fastq.gz\" modrna1.yaml\u001b[K\n",
      "Running command: seqspec modify -m rna -o \"seqspec_modify_rna_file_names.yaml\" -r \"rna_R2.fastq.gz\" --region-id \"BMMC_single_donor_RNA_L001_R2_corrected.fastq.gz\" modrna2.yaml\u001b[K\n",
      "=== Finished seqspec modify rna ===\u001b[K\n",
      "\u001b[K\n",
      "\u001b[20A\n",
      "\u001b[32;1mMonitor the execution with Nextflow Tower using this URL: https://tower.nf/orgs/ort_eila_org/workspaces/ort_eila_wrkspc/watch/3FbYIWnrq57EW6\u001b[22;39m\u001b[K\n",
      "executor >  google-batch (fusion enabled) (3)\u001b[K\n",
      "[99/87765d] process > run_cellatlas_build (1)        [  0%] 0 of 1\u001b[K\n",
      "[-        ] process > run_jq_on_cellatlas            -\u001b[K\n",
      "[-        ] process > run_kb_ref_with_jq_commands    -\u001b[K\n",
      "[5f/cfeba5] process > run_seqspec_modify_rna (1)     [100%] 1 of 1 ✔\u001b[K\n",
      "[b5/131901] process > run_add_subpool_to_rna_kb_c... [  0%] 0 of 1\u001b[K\n",
      "=== Start run_seqspec_modify_rna ===\u001b[K\n",
      " Input Fastq Files:\u001b[K\n",
      " R1: BMMC_single_donor_RNA_L001_R1_corrected.fastq.gz\u001b[K\n",
      " R2: BMMC_single_donor_RNA_L001_R2_corrected.fastq.gz\u001b[K\n",
      " Specification YAML: bmmc_spec_igvf_rna.yaml\u001b[K\n",
      " Whitelist File: sai_192_whitelist.txt\u001b[K\n",
      " seqspec_rna_region_id is: rna\u001b[K\n",
      "Running command: seqspec modify -m rna -o modrna1.yaml -r \"rna_R1.fastq.gz\" --region-id \"BMMC_single_donor_RNA_L001_R1_corrected.fastq.gz\" bmmc_spec_igvf_rna.yaml\u001b[K\n",
      "Running command: seqspec modify -m rna -o modrna2.yaml -r \"rna_R2.fastq.gz\" --region-id \"BMMC_single_donor_RNA_L001_R2_corrected.fastq.gz\" modrna1.yaml\u001b[K\n",
      "Running command: seqspec modify -m rna -o \"seqspec_modify_rna_file_names.yaml\" -r \"rna_R2.fastq.gz\" --region-id \"BMMC_single_donor_RNA_L001_R2_corrected.fastq.gz\" modrna2.yaml\u001b[K\n",
      "=== Finished seqspec modify rna ===\u001b[K\n",
      "\u001b[K\n",
      "\u001b[31mERROR ~ Error executing process > 'run_add_subpool_to_rna_kb_cout_outputs (1)'\u001b[K\n",
      "\u001b[K\n",
      "Caused by:\u001b[K\n",
      "  Process `run_add_subpool_to_rna_kb_cout_outputs (1)` terminated with an error exit status (1)\u001b[K\n",
      "\u001b[K\n",
      "Command executed:\u001b[K\n",
      "\u001b[K\n",
      "  echo '------ Start run_add_subpool_to_rna_kb_cout_outputs ------'\u001b[K\n",
      "  echo 'Input subpool_script_modify_h5ad: rna_modify_kb_count_output_barcode_h5.py'\u001b[K\n",
      "  echo 'Input subpool_script_cell_gene: rna_modify_kb_count_cell_gene_barcode.sh'\u001b[K\n",
      "  echo 'Input kb_count_h5ad_file: adata.h5ad'\u001b[K\n",
      "  echo 'Input kb_count_fragments_file: cells_x_genes.barcodes.txt'\u001b[K\n",
      "  echo 'Input fastq1: BMMC_single_donor_RNA_L001_R1_corrected.fastq.gz'\u001b[K\n",
      "  echo 'Input fastq2: BMMC_single_donor_RNA_L001_R2_corrected.fastq.gz'\u001b[K\n",
      "  echo 'Input spec_yaml: bmmc_spec_igvf_rna.yaml'\u001b[K\n",
      "  echo 'Input whitelist_file: sai_192_whitelist.txt'\u001b[K\n",
      "  echo 'Input seqspec_rna_region_id: rna'\u001b[K\n",
      "  echo 'Input subpool: none'\u001b[K\n",
      "  \u001b[K\n",
      "  /usr/local/bin/rna_modify_kb_count_output_barcode_h5.py --input_h5ad_file adata.h5ad --subpool none --output_h5ad_file adata_none.h5ad\u001b[K\n",
      "  \u001b[K\n",
      "  echo 'Output H5AD file: adata_none.h5ad'\u001b[K\n",
      "  echo 'Output Fragments file: cells_x_genes.barcodes_none.txt'\u001b[K\n",
      "  \u001b[K\n",
      "  echo '------ Finished run_add_subpool_to_rna_kb_cout_outputs ------'\u001b[K\n",
      "\u001b[K\n",
      "Command exit status:\u001b[K\n",
      "  1\u001b[K\n",
      "\u001b[K\n",
      "Command output:\u001b[K\n",
      "  ------ Start run_add_subpool_to_rna_kb_cout_outputs ------\u001b[K\n",
      "  Input subpool_script_modify_h5ad: rna_modify_kb_count_output_barcode_h5.py\u001b[K\n",
      "  Input subpool_script_cell_gene: rna_modify_kb_count_cell_gene_barcode.sh\u001b[K\n",
      "  Input kb_count_h5ad_file: adata.h5ad\u001b[K\n",
      "  Input kb_count_fragments_file: cells_x_genes.barcodes.txt\u001b[K\n",
      "  Input fastq1: BMMC_single_donor_RNA_L001_R1_corrected.fastq.gz\u001b[K\n",
      "  Input fastq2: BMMC_single_donor_RNA_L001_R2_corrected.fastq.gz\u001b[K\n",
      "  Input spec_yaml: bmmc_spec_igvf_rna.yaml\u001b[K\n",
      "  Input whitelist_file: sai_192_whitelist.txt\u001b[K\n",
      "  Input seqspec_rna_region_id: rna\u001b[K\n",
      "  Input subpool: none\u001b[K\n",
      "\u001b[K\n",
      "Command error:\u001b[K\n",
      "  Traceback (most recent call last):\u001b[K\n",
      "    File \"/usr/local/bin/rna_modify_kb_count_output_barcode_h5.py\", line 3, in <module>\u001b[K\n",
      "      import h5py\u001b[K\n",
      "  ModuleNotFoundError: No module named 'h5py'\u001b[K\n",
      "\u001b[K\n",
      "Work dir:\u001b[K\n",
      "  gs://eila-nextflow-bucket/work/RNA/b5/13190103884a77fbbf48a07e1c0c02\u001b[K\n",
      "\u001b[K\n",
      "Tip: you can try to figure out what's wrong by changing to the process work dir and showing the script file named `.command.sh`\u001b[K\n",
      "\u001b[K\n",
      " -- Check '.nextflow.log' file for details\u001b[39m\u001b[K\n",
      "\u001b[74A\n",
      "\u001b[32;1mMonitor the execution with Nextflow Tower using this URL: https://tower.nf/orgs/ort_eila_org/workspaces/ort_eila_wrkspc/watch/3FbYIWnrq57EW6\u001b[22;39m\u001b[K\n",
      "executor >  google-batch (fusion enabled) (3)\u001b[K\n",
      "[99/87765d] process > run_cellatlas_build (1)        [  0%] 0 of 1\u001b[K\n",
      "[-        ] process > run_jq_on_cellatlas            -\u001b[K\n",
      "[-        ] process > run_kb_ref_with_jq_commands    -\u001b[K\n",
      "[5f/cfeba5] process > run_seqspec_modify_rna (1)     [100%] 1 of 1 ✔\u001b[K\n",
      "[b5/131901] process > run_add_subpool_to_rna_kb_c... [100%] 1 of 1, failed: 1 ✘\u001b[K\n",
      "=== Start run_seqspec_modify_rna ===\u001b[K\n",
      " Input Fastq Files:\u001b[K\n",
      " R1: BMMC_single_donor_RNA_L001_R1_corrected.fastq.gz\u001b[K\n",
      " R2: BMMC_single_donor_RNA_L001_R2_corrected.fastq.gz\u001b[K\n",
      " Specification YAML: bmmc_spec_igvf_rna.yaml\u001b[K\n",
      " Whitelist File: sai_192_whitelist.txt\u001b[K\n",
      " seqspec_rna_region_id is: rna\u001b[K\n",
      "Running command: seqspec modify -m rna -o modrna1.yaml -r \"rna_R1.fastq.gz\" --region-id \"BMMC_single_donor_RNA_L001_R1_corrected.fastq.gz\" bmmc_spec_igvf_rna.yaml\u001b[K\n",
      "Running command: seqspec modify -m rna -o modrna2.yaml -r \"rna_R2.fastq.gz\" --region-id \"BMMC_single_donor_RNA_L001_R2_corrected.fastq.gz\" modrna1.yaml\u001b[K\n",
      "Running command: seqspec modify -m rna -o \"seqspec_modify_rna_file_names.yaml\" -r \"rna_R2.fastq.gz\" --region-id \"BMMC_single_donor_RNA_L001_R2_corrected.fastq.gz\" modrna2.yaml\u001b[K\n",
      "=== Finished seqspec modify rna ===\u001b[K\n",
      "\u001b[K\n",
      "\u001b[31mERROR ~ Error executing process > 'run_add_subpool_to_rna_kb_cout_outputs (1)'\u001b[K\n",
      "\u001b[K\n",
      "Caused by:\u001b[K\n",
      "  Process `run_add_subpool_to_rna_kb_cout_outputs (1)` terminated with an error exit status (1)\u001b[K\n",
      "\u001b[K\n",
      "Command executed:\u001b[K\n",
      "\u001b[K\n",
      "  echo '------ Start run_add_subpool_to_rna_kb_cout_outputs ------'\u001b[K\n",
      "  echo 'Input subpool_script_modify_h5ad: rna_modify_kb_count_output_barcode_h5.py'\u001b[K\n",
      "  echo 'Input subpool_script_cell_gene: rna_modify_kb_count_cell_gene_barcode.sh'\u001b[K\n",
      "  echo 'Input kb_count_h5ad_file: adata.h5ad'\u001b[K\n",
      "  echo 'Input kb_count_fragments_file: cells_x_genes.barcodes.txt'\u001b[K\n",
      "  echo 'Input fastq1: BMMC_single_donor_RNA_L001_R1_corrected.fastq.gz'\u001b[K\n",
      "  echo 'Input fastq2: BMMC_single_donor_RNA_L001_R2_corrected.fastq.gz'\u001b[K\n",
      "  echo 'Input spec_yaml: bmmc_spec_igvf_rna.yaml'\u001b[K\n",
      "  echo 'Input whitelist_file: sai_192_whitelist.txt'\u001b[K\n",
      "  echo 'Input seqspec_rna_region_id: rna'\u001b[K\n",
      "  echo 'Input subpool: none'\u001b[K\n",
      "  \u001b[K\n",
      "  /usr/local/bin/rna_modify_kb_count_output_barcode_h5.py --input_h5ad_file adata.h5ad --subpool none --output_h5ad_file adata_none.h5ad\u001b[K\n",
      "  \u001b[K\n",
      "  echo 'Output H5AD file: adata_none.h5ad'\u001b[K\n",
      "  echo 'Output Fragments file: cells_x_genes.barcodes_none.txt'\u001b[K\n",
      "  \u001b[K\n",
      "  echo '------ Finished run_add_subpool_to_rna_kb_cout_outputs ------'\u001b[K\n",
      "\u001b[K\n",
      "Command exit status:\u001b[K\n",
      "  1\u001b[K\n",
      "\u001b[K\n",
      "Command output:\u001b[K\n",
      "  ------ Start run_add_subpool_to_rna_kb_cout_outputs ------\u001b[K\n",
      "  Input subpool_script_modify_h5ad: rna_modify_kb_count_output_barcode_h5.py\u001b[K\n",
      "  Input subpool_script_cell_gene: rna_modify_kb_count_cell_gene_barcode.sh\u001b[K\n",
      "  Input kb_count_h5ad_file: adata.h5ad\u001b[K\n",
      "  Input kb_count_fragments_file: cells_x_genes.barcodes.txt\u001b[K\n",
      "  Input fastq1: BMMC_single_donor_RNA_L001_R1_corrected.fastq.gz\u001b[K\n",
      "  Input fastq2: BMMC_single_donor_RNA_L001_R2_corrected.fastq.gz\u001b[K\n",
      "  Input spec_yaml: bmmc_spec_igvf_rna.yaml\u001b[K\n",
      "  Input whitelist_file: sai_192_whitelist.txt\u001b[K\n",
      "  Input seqspec_rna_region_id: rna\u001b[K\n",
      "  Input subpool: none\u001b[K\n",
      "\u001b[K\n",
      "Command error:\u001b[K\n",
      "  Traceback (most recent call last):\u001b[K\n",
      "    File \"/usr/local/bin/rna_modify_kb_count_output_barcode_h5.py\", line 3, in <module>\u001b[K\n",
      "      import h5py\u001b[K\n",
      "  ModuleNotFoundError: No module named 'h5py'\u001b[K\n",
      "\u001b[K\n",
      "Work dir:\u001b[K\n",
      "  gs://eila-nextflow-bucket/work/RNA/b5/13190103884a77fbbf48a07e1c0c02\u001b[K\n",
      "\u001b[K\n",
      "Tip: you can try to figure out what's wrong by changing to the process work dir and showing the script file named `.command.sh`\u001b[K\n",
      "\u001b[K\n",
      " -- Check '.nextflow.log' file for details\u001b[39m\u001b[K\n",
      "\u001b[74A\n",
      "\u001b[32;1mMonitor the execution with Nextflow Tower using this URL: https://tower.nf/orgs/ort_eila_org/workspaces/ort_eila_wrkspc/watch/3FbYIWnrq57EW6\u001b[22;39m\u001b[K\n",
      "executor >  google-batch (fusion enabled) (3)\u001b[K\n",
      "[99/87765d] process > run_cellatlas_build (1)        [  0%] 0 of 1\u001b[K\n",
      "[-        ] process > run_jq_on_cellatlas            -\u001b[K\n",
      "[-        ] process > run_kb_ref_with_jq_commands    -\u001b[K\n",
      "[5f/cfeba5] process > run_seqspec_modify_rna (1)     [100%] 1 of 1 ✔\u001b[K\n",
      "[b5/131901] process > run_add_subpool_to_rna_kb_c... [100%] 1 of 1, failed: 1 ✘\u001b[K\n",
      "=== Start run_seqspec_modify_rna ===\u001b[K\n",
      " Input Fastq Files:\u001b[K\n",
      " R1: BMMC_single_donor_RNA_L001_R1_corrected.fastq.gz\u001b[K\n",
      " R2: BMMC_single_donor_RNA_L001_R2_corrected.fastq.gz\u001b[K\n",
      " Specification YAML: bmmc_spec_igvf_rna.yaml\u001b[K\n",
      " Whitelist File: sai_192_whitelist.txt\u001b[K\n",
      " seqspec_rna_region_id is: rna\u001b[K\n",
      "Running command: seqspec modify -m rna -o modrna1.yaml -r \"rna_R1.fastq.gz\" --region-id \"BMMC_single_donor_RNA_L001_R1_corrected.fastq.gz\" bmmc_spec_igvf_rna.yaml\u001b[K\n",
      "Running command: seqspec modify -m rna -o modrna2.yaml -r \"rna_R2.fastq.gz\" --region-id \"BMMC_single_donor_RNA_L001_R2_corrected.fastq.gz\" modrna1.yaml\u001b[K\n",
      "Running command: seqspec modify -m rna -o \"seqspec_modify_rna_file_names.yaml\" -r \"rna_R2.fastq.gz\" --region-id \"BMMC_single_donor_RNA_L001_R2_corrected.fastq.gz\" modrna2.yaml\u001b[K\n",
      "=== Finished seqspec modify rna ===\u001b[K\n",
      "\u001b[K\n",
      "\u001b[31mERROR ~ Error executing process > 'run_add_subpool_to_rna_kb_cout_outputs (1)'\u001b[K\n",
      "\u001b[K\n",
      "Caused by:\u001b[K\n",
      "  Process `run_add_subpool_to_rna_kb_cout_outputs (1)` terminated with an error exit status (1)\u001b[K\n",
      "\u001b[K\n",
      "Command executed:\u001b[K\n",
      "\u001b[K\n",
      "  echo '------ Start run_add_subpool_to_rna_kb_cout_outputs ------'\u001b[K\n",
      "  echo 'Input subpool_script_modify_h5ad: rna_modify_kb_count_output_barcode_h5.py'\u001b[K\n",
      "  echo 'Input subpool_script_cell_gene: rna_modify_kb_count_cell_gene_barcode.sh'\u001b[K\n",
      "  echo 'Input kb_count_h5ad_file: adata.h5ad'\u001b[K\n",
      "  echo 'Input kb_count_fragments_file: cells_x_genes.barcodes.txt'\u001b[K\n",
      "  echo 'Input fastq1: BMMC_single_donor_RNA_L001_R1_corrected.fastq.gz'\u001b[K\n",
      "  echo 'Input fastq2: BMMC_single_donor_RNA_L001_R2_corrected.fastq.gz'\u001b[K\n",
      "  echo 'Input spec_yaml: bmmc_spec_igvf_rna.yaml'\u001b[K\n",
      "  echo 'Input whitelist_file: sai_192_whitelist.txt'\u001b[K\n",
      "  echo 'Input seqspec_rna_region_id: rna'\u001b[K\n",
      "  echo 'Input subpool: none'\u001b[K\n",
      "  \u001b[K\n",
      "  /usr/local/bin/rna_modify_kb_count_output_barcode_h5.py --input_h5ad_file adata.h5ad --subpool none --output_h5ad_file adata_none.h5ad\u001b[K\n",
      "  \u001b[K\n",
      "  echo 'Output H5AD file: adata_none.h5ad'\u001b[K\n",
      "  echo 'Output Fragments file: cells_x_genes.barcodes_none.txt'\u001b[K\n",
      "  \u001b[K\n",
      "  echo '------ Finished run_add_subpool_to_rna_kb_cout_outputs ------'\u001b[K\n",
      "\u001b[K\n",
      "Command exit status:\u001b[K\n",
      "  1\u001b[K\n",
      "\u001b[K\n",
      "Command output:\u001b[K\n",
      "  ------ Start run_add_subpool_to_rna_kb_cout_outputs ------\u001b[K\n",
      "  Input subpool_script_modify_h5ad: rna_modify_kb_count_output_barcode_h5.py\u001b[K\n",
      "  Input subpool_script_cell_gene: rna_modify_kb_count_cell_gene_barcode.sh\u001b[K\n",
      "  Input kb_count_h5ad_file: adata.h5ad\u001b[K\n",
      "  Input kb_count_fragments_file: cells_x_genes.barcodes.txt\u001b[K\n",
      "  Input fastq1: BMMC_single_donor_RNA_L001_R1_corrected.fastq.gz\u001b[K\n",
      "  Input fastq2: BMMC_single_donor_RNA_L001_R2_corrected.fastq.gz\u001b[K\n",
      "  Input spec_yaml: bmmc_spec_igvf_rna.yaml\u001b[K\n",
      "  Input whitelist_file: sai_192_whitelist.txt\u001b[K\n",
      "  Input seqspec_rna_region_id: rna\u001b[K\n",
      "  Input subpool: none\u001b[K\n",
      "\u001b[K\n",
      "Command error:\u001b[K\n",
      "  Traceback (most recent call last):\u001b[K\n",
      "    File \"/usr/local/bin/rna_modify_kb_count_output_barcode_h5.py\", line 3, in <module>\u001b[K\n",
      "      import h5py\u001b[K\n",
      "  ModuleNotFoundError: No module named 'h5py'\u001b[K\n",
      "\u001b[K\n",
      "Work dir:\u001b[K\n",
      "  gs://eila-nextflow-bucket/work/RNA/b5/13190103884a77fbbf48a07e1c0c02\u001b[K\n",
      "\u001b[K\n",
      "Tip: you can try to figure out what's wrong by changing to the process work dir and showing the script file named `.command.sh`\u001b[K\n",
      "\u001b[K\n",
      " -- Check '.nextflow.log' file for details\u001b[39m\u001b[K\n",
      "WARN: Killing running tasks (1)\n",
      "\n"
     ]
    }
   ],
   "source": [
    "!nextflow run nf_wf_fg_singlecell_rna.nf -c nextflow_rna.config -profile google_batch_profile -with-tower -resume\n",
    "# -with-dag\n",
    "\n",
    "# -resume \n",
    "# 8af1ba30-6606-4dfd-a851-c6d0b74bdd43\n",
    "# 8af1ba30-6606-4dfd-a851-c6d0b74bdd43\n",
    "# 8af1ba30-6606-4dfd-a851-c6d0b74bdd43\n",
    "\n",
    "\n",
    "\n",
    "# !nextflow run nf_wf_fg_singlecell_rna.nf -c nextflow_vm.config -profile docker_local -resume\n",
    "\n",
    "\n",
    "\n",
    "# !nextflow run nf_wf_fg_singlecell_rna.nf -c nextflow_vm.config -profile google_batch_profile  -with-tower\n",
    "\n",
    "# docker_local\n",
    "\n",
    "\n",
    "\n",
    "# !nextflow run nf_wf_fg_singlecell_rna.nf -c nextflow_vm.config -profile google_batch_profile\n",
    "\n",
    "\n",
    "\n",
    "\n",
    "# !nextflow run nf_wf_fg_singlecell_rna.nf -c nextflow.config -profile docker_profile\n",
    "# !nextflow run nf_wf_fg_singlecell_rna.nf -c nextflow_vm.config -profile google_batch_profile\n",
    "# !nextflow run nf_wf_fg_singlecell_rna.nf -c nextflow_vm_anvil.config -profile google_batch_profile\n",
    "# !nextflow run nf_wf_fg_singlecell_rna.nf -c nextflow_local.config -profile google_batch_profile\n",
    "# !nextflow run nf_wf_fg_singlecell_rna.nf -c nextflow_local.config -profile docker_profile"
   ]
  },
  {
   "cell_type": "code",
   "execution_count": 23,
   "metadata": {
    "tags": []
   },
   "outputs": [
    {
     "name": "stdout",
     "output_type": "stream",
     "text": [
      "/home/eila/git_igvf/atomic-workflows/nextflow/nf_workflow/workflow_fg_single_cell_rna\n"
     ]
    }
   ],
   "source": [
    "!pwd"
   ]
  },
  {
   "cell_type": "code",
   "execution_count": 24,
   "metadata": {
    "tags": []
   },
   "outputs": [
    {
     "name": "stdout",
     "output_type": "stream",
     "text": [
      "../../nf_processes/nf_prcs_rna_kb_count_subpool_update.nf\n"
     ]
    }
   ],
   "source": [
    "!ls ../../nf_processes/nf_prcs_rna_kb_count_subpool_update.nf"
   ]
  },
  {
   "cell_type": "code",
   "execution_count": 25,
   "metadata": {
    "tags": []
   },
   "outputs": [
    {
     "name": "stdout",
     "output_type": "stream",
     "text": [
      "Mar-07 17:09:33.646 [main] DEBUG nextflow.cli.Launcher - $> nextflow run nf_wf_fg_singlecell_rna.nf -c nextflow_rna.config -profile google_batch_profile -with-tower -resume\n",
      "Mar-07 17:09:33.929 [main] INFO  nextflow.cli.CmdRun - N E X T F L O W  ~  version 23.10.1\n",
      "Mar-07 17:09:33.967 [main] DEBUG nextflow.plugin.PluginsFacade - Setting up plugin manager > mode=prod; embedded=false; plugins-dir=/home/eila/.nextflow/plugins; core-plugins: nf-amazon@2.1.4,nf-azure@1.3.3,nf-cloudcache@0.3.0,nf-codecommit@0.1.5,nf-console@1.0.6,nf-ga4gh@1.1.0,nf-google@1.8.3,nf-tower@1.6.3,nf-wave@1.0.1\n",
      "Mar-07 17:09:33.985 [main] INFO  o.pf4j.DefaultPluginStatusProvider - Enabled plugins: []\n",
      "Mar-07 17:09:33.988 [main] INFO  o.pf4j.DefaultPluginStatusProvider - Disabled plugins: []\n",
      "Mar-07 17:09:33.994 [main] INFO  org.pf4j.DefaultPluginManager - PF4J version 3.4.1 in 'deployment' mode\n",
      "Mar-07 17:09:34.015 [main] INFO  org.pf4j.AbstractPluginManager - No plugins\n",
      "Mar-07 17:09:34.049 [main] DEBUG nextflow.config.ConfigBuilder - User config file: /home/eila/git_igvf/atomic-workflows/nextflow/nf_workflow/workflow_fg_single_cell_rna/nextflow_rna.config\n",
      "Mar-07 17:09:34.051 [main] DEBUG nextflow.config.ConfigBuilder - Parsing config file: /home/eila/git_igvf/atomic-workflows/nextflow/nf_workflow/workflow_fg_single_cell_rna/nextflow_rna.config\n",
      "Mar-07 17:09:34.092 [main] DEBUG nextflow.config.ConfigBuilder - Applying config profile: `google_batch_profile`\n",
      "Mar-07 17:09:35.764 [main] DEBUG nextflow.config.ConfigBuilder - Available config profiles: [google_batch_profile]\n",
      "Mar-07 17:09:35.827 [main] DEBUG nextflow.cli.CmdRun - Applied DSL=2 by global default\n",
      "Mar-07 17:09:35.864 [main] INFO  nextflow.cli.CmdRun - Launching `nf_wf_fg_singlecell_rna.nf` [focused_borg] DSL2 - revision: 542c54ee0a\n",
      "Mar-07 17:09:35.865 [main] DEBUG nextflow.plugin.PluginsFacade - Plugins default=[nf-google@1.8.3]\n",
      "Mar-07 17:09:35.866 [main] DEBUG nextflow.plugin.PluginsFacade - Plugins resolved requirement=[nf-google@1.8.3, nf-tower@1.6.3, nf-wave@1.0.1]\n",
      "Mar-07 17:09:35.866 [main] DEBUG nextflow.plugin.PluginUpdater - Installing plugin nf-google version: 1.8.3\n",
      "Mar-07 17:09:35.900 [main] INFO  org.pf4j.AbstractPluginManager - Plugin 'nf-google@1.8.3' resolved\n",
      "Mar-07 17:09:35.901 [main] INFO  org.pf4j.AbstractPluginManager - Start plugin 'nf-google@1.8.3'\n",
      "Mar-07 17:09:36.023 [main] DEBUG nextflow.plugin.BasePlugin - Plugin started nf-google@1.8.3\n",
      "Mar-07 17:09:36.024 [main] DEBUG nextflow.plugin.PluginUpdater - Installing plugin nf-tower version: 1.6.3\n",
      "Mar-07 17:09:36.027 [main] INFO  org.pf4j.AbstractPluginManager - Plugin 'nf-tower@1.6.3' resolved\n",
      "Mar-07 17:09:36.027 [main] INFO  org.pf4j.AbstractPluginManager - Start plugin 'nf-tower@1.6.3'\n",
      "Mar-07 17:09:36.053 [main] DEBUG nextflow.plugin.BasePlugin - Plugin started nf-tower@1.6.3\n",
      "Mar-07 17:09:36.053 [main] DEBUG nextflow.plugin.PluginUpdater - Installing plugin nf-wave version: 1.0.1\n",
      "Mar-07 17:09:36.058 [main] INFO  org.pf4j.AbstractPluginManager - Plugin 'nf-wave@1.0.1' resolved\n",
      "Mar-07 17:09:36.058 [main] INFO  org.pf4j.AbstractPluginManager - Start plugin 'nf-wave@1.0.1'\n",
      "Mar-07 17:09:36.070 [main] DEBUG nextflow.plugin.BasePlugin - Plugin started nf-wave@1.0.1\n",
      "Mar-07 17:09:36.104 [main] DEBUG n.secret.LocalSecretsProvider - Secrets store: /home/eila/.nextflow/secrets/store.json\n",
      "Mar-07 17:09:36.109 [main] DEBUG nextflow.secret.SecretsLoader - Discovered secrets providers: [nextflow.secret.LocalSecretsProvider@1f2f0109] - activable => nextflow.secret.LocalSecretsProvider@1f2f0109\n",
      "Mar-07 17:09:36.305 [main] DEBUG nextflow.Session - Session UUID: 13bc1d06-3de9-4244-a718-1f14d1aaa65a\n",
      "Mar-07 17:09:36.306 [main] DEBUG nextflow.Session - Run name: focused_borg\n",
      "Mar-07 17:09:36.307 [main] DEBUG nextflow.Session - Executor pool size: 8\n",
      "Mar-07 17:09:36.727 [main] DEBUG nextflow.file.FilePorter - File porter settings maxRetries=3; maxTransfers=50; pollTimeout=null\n",
      "Mar-07 17:09:36.742 [main] DEBUG nextflow.util.ThreadPoolBuilder - Creating thread pool 'FileTransfer' minSize=10; maxSize=24; workQueue=LinkedBlockingQueue[10000]; allowCoreThreadTimeout=false\n",
      "Mar-07 17:09:36.752 [main] DEBUG nextflow.config.ConfigBuilder - User config file: /home/eila/git_igvf/atomic-workflows/nextflow/nf_workflow/workflow_fg_single_cell_rna/nextflow_rna.config\n",
      "Mar-07 17:09:36.752 [main] DEBUG nextflow.config.ConfigBuilder - Parsing config file: /home/eila/git_igvf/atomic-workflows/nextflow/nf_workflow/workflow_fg_single_cell_rna/nextflow_rna.config\n",
      "Mar-07 17:09:36.753 [main] DEBUG nextflow.config.ConfigBuilder - Applying config profile: `google_batch_profile`\n",
      "Mar-07 17:09:37.225 [main] DEBUG nextflow.config.ConfigBuilder - Available config profiles: [google_batch_profile]\n",
      "Mar-07 17:09:37.308 [main] DEBUG nextflow.cli.CmdRun - \n",
      "  Version: 23.10.1 build 5891\n",
      "  Created: 12-01-2024 22:01 UTC \n",
      "  System: Linux 5.10.0-27-cloud-amd64\n",
      "  Runtime: Groovy 3.0.19 on OpenJDK 64-Bit Server VM 11.0.1-internal+0-adhoc..src\n",
      "  Encoding: UTF-8 (UTF-8)\n",
      "  Process: 621385@eila-vm [10.128.0.63]\n",
      "  CPUs: 8 - Mem: 29.4 GB (1.3 GB) - Swap: 0 (0)\n",
      "Mar-07 17:09:37.413 [main] DEBUG nextflow.file.FileHelper - Can't check if specified path is NFS (1): gs://eila-nextflow-bucket/work/RNA\n",
      "\n",
      "Mar-07 17:09:37.413 [main] DEBUG nextflow.Session - Work-dir: gs://eila-nextflow-bucket/work/RNA [null]\n",
      "Mar-07 17:09:37.482 [main] DEBUG nextflow.executor.ExecutorFactory - Extension executors providers=[GoogleLifeSciencesExecutor, GoogleBatchExecutor]\n",
      "Mar-07 17:09:37.512 [main] DEBUG nextflow.Session - Observer factory: DefaultObserverFactory\n",
      "Mar-07 17:09:37.515 [main] DEBUG nextflow.Session - Observer factory: WaveFactory\n",
      "Mar-07 17:09:37.516 [main] DEBUG io.seqera.wave.plugin.WaveFactory - Detected Fusion enabled -- Enabling bundle project resources -- Disabling upload of remote bin directory\n",
      "Mar-07 17:09:37.552 [main] DEBUG i.s.wave.plugin.config.WaveConfig - Wave strategy not specified - using default: [container, dockerfile, conda, spack]\n",
      "Mar-07 17:09:37.574 [main] DEBUG io.seqera.wave.plugin.WaveClient - Wave config: WaveConfig(enabled:true, endpoint:https://wave.seqera.io, containerConfigUrl:[], tokensCacheMaxDuration:30m, condaOpts:CondaOpts(mambaImage=mambaorg/micromamba:1.5.1; basePackages=conda-forge::procps-ng, commands=null), spackOpts:SpackOpts(basePackages=null, commands=null), strategy:[container, dockerfile, conda, spack], bundleProjectResources:true, buildRepository:null, cacheRepository:null, retryOpts:RetryOpts(delay:450ms, maxDelay:1m 30s, maxAttempts:10, jitter:0.25), httpClientOpts:HttpOpts(), freezeMode:null)\n",
      "Mar-07 17:09:37.765 [main] DEBUG nextflow.Session - Observer factory: TowerFactory\n",
      "Mar-07 17:09:37.844 [main] DEBUG nextflow.cache.CacheFactory - Using Nextflow cache factory: nextflow.cache.DefaultCacheFactory\n",
      "Mar-07 17:09:37.863 [main] DEBUG nextflow.util.CustomThreadPool - Creating default thread pool > poolSize: 9; maxThreads: 1000\n",
      "Mar-07 17:09:38.019 [main] DEBUG nextflow.Session - Session start\n",
      "Mar-07 17:09:38.038 [main] DEBUG io.seqera.tower.plugin.TowerClient - Creating Tower observer -- endpoint=https://api.tower.nf; requestInterval=1s; aliveInterval=1m; maxRetries=5; backOffBase=3; backOffDelay=250\n",
      "Mar-07 17:09:39.120 [main] DEBUG nextflow.script.ScriptRunner - > Launching execution\n",
      "Mar-07 17:09:39.916 [main] INFO  nextflow.script.BaseScript - in the RNA workflow\n",
      "Mar-07 17:09:40.173 [main] DEBUG nextflow.script.ProcessConfig - Config settings `withLabel:cellatlas` matches labels `cellatlas` for process with name run_cellatlas_build\n",
      "Mar-07 17:09:40.181 [main] DEBUG nextflow.executor.ExecutorFactory - << taskConfig executor: google-batch\n",
      "Mar-07 17:09:40.182 [main] DEBUG nextflow.executor.ExecutorFactory - >> processorType: 'google-batch'\n",
      "Mar-07 17:09:40.185 [main] DEBUG nextflow.executor.Executor - [warm up] executor > google-batch (fusion enabled)\n",
      "Mar-07 17:09:40.191 [main] DEBUG n.processor.TaskPollingMonitor - Creating task monitor for executor 'google-batch' > capacity: 1000; pollInterval: 10s; dumpInterval: 5m \n",
      "Mar-07 17:09:40.194 [main] DEBUG n.processor.TaskPollingMonitor - >>> barrier register (monitor: google-batch)\n",
      "Mar-07 17:09:40.201 [main] DEBUG nextflow.cloud.google.GoogleOpts - Google auth via application credentials file: /home/eila/git_igvf/atomic-workflows/nextflow/hai-gcp-genomic-beb9207a40b8.json\n",
      "Mar-07 17:09:40.209 [main] DEBUG n.c.google.batch.GoogleBatchExecutor - [GOOGLE BATCH] Executor config=BatchConfig[googleOpts=GoogleOpts(projectId:hai-gcp-genomic, credsFile:/home/eila/git_igvf/atomic-workflows/nextflow/hai-gcp-genomic-beb9207a40b8.json, location:us-central1, enableRequesterPaysBuckets:false, httpConnectTimeout:1m, httpReadTimeout:1m, credentials:ServiceAccountCredentials{clientId=111364348320962814542, clientEmail=eila-batch@hai-gcp-genomic.iam.gserviceaccount.com, privateKeyId=beb9207a40b8b2085c7f48c3fcf8c2342180d471, transportFactoryClassName=com.google.auth.oauth2.OAuth2Utils$DefaultHttpTransportFactory, tokenServerUri=https://oauth2.googleapis.com/token, scopes=[https://www.googleapis.com/auth/cloud-platform], defaultScopes=[], serviceAccountUser=null, quotaProjectId=null, lifetime=3600, useJwtAccessWithScope=false, defaultRetriesEnabled=true})\n",
      "Mar-07 17:09:40.233 [main] DEBUG n.c.google.batch.client.BatchClient - [GOOGLE BATCH] Creating service client with config credentials\n",
      "Mar-07 17:09:40.962 [main] DEBUG nextflow.script.ProcessConfig - Config settings `withLabel:jq` matches labels `jq` for process with name run_jq_on_cellatlas\n",
      "Mar-07 17:09:40.966 [main] DEBUG nextflow.executor.ExecutorFactory - << taskConfig executor: google-batch\n",
      "Mar-07 17:09:40.966 [main] DEBUG nextflow.executor.ExecutorFactory - >> processorType: 'google-batch'\n",
      "Mar-07 17:09:40.976 [main] DEBUG nextflow.script.ProcessConfig - Config settings `withLabel:kb_ref_from_jq` matches labels `kb_ref_from_jq` for process with name run_kb_ref_with_jq_commands\n",
      "Mar-07 17:09:40.978 [main] DEBUG nextflow.executor.ExecutorFactory - << taskConfig executor: google-batch\n",
      "Mar-07 17:09:40.979 [main] DEBUG nextflow.executor.ExecutorFactory - >> processorType: 'google-batch'\n",
      "Mar-07 17:09:40.992 [main] DEBUG nextflow.script.ProcessConfig - Config settings `withLabel:seqspec_modify` matches labels `seqspec_modify` for process with name run_seqspec_modify_rna\n",
      "Mar-07 17:09:40.995 [main] DEBUG nextflow.executor.ExecutorFactory - << taskConfig executor: google-batch\n",
      "Mar-07 17:09:40.996 [main] DEBUG nextflow.executor.ExecutorFactory - >> processorType: 'google-batch'\n",
      "Mar-07 17:09:41.005 [main] INFO  nextflow.script.BaseScript - after run_seqspec_modify_rna\n",
      "Mar-07 17:09:41.010 [main] INFO  nextflow.script.BaseScript - Calling run_add_subpool_to_rna_kb_cout_outputs with the following inputs:\n",
      "Mar-07 17:09:41.011 [main] INFO  nextflow.script.BaseScript - params.RNA_MODIFY_KB_COUNT_H5AD_WITH_SUBPOOL: rna_modify_kb_count_output_barcode_h5.py\n",
      "Mar-07 17:09:41.012 [main] INFO  nextflow.script.BaseScript - params.RNA_MODIFY_CELL_GENE_WITH_SUBPOOL: rna_modify_kb_count_cell_gene_barcode.sh\n",
      "Mar-07 17:09:41.013 [main] INFO  nextflow.script.BaseScript - adata_out_h5ad: DataflowVariable(value=null)\n",
      "Mar-07 17:09:41.014 [main] INFO  nextflow.script.BaseScript - cells_x_genes_barcodes_out: DataflowVariable(value=null)\n",
      "Mar-07 17:09:41.026 [main] DEBUG nextflow.script.ProcessConfig - Config settings `withLabel:pool_count` matches labels `pool_count` for process with name run_add_subpool_to_rna_kb_cout_outputs\n",
      "Mar-07 17:09:41.029 [main] DEBUG nextflow.executor.ExecutorFactory - << taskConfig executor: google-batch\n",
      "Mar-07 17:09:41.029 [main] DEBUG nextflow.executor.ExecutorFactory - >> processorType: 'google-batch'\n",
      "Mar-07 17:09:41.058 [main] DEBUG nextflow.Session - Workflow process names [dsl2]: run_jq_on_cellatlas, run_jq_on_kb_count_outputs_to_logs, run_cellatlas_build, run_seqspec_modify_rna, run_retrieve_seqspec_technology_rna, run_seqspec_print, run_seqspec_check, run_kb_ref_with_jq_commands, run_seqspec_test, run_kb_ref, run_kb_count_rna, run_add_subpool_to_rna_kb_cout_outputs\n",
      "Mar-07 17:09:41.382 [main] INFO  io.seqera.tower.plugin.TowerClient - Monitor the execution with Nextflow Tower using this URL: https://tower.nf/orgs/ort_eila_org/workspaces/ort_eila_wrkspc/watch/3FbYIWnrq57EW6\n",
      "Mar-07 17:09:41.383 [main] DEBUG nextflow.Session - Igniting dataflow network (14)\n",
      "Mar-07 17:09:41.393 [main] DEBUG nextflow.processor.TaskProcessor - Starting process > run_cellatlas_build\n",
      "Mar-07 17:09:41.396 [main] DEBUG nextflow.processor.TaskProcessor - Starting process > run_jq_on_cellatlas\n",
      "Mar-07 17:09:41.398 [main] DEBUG nextflow.processor.TaskProcessor - Starting process > run_kb_ref_with_jq_commands\n",
      "Mar-07 17:09:41.404 [main] DEBUG nextflow.processor.TaskProcessor - Starting process > run_seqspec_modify_rna\n",
      "Mar-07 17:09:41.407 [main] DEBUG nextflow.processor.TaskProcessor - Starting process > run_add_subpool_to_rna_kb_cout_outputs\n",
      "Mar-07 17:09:41.409 [main] DEBUG nextflow.script.ScriptRunner - Parsed script files:\n",
      "  Script_7eed5762682f2467: /home/eila/git_igvf/atomic-workflows/nextflow/nf_workflow/workflow_fg_single_cell_rna/./../../nf_processes/nf_prcs_cellatlas_build.nf\n",
      "  Script_587c8dbe10a9e1b6: /home/eila/git_igvf/atomic-workflows/nextflow/nf_workflow/workflow_fg_single_cell_rna/./../../nf_processes/nf_prcs_rna_kb_count_subpool_update.nf\n",
      "  Script_c32d22d289b2b13a: /home/eila/git_igvf/atomic-workflows/nextflow/nf_workflow/workflow_fg_single_cell_rna/./../../nf_processes/nf_prcs_seqspec_utils.nf\n",
      "  Script_e3d2ac59617e6acb: /home/eila/git_igvf/atomic-workflows/nextflow/nf_workflow/workflow_fg_single_cell_rna/nf_wf_fg_singlecell_rna.nf\n",
      "  Script_4495424422cc4d5b: /home/eila/git_igvf/atomic-workflows/nextflow/nf_workflow/workflow_fg_single_cell_rna/./../../nf_processes/nf_prcs_kallisto_bustools.nf\n",
      "Mar-07 17:09:41.410 [main] DEBUG nextflow.script.ScriptRunner - > Awaiting termination \n",
      "Mar-07 17:09:41.410 [main] DEBUG nextflow.Session - Session await\n",
      "Mar-07 17:09:45.271 [FileTransfer-3] DEBUG nextflow.file.FilePorter - Local cache found for foreign file /home/eila/git_igvf/atomic-workflows/nextflow/nf_data/wdl_rna_pipeline/bmmc_spec_igvf_rna.yaml at gs://eila-nextflow-bucket/work/RNA/stage-13bc1d06-3de9-4244-a718-1f14d1aaa65a/bc/d8913e79086b0a4f8d4e479c613e70/bmmc_spec_igvf_rna.yaml\n",
      "Mar-07 17:09:45.274 [FileTransfer-5] DEBUG nextflow.file.FilePorter - Local cache found for foreign file /home/eila/git_igvf/atomic-workflows/nextflow/nf_data/wdl_rna_pipeline/out/counts_unfiltered/adata.h5ad at gs://eila-nextflow-bucket/work/RNA/stage-13bc1d06-3de9-4244-a718-1f14d1aaa65a/7b/1f655f4bb1e2f3a7657982273dfae1/adata.h5ad\n",
      "Mar-07 17:09:45.279 [FileTransfer-8] DEBUG nextflow.file.FilePorter - Local cache found for foreign file /home/eila/git_igvf/atomic-workflows/nextflow/nf_data/wdl_rna_pipeline/genes.gtf at gs://eila-nextflow-bucket/work/RNA/stage-13bc1d06-3de9-4244-a718-1f14d1aaa65a/6d/faea09d3ad1efb033cec4f46864b23/genes.gtf\n",
      "Mar-07 17:09:45.289 [FileTransfer-7] DEBUG nextflow.file.FilePorter - Local cache found for foreign file /home/eila/git_igvf/atomic-workflows/nextflow/nf_data/wdl_rna_pipeline/GCA_000001405.15_GRCh38_no_alt_analysis_set.fna.gz at gs://eila-nextflow-bucket/work/RNA/stage-13bc1d06-3de9-4244-a718-1f14d1aaa65a/a4/384c5d7429aa019ecaefcbf85f9817/GCA_000001405.15_GRCh38_no_alt_analysis_set.fna.gz\n",
      "Mar-07 17:09:45.303 [FileTransfer-1] DEBUG nextflow.file.FilePorter - Local cache found for foreign file /home/eila/git_igvf/atomic-workflows/nextflow/nf_data/wdl_rna_pipeline/BMMC_single_donor_RNA_L001_R1_corrected.fastq.gz at gs://eila-nextflow-bucket/work/RNA/stage-13bc1d06-3de9-4244-a718-1f14d1aaa65a/06/91672272f7194ddec254142da6f667/BMMC_single_donor_RNA_L001_R1_corrected.fastq.gz\n",
      "Mar-07 17:09:45.429 [FileTransfer-2] DEBUG nextflow.file.FilePorter - Local cache found for foreign file /home/eila/git_igvf/atomic-workflows/nextflow/nf_data/wdl_rna_pipeline/BMMC_single_donor_RNA_L001_R2_corrected.fastq.gz at gs://eila-nextflow-bucket/work/RNA/stage-13bc1d06-3de9-4244-a718-1f14d1aaa65a/10/82e69a2d8dfe18fd42cd0eeb974142/BMMC_single_donor_RNA_L001_R2_corrected.fastq.gz\n",
      "Mar-07 17:09:45.429 [FileTransfer-4] DEBUG nextflow.file.FilePorter - Local cache found for foreign file /home/eila/git_igvf/atomic-workflows/nextflow/nf_data/wdl_rna_pipeline/sai_192_whitelist.txt at gs://eila-nextflow-bucket/work/RNA/stage-13bc1d06-3de9-4244-a718-1f14d1aaa65a/b3/5bca84af0d58d6c3730cc0106b5dfc/sai_192_whitelist.txt\n",
      "Mar-07 17:09:45.446 [FileTransfer-6] DEBUG nextflow.file.FilePorter - Local cache found for foreign file /home/eila/git_igvf/atomic-workflows/nextflow/nf_data/wdl_rna_pipeline/out/counts_unfiltered/cells_x_genes.barcodes.txt at gs://eila-nextflow-bucket/work/RNA/stage-13bc1d06-3de9-4244-a718-1f14d1aaa65a/83/69aec00398733f4ffad1ec90db5064/cells_x_genes.barcodes.txt\n",
      "Mar-07 17:09:45.462 [Actor Thread 4] DEBUG i.s.wave.plugin.config.WaveConfig - Wave strategy not specified - using default: [container, dockerfile, conda, spack]\n",
      "Mar-07 17:09:45.464 [Actor Thread 4] DEBUG io.seqera.wave.plugin.WaveClient - Wave config: WaveConfig(enabled:true, endpoint:https://wave.seqera.io, containerConfigUrl:[], tokensCacheMaxDuration:30m, condaOpts:CondaOpts(mambaImage=mambaorg/micromamba:1.5.1; basePackages=conda-forge::procps-ng, commands=null), spackOpts:SpackOpts(basePackages=null, commands=null), strategy:[container, dockerfile, conda, spack], bundleProjectResources:true, buildRepository:null, cacheRepository:null, retryOpts:RetryOpts(delay:450ms, maxDelay:1m 30s, maxAttempts:10, jitter:0.25), httpClientOpts:HttpOpts(), freezeMode:null)\n",
      "Mar-07 17:09:45.479 [Actor Thread 6] DEBUG io.seqera.wave.plugin.WaveClient - Wave assets bundle bin resources: /home/eila/git_igvf/atomic-workflows/nextflow/nf_workflow/workflow_fg_single_cell_rna/bin\n",
      "Mar-07 17:09:45.606 [Actor Thread 6] DEBUG io.seqera.wave.plugin.WaveClient - Wave request container config: https://fusionfs.seqera.io/releases/v2.2-amd64.json\n",
      "Mar-07 17:09:45.974 [Actor Thread 6] DEBUG io.seqera.wave.plugin.WaveClient - Wave container config response: [200] {\n",
      "  \"entrypoint\": [ \"/usr/bin/fusion\" ],\n",
      "  \"layers\": [\n",
      "    {\n",
      "      \"location\": \"https://fusionfs.seqera.io/releases/pkg/2/2/12/fusion-amd64.tar.gz\",\n",
      "      \"gzipDigest\": \"sha256:6ccfd8f431db2874e82e27d61b6d31b95d7dddce7e810c5f8c95438a0d03c066\",\n",
      "      \"gzipSize\": 30262575,\n",
      "      \"tarDigest\": \"sha256:60391bebe0cc5d48b0875854f0c93c0d0adc25b5007fdb1b2efc2a431cfeef6e\",\n",
      "      \"skipHashing\": true\n",
      "    }\n",
      "  ]\n",
      "}\n",
      "\n",
      "Mar-07 17:09:46.121 [Actor Thread 6] DEBUG io.seqera.wave.plugin.WaveClient - Wave request: https://wave.seqera.io/container-token; attempt=1 - request: SubmitContainerTokenRequest(towerAccessToken:eyJ0aWQiOiA4Mjk3fS5jNDNmYzA4NTg2MjAxNDQzOTAwYmUzNWEzZTY0MGMyZTc0OWE3M2Mz, towerRefreshToken:null, towerWorkspaceId:247507587970818, towerEndpoint:https://api.tower.nf, workflowId:null, containerImage:eilalan/utils_env:latest, containerFile:null, containerConfig:ContainerConfig(entrypoint:[/usr/bin/fusion], cmd:null, env:null, workingDir:null, layers:[ContainerLayer[location=data:H4sIAAAAAAAA/+1de3Pb...; tarDigest=sha256:b898770e1777471b83acdc5a9d47de51ec9dd3c70f7d538eb5820d9e3be3e62e; gzipDigest=sha256:93054b569b5b20fc6e314f618cfa1b4ed6dc09517ab86d1dd0fad2d6d90d84e7; gzipSize=8592], ContainerLayer[location=https://fusionfs.seqera.io/releases/pkg/2/2/12/fusion-amd64.tar.gz; tarDigest=sha256:60391bebe0cc5d48b0875854f0c93c0d0adc25b5007fdb1b2efc2a431cfeef6e; gzipDigest=sha256:6ccfd8f431db2874e82e27d61b6d31b95d7dddce7e810c5f8c95438a0d03c066; gzipSize=30262575]]), condaFile:null, spackFile:null, containerPlatform:linux/amd64, buildRepository:null, cacheRepository:null, timestamp:2024-03-07T17:09:46.116321Z, fingerprint:4749ad4766533f13dcaa5bfb4ec4795a, freeze:false, format:null, dryRun:false)\n",
      "Mar-07 17:09:46.121 [Actor Thread 9] DEBUG io.seqera.wave.plugin.WaveClient - Wave request: https://wave.seqera.io/container-token; attempt=1 - request: SubmitContainerTokenRequest(towerAccessToken:eyJ0aWQiOiA4Mjk3fS5jNDNmYzA4NTg2MjAxNDQzOTAwYmUzNWEzZTY0MGMyZTc0OWE3M2Mz, towerRefreshToken:null, towerWorkspaceId:247507587970818, towerEndpoint:https://api.tower.nf, workflowId:null, containerImage:eilalan/cellatlas_env:latest, containerFile:null, containerConfig:ContainerConfig(entrypoint:[/usr/bin/fusion], cmd:null, env:null, workingDir:null, layers:[ContainerLayer[location=data:H4sIAAAAAAAA/+1de3Pb...; tarDigest=sha256:b898770e1777471b83acdc5a9d47de51ec9dd3c70f7d538eb5820d9e3be3e62e; gzipDigest=sha256:93054b569b5b20fc6e314f618cfa1b4ed6dc09517ab86d1dd0fad2d6d90d84e7; gzipSize=8592], ContainerLayer[location=https://fusionfs.seqera.io/releases/pkg/2/2/12/fusion-amd64.tar.gz; tarDigest=sha256:60391bebe0cc5d48b0875854f0c93c0d0adc25b5007fdb1b2efc2a431cfeef6e; gzipDigest=sha256:6ccfd8f431db2874e82e27d61b6d31b95d7dddce7e810c5f8c95438a0d03c066; gzipSize=30262575]]), condaFile:null, spackFile:null, containerPlatform:linux/amd64, buildRepository:null, cacheRepository:null, timestamp:2024-03-07T17:09:46.116281Z, fingerprint:72979e07c62a5574f7d9360ee359db9c, freeze:false, format:null, dryRun:false)\n",
      "Mar-07 17:09:46.121 [Actor Thread 4] DEBUG io.seqera.wave.plugin.WaveClient - Wave request: https://wave.seqera.io/container-token; attempt=1 - request: SubmitContainerTokenRequest(towerAccessToken:eyJ0aWQiOiA4Mjk3fS5jNDNmYzA4NTg2MjAxNDQzOTAwYmUzNWEzZTY0MGMyZTc0OWE3M2Mz, towerRefreshToken:null, towerWorkspaceId:247507587970818, towerEndpoint:https://api.tower.nf, workflowId:null, containerImage:eilalan/seqspec_env:latest, containerFile:null, containerConfig:ContainerConfig(entrypoint:[/usr/bin/fusion], cmd:null, env:null, workingDir:null, layers:[ContainerLayer[location=data:H4sIAAAAAAAA/+1de3Pb...; tarDigest=sha256:b898770e1777471b83acdc5a9d47de51ec9dd3c70f7d538eb5820d9e3be3e62e; gzipDigest=sha256:93054b569b5b20fc6e314f618cfa1b4ed6dc09517ab86d1dd0fad2d6d90d84e7; gzipSize=8592], ContainerLayer[location=https://fusionfs.seqera.io/releases/pkg/2/2/12/fusion-amd64.tar.gz; tarDigest=sha256:60391bebe0cc5d48b0875854f0c93c0d0adc25b5007fdb1b2efc2a431cfeef6e; gzipDigest=sha256:6ccfd8f431db2874e82e27d61b6d31b95d7dddce7e810c5f8c95438a0d03c066; gzipSize=30262575]]), condaFile:null, spackFile:null, containerPlatform:linux/amd64, buildRepository:null, cacheRepository:null, timestamp:2024-03-07T17:09:46.116557Z, fingerprint:c41f6aee029949d9e083fad6901b82d8, freeze:false, format:null, dryRun:false)\n",
      "Mar-07 17:09:46.740 [Actor Thread 4] DEBUG io.seqera.wave.plugin.WaveClient - Wave response: statusCode=200; body={\"containerToken\":\"3543645e960d\",\"targetImage\":\"wave.seqera.io/wt/3543645e960d/eilalan/seqspec_env:latest\",\"expiration\":\"2024-03-09T05:09:46.684265450Z\",\"containerImage\":\"docker.io/eilalan/seqspec_env:latest\"}\n",
      "Mar-07 17:09:46.740 [Actor Thread 9] DEBUG io.seqera.wave.plugin.WaveClient - Wave response: statusCode=200; body={\"containerToken\":\"dd22eb48515a\",\"targetImage\":\"wave.seqera.io/wt/dd22eb48515a/eilalan/cellatlas_env:latest\",\"expiration\":\"2024-03-09T05:09:46.684265400Z\",\"containerImage\":\"docker.io/eilalan/cellatlas_env:latest\"}\n",
      "Mar-07 17:09:46.740 [Actor Thread 6] DEBUG io.seqera.wave.plugin.WaveClient - Wave response: statusCode=200; body={\"containerToken\":\"8933d66733a1\",\"targetImage\":\"wave.seqera.io/wt/8933d66733a1/eilalan/utils_env:latest\",\"expiration\":\"2024-03-09T05:09:46.684606075Z\",\"containerImage\":\"docker.io/eilalan/utils_env:latest\"}\n",
      "Mar-07 17:09:48.071 [Task submitter] DEBUG n.c.g.batch.GoogleBatchTaskHandler - [GOOGLE BATCH] Process `run_seqspec_modify_rna (1)` - adding local volume as fusion scratch: DiskResource(request:375 GB, type:local-ssd)\n",
      "Mar-07 17:09:49.712 [Task submitter] DEBUG n.c.g.batch.GoogleBatchTaskHandler - [GOOGLE BATCH] Process `run_seqspec_modify_rna (1)` submitted > job=nf-5fcfeba5-1709831387365; uid=nf-5fcfeba5-170983-1913f151-5b82-41590; work-dir=gs://eila-nextflow-bucket/work/RNA/5f/cfeba55d248fa7fd6f3cd722acff69\n",
      "Mar-07 17:09:49.713 [Task submitter] INFO  nextflow.Session - [5f/cfeba5] Submitted process > run_seqspec_modify_rna (1)\n",
      "Mar-07 17:09:50.094 [Task submitter] DEBUG n.c.g.batch.GoogleBatchTaskHandler - [GOOGLE BATCH] Process `run_cellatlas_build (1)` - adding local volume as fusion scratch: DiskResource(request:375 GB, type:local-ssd)\n",
      "Mar-07 17:09:50.378 [Task submitter] DEBUG n.c.g.batch.GoogleBatchTaskHandler - [GOOGLE BATCH] Process `run_cellatlas_build (1)` submitted > job=nf-9987765d-1709831387406; uid=nf-9987765d-170983-440d6d8f-d3b9-46140; work-dir=gs://eila-nextflow-bucket/work/RNA/99/87765d51c16ca36f2dcd25e4fc5c73\n",
      "Mar-07 17:09:50.378 [Task submitter] INFO  nextflow.Session - [99/87765d] Submitted process > run_cellatlas_build (1)\n",
      "Mar-07 17:09:50.983 [Task submitter] DEBUG n.c.g.batch.GoogleBatchTaskHandler - [GOOGLE BATCH] Process `run_add_subpool_to_rna_kb_cout_outputs (1)` submitted > job=nf-b5131901-1709831387708; uid=nf-b5131901-170983-63934c7f-caa5-4f080; work-dir=gs://eila-nextflow-bucket/work/RNA/b5/13190103884a77fbbf48a07e1c0c02\n",
      "Mar-07 17:09:50.984 [Task submitter] INFO  nextflow.Session - [b5/131901] Submitted process > run_add_subpool_to_rna_kb_cout_outputs (1)\n",
      "Mar-07 17:12:00.255 [Task monitor] DEBUG n.c.g.batch.GoogleBatchTaskHandler - [GOOGLE BATCH] Process `run_seqspec_modify_rna (1)` - terminated job=nf-5fcfeba5-1709831387365; state=SUCCEEDED\n",
      "Mar-07 17:12:00.551 [Task monitor] DEBUG n.processor.TaskPollingMonitor - Task completed > TaskHandler[id: 1; name: run_seqspec_modify_rna (1); status: COMPLETED; exit: 0; error: -; workDir: gs://eila-nextflow-bucket/work/RNA/5f/cfeba55d248fa7fd6f3cd722acff69]\n",
      "Mar-07 17:12:30.308 [Task monitor] DEBUG n.c.g.batch.GoogleBatchTaskHandler - [GOOGLE BATCH] Process `run_add_subpool_to_rna_kb_cout_outputs (1)` - terminated job=nf-b5131901-1709831387708; state=FAILED\n",
      "Mar-07 17:12:31.442 [Task monitor] DEBUG n.processor.TaskPollingMonitor - Task completed > TaskHandler[id: 3; name: run_add_subpool_to_rna_kb_cout_outputs (1); status: COMPLETED; exit: 1; error: -; workDir: gs://eila-nextflow-bucket/work/RNA/b5/13190103884a77fbbf48a07e1c0c02]\n",
      "Mar-07 17:12:31.448 [Task monitor] DEBUG nextflow.processor.TaskProcessor - Handling unexpected condition for\n",
      "  task: name=run_add_subpool_to_rna_kb_cout_outputs (1); work-dir=gs://eila-nextflow-bucket/work/RNA/b5/13190103884a77fbbf48a07e1c0c02\n",
      "  error [nextflow.exception.ProcessFailedException]: Process `run_add_subpool_to_rna_kb_cout_outputs (1)` terminated with an error exit status (1)\n",
      "Mar-07 17:12:31.769 [Task monitor] ERROR nextflow.processor.TaskProcessor - Error executing process > 'run_add_subpool_to_rna_kb_cout_outputs (1)'\n",
      "\n",
      "Caused by:\n",
      "  Process `run_add_subpool_to_rna_kb_cout_outputs (1)` terminated with an error exit status (1)\n",
      "\n",
      "Command executed:\n",
      "\n",
      "  echo '------ Start run_add_subpool_to_rna_kb_cout_outputs ------'\n",
      "  echo 'Input subpool_script_modify_h5ad: rna_modify_kb_count_output_barcode_h5.py'\n",
      "  echo 'Input subpool_script_cell_gene: rna_modify_kb_count_cell_gene_barcode.sh'\n",
      "  echo 'Input kb_count_h5ad_file: adata.h5ad'\n",
      "  echo 'Input kb_count_fragments_file: cells_x_genes.barcodes.txt'\n",
      "  echo 'Input fastq1: BMMC_single_donor_RNA_L001_R1_corrected.fastq.gz'\n",
      "  echo 'Input fastq2: BMMC_single_donor_RNA_L001_R2_corrected.fastq.gz'\n",
      "  echo 'Input spec_yaml: bmmc_spec_igvf_rna.yaml'\n",
      "  echo 'Input whitelist_file: sai_192_whitelist.txt'\n",
      "  echo 'Input seqspec_rna_region_id: rna'\n",
      "  echo 'Input subpool: none'\n",
      "  \n",
      "  /usr/local/bin/rna_modify_kb_count_output_barcode_h5.py --input_h5ad_file adata.h5ad --subpool none --output_h5ad_file adata_none.h5ad\n",
      "  \n",
      "  echo 'Output H5AD file: adata_none.h5ad'\n",
      "  echo 'Output Fragments file: cells_x_genes.barcodes_none.txt'\n",
      "  \n",
      "  echo '------ Finished run_add_subpool_to_rna_kb_cout_outputs ------'\n",
      "\n",
      "Command exit status:\n",
      "  1\n",
      "\n",
      "Command output:\n",
      "  ------ Start run_add_subpool_to_rna_kb_cout_outputs ------\n",
      "  Input subpool_script_modify_h5ad: rna_modify_kb_count_output_barcode_h5.py\n",
      "  Input subpool_script_cell_gene: rna_modify_kb_count_cell_gene_barcode.sh\n",
      "  Input kb_count_h5ad_file: adata.h5ad\n",
      "  Input kb_count_fragments_file: cells_x_genes.barcodes.txt\n",
      "  Input fastq1: BMMC_single_donor_RNA_L001_R1_corrected.fastq.gz\n",
      "  Input fastq2: BMMC_single_donor_RNA_L001_R2_corrected.fastq.gz\n",
      "  Input spec_yaml: bmmc_spec_igvf_rna.yaml\n",
      "  Input whitelist_file: sai_192_whitelist.txt\n",
      "  Input seqspec_rna_region_id: rna\n",
      "  Input subpool: none\n",
      "\n",
      "Command error:\n",
      "  Traceback (most recent call last):\n",
      "    File \"/usr/local/bin/rna_modify_kb_count_output_barcode_h5.py\", line 3, in <module>\n",
      "      import h5py\n",
      "  ModuleNotFoundError: No module named 'h5py'\n",
      "\n",
      "Work dir:\n",
      "  gs://eila-nextflow-bucket/work/RNA/b5/13190103884a77fbbf48a07e1c0c02\n",
      "\n",
      "Tip: you can try to figure out what's wrong by changing to the process work dir and showing the script file named `.command.sh`\n",
      "Mar-07 17:12:31.921 [Task monitor] DEBUG nextflow.Session - Session aborted -- Cause: Process `run_add_subpool_to_rna_kb_cout_outputs (1)` terminated with an error exit status (1)\n",
      "Mar-07 17:12:31.949 [Task monitor] DEBUG nextflow.Session - The following nodes are still active:\n",
      "[process] run_jq_on_cellatlas\n",
      "  status=ACTIVE\n",
      "  port 0: (value) bound ; channel: script_name\n",
      "  port 1: (queue) OPEN  ; channel: cellatlas_out_json\n",
      "  port 2: (cntrl) -     ; channel: $\n",
      "\n",
      "[process] run_kb_ref_with_jq_commands\n",
      "  status=ACTIVE\n",
      "  port 0: (value) bound ; channel: script_name\n",
      "  port 1: (queue) OPEN  ; channel: jq_commands_file\n",
      "  port 2: (value) bound ; channel: transcriptome_file\n",
      "  port 3: (value) bound ; channel: genome_fasta_gz\n",
      "  port 4: (value) bound ; channel: gene_gtf\n",
      "  port 5: (cntrl) -     ; channel: $\n",
      "\n",
      "Mar-07 17:12:32.066 [main] DEBUG nextflow.Session - Session await > all processes finished\n",
      "Mar-07 17:12:32.069 [Task monitor] DEBUG n.processor.TaskPollingMonitor - <<< barrier arrives (monitor: google-batch) - terminating tasks monitor poll loop\n",
      "Mar-07 17:12:32.069 [main] DEBUG nextflow.Session - Session await > all barriers passed\n",
      "Mar-07 17:12:32.204 [main] WARN  n.processor.TaskPollingMonitor - Killing running tasks (1)\n",
      "Mar-07 17:12:32.226 [main] DEBUG n.trace.WorkflowStatsObserver - Workflow completed > WorkflowStats[succeededCount=1; failedCount=1; ignoredCount=0; cachedCount=0; pendingCount=0; submittedCount=1; runningCount=-1; retriesCount=0; abortedCount=1; succeedDuration=1.7s; failedDuration=1.1s; cachedDuration=0ms;loadCpus=-4; loadMemory=0; peakRunning=1; peakCpus=1; peakMemory=0; ]\n",
      "Mar-07 17:12:32.728 [main] DEBUG nextflow.cache.CacheDB - Closing CacheDB done\n",
      "Mar-07 17:12:32.728 [main] INFO  org.pf4j.AbstractPluginManager - Stop plugin 'nf-wave@1.0.1'\n",
      "Mar-07 17:12:32.728 [main] DEBUG nextflow.plugin.BasePlugin - Plugin stopped nf-wave\n",
      "Mar-07 17:12:32.728 [main] INFO  org.pf4j.AbstractPluginManager - Stop plugin 'nf-tower@1.6.3'\n",
      "Mar-07 17:12:32.728 [main] DEBUG nextflow.plugin.BasePlugin - Plugin stopped nf-tower\n",
      "Mar-07 17:12:32.728 [main] INFO  org.pf4j.AbstractPluginManager - Stop plugin 'nf-google@1.8.3'\n",
      "Mar-07 17:12:32.728 [main] DEBUG nextflow.plugin.BasePlugin - Plugin stopped nf-google\n",
      "Mar-07 17:12:32.760 [main] DEBUG nextflow.script.ScriptRunner - > Execution complete -- Goodbye\n"
     ]
    }
   ],
   "source": [
    "!cat .nextflow.log "
   ]
  },
  {
   "cell_type": "code",
   "execution_count": 26,
   "metadata": {
    "tags": []
   },
   "outputs": [
    {
     "name": "stdout",
     "output_type": "stream",
     "text": [
      "2024-03-07 17:12:33.650271\n"
     ]
    }
   ],
   "source": [
    "import datetime\n",
    "now = datetime.datetime.now()\n",
    "print(now)"
   ]
  },
  {
   "cell_type": "code",
   "execution_count": 27,
   "metadata": {
    "tags": []
   },
   "outputs": [],
   "source": [
    "\n",
    "# !nextflow run nf_wf_fg_singlecell_rna.nf -c nextflow_vm.config -profile google_batch_profile -with-tower -resume \n",
    "# 8af1ba30-6606-4dfd-a851-c6d0b74bdd43\n",
    "\n",
    "\n",
    "# !nextflow run nf_wf_fg_singlecell_rna.nf -c nextflow_vm.config -profile google_batch_profile -resume 886dc4ef-ff60-46d0-aecb-8f1ab56296a3\n",
    "\n",
    "# !nextflow run nf_wf_fg_singlecell_rna.nf -c nextflow_vm.config -profile google_batch_profile -resume\n",
    "\n",
    "\n",
    "# !nextflow run nf_wf_fg_singlecell_rna.nf -c nextflow_vm.config -profile docker_local\n",
    "\n",
    "\n",
    "# !nextflow run nf_wf_fg_singlecell_rna.nf -c nextflow_vm.config -profile google_batch_profile -resume\n",
    "\n",
    "\n",
    "# !nextflow run nf_wf_fg_singlecell_rna.nf -c nextflow_vm.config -profile google_batch_profile -resume\n",
    "\n",
    "\n",
    "\n",
    "# !nextflow run nf_wf_fg_singlecell_rna.nf -c nextflow_vm.config -profile docker_local -resume\n",
    "\n",
    "\n",
    "\n",
    "\n",
    "\n",
    "# !nextflow run nf_wf_fg_singlecell_rna.nf -c nextflow_vm.config -profile google_batch_profile -resume\n",
    "\n",
    "\n",
    "\n",
    "\n",
    "# !nextflow run nf_wf_fg_singlecell_rna.nf -c nextflow.config -profile docker_profile -resume\n",
    "# !nextflow run nf_wf_fg_singlecell_rna.nf -c nextflow_vm.config -profile google_batch_profile -resume\n",
    "# !nextflow run nf_wf_fg_singlecell_rna.nf -c nextflow_local.config -profile google_batch_profile -resume\n",
    "# !nextflow run nf_wf_fg_singlecell_rna.nf -c nextflow_vm.config -profile google_batch_profile -resume\n",
    "# !nextflow run nf_wf_fg_singlecell_rna.nf -c nextflow.config -profile docker_profile -resume\n",
    "# !nextflow run nf_wf_fg_singlecell_rna.nf -c nextflow.config -profile google_batch_profile -resume"
   ]
  },
  {
   "cell_type": "code",
   "execution_count": 28,
   "metadata": {
    "tags": []
   },
   "outputs": [],
   "source": [
    "# !nextflow log\n",
    "# use the session id with the resume"
   ]
  },
  {
   "cell_type": "code",
   "execution_count": 29,
   "metadata": {
    "tags": []
   },
   "outputs": [],
   "source": [
    "# !cat .nextflow.log "
   ]
  }
 ],
 "metadata": {
  "kernelspec": {
   "display_name": "Python 3 (ipykernel)",
   "language": "python",
   "name": "python3"
  },
  "language_info": {
   "codemirror_mode": {
    "name": "ipython",
    "version": 3
   },
   "file_extension": ".py",
   "mimetype": "text/x-python",
   "name": "python",
   "nbconvert_exporter": "python",
   "pygments_lexer": "ipython3",
   "version": "3.7.12"
  }
 },
 "nbformat": 4,
 "nbformat_minor": 4
}
