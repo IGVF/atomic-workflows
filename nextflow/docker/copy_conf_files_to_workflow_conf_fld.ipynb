{
 "cells": [
  {
   "cell_type": "code",
   "execution_count": 1,
   "id": "3380b5a7-d86d-4683-93f2-8d6264b8da66",
   "metadata": {
    "tags": []
   },
   "outputs": [],
   "source": [
    "# copy the config file to the config folder of the relevant workspaces\n",
    "# This is a shared file that will be used by the processes of all the workflows"
   ]
  },
  {
   "cell_type": "code",
   "execution_count": 2,
   "id": "9e9d3f9d-09ee-4f82-aebf-35b8bc479d80",
   "metadata": {
    "tags": []
   },
   "outputs": [
    {
     "name": "stdout",
     "output_type": "stream",
     "text": [
      "/home/eila/git_igvf/cellatlas-scrna-seq-pipeline/nextflow/docker\n"
     ]
    }
   ],
   "source": [
    "!pwd"
   ]
  },
  {
   "cell_type": "code",
   "execution_count": 3,
   "id": "a7391594-c58a-47b5-bbab-3bea145704b0",
   "metadata": {
    "tags": []
   },
   "outputs": [],
   "source": [
    "workplace_name = 'workflow_fg_single_cell_joint'"
   ]
  },
  {
   "cell_type": "code",
   "execution_count": 4,
   "id": "73e4f1fc-30ea-4823-a6b9-366f0c0e56eb",
   "metadata": {
    "tags": []
   },
   "outputs": [
    {
     "name": "stdout",
     "output_type": "stream",
     "text": [
      "Docker_atomic_pipeline_update  Docker_seqspec\n",
      "Docker_barcode_rank_plot       Docker_tss\n",
      "Docker_cellatlas_build\t       Docker_utils\n",
      "Docker_cellatlas_rna\t       copy_conf_files_to_workflow_conf_fld.ipynb\n",
      "Docker_chromap\t\t       docker-google-batch.config\n",
      "Docker_groovy\t\t       docker.txt\n",
      "Docker_joint_plot_r\t       docker_cmds.sh\n",
      "Docker_rna_atac_qc_plot        untitled.txt\n"
     ]
    }
   ],
   "source": [
    "!ls"
   ]
  },
  {
   "cell_type": "code",
   "execution_count": 5,
   "id": "e63585c5-2ebc-473e-81e0-9ebbc7e89a45",
   "metadata": {
    "tags": []
   },
   "outputs": [
    {
     "name": "stdout",
     "output_type": "stream",
     "text": [
      "get_H5\t    workflow_cellatlas_rna\t  workflow_fg_single_cell_joint\n",
      "workflow_1  workflow_fg_single_cell_atac  workflow_fg_single_cell_rna\n"
     ]
    }
   ],
   "source": [
    "# ls of all the workspaces:\n",
    "!ls /home/eila/git_igvf/cellatlas-scrna-seq-pipeline/nextflow/nf_workflow/\n"
   ]
  },
  {
   "cell_type": "code",
   "execution_count": 6,
   "id": "aad3d0d7-a6eb-45c4-8cf5-f2b5fcbde02e",
   "metadata": {
    "tags": []
   },
   "outputs": [
    {
     "name": "stdout",
     "output_type": "stream",
     "text": [
      "bin   nextflow_vm.config\t       nf_wf_fg_singlecell_joint.nf\n",
      "conf  nf_wf_fg_singlecell_joint.ipynb\n"
     ]
    }
   ],
   "source": [
    "!ls /home/eila/git_igvf/cellatlas-scrna-seq-pipeline/nextflow/nf_workflow/$workplace_name"
   ]
  },
  {
   "cell_type": "code",
   "execution_count": 7,
   "id": "928d7b71-9415-4511-9608-f37993dca69d",
   "metadata": {
    "tags": []
   },
   "outputs": [],
   "source": [
    "!cp docker-google-batch.config /home/eila/git_igvf/cellatlas-scrna-seq-pipeline/nextflow/nf_workflow/$workplace_name/conf/\n",
    "\n",
    "\n"
   ]
  },
  {
   "cell_type": "code",
   "execution_count": 8,
   "id": "5db7a2af-70a4-4b66-9811-f261ff51589c",
   "metadata": {
    "tags": []
   },
   "outputs": [
    {
     "name": "stdout",
     "output_type": "stream",
     "text": [
      "total 8\n",
      "-rw-r--r-- 1 eila eila 4924 Dec 17 09:12 docker-google-batch.config\n"
     ]
    }
   ],
   "source": [
    "!ls -lt /home/eila/git_igvf/cellatlas-scrna-seq-pipeline/nextflow/nf_workflow/$workplace_name/conf\n"
   ]
  },
  {
   "cell_type": "code",
   "execution_count": null,
   "id": "b3fab4d6-a323-4cc8-a087-1065237e2b6b",
   "metadata": {},
   "outputs": [],
   "source": []
  }
 ],
 "metadata": {
  "kernelspec": {
   "display_name": "Python 3 (ipykernel)",
   "language": "python",
   "name": "python3"
  },
  "language_info": {
   "codemirror_mode": {
    "name": "ipython",
    "version": 3
   },
   "file_extension": ".py",
   "mimetype": "text/x-python",
   "name": "python",
   "nbconvert_exporter": "python",
   "pygments_lexer": "ipython3",
   "version": "3.7.16"
  }
 },
 "nbformat": 4,
 "nbformat_minor": 5
}
