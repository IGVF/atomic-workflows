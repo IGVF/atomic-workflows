{
 "cells": [
  {
   "cell_type": "code",
   "execution_count": 1,
   "id": "3380b5a7-d86d-4683-93f2-8d6264b8da66",
   "metadata": {
    "tags": []
   },
   "outputs": [],
   "source": [
    "# copy the config file to the config folder of the relevant workspaces\n",
    "# This is a shared file that will be used by the processes of all the workflows"
   ]
  },
  {
   "cell_type": "code",
   "execution_count": 15,
   "id": "9e9d3f9d-09ee-4f82-aebf-35b8bc479d80",
   "metadata": {
    "tags": []
   },
   "outputs": [
    {
     "name": "stdout",
     "output_type": "stream",
     "text": [
      "/home/eila/git_igvf/atomic-workflows/nextflow/docker\n"
     ]
    }
   ],
   "source": [
    "!pwd"
   ]
  },
  {
   "cell_type": "code",
   "execution_count": 16,
   "id": "146bba19-05d5-46a8-b4e1-4bbbe67a1464",
   "metadata": {
    "tags": []
   },
   "outputs": [
    {
     "name": "stdout",
     "output_type": "stream",
     "text": [
      "workflow_fg_single_cell_atac   workflow_fg_single_cell_rna\n",
      "workflow_fg_single_cell_joint\n"
     ]
    }
   ],
   "source": [
    "!ls ../nf_workflow"
   ]
  },
  {
   "cell_type": "code",
   "execution_count": 17,
   "id": "a7391594-c58a-47b5-bbab-3bea145704b0",
   "metadata": {
    "tags": []
   },
   "outputs": [],
   "source": [
    "workplace_name1 = 'workflow_fg_single_cell_joint'\n",
    "workplace_name2 = 'workflow_fg_single_cell_rna'\n",
    "workplace_name3 = 'workflow_fg_single_cell_atac'"
   ]
  },
  {
   "cell_type": "code",
   "execution_count": 18,
   "id": "73e4f1fc-30ea-4823-a6b9-366f0c0e56eb",
   "metadata": {
    "tags": []
   },
   "outputs": [
    {
     "name": "stdout",
     "output_type": "stream",
     "text": [
      "Docker_atomic_pipeline_update  Docker_rna_atac_qc_plot\n",
      "Docker_barcode_rank_plot       Docker_seqspec\n",
      "Docker_cellatlas_build\t       Docker_tss\n",
      "Docker_cellatlas_rna\t       Docker_utils\n",
      "Docker_chromap\t\t       copy_conf_files_to_workflow_conf_fld.ipynb\n",
      "Docker_joint_plot_r\t       docker-google-batch.config\n"
     ]
    }
   ],
   "source": [
    "!ls"
   ]
  },
  {
   "cell_type": "code",
   "execution_count": 19,
   "id": "aad3d0d7-a6eb-45c4-8cf5-f2b5fcbde02e",
   "metadata": {
    "tags": []
   },
   "outputs": [
    {
     "name": "stdout",
     "output_type": "stream",
     "text": [
      "workflow_fg_single_cell_atac   workflow_fg_single_cell_rna\n",
      "workflow_fg_single_cell_joint\n"
     ]
    }
   ],
   "source": [
    "!ls ../nf_workflow"
   ]
  },
  {
   "cell_type": "code",
   "execution_count": 20,
   "id": "c5f9c1c8-a873-42f5-a4a2-e554ccf375a5",
   "metadata": {
    "tags": []
   },
   "outputs": [
    {
     "data": {
      "text/plain": [
       "'workflow_fg_single_cell_joint'"
      ]
     },
     "execution_count": 20,
     "metadata": {},
     "output_type": "execute_result"
    }
   ],
   "source": [
    "workplace_name1"
   ]
  },
  {
   "cell_type": "code",
   "execution_count": 23,
   "id": "928d7b71-9415-4511-9608-f37993dca69d",
   "metadata": {
    "tags": []
   },
   "outputs": [],
   "source": [
    "!cp docker-google-batch.config ../nf_workflow/{workplace_name1}/conf/\n",
    "!cp docker-google-batch.config ../nf_workflow/{workplace_name2}/conf/\n",
    "!cp docker-google-batch.config ../nf_workflow/{workplace_name3}/conf/\n",
    "\n",
    "\n"
   ]
  }
 ],
 "metadata": {
  "kernelspec": {
   "display_name": "Python 3 (ipykernel)",
   "language": "python",
   "name": "python3"
  },
  "language_info": {
   "codemirror_mode": {
    "name": "ipython",
    "version": 3
   },
   "file_extension": ".py",
   "mimetype": "text/x-python",
   "name": "python",
   "nbconvert_exporter": "python",
   "pygments_lexer": "ipython3",
   "version": "3.7.16"
  }
 },
 "nbformat": 4,
 "nbformat_minor": 5
}
